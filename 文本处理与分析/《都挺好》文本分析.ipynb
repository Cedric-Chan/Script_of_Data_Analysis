{
 "cells": [
  {
   "cell_type": "code",
   "execution_count": null,
   "metadata": {},
   "outputs": [],
   "source": [
    "#主要是两个模块，文中有部分代码太过简单所以截图在文中给出了\n",
    "#第一块是提到简单的数据清洗\n",
    "danmu_counts = df.groupby('用户名')['评论id'].count().sort_values(\n",
    "    ascending=False).reset_index()\n",
    "danmu_counts.columns = ['用户名', '累计发送弹幕数']\n",
    "danmu_counts.head(10)\n",
    "\n",
    "#第二块是怎么调用百度情感分析包\n",
    "#先安装aip包\n",
    "from aip import AipNlp\n",
    "\n",
    "#到后台配置权限，获得相关ID和KEY，目前API是免费且不限量的\n",
    "app_id = '输入实际ID'\n",
    "api_key = '输入实际KEY'\n",
    "secret_key = '输入实际SECRET_KEY'\n",
    "client = AipNlp(app_id, api_key, secret_key)\n",
    "\n",
    "\n",
    "#定义函数，以便循环爬取\n",
    "def senti_analy(text):\n",
    "    data = client.sentimentClassify(text)\n",
    "    sentiment = data['items'][0]['positive_prob']\n",
    "    return sentiment\n",
    "\n",
    "\n",
    "for text in df['内容']:\n",
    "    try:\n",
    "        sentiments.append(senti_analy(text))\n",
    "    except:\n",
    "        #print(text)\n",
    "        sentiments.append('pass')\n",
    "\n",
    "df['情感分值'] = sentiments"
   ]
  }
 ],
 "metadata": {
  "kernelspec": {
   "display_name": "Python 3",
   "language": "python",
   "name": "python3"
  },
  "language_info": {
   "codemirror_mode": {
    "name": "ipython",
    "version": 3
   },
   "file_extension": ".py",
   "mimetype": "text/x-python",
   "name": "python",
   "nbconvert_exporter": "python",
   "pygments_lexer": "ipython3",
   "version": "3.6.8"
  },
  "toc": {
   "base_numbering": 1,
   "nav_menu": {},
   "number_sections": true,
   "sideBar": true,
   "skip_h1_title": false,
   "title_cell": "Table of Contents",
   "title_sidebar": "Contents",
   "toc_cell": false,
   "toc_position": {},
   "toc_section_display": true,
   "toc_window_display": false
  }
 },
 "nbformat": 4,
 "nbformat_minor": 2
}
