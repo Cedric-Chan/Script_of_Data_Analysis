{
 "cells": [
  {
   "cell_type": "markdown",
   "metadata": {},
   "source": [
    "# 流程化对问卷调查中客户回答的文本意见进行处理信息挖掘\n",
    "\n",
    "**主要目标包括：**\n",
    "\n",
    "- （1）将杂乱文本进行预处理，形成有效信息；\n",
    "\n",
    "- （2）将有效信息进行拆解，归纳主要意见；\n",
    "\n",
    "- （3）将主要意见进行主题划分，在意见中寻找深层的需求。"
   ]
  },
  {
   "cell_type": "markdown",
   "metadata": {},
   "source": [
    "# 1 文本预处理"
   ]
  },
  {
   "cell_type": "markdown",
   "metadata": {},
   "source": [
    "## 1.1 文本去噪\n",
    "\n",
    "- 一份原始的文字语料中往往有很多干扰信息，包括标点符号、数字、英文字母、转换符等噪声，这些是首先要删除的。"
   ]
  },
  {
   "cell_type": "code",
   "execution_count": 1,
   "metadata": {
    "ExecuteTime": {
     "end_time": "2020-02-23T11:43:52.641890Z",
     "start_time": "2020-02-23T11:43:50.119780Z"
    }
   },
   "outputs": [],
   "source": [
    "import pandas as pd\n",
    "import re\n",
    "\n",
    "inputfile0 = 'q_0.txt'  # 评论提取后保存路径\n",
    "outputfile1 = 'q_1.txt'  # 评论处理后保存路径"
   ]
  },
  {
   "cell_type": "code",
   "execution_count": 2,
   "metadata": {
    "ExecuteTime": {
     "end_time": "2020-02-23T11:43:55.294707Z",
     "start_time": "2020-02-23T11:43:55.257696Z"
    }
   },
   "outputs": [
    {
     "data": {
      "text/plain": [
       "['希望1优惠更多一些，活动时间久一些，这样才会吸引到越来越多的人来',\n",
       " '越来越好越来越好越来越近越来越好越来越近',\n",
       " '希望信用卡可以多拓展优惠场景，比如餐饮购物，尤其北京上海地区。加油信用卡非常有吸引力对有车族，也希望可以在更多地区推广加油卡，推广加油2优惠！',\n",
       " '财富计划额度小，购买太快，时间需要自己定制闹钟查询，经常买不到',\n",
       " '希望银行能有更多的理财产品，尤其是财富计划理财份额多一些。',\n",
       " '直销银行的财富计划太难买到，每次上去都是没有额度。而且没有时间提示。',\n",
       " '建议就是多3推出一些与中石油的加油站相关的加油优惠活动',\n",
       " '希望行的地方能星期六或星期天开放一天办理业务，平常没时间星期六、日还不开放很不放便。',\n",
       " '银行8产品服务公众号宣传运营银行航空',\n",
       " '理财产品加强，种类多一些让客户的选择更多一些。',\n",
       " '加强理财产品知识的选传给客户多一点的回馈\\\\n',\n",
       " '我个人觉得都挺好的，暂时没有什么要改的地方，',\n",
       " '有时候办业务的时候等的时间太久，人多的时候多开几个窗口办理业务',\n",
       " '我觉得我个人觉得银行挺好的，利率比任何一个银行的利都要高，我喜欢银行',\n",
       " '建议办理业务的时候人多的时候多开几个窗口',\n",
       " '对于银行现有的理财产品，我希望更多一些！有按日，按周，按月，按年的保本理财！',\n",
       " '应该多亲民一些，发布利率更好更高的产品。也不应该限制数量，应多发布',\n",
       " '王舒老师你好你好亲爱的老公老公的那个女的就是不知道有没有什么办法就是',\n",
       " '很好好的很好好的很好好的很好好的很好好的很好好的很好好的很好好的很好好的',\n",
       " '满意觉得机械基础家常菜聚哈v句就刺激相机相机学习机吃鸡鸡吃鸡刺激吃鸡',\n",
       " '等你感觉非常不错，给人与众不同的一种方面的感觉吧！',\n",
       " '无改进，都好好好好好好好好好好好好好好好好好好好，了没有好报了',\n",
       " '因为他好，他可以保护我的资金非常好。投资没有风险。继续加油，继续努力。',\n",
       " '开展活动记得记得就地解决都觉得解答解答金卡打卡',\n",
       " '主要是汽油方面吗，选择的原因是因为银行太方便了，所以选择了，',\n",
       " '很多人不知道多宣传银行的金融服务，多做点广告宣传银行的金融业务',\n",
       " '对于银行现有产品和服务体系，建议做好准备去',\n",
       " '和四大银行相对比的优势。比如储蓄利率，那种银行的基金项目。。。',\n",
       " '希望银行能为老百姓更好提供更好的理财产品',\n",
       " '继续努力。。。。。。。。。。。。。。。。。。。',\n",
       " '建议更加优化网点，增加服务内容，多多互动',\n",
       " '非常满意非常满意的一次非常满意的一次非常满意',\n",
       " '银行银行银行现有产品服务体系非常有助于改进',\n",
       " '服务态度好，解决问题方便，会推荐更多朋友使用服务态度好，解决问题方便，会推荐更多朋友使用',\n",
       " '很很好很好很好很好好很好很好很好很好很好很好很好很好',\n",
       " '没有了挺好的挺好的没有什么需要改进的我觉得都还可以',\n",
       " '不错很好不错很好不错很好不错很好很好不错不错',\n",
       " '越来越好越来越好越来越近越来越好越来越近',\n",
       " '继续努力。。。。。。。。。。。。。。。。。。。']"
      ]
     },
     "execution_count": 2,
     "metadata": {},
     "output_type": "execute_result"
    }
   ],
   "source": [
    "data = pd.read_csv(inputfile0, encoding='utf-8',\n",
    "                   header=None)  # 文本来源为”对于某银行现有产品和服务体系，您有何改进建议？”\n",
    "filelist = list(data[0])\n",
    "filelist2 = []\n",
    "filelist"
   ]
  },
  {
   "cell_type": "markdown",
   "metadata": {
    "ExecuteTime": {
     "end_time": "2020-02-23T10:32:04.428505Z",
     "start_time": "2020-02-23T10:32:04.421502Z"
    }
   },
   "source": [
    "- 文本去噪的方法主要是利用re库中的sub函数，进行英文、数字和特殊字符的删除。"
   ]
  },
  {
   "cell_type": "code",
   "execution_count": 3,
   "metadata": {
    "ExecuteTime": {
     "end_time": "2020-02-23T11:43:58.504356Z",
     "start_time": "2020-02-23T11:43:58.492352Z"
    }
   },
   "outputs": [],
   "source": [
    "r='[\\s+\\.!\\/_,$%^*(+\\\"\\')]+|[:：+——()?【】“”！，。？、~@#￥%……&*（）]+'  # 删除标点\n",
    "r1='[^\\u4e00-\\u9fa5]'  # 删除英文和数字\n",
    "\n",
    "for a_string in filelist:\n",
    "    a_string=str(a_string)\n",
    "    temp = re.sub(r,'',a_string)   #替换法删除标点符号\n",
    "    temp = re.sub(r1,'',temp)   #替换法删除英文和数字\n",
    "    filelist2.append(temp)"
   ]
  },
  {
   "cell_type": "code",
   "execution_count": 4,
   "metadata": {
    "ExecuteTime": {
     "end_time": "2020-02-23T11:43:59.289267Z",
     "start_time": "2020-02-23T11:43:59.231113Z"
    }
   },
   "outputs": [
    {
     "data": {
      "text/html": [
       "<div>\n",
       "<style scoped>\n",
       "    .dataframe tbody tr th:only-of-type {\n",
       "        vertical-align: middle;\n",
       "    }\n",
       "\n",
       "    .dataframe tbody tr th {\n",
       "        vertical-align: top;\n",
       "    }\n",
       "\n",
       "    .dataframe thead th {\n",
       "        text-align: right;\n",
       "    }\n",
       "</style>\n",
       "<table border=\"1\" class=\"dataframe\">\n",
       "  <thead>\n",
       "    <tr style=\"text-align: right;\">\n",
       "      <th></th>\n",
       "      <th>0</th>\n",
       "    </tr>\n",
       "  </thead>\n",
       "  <tbody>\n",
       "    <tr>\n",
       "      <td>0</td>\n",
       "      <td>希望优惠更多一些活动时间久一些这样才会吸引到越来越多的人来</td>\n",
       "    </tr>\n",
       "    <tr>\n",
       "      <td>1</td>\n",
       "      <td>越来越好越来越好越来越近越来越好越来越近</td>\n",
       "    </tr>\n",
       "    <tr>\n",
       "      <td>2</td>\n",
       "      <td>希望信用卡可以多拓展优惠场景比如餐饮购物尤其北京上海地区加油信用卡非常有吸引力对有车族也希望...</td>\n",
       "    </tr>\n",
       "    <tr>\n",
       "      <td>3</td>\n",
       "      <td>财富计划额度小购买太快时间需要自己定制闹钟查询经常买不到</td>\n",
       "    </tr>\n",
       "    <tr>\n",
       "      <td>4</td>\n",
       "      <td>希望银行能有更多的理财产品尤其是财富计划理财份额多一些</td>\n",
       "    </tr>\n",
       "    <tr>\n",
       "      <td>5</td>\n",
       "      <td>直销银行的财富计划太难买到每次上去都是没有额度而且没有时间提示</td>\n",
       "    </tr>\n",
       "    <tr>\n",
       "      <td>6</td>\n",
       "      <td>建议就是多推出一些与中石油的加油站相关的加油优惠活动</td>\n",
       "    </tr>\n",
       "    <tr>\n",
       "      <td>7</td>\n",
       "      <td>希望行的地方能星期六或星期天开放一天办理业务平常没时间星期六日还不开放很不放便</td>\n",
       "    </tr>\n",
       "    <tr>\n",
       "      <td>8</td>\n",
       "      <td>银行产品服务公众号宣传运营银行航空</td>\n",
       "    </tr>\n",
       "    <tr>\n",
       "      <td>9</td>\n",
       "      <td>理财产品加强种类多一些让客户的选择更多一些</td>\n",
       "    </tr>\n",
       "    <tr>\n",
       "      <td>10</td>\n",
       "      <td>加强理财产品知识的选传给客户多一点的回馈</td>\n",
       "    </tr>\n",
       "    <tr>\n",
       "      <td>11</td>\n",
       "      <td>我个人觉得都挺好的暂时没有什么要改的地方</td>\n",
       "    </tr>\n",
       "    <tr>\n",
       "      <td>12</td>\n",
       "      <td>有时候办业务的时候等的时间太久人多的时候多开几个窗口办理业务</td>\n",
       "    </tr>\n",
       "    <tr>\n",
       "      <td>13</td>\n",
       "      <td>我觉得我个人觉得银行挺好的利率比任何一个银行的利都要高我喜欢银行</td>\n",
       "    </tr>\n",
       "    <tr>\n",
       "      <td>14</td>\n",
       "      <td>建议办理业务的时候人多的时候多开几个窗口</td>\n",
       "    </tr>\n",
       "    <tr>\n",
       "      <td>15</td>\n",
       "      <td>对于银行现有的理财产品我希望更多一些有按日按周按月按年的保本理财</td>\n",
       "    </tr>\n",
       "    <tr>\n",
       "      <td>16</td>\n",
       "      <td>应该多亲民一些发布利率更好更高的产品也不应该限制数量应多发布</td>\n",
       "    </tr>\n",
       "    <tr>\n",
       "      <td>17</td>\n",
       "      <td>王舒老师你好你好亲爱的老公老公的那个女的就是不知道有没有什么办法就是</td>\n",
       "    </tr>\n",
       "    <tr>\n",
       "      <td>18</td>\n",
       "      <td>很好好的很好好的很好好的很好好的很好好的很好好的很好好的很好好的很好好的</td>\n",
       "    </tr>\n",
       "    <tr>\n",
       "      <td>19</td>\n",
       "      <td>满意觉得机械基础家常菜聚哈句就刺激相机相机学习机吃鸡鸡吃鸡刺激吃鸡</td>\n",
       "    </tr>\n",
       "    <tr>\n",
       "      <td>20</td>\n",
       "      <td>等你感觉非常不错给人与众不同的一种方面的感觉吧</td>\n",
       "    </tr>\n",
       "    <tr>\n",
       "      <td>21</td>\n",
       "      <td>无改进都好好好好好好好好好好好好好好好好好好好了没有好报了</td>\n",
       "    </tr>\n",
       "    <tr>\n",
       "      <td>22</td>\n",
       "      <td>因为他好他可以保护我的资金非常好投资没有风险继续加油继续努力</td>\n",
       "    </tr>\n",
       "    <tr>\n",
       "      <td>23</td>\n",
       "      <td>开展活动记得记得就地解决都觉得解答解答金卡打卡</td>\n",
       "    </tr>\n",
       "    <tr>\n",
       "      <td>24</td>\n",
       "      <td>主要是汽油方面吗选择的原因是因为银行太方便了所以选择了</td>\n",
       "    </tr>\n",
       "    <tr>\n",
       "      <td>25</td>\n",
       "      <td>很多人不知道多宣传银行的金融服务多做点广告宣传银行的金融业务</td>\n",
       "    </tr>\n",
       "    <tr>\n",
       "      <td>26</td>\n",
       "      <td>对于银行现有产品和服务体系建议做好准备去</td>\n",
       "    </tr>\n",
       "    <tr>\n",
       "      <td>27</td>\n",
       "      <td>和四大银行相对比的优势比如储蓄利率那种银行的基金项目</td>\n",
       "    </tr>\n",
       "    <tr>\n",
       "      <td>28</td>\n",
       "      <td>希望银行能为老百姓更好提供更好的理财产品</td>\n",
       "    </tr>\n",
       "    <tr>\n",
       "      <td>29</td>\n",
       "      <td>继续努力</td>\n",
       "    </tr>\n",
       "    <tr>\n",
       "      <td>30</td>\n",
       "      <td>建议更加优化网点增加服务内容多多互动</td>\n",
       "    </tr>\n",
       "    <tr>\n",
       "      <td>31</td>\n",
       "      <td>非常满意非常满意的一次非常满意的一次非常满意</td>\n",
       "    </tr>\n",
       "    <tr>\n",
       "      <td>32</td>\n",
       "      <td>银行银行银行现有产品服务体系非常有助于改进</td>\n",
       "    </tr>\n",
       "    <tr>\n",
       "      <td>33</td>\n",
       "      <td>服务态度好解决问题方便会推荐更多朋友使用服务态度好解决问题方便会推荐更多朋友使用</td>\n",
       "    </tr>\n",
       "    <tr>\n",
       "      <td>34</td>\n",
       "      <td>很很好很好很好很好好很好很好很好很好很好很好很好很好</td>\n",
       "    </tr>\n",
       "    <tr>\n",
       "      <td>35</td>\n",
       "      <td>没有了挺好的挺好的没有什么需要改进的我觉得都还可以</td>\n",
       "    </tr>\n",
       "    <tr>\n",
       "      <td>36</td>\n",
       "      <td>不错很好不错很好不错很好不错很好很好不错不错</td>\n",
       "    </tr>\n",
       "    <tr>\n",
       "      <td>37</td>\n",
       "      <td>越来越好越来越好越来越近越来越好越来越近</td>\n",
       "    </tr>\n",
       "    <tr>\n",
       "      <td>38</td>\n",
       "      <td>继续努力</td>\n",
       "    </tr>\n",
       "  </tbody>\n",
       "</table>\n",
       "</div>"
      ],
      "text/plain": [
       "                                                    0\n",
       "0                       希望优惠更多一些活动时间久一些这样才会吸引到越来越多的人来\n",
       "1                                越来越好越来越好越来越近越来越好越来越近\n",
       "2   希望信用卡可以多拓展优惠场景比如餐饮购物尤其北京上海地区加油信用卡非常有吸引力对有车族也希望...\n",
       "3                        财富计划额度小购买太快时间需要自己定制闹钟查询经常买不到\n",
       "4                         希望银行能有更多的理财产品尤其是财富计划理财份额多一些\n",
       "5                     直销银行的财富计划太难买到每次上去都是没有额度而且没有时间提示\n",
       "6                          建议就是多推出一些与中石油的加油站相关的加油优惠活动\n",
       "7             希望行的地方能星期六或星期天开放一天办理业务平常没时间星期六日还不开放很不放便\n",
       "8                                   银行产品服务公众号宣传运营银行航空\n",
       "9                               理财产品加强种类多一些让客户的选择更多一些\n",
       "10                               加强理财产品知识的选传给客户多一点的回馈\n",
       "11                               我个人觉得都挺好的暂时没有什么要改的地方\n",
       "12                     有时候办业务的时候等的时间太久人多的时候多开几个窗口办理业务\n",
       "13                   我觉得我个人觉得银行挺好的利率比任何一个银行的利都要高我喜欢银行\n",
       "14                               建议办理业务的时候人多的时候多开几个窗口\n",
       "15                   对于银行现有的理财产品我希望更多一些有按日按周按月按年的保本理财\n",
       "16                     应该多亲民一些发布利率更好更高的产品也不应该限制数量应多发布\n",
       "17                 王舒老师你好你好亲爱的老公老公的那个女的就是不知道有没有什么办法就是\n",
       "18               很好好的很好好的很好好的很好好的很好好的很好好的很好好的很好好的很好好的\n",
       "19                  满意觉得机械基础家常菜聚哈句就刺激相机相机学习机吃鸡鸡吃鸡刺激吃鸡\n",
       "20                            等你感觉非常不错给人与众不同的一种方面的感觉吧\n",
       "21                      无改进都好好好好好好好好好好好好好好好好好好好了没有好报了\n",
       "22                     因为他好他可以保护我的资金非常好投资没有风险继续加油继续努力\n",
       "23                            开展活动记得记得就地解决都觉得解答解答金卡打卡\n",
       "24                        主要是汽油方面吗选择的原因是因为银行太方便了所以选择了\n",
       "25                     很多人不知道多宣传银行的金融服务多做点广告宣传银行的金融业务\n",
       "26                               对于银行现有产品和服务体系建议做好准备去\n",
       "27                         和四大银行相对比的优势比如储蓄利率那种银行的基金项目\n",
       "28                               希望银行能为老百姓更好提供更好的理财产品\n",
       "29                                               继续努力\n",
       "30                                 建议更加优化网点增加服务内容多多互动\n",
       "31                             非常满意非常满意的一次非常满意的一次非常满意\n",
       "32                              银行银行银行现有产品服务体系非常有助于改进\n",
       "33           服务态度好解决问题方便会推荐更多朋友使用服务态度好解决问题方便会推荐更多朋友使用\n",
       "34                         很很好很好很好很好好很好很好很好很好很好很好很好很好\n",
       "35                          没有了挺好的挺好的没有什么需要改进的我觉得都还可以\n",
       "36                             不错很好不错很好不错很好不错很好很好不错不错\n",
       "37                               越来越好越来越好越来越近越来越好越来越近\n",
       "38                                               继续努力"
      ]
     },
     "execution_count": 4,
     "metadata": {},
     "output_type": "execute_result"
    }
   ],
   "source": [
    "filelist3 = pd.DataFrame(filelist2)\n",
    "filelist3.to_csv(outputfile1, index=False, header=False, encoding='utf-8-sig')\n",
    "filelist3"
   ]
  },
  {
   "cell_type": "markdown",
   "metadata": {},
   "source": [
    "## 1.2 文本去重\n",
    "**文本去重包括两个部分，即重复语句删除和重复词压缩** "
   ]
  },
  {
   "cell_type": "markdown",
   "metadata": {},
   "source": [
    "\n",
    "### 1.2.1 重复语句删除\n",
    "\n",
    "- 即去掉文本中重复的部分，这是是获得干净的文本数据后的第一步处理。进行文本去重后，可以删去无效和重复的信息，有助于筛选出有意义的意见\n",
    "\n",
    "***为了尽量保留有用的信息，一般采用比较删除法，通过在重复文字中筛选保留其中1条***"
   ]
  },
  {
   "cell_type": "code",
   "execution_count": 5,
   "metadata": {
    "ExecuteTime": {
     "end_time": "2020-02-23T11:44:02.820274Z",
     "start_time": "2020-02-23T11:44:02.799264Z"
    }
   },
   "outputs": [
    {
     "data": {
      "text/html": [
       "<div>\n",
       "<style scoped>\n",
       "    .dataframe tbody tr th:only-of-type {\n",
       "        vertical-align: middle;\n",
       "    }\n",
       "\n",
       "    .dataframe tbody tr th {\n",
       "        vertical-align: top;\n",
       "    }\n",
       "\n",
       "    .dataframe thead th {\n",
       "        text-align: right;\n",
       "    }\n",
       "</style>\n",
       "<table border=\"1\" class=\"dataframe\">\n",
       "  <thead>\n",
       "    <tr style=\"text-align: right;\">\n",
       "      <th></th>\n",
       "      <th>0</th>\n",
       "    </tr>\n",
       "  </thead>\n",
       "  <tbody>\n",
       "    <tr>\n",
       "      <td>0</td>\n",
       "      <td>希望优惠更多一些活动时间久一些这样才会吸引到越来越多的人来</td>\n",
       "    </tr>\n",
       "    <tr>\n",
       "      <td>1</td>\n",
       "      <td>越来越好越来越好越来越近越来越好越来越近</td>\n",
       "    </tr>\n",
       "    <tr>\n",
       "      <td>2</td>\n",
       "      <td>希望信用卡可以多拓展优惠场景比如餐饮购物尤其北京上海地区加油信用卡非常有吸引力对有车族也希望...</td>\n",
       "    </tr>\n",
       "    <tr>\n",
       "      <td>3</td>\n",
       "      <td>财富计划额度小购买太快时间需要自己定制闹钟查询经常买不到</td>\n",
       "    </tr>\n",
       "    <tr>\n",
       "      <td>4</td>\n",
       "      <td>希望银行能有更多的理财产品尤其是财富计划理财份额多一些</td>\n",
       "    </tr>\n",
       "  </tbody>\n",
       "</table>\n",
       "</div>"
      ],
      "text/plain": [
       "                                                   0\n",
       "0                      希望优惠更多一些活动时间久一些这样才会吸引到越来越多的人来\n",
       "1                               越来越好越来越好越来越近越来越好越来越近\n",
       "2  希望信用卡可以多拓展优惠场景比如餐饮购物尤其北京上海地区加油信用卡非常有吸引力对有车族也希望...\n",
       "3                       财富计划额度小购买太快时间需要自己定制闹钟查询经常买不到\n",
       "4                        希望银行能有更多的理财产品尤其是财富计划理财份额多一些"
      ]
     },
     "execution_count": 5,
     "metadata": {},
     "output_type": "execute_result"
    }
   ],
   "source": [
    "inputfile = 'q_1.txt' #评论提取的保存路径\n",
    "outputfile = 'q_2.txt' #评论处理后保存路径\n",
    "data = pd.read_csv(inputfile, encoding = 'utf-8', header = None)\n",
    "data.head(5)"
   ]
  },
  {
   "cell_type": "code",
   "execution_count": 6,
   "metadata": {
    "ExecuteTime": {
     "end_time": "2020-02-23T11:44:04.113622Z",
     "start_time": "2020-02-23T11:44:04.083614Z"
    }
   },
   "outputs": [
    {
     "name": "stdout",
     "output_type": "stream",
     "text": [
      "删除了2条记录。\n"
     ]
    }
   ],
   "source": [
    "l1 = len(data) # 去重前数量\n",
    "data = pd.DataFrame(data[0].unique())  # .unique()提取不重复的内容\n",
    "l2 = len(data)\n",
    "data.to_csv(outputfile, index = False, header = False, encoding = 'utf-8-sig')\n",
    "print(u'删除了%s条记录。' %(l1 - l2))"
   ]
  },
  {
   "cell_type": "markdown",
   "metadata": {},
   "source": [
    "### 1.2.2 重复词压缩\n",
    "\n",
    "- 重复词压缩的原因，主要是在线问卷调查时，往往有最少字数要求。所以客户往往会复制粘贴很多同样的词。\n",
    "\n",
    "- 重复词压缩也称为机械压缩，主要原理就是通过分析前后、中间重复的语料，进行重复词的压缩处理。"
   ]
  },
  {
   "cell_type": "code",
   "execution_count": 7,
   "metadata": {
    "ExecuteTime": {
     "end_time": "2020-02-23T11:44:06.548069Z",
     "start_time": "2020-02-23T11:44:06.519398Z"
    }
   },
   "outputs": [],
   "source": [
    "import pandas as pd\n",
    "\n",
    "inputfile3 = u'q_2.txt'  #评论处理的保存路径\n",
    "outputfile3 = u'q_3.txt'  #评论处理后保存路径\n",
    "\n",
    "data = pd.read_csv(inputfile3, header=None)\n",
    "filelist = list(data[0])\n",
    "filelist2 = []"
   ]
  },
  {
   "cell_type": "code",
   "execution_count": 8,
   "metadata": {
    "ExecuteTime": {
     "end_time": "2020-02-23T11:44:07.738846Z",
     "start_time": "2020-02-23T11:44:07.687690Z"
    }
   },
   "outputs": [],
   "source": [
    "import find_chinese as wenben  # 导入自定义机械压缩模块\n",
    "\n",
    "j=0\n",
    "for a_string in filelist:\n",
    "    a_string=str(a_string)\n",
    "    temp1 = a_string.strip('\\n')\n",
    "    temp2 = temp1.lstrip('\\ufeff')\n",
    "    temp3 = temp2.strip('\\r')\n",
    "    temp4 = wenben.find_chinese(temp3)\n",
    "    temp5 = \"\"\n",
    "    if temp4!='':\n",
    "        temp5 = wenben.delete_copy(temp4)           \n",
    "    filelist2.append(temp5)"
   ]
  },
  {
   "cell_type": "code",
   "execution_count": 9,
   "metadata": {
    "ExecuteTime": {
     "end_time": "2020-02-23T11:44:09.000798Z",
     "start_time": "2020-02-23T11:44:08.971785Z"
    }
   },
   "outputs": [
    {
     "data": {
      "text/html": [
       "<div>\n",
       "<style scoped>\n",
       "    .dataframe tbody tr th:only-of-type {\n",
       "        vertical-align: middle;\n",
       "    }\n",
       "\n",
       "    .dataframe tbody tr th {\n",
       "        vertical-align: top;\n",
       "    }\n",
       "\n",
       "    .dataframe thead th {\n",
       "        text-align: right;\n",
       "    }\n",
       "</style>\n",
       "<table border=\"1\" class=\"dataframe\">\n",
       "  <thead>\n",
       "    <tr style=\"text-align: right;\">\n",
       "      <th></th>\n",
       "      <th>0</th>\n",
       "    </tr>\n",
       "  </thead>\n",
       "  <tbody>\n",
       "    <tr>\n",
       "      <td>0</td>\n",
       "      <td>希望优惠更多一些活动时间久一些这样才会吸引到越来越多的人来</td>\n",
       "    </tr>\n",
       "    <tr>\n",
       "      <td>1</td>\n",
       "      <td>越来越好越来越近越来越好越来越近</td>\n",
       "    </tr>\n",
       "    <tr>\n",
       "      <td>2</td>\n",
       "      <td>希望信用卡可以多拓展优惠场景比如餐饮购物尤其北京上海地区加油信用卡非常有吸引力对有车族也希望...</td>\n",
       "    </tr>\n",
       "    <tr>\n",
       "      <td>3</td>\n",
       "      <td>财富计划额度小购买太快时间需要自己定制闹钟查询经常买不到</td>\n",
       "    </tr>\n",
       "    <tr>\n",
       "      <td>4</td>\n",
       "      <td>希望银行能有更多的理财产品尤其是财富计划理财份额多一些</td>\n",
       "    </tr>\n",
       "  </tbody>\n",
       "</table>\n",
       "</div>"
      ],
      "text/plain": [
       "                                                   0\n",
       "0                      希望优惠更多一些活动时间久一些这样才会吸引到越来越多的人来\n",
       "1                                   越来越好越来越近越来越好越来越近\n",
       "2  希望信用卡可以多拓展优惠场景比如餐饮购物尤其北京上海地区加油信用卡非常有吸引力对有车族也希望...\n",
       "3                       财富计划额度小购买太快时间需要自己定制闹钟查询经常买不到\n",
       "4                        希望银行能有更多的理财产品尤其是财富计划理财份额多一些"
      ]
     },
     "execution_count": 9,
     "metadata": {},
     "output_type": "execute_result"
    }
   ],
   "source": [
    "filelist3 =  pd.DataFrame(filelist2)\n",
    "filelist3.to_csv(outputfile3, index = False, header = False,encoding = 'utf-8-sig')\n",
    "filelist3.head(5)"
   ]
  },
  {
   "cell_type": "markdown",
   "metadata": {},
   "source": [
    "\n",
    "## 1.3 短句删除\n",
    "- 完成重复词压缩后，还存在一些短句字数过少，这也是没有意义的意见。最后还要对字数过少的句子删除。\n",
    "\n",
    "- 短句删除的原理就是设定意见字数的下限（这里是4个字符），将小于这个下限的语料删除。"
   ]
  },
  {
   "cell_type": "code",
   "execution_count": 10,
   "metadata": {
    "ExecuteTime": {
     "end_time": "2020-02-23T11:44:11.905279Z",
     "start_time": "2020-02-23T11:44:11.890274Z"
    }
   },
   "outputs": [
    {
     "data": {
      "text/plain": [
       "['希望优惠更多一些活动时间久一些这样才会吸引到越来越多的人来',\n",
       " '越来越好越来越近越来越好越来越近',\n",
       " '希望信用卡可以多拓展优惠场景比如餐饮购物尤其北京上海地区加油信用卡非常有吸引力对有车族也希望可以在更多地区推广加油卡推广加油优惠',\n",
       " '财富计划额度小购买太快时间需要自己定制闹钟查询经常买不到',\n",
       " '希望银行能有更多的理财产品尤其是财富计划理财份额多一些',\n",
       " '直销银行的财富计划太难买到每次上去都是没有额度而且没有时间提示',\n",
       " '建议就是多推出一些与中石油的加油站相关的加油优惠活动',\n",
       " '希望行的地方能星期六或星期天开放一天办理业务平常没时间星期六日还不开放很不放便',\n",
       " '银行产品服务公众号宣传运营银行航空',\n",
       " '理财产品加强种类多一些让客户的选择更多一些',\n",
       " '加强理财产品知识的选传给客户多一点的回馈',\n",
       " '我个人觉得都挺好的暂时没有什么要改的地方',\n",
       " '有时候办业务的时候等的时间太久人多的时候多开几个窗口办理业务',\n",
       " '我觉得我个人觉得银行挺好的利率比任何一个银行的利都要高我喜欢银行',\n",
       " '建议办理业务的时候人多的时候多开几个窗口',\n",
       " '对于银行现有的理财产品我希望更多一些有按日按周按月按年的保本理财',\n",
       " '应该多亲民一些发布利率更好更高的产品也不应该限制数量应多发布',\n",
       " '王舒老师你好亲爱的老公的那个女的就是不知道有没有什么办法就是',\n",
       " '很好的',\n",
       " '满意觉得机械基础家常菜聚哈句就刺激相机学习机吃鸡鸡吃鸡刺激吃鸡',\n",
       " '等你感觉非常不错给人与众不同的一种方面的感觉吧',\n",
       " '无改进都好好了没有好报了',\n",
       " '因为他好他可以保护我的资金非常好投资没有风险继续加油继续努力',\n",
       " '开展活动记得就地解决都觉得解答金卡打卡',\n",
       " '主要是汽油方面吗选择的原因是因为银行太方便了所以选择了',\n",
       " '很多人不知道多宣传银行的金融服务多做点广告宣传银行的金融业务',\n",
       " '对于银行现有产品和服务体系建议做好准备去',\n",
       " '和四大银行相对比的优势比如储蓄利率那种银行的基金项目',\n",
       " '希望银行能为老百姓更好提供更好的理财产品',\n",
       " '继续努力',\n",
       " '建议更加优化网点增加服务内容多多互动',\n",
       " '非常满意的一次非常满意',\n",
       " '银行现有产品服务体系非常有助于改进',\n",
       " '服务态度好解决问题方便会推荐更多朋友使用',\n",
       " '很很好好很好',\n",
       " '没有了挺好的没有什么需要改进的我觉得都还可以',\n",
       " '不错很好不错']"
      ]
     },
     "execution_count": 10,
     "metadata": {},
     "output_type": "execute_result"
    }
   ],
   "source": [
    "inputfile4 = 'q_3.txt' #输入\n",
    "outputfile4 = 'q_4.txt' #输出\n",
    "data = pd.read_csv(inputfile4, encoding = 'utf-8', header = None)\n",
    "filelist =  list(data[0])\n",
    "filelist2 = []\n",
    "filelist"
   ]
  },
  {
   "cell_type": "code",
   "execution_count": 11,
   "metadata": {
    "ExecuteTime": {
     "end_time": "2020-02-23T11:44:13.952925Z",
     "start_time": "2020-02-23T11:44:13.945920Z"
    }
   },
   "outputs": [],
   "source": [
    "for a_string in filelist:\n",
    "    a_string=str(a_string)\n",
    "    if(a_string == ''):\n",
    "        continue\n",
    "    else:\n",
    "        if(len(a_string)<4):\n",
    "            continue\n",
    "        else:\n",
    "            filelist2.append(a_string)  # 只有当内容不为空且字节数大于4，才加入列表"
   ]
  },
  {
   "cell_type": "code",
   "execution_count": 12,
   "metadata": {
    "ExecuteTime": {
     "end_time": "2020-02-23T11:44:15.724327Z",
     "start_time": "2020-02-23T11:44:15.706321Z"
    }
   },
   "outputs": [],
   "source": [
    "filelist3 =  pd.DataFrame(filelist2)\n",
    "filelist3.to_csv(outputfile4, index = False, header = False, encoding = 'utf-8-sig')    "
   ]
  },
  {
   "cell_type": "markdown",
   "metadata": {},
   "source": [
    "\n",
    "# 2 文本分词与统计\n",
    "\n",
    "- 为了对意见进行分析，需要将短句划分为词，即将连续的字序列按照一定的规范重新组合成词序列的过程。接着，通过高频率词组进行统计，就可以掌握客户的主要意见。"
   ]
  },
  {
   "cell_type": "markdown",
   "metadata": {},
   "source": [
    "## 2.1 文本分词"
   ]
  },
  {
   "cell_type": "code",
   "execution_count": 13,
   "metadata": {
    "ExecuteTime": {
     "end_time": "2020-02-23T11:44:22.067876Z",
     "start_time": "2020-02-23T11:44:18.363878Z"
    }
   },
   "outputs": [],
   "source": [
    "import collections\n",
    "import pandas as pd\n",
    "import jieba #导入结巴分词\n",
    "from wordcloud import WordCloud\n",
    "import matplotlib.pyplot as plt"
   ]
  },
  {
   "cell_type": "code",
   "execution_count": 14,
   "metadata": {
    "ExecuteTime": {
     "end_time": "2020-02-23T11:44:22.078731Z",
     "start_time": "2020-02-23T11:44:22.067876Z"
    }
   },
   "outputs": [],
   "source": [
    "# 建立停用词列表\n",
    "def stopwordslist(filepath):\n",
    "    stopwords= open(filepath,encoding = 'utf-8').read()\n",
    "    stopwords=jieba.cut(stopwords, cut_all = True)\n",
    "    stopwords2 = \"\\n \".join(stopwords)\n",
    "    return stopwords2"
   ]
  },
  {
   "cell_type": "code",
   "execution_count": 15,
   "metadata": {
    "ExecuteTime": {
     "end_time": "2020-02-23T11:44:22.102740Z",
     "start_time": "2020-02-23T11:44:22.085730Z"
    }
   },
   "outputs": [],
   "source": [
    "def movestopwords(sentence):\n",
    "    stopwords = stopwordslist('stoplist.txt')  # 这里加载停用词的路径\n",
    "    outstr = ''\n",
    "    for word in sentence.split(\"\\n\"):\n",
    "        if word not in stopwords:\n",
    "            if word != '\\t' and '\\n':\n",
    "                outstr += word  # 字符串依次加入输出\n",
    "    return outstr"
   ]
  },
  {
   "cell_type": "code",
   "execution_count": 17,
   "metadata": {
    "ExecuteTime": {
     "end_time": "2020-02-23T11:47:02.696438Z",
     "start_time": "2020-02-23T11:47:02.648335Z"
    }
   },
   "outputs": [
    {
     "data": {
      "text/plain": [
       "' 希望 优惠 更多 多一些 活动 时间 久 吸引 引到 越多 越来越近 越来越近 希望 信用 信用卡 拓展 优惠 场景 餐饮 购物 尤其 北京 上海 上海地区 海地 地区 加油 信用 信用卡 常有 吸引 吸引力 引力 有车族 车族 希望 更多 地区 推广 广加 加油 加油卡 推广 广加 加油 优惠 财富 计划 额度 小 购买 太 时间 需要 定制 闹钟 查询 买不到 不到 希望 银行 更多 理财 理财产品 财产 产品 尤其 财富 计划 理财 份额 多一些 直销 银行 财富 计划 太 买到 每次 额度 有时 时间 提示 建议 推出 中石 石油 加油 加油站 相关 加油 优惠 优惠活动 活动 希望 行 地方 星期 星期六 星期 星期天 天开 开放 一天 办理 业务 平常 时间 星期 星期六 六日 开放 不放 银行 产品 服务 公众 号 宣传 运营 银行 航空 理财 理财产品 财产 产品 加强 种类 多一些 客户 选择 更多 多一些 加强 理财 理财产品 财产 产品 知识 选 传给 客户 多一点 回馈 觉得 挺 暂时 改 地方 有时 有时候 办 业务 时间 太久 几个 窗口 办理 业务 觉得 觉得 银行 挺 利率 银行 利 喜欢 银行 建议 议办 办理 业务 几个 窗口 银行 现有 理财 理财产品 财产 产品 希望 更多 多一些 周 月 保本 理财 应该 民 发布 布利 利率 更好 产品 不应 应该 限制 数量 应 多发 发布 王 舒 老师 你好 亲爱 老公 女 知道 有没有 办法 满意 觉得 机械 基础 家常 家常菜 聚 句 刺激 相机 学习 学习机 吃 鸡鸡 吃 鸡 刺激 吃 鸡 感觉 与众不同 一种 感觉 改进 好了没 报 保护 资金 投资 风险 继续 续加 加油 继续 努力 开展 开展活动 活动 记得 就地解决 解决 觉得 解答 金 卡 打卡 主要 汽油 选择 原因 是因为 银行 太 方便 选择 人不知 知道 宣传 银行 金融 金融服务 服务 做 广告 广告宣传 宣传 银行 金融 金融业 金融业务 业务 银行 现有 有产 产品 和服 服务 服务体系 体系 建议 做好 准备 四大 银行 行相 对比 优势 储蓄 利率 那种 银行 基金 基金项目 项目 希望 银行 老百姓 百姓 更好 提供 更好 理财 理财产品 财产 产品 继续 努力 建议 优化 网点 增加 服务 内容 互动 满意 满意 银行 现有 有产 产品 服务 服务体系 体系 常有 有助 有助于 助于 改进 服务 服务态度 态度 解决 解决问题 问题 方便 推荐 更多 朋友 使用 挺 需要 改进 觉得'"
      ]
     },
     "execution_count": 17,
     "metadata": {},
     "output_type": "execute_result"
    }
   ],
   "source": [
    "inputfile5 = u'q_4.txt'  #输入\n",
    "outputfile5 = u'q_5.txt'  #输出\n",
    "\n",
    "text = open(inputfile5, encoding='utf-8').read()\n",
    "wordlist_text = jieba.cut(text, cut_all=True)\n",
    "wl_space_split = \"\\n \".join(wordlist_text)\n",
    "listcontent = movestopwords(wl_space_split)\n",
    "listcontent"
   ]
  },
  {
   "cell_type": "markdown",
   "metadata": {},
   "source": [
    "## 2.2 统计词频"
   ]
  },
  {
   "cell_type": "code",
   "execution_count": 19,
   "metadata": {
    "ExecuteTime": {
     "end_time": "2020-02-23T11:53:14.929181Z",
     "start_time": "2020-02-23T11:53:14.794707Z"
    }
   },
   "outputs": [
    {
     "data": {
      "text/html": [
       "<div>\n",
       "<style scoped>\n",
       "    .dataframe tbody tr th:only-of-type {\n",
       "        vertical-align: middle;\n",
       "    }\n",
       "\n",
       "    .dataframe tbody tr th {\n",
       "        vertical-align: top;\n",
       "    }\n",
       "\n",
       "    .dataframe thead th {\n",
       "        text-align: right;\n",
       "    }\n",
       "</style>\n",
       "<table border=\"1\" class=\"dataframe\">\n",
       "  <thead>\n",
       "    <tr style=\"text-align: right;\">\n",
       "      <th></th>\n",
       "      <th>0</th>\n",
       "      <th>1</th>\n",
       "    </tr>\n",
       "  </thead>\n",
       "  <tbody>\n",
       "    <tr>\n",
       "      <td>0</td>\n",
       "      <td></td>\n",
       "      <td>1</td>\n",
       "    </tr>\n",
       "    <tr>\n",
       "      <td>1</td>\n",
       "      <td>希望</td>\n",
       "      <td>7</td>\n",
       "    </tr>\n",
       "    <tr>\n",
       "      <td>2</td>\n",
       "      <td>优惠</td>\n",
       "      <td>4</td>\n",
       "    </tr>\n",
       "    <tr>\n",
       "      <td>3</td>\n",
       "      <td>更多</td>\n",
       "      <td>6</td>\n",
       "    </tr>\n",
       "    <tr>\n",
       "      <td>4</td>\n",
       "      <td>多一些</td>\n",
       "      <td>5</td>\n",
       "    </tr>\n",
       "    <tr>\n",
       "      <td>5</td>\n",
       "      <td>活动</td>\n",
       "      <td>3</td>\n",
       "    </tr>\n",
       "    <tr>\n",
       "      <td>6</td>\n",
       "      <td>时间</td>\n",
       "      <td>5</td>\n",
       "    </tr>\n",
       "    <tr>\n",
       "      <td>7</td>\n",
       "      <td>久</td>\n",
       "      <td>1</td>\n",
       "    </tr>\n",
       "    <tr>\n",
       "      <td>8</td>\n",
       "      <td>吸引</td>\n",
       "      <td>2</td>\n",
       "    </tr>\n",
       "    <tr>\n",
       "      <td>9</td>\n",
       "      <td>引到</td>\n",
       "      <td>1</td>\n",
       "    </tr>\n",
       "  </tbody>\n",
       "</table>\n",
       "</div>"
      ],
      "text/plain": [
       "     0  1\n",
       "0       1\n",
       "1   希望  7\n",
       "2   优惠  4\n",
       "3   更多  6\n",
       "4  多一些  5\n",
       "5   活动  3\n",
       "6   时间  5\n",
       "7    久  1\n",
       "8   吸引  2\n",
       "9   引到  1"
      ]
     },
     "execution_count": 19,
     "metadata": {},
     "output_type": "execute_result"
    }
   ],
   "source": [
    "str1 = listcontent.split(\" \")\n",
    "listcontent1 = pd.DataFrame(str1)\n",
    "listcontent1.to_csv(outputfile5,\n",
    "                    index=False,\n",
    "                    header=False,\n",
    "                    encoding='utf-8-sig')\n",
    "\n",
    "q = collections.Counter(str1)\n",
    "dataq = pd.DataFrame(q.items())\n",
    "dataq.to_excel(\"q5.xlsx\", header=False, encoding='utf-8-sig')\n",
    "dataq.head(10)"
   ]
  },
  {
   "cell_type": "markdown",
   "metadata": {},
   "source": [
    "## 2.3 生成词云"
   ]
  },
  {
   "cell_type": "code",
   "execution_count": 20,
   "metadata": {
    "ExecuteTime": {
     "end_time": "2020-02-23T11:53:39.136806Z",
     "start_time": "2020-02-23T11:53:37.119653Z"
    }
   },
   "outputs": [
    {
     "data": {
      "image/png": "[encoded data removed]",
      "text/plain": [
       "<Figure size 432x288 with 1 Axes>"
      ]
     },
     "metadata": {
      "needs_background": "light"
     },
     "output_type": "display_data"
    },
    {
     "data": {
      "text/plain": [
       "<wordcloud.wordcloud.WordCloud at 0x188cfb5d390>"
      ]
     },
     "execution_count": 20,
     "metadata": {},
     "output_type": "execute_result"
    }
   ],
   "source": [
    "outputfile = 'ciyun.jpg'\n",
    "my_wordcloud = WordCloud(\n",
    "    background_color='white',  # 设置背景颜\n",
    "    #mask = abel_mask,        # 设置背景图片\n",
    "    max_words=2000,  # 设置最大现实的字数\n",
    "    #stopwords=stopwordlist,     # 设置停用词\n",
    "    collocations=False,\n",
    "    #max_font_size=50,          # 设置字体最大值\n",
    "    #random_state=30,          # 设置有多少种配色方案\n",
    "    #width=2000,\n",
    "    #height=1200,\n",
    "    font_path='simhei.ttf',  # 设置字体格式，如不设置显示不了中文\n",
    "    scale=4).generate(listcontent)\n",
    "plt.imshow(my_wordcloud)\n",
    "plt.axis(\"off\")\n",
    "plt.show()\n",
    "my_wordcloud.to_file(outputfile)"
   ]
  },
  {
   "cell_type": "markdown",
   "metadata": {},
   "source": [
    "# 3 LDA主题分析\n",
    "***LDA（Latent Dirichlet Allocation）是一种文档主题生成模型，能够挖掘数据集中的潜在主题，进而有助于分析文本内容的关注点。***\n",
    "- 主题分析是通过机器学习和自然语言处理等方法在大量的文本中自动抽象出主题的一种统计模型。这类模型要考虑到文本背后的语义关联的关系，发现文本词语的规律，实现在非结构化的文本中找到有效的信息。\n"
   ]
  },
  {
   "cell_type": "code",
   "execution_count": 28,
   "metadata": {
    "ExecuteTime": {
     "end_time": "2020-02-23T12:00:09.275014Z",
     "start_time": "2020-02-23T12:00:09.262013Z"
    }
   },
   "outputs": [],
   "source": [
    "from gensim import corpora, models  # 导入词袋模型\n",
    "\n",
    "inputfile = u'q_5.txt'\n",
    "outputfile = u'q_6.txt'\n",
    "inputfile = pd.read_csv(inputfile, encoding='utf-8', header=None)  #读入数据"
   ]
  },
  {
   "cell_type": "code",
   "execution_count": 29,
   "metadata": {
    "ExecuteTime": {
     "end_time": "2020-02-23T12:00:14.613918Z",
     "start_time": "2020-02-23T12:00:14.582661Z"
    }
   },
   "outputs": [
    {
     "data": {
      "text/html": [
       "<div>\n",
       "<style scoped>\n",
       "    .dataframe tbody tr th:only-of-type {\n",
       "        vertical-align: middle;\n",
       "    }\n",
       "\n",
       "    .dataframe tbody tr th {\n",
       "        vertical-align: top;\n",
       "    }\n",
       "\n",
       "    .dataframe thead th {\n",
       "        text-align: right;\n",
       "    }\n",
       "</style>\n",
       "<table border=\"1\" class=\"dataframe\">\n",
       "  <thead>\n",
       "    <tr style=\"text-align: right;\">\n",
       "      <th></th>\n",
       "      <th>0</th>\n",
       "    </tr>\n",
       "  </thead>\n",
       "  <tbody>\n",
       "    <tr>\n",
       "      <td>1</td>\n",
       "      <td>希望</td>\n",
       "    </tr>\n",
       "    <tr>\n",
       "      <td>2</td>\n",
       "      <td>优惠</td>\n",
       "    </tr>\n",
       "    <tr>\n",
       "      <td>3</td>\n",
       "      <td>更多</td>\n",
       "    </tr>\n",
       "    <tr>\n",
       "      <td>4</td>\n",
       "      <td>多一些</td>\n",
       "    </tr>\n",
       "    <tr>\n",
       "      <td>5</td>\n",
       "      <td>活动</td>\n",
       "    </tr>\n",
       "    <tr>\n",
       "      <td>...</td>\n",
       "      <td>...</td>\n",
       "    </tr>\n",
       "    <tr>\n",
       "      <td>350</td>\n",
       "      <td>使用</td>\n",
       "    </tr>\n",
       "    <tr>\n",
       "      <td>351</td>\n",
       "      <td>挺</td>\n",
       "    </tr>\n",
       "    <tr>\n",
       "      <td>352</td>\n",
       "      <td>需要</td>\n",
       "    </tr>\n",
       "    <tr>\n",
       "      <td>353</td>\n",
       "      <td>改进</td>\n",
       "    </tr>\n",
       "    <tr>\n",
       "      <td>354</td>\n",
       "      <td>觉得</td>\n",
       "    </tr>\n",
       "  </tbody>\n",
       "</table>\n",
       "<p>354 rows × 1 columns</p>\n",
       "</div>"
      ],
      "text/plain": [
       "       0\n",
       "1     希望\n",
       "2     优惠\n",
       "3     更多\n",
       "4    多一些\n",
       "5     活动\n",
       "..   ...\n",
       "350   使用\n",
       "351    挺\n",
       "352   需要\n",
       "353   改进\n",
       "354   觉得\n",
       "\n",
       "[354 rows x 1 columns]"
      ]
     },
     "execution_count": 29,
     "metadata": {},
     "output_type": "execute_result"
    }
   ],
   "source": [
    "inputfile.drop(inputfile.index[0], inplace=True)\n",
    "inputfile"
   ]
  },
  {
   "cell_type": "code",
   "execution_count": 31,
   "metadata": {
    "ExecuteTime": {
     "end_time": "2020-02-23T12:00:41.656567Z",
     "start_time": "2020-02-23T12:00:41.647566Z"
    }
   },
   "outputs": [],
   "source": [
    "inputfile[1] = inputfile[0].apply(lambda s: s.split(' ')) #定义一个分割函数，然后用apply广播"
   ]
  },
  {
   "cell_type": "markdown",
   "metadata": {},
   "source": [
    "**主题分析**\n",
    "\n",
    "- 当收集的客户意见数量较多时，还需要通过科学的方法来归类。"
   ]
  },
  {
   "cell_type": "code",
   "execution_count": 48,
   "metadata": {
    "ExecuteTime": {
     "end_time": "2020-02-23T12:13:13.545740Z",
     "start_time": "2020-02-23T12:13:13.121666Z"
    }
   },
   "outputs": [],
   "source": [
    "inputfile_dict = corpora.Dictionary(inputfile[1]) #建立词典\n",
    "inputfile_corpus = [inputfile_dict.doc2bow(i) for i in inputfile[1]] #建立语料库\n",
    "inputfile_lda = models.LdaModel(inputfile_corpus, num_topics = 4, id2word = inputfile_dict) #LDA模型训练，将意见分为三类主题"
   ]
  },
  {
   "cell_type": "code",
   "execution_count": 49,
   "metadata": {
    "ExecuteTime": {
     "end_time": "2020-02-23T12:13:13.730200Z",
     "start_time": "2020-02-23T12:13:13.703190Z"
    }
   },
   "outputs": [
    {
     "name": "stdout",
     "output_type": "stream",
     "text": [
      "0.046*\"觉得\" + 0.045*\"加油\" + 0.038*\"时间\" + 0.024*\"办理\" + 0.024*\"活动\" + 0.017*\"理财\" + 0.017*\"星期\" + 0.017*\"鸡\" + 0.017*\"有产\" + 0.017*\"越来越近\"\n",
      "0.090*\"银行\" + 0.055*\"产品\" + 0.031*\"多一些\" + 0.020*\"满意\" + 0.019*\"建议\" + 0.019*\"选择\" + 0.019*\"继续\" + 0.019*\"改进\" + 0.019*\"宣传\" + 0.014*\"业务\"\n",
      "0.042*\"更多\" + 0.035*\"理财产品\" + 0.022*\"吃\" + 0.022*\"挺\" + 0.022*\"更好\" + 0.021*\"现有\" + 0.016*\"希望\" + 0.015*\"体系\" + 0.015*\"解决\" + 0.015*\"财富\"\n",
      "0.043*\"服务\" + 0.037*\"希望\" + 0.036*\"理财\" + 0.036*\"财产\" + 0.029*\"优惠\" + 0.023*\"业务\" + 0.023*\"计划\" + 0.022*\"太\" + 0.016*\"信用\" + 0.016*\"方便\"\n"
     ]
    }
   ],
   "source": [
    "filelist = []\n",
    "for i in range(4):\n",
    "    filelist.append(inputfile_lda.print_topic(i))\n",
    "    print (inputfile_lda.print_topic(i)) #输出每个主题\n",
    "    \n",
    "\n",
    "filelist1 =  pd.DataFrame(filelist)\n",
    "filelist1.to_csv(outputfile, index = False, header = False, encoding = 'utf-8-sig')  "
   ]
  },
  {
   "cell_type": "code",
   "execution_count": 50,
   "metadata": {
    "ExecuteTime": {
     "end_time": "2020-02-23T12:13:15.156557Z",
     "start_time": "2020-02-23T12:13:15.145552Z"
    }
   },
   "outputs": [
    {
     "data": {
      "text/html": [
       "<div>\n",
       "<style scoped>\n",
       "    .dataframe tbody tr th:only-of-type {\n",
       "        vertical-align: middle;\n",
       "    }\n",
       "\n",
       "    .dataframe tbody tr th {\n",
       "        vertical-align: top;\n",
       "    }\n",
       "\n",
       "    .dataframe thead th {\n",
       "        text-align: right;\n",
       "    }\n",
       "</style>\n",
       "<table border=\"1\" class=\"dataframe\">\n",
       "  <thead>\n",
       "    <tr style=\"text-align: right;\">\n",
       "      <th></th>\n",
       "      <th>0</th>\n",
       "    </tr>\n",
       "  </thead>\n",
       "  <tbody>\n",
       "    <tr>\n",
       "      <td>0</td>\n",
       "      <td>0.046*\"觉得\" + 0.045*\"加油\" + 0.038*\"时间\" + 0.024*\"...</td>\n",
       "    </tr>\n",
       "    <tr>\n",
       "      <td>1</td>\n",
       "      <td>0.090*\"银行\" + 0.055*\"产品\" + 0.031*\"多一些\" + 0.020*...</td>\n",
       "    </tr>\n",
       "    <tr>\n",
       "      <td>2</td>\n",
       "      <td>0.042*\"更多\" + 0.035*\"理财产品\" + 0.022*\"吃\" + 0.022*...</td>\n",
       "    </tr>\n",
       "    <tr>\n",
       "      <td>3</td>\n",
       "      <td>0.043*\"服务\" + 0.037*\"希望\" + 0.036*\"理财\" + 0.036*\"...</td>\n",
       "    </tr>\n",
       "  </tbody>\n",
       "</table>\n",
       "</div>"
      ],
      "text/plain": [
       "                                                   0\n",
       "0  0.046*\"觉得\" + 0.045*\"加油\" + 0.038*\"时间\" + 0.024*\"...\n",
       "1  0.090*\"银行\" + 0.055*\"产品\" + 0.031*\"多一些\" + 0.020*...\n",
       "2  0.042*\"更多\" + 0.035*\"理财产品\" + 0.022*\"吃\" + 0.022*...\n",
       "3  0.043*\"服务\" + 0.037*\"希望\" + 0.036*\"理财\" + 0.036*\"..."
      ]
     },
     "execution_count": 50,
     "metadata": {},
     "output_type": "execute_result"
    }
   ],
   "source": [
    "filelist1\n"
   ]
  },
  {
   "cell_type": "markdown",
   "metadata": {},
   "source": [
    "- 主题1中筛选的有效的主题词，主要反映了客户对产品的时间方面的意见\n",
    "\n",
    "- 主题2和3中筛选的有效的主题词，主要反映了客户希望理财产品的收益水平更大一些，种类多一些。\n",
    "\n",
    "- 主题3中筛选的有效的主题词，主要反映了客户希望投资理财的服务需改进，开展更多的理财活动。 "
   ]
  }
 ],
 "metadata": {
  "kernelspec": {
   "display_name": "Python 3.6.8 64-bit",
   "language": "python",
   "name": "python36864bit1509dad7ed2f4e16b89368ecdc9f1af8"
  },
  "language_info": {
   "codemirror_mode": {
    "name": "ipython",
    "version": 3
   },
   "file_extension": ".py",
   "mimetype": "text/x-python",
   "name": "python",
   "nbconvert_exporter": "python",
   "pygments_lexer": "ipython3",
   "version": "3.6.8"
  },
  "toc": {
   "base_numbering": 1,
   "nav_menu": {},
   "number_sections": false,
   "sideBar": true,
   "skip_h1_title": false,
   "title_cell": "Table of Contents",
   "title_sidebar": "Contents",
   "toc_cell": false,
   "toc_position": {},
   "toc_section_display": true,
   "toc_window_display": false
  }
 },
 "nbformat": 4,
 "nbformat_minor": 2
}
