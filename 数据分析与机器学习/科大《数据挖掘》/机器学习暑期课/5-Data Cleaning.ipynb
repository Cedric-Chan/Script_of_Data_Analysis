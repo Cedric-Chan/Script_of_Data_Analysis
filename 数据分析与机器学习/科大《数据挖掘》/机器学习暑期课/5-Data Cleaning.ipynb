{
 "cells": [
  {
   "cell_type": "code",
   "execution_count": 74,
   "metadata": {
    "ExecuteTime": {
     "end_time": "2020-07-09T02:32:11.352598Z",
     "start_time": "2020-07-09T02:32:11.348610Z"
    }
   },
   "outputs": [],
   "source": [
    "import pandas as pd\n",
    "import numpy as np\n",
    "\n",
    "from IPython.core.interactiveshell import InteractiveShell\n",
    "InteractiveShell.ast_node_interactivity = \"all\""
   ]
  },
  {
   "cell_type": "code",
   "execution_count": 75,
   "metadata": {
    "ExecuteTime": {
     "end_time": "2020-07-09T02:32:11.750042Z",
     "start_time": "2020-07-09T02:32:11.728592Z"
    }
   },
   "outputs": [
    {
     "data": {
      "text/html": [
       "<div>\n",
       "<style scoped>\n",
       "    .dataframe tbody tr th:only-of-type {\n",
       "        vertical-align: middle;\n",
       "    }\n",
       "\n",
       "    .dataframe tbody tr th {\n",
       "        vertical-align: top;\n",
       "    }\n",
       "\n",
       "    .dataframe thead th {\n",
       "        text-align: right;\n",
       "    }\n",
       "</style>\n",
       "<table border=\"1\" class=\"dataframe\">\n",
       "  <thead>\n",
       "    <tr style=\"text-align: right;\">\n",
       "      <th></th>\n",
       "      <th>Timestamp</th>\n",
       "      <th>Do you have a job?</th>\n",
       "      <th>How long ago did you get your Bachelor degree?</th>\n",
       "      <th>What program are enrolled in?</th>\n",
       "      <th>How would you rate your computer programming background?</th>\n",
       "      <th>Have you ever programmed in C?</th>\n",
       "      <th>Have you ever programmed in C++?</th>\n",
       "      <th>Have you ever programmed in C#?</th>\n",
       "      <th>Have you ever programmed in Java?</th>\n",
       "      <th>Have you ever programmed in Python?</th>\n",
       "      <th>Have you ever programmed in Javascript?</th>\n",
       "      <th>Have you ever programmed in R?</th>\n",
       "      <th>Have you ever programmed in SQL?</th>\n",
       "      <th>Have you ever used SAS?</th>\n",
       "      <th>Have you ever used Excel?</th>\n",
       "      <th>Have you ever used Tableau?</th>\n",
       "      <th>Have you ever run a regression?</th>\n",
       "      <th>How familiar are you with the Machine Learning task called \"classification\"?</th>\n",
       "      <th>How familiar are you with the Machine Learning task called \"clustering\"?</th>\n",
       "    </tr>\n",
       "  </thead>\n",
       "  <tbody>\n",
       "    <tr>\n",
       "      <th>0</th>\n",
       "      <td>2017/01/09 2:48:20 PM MST</td>\n",
       "      <td>No, I'm not working at the moment</td>\n",
       "      <td>longer than 1 year ago but less than 3 years ago</td>\n",
       "      <td>MSIS</td>\n",
       "      <td>4</td>\n",
       "      <td>Yes</td>\n",
       "      <td>Yes</td>\n",
       "      <td>No</td>\n",
       "      <td>Yes</td>\n",
       "      <td>Yes</td>\n",
       "      <td>Yes</td>\n",
       "      <td>No</td>\n",
       "      <td>Yes</td>\n",
       "      <td>No</td>\n",
       "      <td>Yes</td>\n",
       "      <td>No</td>\n",
       "      <td>Yes</td>\n",
       "      <td>4.0</td>\n",
       "      <td>4</td>\n",
       "    </tr>\n",
       "    <tr>\n",
       "      <th>1</th>\n",
       "      <td>2017/01/09 3:15:59 PM MST</td>\n",
       "      <td>Yes, I have a part-time job</td>\n",
       "      <td>over 5 years ago</td>\n",
       "      <td>MSIS</td>\n",
       "      <td>3</td>\n",
       "      <td>Yes</td>\n",
       "      <td>Yes</td>\n",
       "      <td>No</td>\n",
       "      <td>Yes</td>\n",
       "      <td>No</td>\n",
       "      <td>No</td>\n",
       "      <td>No</td>\n",
       "      <td>Yes</td>\n",
       "      <td>No</td>\n",
       "      <td>Yes</td>\n",
       "      <td>No</td>\n",
       "      <td>No</td>\n",
       "      <td>2.0</td>\n",
       "      <td>2</td>\n",
       "    </tr>\n",
       "    <tr>\n",
       "      <th>2</th>\n",
       "      <td>2017/01/09 4:48:48 PM MST</td>\n",
       "      <td>No, I'm not working at the moment</td>\n",
       "      <td>longer than 3 years ago but less than 5 years ago</td>\n",
       "      <td>MSIS</td>\n",
       "      <td>3</td>\n",
       "      <td>No</td>\n",
       "      <td>No</td>\n",
       "      <td>No</td>\n",
       "      <td>Yes</td>\n",
       "      <td>Yes</td>\n",
       "      <td>No</td>\n",
       "      <td>No</td>\n",
       "      <td>Yes</td>\n",
       "      <td>No</td>\n",
       "      <td>Yes</td>\n",
       "      <td>No</td>\n",
       "      <td>Yes</td>\n",
       "      <td>3.0</td>\n",
       "      <td>3</td>\n",
       "    </tr>\n",
       "    <tr>\n",
       "      <th>3</th>\n",
       "      <td>2017/01/09 4:48:51 PM MST</td>\n",
       "      <td>No, I'm not working at the moment</td>\n",
       "      <td>over 5 years ago</td>\n",
       "      <td>MSIS</td>\n",
       "      <td>3</td>\n",
       "      <td>Yes</td>\n",
       "      <td>No</td>\n",
       "      <td>No</td>\n",
       "      <td>Yes</td>\n",
       "      <td>Yes</td>\n",
       "      <td>No</td>\n",
       "      <td>Yes</td>\n",
       "      <td>Yes</td>\n",
       "      <td>No</td>\n",
       "      <td>Yes</td>\n",
       "      <td>No</td>\n",
       "      <td>Yes</td>\n",
       "      <td>2.0</td>\n",
       "      <td>3</td>\n",
       "    </tr>\n",
       "    <tr>\n",
       "      <th>4</th>\n",
       "      <td>2017/01/09 4:50:03 PM MST</td>\n",
       "      <td>No, I'm not working at the moment</td>\n",
       "      <td>longer than 3 years ago but less than 5 years ago</td>\n",
       "      <td>MSIS</td>\n",
       "      <td>3</td>\n",
       "      <td>Yes</td>\n",
       "      <td>No</td>\n",
       "      <td>No</td>\n",
       "      <td>Yes</td>\n",
       "      <td>Yes</td>\n",
       "      <td>No</td>\n",
       "      <td>No</td>\n",
       "      <td>Yes</td>\n",
       "      <td>No</td>\n",
       "      <td>Yes</td>\n",
       "      <td>No</td>\n",
       "      <td>No</td>\n",
       "      <td>1.0</td>\n",
       "      <td>1</td>\n",
       "    </tr>\n",
       "  </tbody>\n",
       "</table>\n",
       "</div>"
      ],
      "text/plain": [
       "                   Timestamp                 Do you have a job?  \\\n",
       "0  2017/01/09 2:48:20 PM MST  No, I'm not working at the moment   \n",
       "1  2017/01/09 3:15:59 PM MST        Yes, I have a part-time job   \n",
       "2  2017/01/09 4:48:48 PM MST  No, I'm not working at the moment   \n",
       "3  2017/01/09 4:48:51 PM MST  No, I'm not working at the moment   \n",
       "4  2017/01/09 4:50:03 PM MST  No, I'm not working at the moment   \n",
       "\n",
       "      How long ago did you get your Bachelor degree?  \\\n",
       "0   longer than 1 year ago but less than 3 years ago   \n",
       "1                                   over 5 years ago   \n",
       "2  longer than 3 years ago but less than 5 years ago   \n",
       "3                                   over 5 years ago   \n",
       "4  longer than 3 years ago but less than 5 years ago   \n",
       "\n",
       "  What program are enrolled in?  \\\n",
       "0                          MSIS   \n",
       "1                          MSIS   \n",
       "2                          MSIS   \n",
       "3                          MSIS   \n",
       "4                          MSIS   \n",
       "\n",
       "   How would you rate your computer programming background?  \\\n",
       "0                                                  4          \n",
       "1                                                  3          \n",
       "2                                                  3          \n",
       "3                                                  3          \n",
       "4                                                  3          \n",
       "\n",
       "  Have you ever programmed in C? Have you ever programmed in C++?  \\\n",
       "0                            Yes                              Yes   \n",
       "1                            Yes                              Yes   \n",
       "2                             No                               No   \n",
       "3                            Yes                               No   \n",
       "4                            Yes                               No   \n",
       "\n",
       "  Have you ever programmed in C#? Have you ever programmed in Java?  \\\n",
       "0                              No                               Yes   \n",
       "1                              No                               Yes   \n",
       "2                              No                               Yes   \n",
       "3                              No                               Yes   \n",
       "4                              No                               Yes   \n",
       "\n",
       "  Have you ever programmed in Python? Have you ever programmed in Javascript?  \\\n",
       "0                                 Yes                                     Yes   \n",
       "1                                  No                                      No   \n",
       "2                                 Yes                                      No   \n",
       "3                                 Yes                                      No   \n",
       "4                                 Yes                                      No   \n",
       "\n",
       "  Have you ever programmed in R? Have you ever programmed in SQL?  \\\n",
       "0                             No                              Yes   \n",
       "1                             No                              Yes   \n",
       "2                             No                              Yes   \n",
       "3                            Yes                              Yes   \n",
       "4                             No                              Yes   \n",
       "\n",
       "  Have you ever used SAS? Have you ever used Excel?  \\\n",
       "0                      No                       Yes   \n",
       "1                      No                       Yes   \n",
       "2                      No                       Yes   \n",
       "3                      No                       Yes   \n",
       "4                      No                       Yes   \n",
       "\n",
       "  Have you ever used Tableau? Have you ever run a regression?  \\\n",
       "0                          No                             Yes   \n",
       "1                          No                              No   \n",
       "2                          No                             Yes   \n",
       "3                          No                             Yes   \n",
       "4                          No                              No   \n",
       "\n",
       "   How familiar are you with the Machine Learning task called \"classification\"?  \\\n",
       "0                                                4.0                              \n",
       "1                                                2.0                              \n",
       "2                                                3.0                              \n",
       "3                                                2.0                              \n",
       "4                                                1.0                              \n",
       "\n",
       "   How familiar are you with the Machine Learning task called \"clustering\"?  \n",
       "0                                                  4                         \n",
       "1                                                  2                         \n",
       "2                                                  3                         \n",
       "3                                                  3                         \n",
       "4                                                  1                         "
      ]
     },
     "execution_count": 75,
     "metadata": {},
     "output_type": "execute_result"
    },
    {
     "data": {
      "text/plain": [
       "(172, 19)"
      ]
     },
     "execution_count": 75,
     "metadata": {},
     "output_type": "execute_result"
    }
   ],
   "source": [
    "df = pd.read_csv('C:/Users/60448/Desktop/data science survey.csv')\n",
    "df.head()\n",
    "df.shape"
   ]
  },
  {
   "cell_type": "markdown",
   "metadata": {},
   "source": [
    "#### Cleaning"
   ]
  },
  {
   "cell_type": "markdown",
   "metadata": {},
   "source": [
    "##### Change Column Names"
   ]
  },
  {
   "cell_type": "code",
   "execution_count": 76,
   "metadata": {
    "ExecuteTime": {
     "end_time": "2020-07-09T02:32:12.798829Z",
     "start_time": "2020-07-09T02:32:12.793843Z"
    }
   },
   "outputs": [],
   "source": [
    "## 整体批量改\n",
    "\n",
    "df.columns = [\n",
    "    'Timestamp', 'Job', 'BachTime', 'Program', 'ProgSkills', 'C', 'CPP', 'CS',\n",
    "    'Java', 'Python', 'JS', 'R', 'SQL', 'SAS', 'Excel', 'Tableau',\n",
    "    'Regression', 'Classification', 'Clustering'\n",
    "]"
   ]
  },
  {
   "cell_type": "code",
   "execution_count": 77,
   "metadata": {
    "ExecuteTime": {
     "end_time": "2020-07-09T02:32:13.113162Z",
     "start_time": "2020-07-09T02:32:13.086442Z"
    }
   },
   "outputs": [
    {
     "data": {
      "text/html": [
       "<div>\n",
       "<style scoped>\n",
       "    .dataframe tbody tr th:only-of-type {\n",
       "        vertical-align: middle;\n",
       "    }\n",
       "\n",
       "    .dataframe tbody tr th {\n",
       "        vertical-align: top;\n",
       "    }\n",
       "\n",
       "    .dataframe thead th {\n",
       "        text-align: right;\n",
       "    }\n",
       "</style>\n",
       "<table border=\"1\" class=\"dataframe\">\n",
       "  <thead>\n",
       "    <tr style=\"text-align: right;\">\n",
       "      <th></th>\n",
       "      <th>Timestamp</th>\n",
       "      <th>Job</th>\n",
       "      <th>BachTime</th>\n",
       "      <th>MasterProgram</th>\n",
       "      <th>ProgSkills</th>\n",
       "      <th>C</th>\n",
       "      <th>CPP</th>\n",
       "      <th>CS</th>\n",
       "      <th>Java</th>\n",
       "      <th>Python</th>\n",
       "      <th>JS</th>\n",
       "      <th>R</th>\n",
       "      <th>SQL</th>\n",
       "      <th>SAS</th>\n",
       "      <th>Excel</th>\n",
       "      <th>Tableau</th>\n",
       "      <th>Regression</th>\n",
       "      <th>Classification</th>\n",
       "      <th>Clustering</th>\n",
       "    </tr>\n",
       "  </thead>\n",
       "  <tbody>\n",
       "    <tr>\n",
       "      <th>0</th>\n",
       "      <td>2017/01/09 2:48:20 PM MST</td>\n",
       "      <td>No, I'm not working at the moment</td>\n",
       "      <td>longer than 1 year ago but less than 3 years ago</td>\n",
       "      <td>MSIS</td>\n",
       "      <td>4</td>\n",
       "      <td>Yes</td>\n",
       "      <td>Yes</td>\n",
       "      <td>No</td>\n",
       "      <td>Yes</td>\n",
       "      <td>Yes</td>\n",
       "      <td>Yes</td>\n",
       "      <td>No</td>\n",
       "      <td>Yes</td>\n",
       "      <td>No</td>\n",
       "      <td>Yes</td>\n",
       "      <td>No</td>\n",
       "      <td>Yes</td>\n",
       "      <td>4.0</td>\n",
       "      <td>4</td>\n",
       "    </tr>\n",
       "    <tr>\n",
       "      <th>1</th>\n",
       "      <td>2017/01/09 3:15:59 PM MST</td>\n",
       "      <td>Yes, I have a part-time job</td>\n",
       "      <td>over 5 years ago</td>\n",
       "      <td>MSIS</td>\n",
       "      <td>3</td>\n",
       "      <td>Yes</td>\n",
       "      <td>Yes</td>\n",
       "      <td>No</td>\n",
       "      <td>Yes</td>\n",
       "      <td>No</td>\n",
       "      <td>No</td>\n",
       "      <td>No</td>\n",
       "      <td>Yes</td>\n",
       "      <td>No</td>\n",
       "      <td>Yes</td>\n",
       "      <td>No</td>\n",
       "      <td>No</td>\n",
       "      <td>2.0</td>\n",
       "      <td>2</td>\n",
       "    </tr>\n",
       "    <tr>\n",
       "      <th>2</th>\n",
       "      <td>2017/01/09 4:48:48 PM MST</td>\n",
       "      <td>No, I'm not working at the moment</td>\n",
       "      <td>longer than 3 years ago but less than 5 years ago</td>\n",
       "      <td>MSIS</td>\n",
       "      <td>3</td>\n",
       "      <td>No</td>\n",
       "      <td>No</td>\n",
       "      <td>No</td>\n",
       "      <td>Yes</td>\n",
       "      <td>Yes</td>\n",
       "      <td>No</td>\n",
       "      <td>No</td>\n",
       "      <td>Yes</td>\n",
       "      <td>No</td>\n",
       "      <td>Yes</td>\n",
       "      <td>No</td>\n",
       "      <td>Yes</td>\n",
       "      <td>3.0</td>\n",
       "      <td>3</td>\n",
       "    </tr>\n",
       "    <tr>\n",
       "      <th>3</th>\n",
       "      <td>2017/01/09 4:48:51 PM MST</td>\n",
       "      <td>No, I'm not working at the moment</td>\n",
       "      <td>over 5 years ago</td>\n",
       "      <td>MSIS</td>\n",
       "      <td>3</td>\n",
       "      <td>Yes</td>\n",
       "      <td>No</td>\n",
       "      <td>No</td>\n",
       "      <td>Yes</td>\n",
       "      <td>Yes</td>\n",
       "      <td>No</td>\n",
       "      <td>Yes</td>\n",
       "      <td>Yes</td>\n",
       "      <td>No</td>\n",
       "      <td>Yes</td>\n",
       "      <td>No</td>\n",
       "      <td>Yes</td>\n",
       "      <td>2.0</td>\n",
       "      <td>3</td>\n",
       "    </tr>\n",
       "    <tr>\n",
       "      <th>4</th>\n",
       "      <td>2017/01/09 4:50:03 PM MST</td>\n",
       "      <td>No, I'm not working at the moment</td>\n",
       "      <td>longer than 3 years ago but less than 5 years ago</td>\n",
       "      <td>MSIS</td>\n",
       "      <td>3</td>\n",
       "      <td>Yes</td>\n",
       "      <td>No</td>\n",
       "      <td>No</td>\n",
       "      <td>Yes</td>\n",
       "      <td>Yes</td>\n",
       "      <td>No</td>\n",
       "      <td>No</td>\n",
       "      <td>Yes</td>\n",
       "      <td>No</td>\n",
       "      <td>Yes</td>\n",
       "      <td>No</td>\n",
       "      <td>No</td>\n",
       "      <td>1.0</td>\n",
       "      <td>1</td>\n",
       "    </tr>\n",
       "    <tr>\n",
       "      <th>...</th>\n",
       "      <td>...</td>\n",
       "      <td>...</td>\n",
       "      <td>...</td>\n",
       "      <td>...</td>\n",
       "      <td>...</td>\n",
       "      <td>...</td>\n",
       "      <td>...</td>\n",
       "      <td>...</td>\n",
       "      <td>...</td>\n",
       "      <td>...</td>\n",
       "      <td>...</td>\n",
       "      <td>...</td>\n",
       "      <td>...</td>\n",
       "      <td>...</td>\n",
       "      <td>...</td>\n",
       "      <td>...</td>\n",
       "      <td>...</td>\n",
       "      <td>...</td>\n",
       "      <td>...</td>\n",
       "    </tr>\n",
       "    <tr>\n",
       "      <th>167</th>\n",
       "      <td>2020/01/06 4:24:33 PM PST</td>\n",
       "      <td>No, I'm not working at the moment</td>\n",
       "      <td>over 5 years ago</td>\n",
       "      <td>MSIS</td>\n",
       "      <td>4</td>\n",
       "      <td>Yes</td>\n",
       "      <td>No</td>\n",
       "      <td>No</td>\n",
       "      <td>No</td>\n",
       "      <td>Yes</td>\n",
       "      <td>No</td>\n",
       "      <td>No</td>\n",
       "      <td>Yes</td>\n",
       "      <td>Yes</td>\n",
       "      <td>Yes</td>\n",
       "      <td>No</td>\n",
       "      <td>Yes</td>\n",
       "      <td>3.0</td>\n",
       "      <td>3</td>\n",
       "    </tr>\n",
       "    <tr>\n",
       "      <th>168</th>\n",
       "      <td>2020/01/06 5:49:13 PM PST</td>\n",
       "      <td>No, I'm not working at the moment</td>\n",
       "      <td>longer than 1 year ago but less than 3 years ago</td>\n",
       "      <td>MSFA</td>\n",
       "      <td>1</td>\n",
       "      <td>No</td>\n",
       "      <td>No</td>\n",
       "      <td>No</td>\n",
       "      <td>No</td>\n",
       "      <td>No</td>\n",
       "      <td>No</td>\n",
       "      <td>Yes</td>\n",
       "      <td>NaN</td>\n",
       "      <td>No</td>\n",
       "      <td>Yes</td>\n",
       "      <td>Yes</td>\n",
       "      <td>Yes</td>\n",
       "      <td>1.0</td>\n",
       "      <td>1</td>\n",
       "    </tr>\n",
       "    <tr>\n",
       "      <th>169</th>\n",
       "      <td>2020/01/06 5:58:48 PM PST</td>\n",
       "      <td>No, I'm not working at the moment</td>\n",
       "      <td>&lt; 1 year ago</td>\n",
       "      <td>MSFA</td>\n",
       "      <td>2</td>\n",
       "      <td>No</td>\n",
       "      <td>No</td>\n",
       "      <td>No</td>\n",
       "      <td>No</td>\n",
       "      <td>No</td>\n",
       "      <td>No</td>\n",
       "      <td>Yes</td>\n",
       "      <td>Yes</td>\n",
       "      <td>No</td>\n",
       "      <td>Yes</td>\n",
       "      <td>Yes</td>\n",
       "      <td>Yes</td>\n",
       "      <td>1.0</td>\n",
       "      <td>1</td>\n",
       "    </tr>\n",
       "    <tr>\n",
       "      <th>170</th>\n",
       "      <td>2020/01/06 6:19:12 PM PST</td>\n",
       "      <td>No, I'm not working at the moment</td>\n",
       "      <td>longer than 3 years ago but less than 5 years ago</td>\n",
       "      <td>MSFA</td>\n",
       "      <td>1</td>\n",
       "      <td>No</td>\n",
       "      <td>No</td>\n",
       "      <td>No</td>\n",
       "      <td>No</td>\n",
       "      <td>No</td>\n",
       "      <td>No</td>\n",
       "      <td>Yes</td>\n",
       "      <td>Yes</td>\n",
       "      <td>No</td>\n",
       "      <td>Yes</td>\n",
       "      <td>Yes</td>\n",
       "      <td>No</td>\n",
       "      <td>1.0</td>\n",
       "      <td>1</td>\n",
       "    </tr>\n",
       "    <tr>\n",
       "      <th>171</th>\n",
       "      <td>2020/01/08 8:37:45 PM PST</td>\n",
       "      <td>Yes, I have a full-time job</td>\n",
       "      <td>longer than 3 years ago but less than 5 years ago</td>\n",
       "      <td>MBA</td>\n",
       "      <td>4</td>\n",
       "      <td>No</td>\n",
       "      <td>No</td>\n",
       "      <td>No</td>\n",
       "      <td>No</td>\n",
       "      <td>No</td>\n",
       "      <td>Yes</td>\n",
       "      <td>No</td>\n",
       "      <td>Yes</td>\n",
       "      <td>No</td>\n",
       "      <td>Yes</td>\n",
       "      <td>Yes</td>\n",
       "      <td>Yes</td>\n",
       "      <td>2.0</td>\n",
       "      <td>2</td>\n",
       "    </tr>\n",
       "  </tbody>\n",
       "</table>\n",
       "<p>172 rows × 19 columns</p>\n",
       "</div>"
      ],
      "text/plain": [
       "                     Timestamp                                Job  \\\n",
       "0    2017/01/09 2:48:20 PM MST  No, I'm not working at the moment   \n",
       "1    2017/01/09 3:15:59 PM MST        Yes, I have a part-time job   \n",
       "2    2017/01/09 4:48:48 PM MST  No, I'm not working at the moment   \n",
       "3    2017/01/09 4:48:51 PM MST  No, I'm not working at the moment   \n",
       "4    2017/01/09 4:50:03 PM MST  No, I'm not working at the moment   \n",
       "..                         ...                                ...   \n",
       "167  2020/01/06 4:24:33 PM PST  No, I'm not working at the moment   \n",
       "168  2020/01/06 5:49:13 PM PST  No, I'm not working at the moment   \n",
       "169  2020/01/06 5:58:48 PM PST  No, I'm not working at the moment   \n",
       "170  2020/01/06 6:19:12 PM PST  No, I'm not working at the moment   \n",
       "171  2020/01/08 8:37:45 PM PST        Yes, I have a full-time job   \n",
       "\n",
       "                                              BachTime MasterProgram  \\\n",
       "0     longer than 1 year ago but less than 3 years ago          MSIS   \n",
       "1                                     over 5 years ago          MSIS   \n",
       "2    longer than 3 years ago but less than 5 years ago          MSIS   \n",
       "3                                     over 5 years ago          MSIS   \n",
       "4    longer than 3 years ago but less than 5 years ago          MSIS   \n",
       "..                                                 ...           ...   \n",
       "167                                   over 5 years ago          MSIS   \n",
       "168   longer than 1 year ago but less than 3 years ago          MSFA   \n",
       "169                                       < 1 year ago          MSFA   \n",
       "170  longer than 3 years ago but less than 5 years ago          MSFA   \n",
       "171  longer than 3 years ago but less than 5 years ago           MBA   \n",
       "\n",
       "     ProgSkills    C  CPP  CS Java Python   JS    R  SQL  SAS Excel Tableau  \\\n",
       "0             4  Yes  Yes  No  Yes    Yes  Yes   No  Yes   No   Yes      No   \n",
       "1             3  Yes  Yes  No  Yes     No   No   No  Yes   No   Yes      No   \n",
       "2             3   No   No  No  Yes    Yes   No   No  Yes   No   Yes      No   \n",
       "3             3  Yes   No  No  Yes    Yes   No  Yes  Yes   No   Yes      No   \n",
       "4             3  Yes   No  No  Yes    Yes   No   No  Yes   No   Yes      No   \n",
       "..          ...  ...  ...  ..  ...    ...  ...  ...  ...  ...   ...     ...   \n",
       "167           4  Yes   No  No   No    Yes   No   No  Yes  Yes   Yes      No   \n",
       "168           1   No   No  No   No     No   No  Yes  NaN   No   Yes     Yes   \n",
       "169           2   No   No  No   No     No   No  Yes  Yes   No   Yes     Yes   \n",
       "170           1   No   No  No   No     No   No  Yes  Yes   No   Yes     Yes   \n",
       "171           4   No   No  No   No     No  Yes   No  Yes   No   Yes     Yes   \n",
       "\n",
       "    Regression  Classification  Clustering  \n",
       "0          Yes             4.0           4  \n",
       "1           No             2.0           2  \n",
       "2          Yes             3.0           3  \n",
       "3          Yes             2.0           3  \n",
       "4           No             1.0           1  \n",
       "..         ...             ...         ...  \n",
       "167        Yes             3.0           3  \n",
       "168        Yes             1.0           1  \n",
       "169        Yes             1.0           1  \n",
       "170         No             1.0           1  \n",
       "171        Yes             2.0           2  \n",
       "\n",
       "[172 rows x 19 columns]"
      ]
     },
     "execution_count": 77,
     "metadata": {},
     "output_type": "execute_result"
    }
   ],
   "source": [
    "# 单独改\n",
    "\n",
    "df.rename(columns={'Program':'MasterProgram'})"
   ]
  },
  {
   "cell_type": "markdown",
   "metadata": {},
   "source": [
    "##### Unique values ——nunique(), unique(), value_counts()"
   ]
  },
  {
   "cell_type": "code",
   "execution_count": 78,
   "metadata": {
    "ExecuteTime": {
     "end_time": "2020-07-09T02:32:13.700741Z",
     "start_time": "2020-07-09T02:32:13.693768Z"
    }
   },
   "outputs": [
    {
     "data": {
      "text/plain": [
       "2"
      ]
     },
     "execution_count": 78,
     "metadata": {},
     "output_type": "execute_result"
    },
    {
     "data": {
      "text/plain": [
       "array(['Yes', 'No', nan], dtype=object)"
      ]
     },
     "execution_count": 78,
     "metadata": {},
     "output_type": "execute_result"
    }
   ],
   "source": [
    "df.Regression.nunique()  # num of the unique\n",
    "df.Regression.unique()  # list of the unique"
   ]
  },
  {
   "cell_type": "code",
   "execution_count": 79,
   "metadata": {
    "ExecuteTime": {
     "end_time": "2020-07-09T02:32:13.980331Z",
     "start_time": "2020-07-09T02:32:13.974348Z"
    }
   },
   "outputs": [
    {
     "data": {
      "text/plain": [
       "Yes    117\n",
       "No      54\n",
       "NaN      1\n",
       "Name: Regression, dtype: int64"
      ]
     },
     "execution_count": 79,
     "metadata": {},
     "output_type": "execute_result"
    }
   ],
   "source": [
    "df.Regression.value_counts(dropna=False)  # 默认会丢弃nan,保险起见可以设置为false"
   ]
  },
  {
   "cell_type": "markdown",
   "metadata": {},
   "source": [
    "##### Missing values"
   ]
  },
  {
   "cell_type": "code",
   "execution_count": 80,
   "metadata": {
    "ExecuteTime": {
     "end_time": "2020-07-09T02:32:14.569337Z",
     "start_time": "2020-07-09T02:32:14.541409Z"
    }
   },
   "outputs": [
    {
     "data": {
      "text/html": [
       "<div>\n",
       "<style scoped>\n",
       "    .dataframe tbody tr th:only-of-type {\n",
       "        vertical-align: middle;\n",
       "    }\n",
       "\n",
       "    .dataframe tbody tr th {\n",
       "        vertical-align: top;\n",
       "    }\n",
       "\n",
       "    .dataframe thead th {\n",
       "        text-align: right;\n",
       "    }\n",
       "</style>\n",
       "<table border=\"1\" class=\"dataframe\">\n",
       "  <thead>\n",
       "    <tr style=\"text-align: right;\">\n",
       "      <th></th>\n",
       "      <th>Timestamp</th>\n",
       "      <th>Job</th>\n",
       "      <th>BachTime</th>\n",
       "      <th>Program</th>\n",
       "      <th>ProgSkills</th>\n",
       "      <th>C</th>\n",
       "      <th>CPP</th>\n",
       "      <th>CS</th>\n",
       "      <th>Java</th>\n",
       "      <th>Python</th>\n",
       "      <th>JS</th>\n",
       "      <th>R</th>\n",
       "      <th>SQL</th>\n",
       "      <th>SAS</th>\n",
       "      <th>Excel</th>\n",
       "      <th>Tableau</th>\n",
       "      <th>Regression</th>\n",
       "      <th>Classification</th>\n",
       "      <th>Clustering</th>\n",
       "    </tr>\n",
       "  </thead>\n",
       "  <tbody>\n",
       "    <tr>\n",
       "      <th>0</th>\n",
       "      <td>False</td>\n",
       "      <td>False</td>\n",
       "      <td>False</td>\n",
       "      <td>False</td>\n",
       "      <td>False</td>\n",
       "      <td>False</td>\n",
       "      <td>False</td>\n",
       "      <td>False</td>\n",
       "      <td>False</td>\n",
       "      <td>False</td>\n",
       "      <td>False</td>\n",
       "      <td>False</td>\n",
       "      <td>False</td>\n",
       "      <td>False</td>\n",
       "      <td>False</td>\n",
       "      <td>False</td>\n",
       "      <td>False</td>\n",
       "      <td>False</td>\n",
       "      <td>False</td>\n",
       "    </tr>\n",
       "    <tr>\n",
       "      <th>1</th>\n",
       "      <td>False</td>\n",
       "      <td>False</td>\n",
       "      <td>False</td>\n",
       "      <td>False</td>\n",
       "      <td>False</td>\n",
       "      <td>False</td>\n",
       "      <td>False</td>\n",
       "      <td>False</td>\n",
       "      <td>False</td>\n",
       "      <td>False</td>\n",
       "      <td>False</td>\n",
       "      <td>False</td>\n",
       "      <td>False</td>\n",
       "      <td>False</td>\n",
       "      <td>False</td>\n",
       "      <td>False</td>\n",
       "      <td>False</td>\n",
       "      <td>False</td>\n",
       "      <td>False</td>\n",
       "    </tr>\n",
       "    <tr>\n",
       "      <th>2</th>\n",
       "      <td>False</td>\n",
       "      <td>False</td>\n",
       "      <td>False</td>\n",
       "      <td>False</td>\n",
       "      <td>False</td>\n",
       "      <td>False</td>\n",
       "      <td>False</td>\n",
       "      <td>False</td>\n",
       "      <td>False</td>\n",
       "      <td>False</td>\n",
       "      <td>False</td>\n",
       "      <td>False</td>\n",
       "      <td>False</td>\n",
       "      <td>False</td>\n",
       "      <td>False</td>\n",
       "      <td>False</td>\n",
       "      <td>False</td>\n",
       "      <td>False</td>\n",
       "      <td>False</td>\n",
       "    </tr>\n",
       "    <tr>\n",
       "      <th>3</th>\n",
       "      <td>False</td>\n",
       "      <td>False</td>\n",
       "      <td>False</td>\n",
       "      <td>False</td>\n",
       "      <td>False</td>\n",
       "      <td>False</td>\n",
       "      <td>False</td>\n",
       "      <td>False</td>\n",
       "      <td>False</td>\n",
       "      <td>False</td>\n",
       "      <td>False</td>\n",
       "      <td>False</td>\n",
       "      <td>False</td>\n",
       "      <td>False</td>\n",
       "      <td>False</td>\n",
       "      <td>False</td>\n",
       "      <td>False</td>\n",
       "      <td>False</td>\n",
       "      <td>False</td>\n",
       "    </tr>\n",
       "    <tr>\n",
       "      <th>4</th>\n",
       "      <td>False</td>\n",
       "      <td>False</td>\n",
       "      <td>False</td>\n",
       "      <td>False</td>\n",
       "      <td>False</td>\n",
       "      <td>False</td>\n",
       "      <td>False</td>\n",
       "      <td>False</td>\n",
       "      <td>False</td>\n",
       "      <td>False</td>\n",
       "      <td>False</td>\n",
       "      <td>False</td>\n",
       "      <td>False</td>\n",
       "      <td>False</td>\n",
       "      <td>False</td>\n",
       "      <td>False</td>\n",
       "      <td>False</td>\n",
       "      <td>False</td>\n",
       "      <td>False</td>\n",
       "    </tr>\n",
       "    <tr>\n",
       "      <th>...</th>\n",
       "      <td>...</td>\n",
       "      <td>...</td>\n",
       "      <td>...</td>\n",
       "      <td>...</td>\n",
       "      <td>...</td>\n",
       "      <td>...</td>\n",
       "      <td>...</td>\n",
       "      <td>...</td>\n",
       "      <td>...</td>\n",
       "      <td>...</td>\n",
       "      <td>...</td>\n",
       "      <td>...</td>\n",
       "      <td>...</td>\n",
       "      <td>...</td>\n",
       "      <td>...</td>\n",
       "      <td>...</td>\n",
       "      <td>...</td>\n",
       "      <td>...</td>\n",
       "      <td>...</td>\n",
       "    </tr>\n",
       "    <tr>\n",
       "      <th>167</th>\n",
       "      <td>False</td>\n",
       "      <td>False</td>\n",
       "      <td>False</td>\n",
       "      <td>False</td>\n",
       "      <td>False</td>\n",
       "      <td>False</td>\n",
       "      <td>False</td>\n",
       "      <td>False</td>\n",
       "      <td>False</td>\n",
       "      <td>False</td>\n",
       "      <td>False</td>\n",
       "      <td>False</td>\n",
       "      <td>False</td>\n",
       "      <td>False</td>\n",
       "      <td>False</td>\n",
       "      <td>False</td>\n",
       "      <td>False</td>\n",
       "      <td>False</td>\n",
       "      <td>False</td>\n",
       "    </tr>\n",
       "    <tr>\n",
       "      <th>168</th>\n",
       "      <td>False</td>\n",
       "      <td>False</td>\n",
       "      <td>False</td>\n",
       "      <td>False</td>\n",
       "      <td>False</td>\n",
       "      <td>False</td>\n",
       "      <td>False</td>\n",
       "      <td>False</td>\n",
       "      <td>False</td>\n",
       "      <td>False</td>\n",
       "      <td>False</td>\n",
       "      <td>False</td>\n",
       "      <td>True</td>\n",
       "      <td>False</td>\n",
       "      <td>False</td>\n",
       "      <td>False</td>\n",
       "      <td>False</td>\n",
       "      <td>False</td>\n",
       "      <td>False</td>\n",
       "    </tr>\n",
       "    <tr>\n",
       "      <th>169</th>\n",
       "      <td>False</td>\n",
       "      <td>False</td>\n",
       "      <td>False</td>\n",
       "      <td>False</td>\n",
       "      <td>False</td>\n",
       "      <td>False</td>\n",
       "      <td>False</td>\n",
       "      <td>False</td>\n",
       "      <td>False</td>\n",
       "      <td>False</td>\n",
       "      <td>False</td>\n",
       "      <td>False</td>\n",
       "      <td>False</td>\n",
       "      <td>False</td>\n",
       "      <td>False</td>\n",
       "      <td>False</td>\n",
       "      <td>False</td>\n",
       "      <td>False</td>\n",
       "      <td>False</td>\n",
       "    </tr>\n",
       "    <tr>\n",
       "      <th>170</th>\n",
       "      <td>False</td>\n",
       "      <td>False</td>\n",
       "      <td>False</td>\n",
       "      <td>False</td>\n",
       "      <td>False</td>\n",
       "      <td>False</td>\n",
       "      <td>False</td>\n",
       "      <td>False</td>\n",
       "      <td>False</td>\n",
       "      <td>False</td>\n",
       "      <td>False</td>\n",
       "      <td>False</td>\n",
       "      <td>False</td>\n",
       "      <td>False</td>\n",
       "      <td>False</td>\n",
       "      <td>False</td>\n",
       "      <td>False</td>\n",
       "      <td>False</td>\n",
       "      <td>False</td>\n",
       "    </tr>\n",
       "    <tr>\n",
       "      <th>171</th>\n",
       "      <td>False</td>\n",
       "      <td>False</td>\n",
       "      <td>False</td>\n",
       "      <td>False</td>\n",
       "      <td>False</td>\n",
       "      <td>False</td>\n",
       "      <td>False</td>\n",
       "      <td>False</td>\n",
       "      <td>False</td>\n",
       "      <td>False</td>\n",
       "      <td>False</td>\n",
       "      <td>False</td>\n",
       "      <td>False</td>\n",
       "      <td>False</td>\n",
       "      <td>False</td>\n",
       "      <td>False</td>\n",
       "      <td>False</td>\n",
       "      <td>False</td>\n",
       "      <td>False</td>\n",
       "    </tr>\n",
       "  </tbody>\n",
       "</table>\n",
       "<p>172 rows × 19 columns</p>\n",
       "</div>"
      ],
      "text/plain": [
       "     Timestamp    Job  BachTime  Program  ProgSkills      C    CPP     CS  \\\n",
       "0        False  False     False    False       False  False  False  False   \n",
       "1        False  False     False    False       False  False  False  False   \n",
       "2        False  False     False    False       False  False  False  False   \n",
       "3        False  False     False    False       False  False  False  False   \n",
       "4        False  False     False    False       False  False  False  False   \n",
       "..         ...    ...       ...      ...         ...    ...    ...    ...   \n",
       "167      False  False     False    False       False  False  False  False   \n",
       "168      False  False     False    False       False  False  False  False   \n",
       "169      False  False     False    False       False  False  False  False   \n",
       "170      False  False     False    False       False  False  False  False   \n",
       "171      False  False     False    False       False  False  False  False   \n",
       "\n",
       "      Java  Python     JS      R    SQL    SAS  Excel  Tableau  Regression  \\\n",
       "0    False   False  False  False  False  False  False    False       False   \n",
       "1    False   False  False  False  False  False  False    False       False   \n",
       "2    False   False  False  False  False  False  False    False       False   \n",
       "3    False   False  False  False  False  False  False    False       False   \n",
       "4    False   False  False  False  False  False  False    False       False   \n",
       "..     ...     ...    ...    ...    ...    ...    ...      ...         ...   \n",
       "167  False   False  False  False  False  False  False    False       False   \n",
       "168  False   False  False  False   True  False  False    False       False   \n",
       "169  False   False  False  False  False  False  False    False       False   \n",
       "170  False   False  False  False  False  False  False    False       False   \n",
       "171  False   False  False  False  False  False  False    False       False   \n",
       "\n",
       "     Classification  Clustering  \n",
       "0             False       False  \n",
       "1             False       False  \n",
       "2             False       False  \n",
       "3             False       False  \n",
       "4             False       False  \n",
       "..              ...         ...  \n",
       "167           False       False  \n",
       "168           False       False  \n",
       "169           False       False  \n",
       "170           False       False  \n",
       "171           False       False  \n",
       "\n",
       "[172 rows x 19 columns]"
      ]
     },
     "execution_count": 80,
     "metadata": {},
     "output_type": "execute_result"
    },
    {
     "data": {
      "text/plain": [
       "Timestamp         0\n",
       "Job               0\n",
       "BachTime          2\n",
       "Program           2\n",
       "ProgSkills        0\n",
       "C                 0\n",
       "CPP               0\n",
       "CS                1\n",
       "Java              2\n",
       "Python            1\n",
       "JS                2\n",
       "R                 2\n",
       "SQL               2\n",
       "SAS               1\n",
       "Excel             0\n",
       "Tableau           0\n",
       "Regression        1\n",
       "Classification    1\n",
       "Clustering        0\n",
       "dtype: int64"
      ]
     },
     "execution_count": 80,
     "metadata": {},
     "output_type": "execute_result"
    }
   ],
   "source": [
    "df.isna()  # 不建议用，大部分都是false\n",
    "df.isna().sum()  # python里false默认是0，所以可以使用sum函数"
   ]
  },
  {
   "cell_type": "markdown",
   "metadata": {},
   "source": [
    "<b>建议这样来显示nan值所在行信息</b>"
   ]
  },
  {
   "cell_type": "code",
   "execution_count": 81,
   "metadata": {
    "ExecuteTime": {
     "end_time": "2020-07-09T02:32:15.172123Z",
     "start_time": "2020-07-09T02:32:15.157209Z"
    }
   },
   "outputs": [
    {
     "data": {
      "text/html": [
       "<div>\n",
       "<style scoped>\n",
       "    .dataframe tbody tr th:only-of-type {\n",
       "        vertical-align: middle;\n",
       "    }\n",
       "\n",
       "    .dataframe tbody tr th {\n",
       "        vertical-align: top;\n",
       "    }\n",
       "\n",
       "    .dataframe thead th {\n",
       "        text-align: right;\n",
       "    }\n",
       "</style>\n",
       "<table border=\"1\" class=\"dataframe\">\n",
       "  <thead>\n",
       "    <tr style=\"text-align: right;\">\n",
       "      <th></th>\n",
       "      <th>Timestamp</th>\n",
       "      <th>Job</th>\n",
       "      <th>BachTime</th>\n",
       "      <th>Program</th>\n",
       "      <th>ProgSkills</th>\n",
       "      <th>C</th>\n",
       "      <th>CPP</th>\n",
       "      <th>CS</th>\n",
       "      <th>Java</th>\n",
       "      <th>Python</th>\n",
       "      <th>JS</th>\n",
       "      <th>R</th>\n",
       "      <th>SQL</th>\n",
       "      <th>SAS</th>\n",
       "      <th>Excel</th>\n",
       "      <th>Tableau</th>\n",
       "      <th>Regression</th>\n",
       "      <th>Classification</th>\n",
       "      <th>Clustering</th>\n",
       "    </tr>\n",
       "  </thead>\n",
       "  <tbody>\n",
       "    <tr>\n",
       "      <th>26</th>\n",
       "      <td>2017/01/12 8:32:52 PM MST</td>\n",
       "      <td>No, I'm not working at the moment</td>\n",
       "      <td>longer than 3 years ago but less than 5 years ago</td>\n",
       "      <td>NaN</td>\n",
       "      <td>2</td>\n",
       "      <td>No</td>\n",
       "      <td>No</td>\n",
       "      <td>No</td>\n",
       "      <td>Yes</td>\n",
       "      <td>No</td>\n",
       "      <td>No</td>\n",
       "      <td>No</td>\n",
       "      <td>No</td>\n",
       "      <td>No</td>\n",
       "      <td>Yes</td>\n",
       "      <td>Yes</td>\n",
       "      <td>No</td>\n",
       "      <td>2.0</td>\n",
       "      <td>3</td>\n",
       "    </tr>\n",
       "    <tr>\n",
       "      <th>69</th>\n",
       "      <td>2018/09/26 11:22:52 AM MDT</td>\n",
       "      <td>Yes, I have a part-time job</td>\n",
       "      <td>longer than 3 years ago but less than 5 years ago</td>\n",
       "      <td>NaN</td>\n",
       "      <td>1</td>\n",
       "      <td>No</td>\n",
       "      <td>No</td>\n",
       "      <td>No</td>\n",
       "      <td>No</td>\n",
       "      <td>No</td>\n",
       "      <td>No</td>\n",
       "      <td>No</td>\n",
       "      <td>Yes</td>\n",
       "      <td>No</td>\n",
       "      <td>Yes</td>\n",
       "      <td>No</td>\n",
       "      <td>No</td>\n",
       "      <td>1.0</td>\n",
       "      <td>1</td>\n",
       "    </tr>\n",
       "  </tbody>\n",
       "</table>\n",
       "</div>"
      ],
      "text/plain": [
       "                     Timestamp                                Job  \\\n",
       "26   2017/01/12 8:32:52 PM MST  No, I'm not working at the moment   \n",
       "69  2018/09/26 11:22:52 AM MDT        Yes, I have a part-time job   \n",
       "\n",
       "                                             BachTime Program  ProgSkills   C  \\\n",
       "26  longer than 3 years ago but less than 5 years ago     NaN           2  No   \n",
       "69  longer than 3 years ago but less than 5 years ago     NaN           1  No   \n",
       "\n",
       "   CPP  CS Java Python  JS   R  SQL SAS Excel Tableau Regression  \\\n",
       "26  No  No  Yes     No  No  No   No  No   Yes     Yes         No   \n",
       "69  No  No   No     No  No  No  Yes  No   Yes      No         No   \n",
       "\n",
       "    Classification  Clustering  \n",
       "26             2.0           3  \n",
       "69             1.0           1  "
      ]
     },
     "execution_count": 81,
     "metadata": {},
     "output_type": "execute_result"
    }
   ],
   "source": [
    "df[df.Program.isna()]"
   ]
  },
  {
   "cell_type": "code",
   "execution_count": 82,
   "metadata": {
    "ExecuteTime": {
     "end_time": "2020-07-09T02:32:15.472167Z",
     "start_time": "2020-07-09T02:32:15.452173Z"
    }
   },
   "outputs": [
    {
     "data": {
      "text/plain": [
       "0      0\n",
       "1      0\n",
       "2      0\n",
       "3      0\n",
       "4      0\n",
       "      ..\n",
       "167    0\n",
       "168    1\n",
       "169    0\n",
       "170    0\n",
       "171    0\n",
       "Length: 172, dtype: int64"
      ]
     },
     "execution_count": 82,
     "metadata": {},
     "output_type": "execute_result"
    },
    {
     "data": {
      "text/html": [
       "<div>\n",
       "<style scoped>\n",
       "    .dataframe tbody tr th:only-of-type {\n",
       "        vertical-align: middle;\n",
       "    }\n",
       "\n",
       "    .dataframe tbody tr th {\n",
       "        vertical-align: top;\n",
       "    }\n",
       "\n",
       "    .dataframe thead th {\n",
       "        text-align: right;\n",
       "    }\n",
       "</style>\n",
       "<table border=\"1\" class=\"dataframe\">\n",
       "  <thead>\n",
       "    <tr style=\"text-align: right;\">\n",
       "      <th></th>\n",
       "      <th>Timestamp</th>\n",
       "      <th>Job</th>\n",
       "      <th>BachTime</th>\n",
       "      <th>Program</th>\n",
       "      <th>ProgSkills</th>\n",
       "      <th>C</th>\n",
       "      <th>CPP</th>\n",
       "      <th>CS</th>\n",
       "      <th>Java</th>\n",
       "      <th>Python</th>\n",
       "      <th>JS</th>\n",
       "      <th>R</th>\n",
       "      <th>SQL</th>\n",
       "      <th>SAS</th>\n",
       "      <th>Excel</th>\n",
       "      <th>Tableau</th>\n",
       "      <th>Regression</th>\n",
       "      <th>Classification</th>\n",
       "      <th>Clustering</th>\n",
       "    </tr>\n",
       "  </thead>\n",
       "  <tbody>\n",
       "    <tr>\n",
       "      <th>17</th>\n",
       "      <td>2017/01/10 8:23:33 PM MST</td>\n",
       "      <td>Yes, I have a full-time job</td>\n",
       "      <td>over 5 years ago</td>\n",
       "      <td>MBA</td>\n",
       "      <td>4</td>\n",
       "      <td>No</td>\n",
       "      <td>No</td>\n",
       "      <td>No</td>\n",
       "      <td>No</td>\n",
       "      <td>Yes</td>\n",
       "      <td>NaN</td>\n",
       "      <td>Yes</td>\n",
       "      <td>Yes</td>\n",
       "      <td>NaN</td>\n",
       "      <td>Yes</td>\n",
       "      <td>No</td>\n",
       "      <td>Yes</td>\n",
       "      <td>4.0</td>\n",
       "      <td>4</td>\n",
       "    </tr>\n",
       "    <tr>\n",
       "      <th>28</th>\n",
       "      <td>2017/01/16 12:49:56 PM MST</td>\n",
       "      <td>Yes, I have a part-time job</td>\n",
       "      <td>over 5 years ago</td>\n",
       "      <td>MSIS</td>\n",
       "      <td>3</td>\n",
       "      <td>Yes</td>\n",
       "      <td>Yes</td>\n",
       "      <td>No</td>\n",
       "      <td>Yes</td>\n",
       "      <td>Yes</td>\n",
       "      <td>No</td>\n",
       "      <td>NaN</td>\n",
       "      <td>Yes</td>\n",
       "      <td>No</td>\n",
       "      <td>Yes</td>\n",
       "      <td>Yes</td>\n",
       "      <td>NaN</td>\n",
       "      <td>1.0</td>\n",
       "      <td>1</td>\n",
       "    </tr>\n",
       "    <tr>\n",
       "      <th>75</th>\n",
       "      <td>2018/09/26 5:22:11 PM MDT</td>\n",
       "      <td>No, I'm not working at the moment</td>\n",
       "      <td>NaN</td>\n",
       "      <td>MBA</td>\n",
       "      <td>2</td>\n",
       "      <td>Yes</td>\n",
       "      <td>No</td>\n",
       "      <td>No</td>\n",
       "      <td>No</td>\n",
       "      <td>No</td>\n",
       "      <td>NaN</td>\n",
       "      <td>No</td>\n",
       "      <td>Yes</td>\n",
       "      <td>No</td>\n",
       "      <td>Yes</td>\n",
       "      <td>No</td>\n",
       "      <td>Yes</td>\n",
       "      <td>1.0</td>\n",
       "      <td>1</td>\n",
       "    </tr>\n",
       "  </tbody>\n",
       "</table>\n",
       "</div>"
      ],
      "text/plain": [
       "                     Timestamp                                Job  \\\n",
       "17   2017/01/10 8:23:33 PM MST        Yes, I have a full-time job   \n",
       "28  2017/01/16 12:49:56 PM MST        Yes, I have a part-time job   \n",
       "75   2018/09/26 5:22:11 PM MDT  No, I'm not working at the moment   \n",
       "\n",
       "            BachTime Program  ProgSkills    C  CPP  CS Java Python   JS    R  \\\n",
       "17  over 5 years ago     MBA           4   No   No  No   No    Yes  NaN  Yes   \n",
       "28  over 5 years ago    MSIS           3  Yes  Yes  No  Yes    Yes   No  NaN   \n",
       "75               NaN     MBA           2  Yes   No  No   No     No  NaN   No   \n",
       "\n",
       "    SQL  SAS Excel Tableau Regression  Classification  Clustering  \n",
       "17  Yes  NaN   Yes      No        Yes             4.0           4  \n",
       "28  Yes   No   Yes     Yes        NaN             1.0           1  \n",
       "75  Yes   No   Yes      No        Yes             1.0           1  "
      ]
     },
     "execution_count": 82,
     "metadata": {},
     "output_type": "execute_result"
    }
   ],
   "source": [
    "# test 【哪行信息nan值在两个以上】\n",
    "df.isna().sum(axis=1)  # 对行进行缺失值求和\n",
    "df[df.isna().sum(axis=1)>=2]  # 用boolean mask 做 apply"
   ]
  },
  {
   "cell_type": "code",
   "execution_count": 83,
   "metadata": {
    "ExecuteTime": {
     "end_time": "2020-07-09T02:32:15.720528Z",
     "start_time": "2020-07-09T02:32:15.714949Z"
    }
   },
   "outputs": [
    {
     "data": {
      "text/plain": [
       "Timestamp                 2018/09/26 5:22:11 PM MDT\n",
       "Job               No, I'm not working at the moment\n",
       "BachTime                                        NaN\n",
       "Program                                         MBA\n",
       "ProgSkills                                        2\n",
       "C                                               Yes\n",
       "CPP                                              No\n",
       "CS                                               No\n",
       "Java                                             No\n",
       "Python                                           No\n",
       "JS                                              NaN\n",
       "R                                                No\n",
       "SQL                                             Yes\n",
       "SAS                                              No\n",
       "Excel                                           Yes\n",
       "Tableau                                          No\n",
       "Regression                                      Yes\n",
       "Classification                                    1\n",
       "Clustering                                        1\n",
       "Name: 75, dtype: object"
      ]
     },
     "execution_count": 83,
     "metadata": {},
     "output_type": "execute_result"
    }
   ],
   "source": [
    "# 找到缺失值所在行信息\n",
    "\n",
    "df.loc[75] "
   ]
  },
  {
   "cell_type": "markdown",
   "metadata": {},
   "source": [
    "###### fillna()"
   ]
  },
  {
   "cell_type": "code",
   "execution_count": 84,
   "metadata": {
    "ExecuteTime": {
     "end_time": "2020-07-09T02:32:17.419187Z",
     "start_time": "2020-07-09T02:32:17.412208Z"
    }
   },
   "outputs": [
    {
     "data": {
      "text/plain": [
       "array(['Yes', 'No', nan], dtype=object)"
      ]
     },
     "execution_count": 84,
     "metadata": {},
     "output_type": "execute_result"
    },
    {
     "data": {
      "text/plain": [
       "Index(['Timestamp', 'Job', 'BachTime', 'Program', 'ProgSkills', 'C', 'CPP',\n",
       "       'CS', 'Java', 'Python', 'JS', 'R', 'SQL', 'SAS', 'Excel', 'Tableau',\n",
       "       'Regression', 'Classification', 'Clustering'],\n",
       "      dtype='object')"
      ]
     },
     "execution_count": 84,
     "metadata": {},
     "output_type": "execute_result"
    }
   ],
   "source": [
    "df.Java.unique()\n",
    "\n",
    "df.columns"
   ]
  },
  {
   "cell_type": "code",
   "execution_count": 85,
   "metadata": {
    "ExecuteTime": {
     "end_time": "2020-07-09T02:32:17.813121Z",
     "start_time": "2020-07-09T02:32:17.808135Z"
    }
   },
   "outputs": [
    {
     "data": {
      "text/plain": [
       "Index(['Timestamp', 'Job', 'BachTime', 'Program', 'ProgSkills', 'C', 'CPP',\n",
       "       'CS', 'Java', 'Python', 'JS', 'R', 'SQL', 'SAS', 'Excel', 'Tableau',\n",
       "       'Regression', 'Classification', 'Clustering'],\n",
       "      dtype='object')"
      ]
     },
     "execution_count": 85,
     "metadata": {},
     "output_type": "execute_result"
    }
   ],
   "source": [
    "df.columns"
   ]
  },
  {
   "cell_type": "code",
   "execution_count": 86,
   "metadata": {
    "ExecuteTime": {
     "end_time": "2020-07-09T02:32:18.097196Z",
     "start_time": "2020-07-09T02:32:18.088427Z"
    }
   },
   "outputs": [
    {
     "name": "stderr",
     "output_type": "stream",
     "text": [
      "C:\\Users\\60448\\AppData\\Local\\Programs\\Python\\Python36\\lib\\site-packages\\ipykernel_launcher.py:4: FutureWarning:\n",
      "\n",
      "elementwise comparison failed; returning scalar instead, but in the future will perform elementwise comparison\n",
      "\n"
     ]
    },
    {
     "data": {
      "text/plain": [
       "['C',\n",
       " 'CPP',\n",
       " 'CS',\n",
       " 'Java',\n",
       " 'Python',\n",
       " 'JS',\n",
       " 'R',\n",
       " 'SQL',\n",
       " 'SAS',\n",
       " 'Excel',\n",
       " 'Tableau',\n",
       " 'Regression']"
      ]
     },
     "execution_count": 86,
     "metadata": {},
     "output_type": "execute_result"
    }
   ],
   "source": [
    "yes_no_cols = []\n",
    "\n",
    "for c in df.columns:\n",
    "    if 'Yes' in df[c].unique():\n",
    "        yes_no_cols.append(c)\n",
    "\n",
    "yes_no_cols"
   ]
  },
  {
   "cell_type": "code",
   "execution_count": 87,
   "metadata": {
    "ExecuteTime": {
     "end_time": "2020-07-09T02:32:18.443313Z",
     "start_time": "2020-07-09T02:32:18.436290Z"
    }
   },
   "outputs": [],
   "source": [
    "df[yes_no_cols] = df[yes_no_cols].fillna('No')"
   ]
  },
  {
   "cell_type": "markdown",
   "metadata": {},
   "source": [
    "###### 平均值填充"
   ]
  },
  {
   "cell_type": "code",
   "execution_count": 88,
   "metadata": {
    "ExecuteTime": {
     "end_time": "2020-07-09T02:32:19.156037Z",
     "start_time": "2020-07-09T02:32:19.150054Z"
    }
   },
   "outputs": [
    {
     "data": {
      "text/plain": [
       "1.691860465116279"
      ]
     },
     "execution_count": 88,
     "metadata": {},
     "output_type": "execute_result"
    },
    {
     "data": {
      "text/plain": [
       "1.654970760233918"
      ]
     },
     "execution_count": 88,
     "metadata": {},
     "output_type": "execute_result"
    }
   ],
   "source": [
    "df.Clustering.mean()\n",
    "df.Classification.mean()"
   ]
  },
  {
   "cell_type": "code",
   "execution_count": 89,
   "metadata": {
    "ExecuteTime": {
     "end_time": "2020-07-09T02:32:19.502154Z",
     "start_time": "2020-07-09T02:32:19.488151Z"
    }
   },
   "outputs": [
    {
     "data": {
      "text/plain": [
       "0      False\n",
       "1      False\n",
       "2      False\n",
       "3      False\n",
       "4      False\n",
       "       ...  \n",
       "167    False\n",
       "168    False\n",
       "169    False\n",
       "170    False\n",
       "171    False\n",
       "Name: Clustering, Length: 172, dtype: bool"
      ]
     },
     "execution_count": 89,
     "metadata": {},
     "output_type": "execute_result"
    }
   ],
   "source": [
    "df.Clustering.isna()\n",
    "df.loc[df.Clustering.isna(),'Clustering'] = df.Clustering.mean()\n",
    "df.loc[df.Classification.isna(),'Classification'] = df.Classification.mean()"
   ]
  },
  {
   "cell_type": "code",
   "execution_count": null,
   "metadata": {},
   "outputs": [],
   "source": []
  },
  {
   "cell_type": "markdown",
   "metadata": {},
   "source": [
    "###### 删除无效信息行"
   ]
  },
  {
   "cell_type": "code",
   "execution_count": 90,
   "metadata": {
    "ExecuteTime": {
     "end_time": "2020-07-09T02:32:20.513064Z",
     "start_time": "2020-07-09T02:32:20.508078Z"
    }
   },
   "outputs": [],
   "source": [
    "# 第一种做法\n",
    "\n",
    "df.dropna(subset=['Program'], inplace=True)  # 选定apply的列"
   ]
  },
  {
   "cell_type": "code",
   "execution_count": 91,
   "metadata": {
    "ExecuteTime": {
     "end_time": "2020-07-09T02:32:20.832659Z",
     "start_time": "2020-07-09T02:32:20.824692Z"
    }
   },
   "outputs": [
    {
     "data": {
      "text/plain": [
       "0      True\n",
       "1      True\n",
       "2      True\n",
       "3      True\n",
       "4      True\n",
       "       ... \n",
       "167    True\n",
       "168    True\n",
       "169    True\n",
       "170    True\n",
       "171    True\n",
       "Name: Program, Length: 170, dtype: bool"
      ]
     },
     "execution_count": 91,
     "metadata": {},
     "output_type": "execute_result"
    }
   ],
   "source": [
    "# 第二种做法\n",
    "\n",
    "~df.Program.isna()  # ~代表反选互换\n",
    "df = df[~df.Program.isna()]"
   ]
  },
  {
   "cell_type": "markdown",
   "metadata": {},
   "source": [
    "##### Object字段的分段value设置"
   ]
  },
  {
   "cell_type": "code",
   "execution_count": 92,
   "metadata": {
    "ExecuteTime": {
     "end_time": "2020-07-09T02:32:21.873519Z",
     "start_time": "2020-07-09T02:32:21.869531Z"
    }
   },
   "outputs": [
    {
     "data": {
      "text/plain": [
       "array([\"No, I'm not working at the moment\", 'Yes, I have a part-time job',\n",
       "       'Yes, I have a full-time job'], dtype=object)"
      ]
     },
     "execution_count": 92,
     "metadata": {},
     "output_type": "execute_result"
    }
   ],
   "source": [
    "df.Job.unique()"
   ]
  },
  {
   "cell_type": "code",
   "execution_count": 93,
   "metadata": {
    "ExecuteTime": {
     "end_time": "2020-07-09T02:32:22.246036Z",
     "start_time": "2020-07-09T02:32:22.237547Z"
    }
   },
   "outputs": [],
   "source": [
    "df.loc[df['Job'] == \"No, I'm not working at the moment\",'Job1'] = 0\n",
    "df.loc[df['Job'] == 'Yes, I have a part-time job','Job1'] = 0.5\n",
    "df.loc[df['Job'] == 'Yes, I have a full-time job','Job1'] = 1"
   ]
  },
  {
   "cell_type": "markdown",
   "metadata": {},
   "source": [
    "<b>另解1——boolean mask结合加法公式</b>"
   ]
  },
  {
   "cell_type": "code",
   "execution_count": 94,
   "metadata": {
    "ExecuteTime": {
     "end_time": "2020-07-09T02:32:22.885864Z",
     "start_time": "2020-07-09T02:32:22.881398Z"
    }
   },
   "outputs": [],
   "source": [
    "# 另解\n",
    "df['Job1'] = (df['Job'] == 'Yes, I have a part-time job') * 0.5 + (df['Job'] == 'Yes, I have a full-time job') * 1.0"
   ]
  },
  {
   "cell_type": "markdown",
   "metadata": {},
   "source": [
    "<b>另解2——函数法+apply()</b>"
   ]
  },
  {
   "cell_type": "code",
   "execution_count": 95,
   "metadata": {
    "ExecuteTime": {
     "end_time": "2020-07-09T02:32:23.556241Z",
     "start_time": "2020-07-09T02:32:23.551805Z"
    }
   },
   "outputs": [],
   "source": [
    "# 再另解——apply()\n",
    "def job2number(jd):\n",
    "    if jd.startswith(\"No\"):\n",
    "        return 0\n",
    "    elif 'part-time' in jd:\n",
    "        return 0.5\n",
    "    else:\n",
    "        return 1"
   ]
  },
  {
   "cell_type": "code",
   "execution_count": 96,
   "metadata": {
    "ExecuteTime": {
     "end_time": "2020-07-09T02:32:23.912783Z",
     "start_time": "2020-07-09T02:32:23.906846Z"
    }
   },
   "outputs": [
    {
     "data": {
      "text/plain": [
       "0      0.0\n",
       "1      0.5\n",
       "2      0.0\n",
       "3      0.0\n",
       "4      0.0\n",
       "      ... \n",
       "167    0.0\n",
       "168    0.0\n",
       "169    0.0\n",
       "170    0.0\n",
       "171    1.0\n",
       "Name: Job, Length: 170, dtype: float64"
      ]
     },
     "execution_count": 96,
     "metadata": {},
     "output_type": "execute_result"
    }
   ],
   "source": [
    "df.Job.apply(job2number)"
   ]
  },
  {
   "cell_type": "code",
   "execution_count": 97,
   "metadata": {
    "ExecuteTime": {
     "end_time": "2020-07-09T02:32:24.259295Z",
     "start_time": "2020-07-09T02:32:24.253230Z"
    }
   },
   "outputs": [],
   "source": [
    "df['Job2'] = df.Job.apply(job2number)"
   ]
  },
  {
   "cell_type": "markdown",
   "metadata": {},
   "source": [
    "<b>另解3——lambda()+apply()</b>"
   ]
  },
  {
   "cell_type": "code",
   "execution_count": 98,
   "metadata": {
    "ExecuteTime": {
     "end_time": "2020-07-09T02:32:24.984284Z",
     "start_time": "2020-07-09T02:32:24.976226Z"
    }
   },
   "outputs": [
    {
     "data": {
      "text/plain": [
       "0      0.0\n",
       "1      0.5\n",
       "2      0.0\n",
       "3      0.0\n",
       "4      0.0\n",
       "      ... \n",
       "167    0.0\n",
       "168    0.0\n",
       "169    0.0\n",
       "170    0.0\n",
       "171    1.0\n",
       "Name: Job, Length: 170, dtype: float64"
      ]
     },
     "execution_count": 98,
     "metadata": {},
     "output_type": "execute_result"
    }
   ],
   "source": [
    "df.Job.apply(lambda x: 0 if x.startswith('No') else .5 if 'part-time' in x else 1)"
   ]
  },
  {
   "cell_type": "code",
   "execution_count": 99,
   "metadata": {
    "ExecuteTime": {
     "end_time": "2020-07-09T02:32:25.317125Z",
     "start_time": "2020-07-09T02:32:25.312134Z"
    }
   },
   "outputs": [],
   "source": [
    "df['Job3'] = df.Job.apply(lambda x: 0 if x.startswith('No') else .5 if 'part-time' in x else 1)"
   ]
  },
  {
   "cell_type": "code",
   "execution_count": 103,
   "metadata": {
    "ExecuteTime": {
     "end_time": "2020-07-09T02:32:36.036797Z",
     "start_time": "2020-07-09T02:32:36.031810Z"
    }
   },
   "outputs": [],
   "source": [
    "df['Job4']=df.Job.str.startswith('Yes')*0.5+df.Job.str.contains('full-time')*0.5"
   ]
  },
  {
   "cell_type": "code",
   "execution_count": 104,
   "metadata": {
    "ExecuteTime": {
     "end_time": "2020-07-09T02:32:36.717572Z",
     "start_time": "2020-07-09T02:32:36.712545Z"
    }
   },
   "outputs": [],
   "source": [
    "df['Job5']=df.Job.str.match('.*part-time.*')*0.5+df.Job.str.match('.*full-time.*')*1.0"
   ]
  },
  {
   "cell_type": "code",
   "execution_count": 105,
   "metadata": {
    "ExecuteTime": {
     "end_time": "2020-07-09T02:32:37.165352Z",
     "start_time": "2020-07-09T02:32:37.152389Z"
    }
   },
   "outputs": [
    {
     "data": {
      "text/html": [
       "<div>\n",
       "<style scoped>\n",
       "    .dataframe tbody tr th:only-of-type {\n",
       "        vertical-align: middle;\n",
       "    }\n",
       "\n",
       "    .dataframe tbody tr th {\n",
       "        vertical-align: top;\n",
       "    }\n",
       "\n",
       "    .dataframe thead th {\n",
       "        text-align: right;\n",
       "    }\n",
       "</style>\n",
       "<table border=\"1\" class=\"dataframe\">\n",
       "  <thead>\n",
       "    <tr style=\"text-align: right;\">\n",
       "      <th></th>\n",
       "      <th>Job1</th>\n",
       "      <th>Job2</th>\n",
       "      <th>Job3</th>\n",
       "      <th>Job4</th>\n",
       "      <th>Job5</th>\n",
       "    </tr>\n",
       "  </thead>\n",
       "  <tbody>\n",
       "    <tr>\n",
       "      <th>0</th>\n",
       "      <td>0.0</td>\n",
       "      <td>0.0</td>\n",
       "      <td>0.0</td>\n",
       "      <td>0.0</td>\n",
       "      <td>0.0</td>\n",
       "    </tr>\n",
       "    <tr>\n",
       "      <th>1</th>\n",
       "      <td>0.5</td>\n",
       "      <td>0.5</td>\n",
       "      <td>0.5</td>\n",
       "      <td>0.5</td>\n",
       "      <td>0.5</td>\n",
       "    </tr>\n",
       "    <tr>\n",
       "      <th>2</th>\n",
       "      <td>0.0</td>\n",
       "      <td>0.0</td>\n",
       "      <td>0.0</td>\n",
       "      <td>0.0</td>\n",
       "      <td>0.0</td>\n",
       "    </tr>\n",
       "    <tr>\n",
       "      <th>3</th>\n",
       "      <td>0.0</td>\n",
       "      <td>0.0</td>\n",
       "      <td>0.0</td>\n",
       "      <td>0.0</td>\n",
       "      <td>0.0</td>\n",
       "    </tr>\n",
       "    <tr>\n",
       "      <th>4</th>\n",
       "      <td>0.0</td>\n",
       "      <td>0.0</td>\n",
       "      <td>0.0</td>\n",
       "      <td>0.0</td>\n",
       "      <td>0.0</td>\n",
       "    </tr>\n",
       "    <tr>\n",
       "      <th>...</th>\n",
       "      <td>...</td>\n",
       "      <td>...</td>\n",
       "      <td>...</td>\n",
       "      <td>...</td>\n",
       "      <td>...</td>\n",
       "    </tr>\n",
       "    <tr>\n",
       "      <th>167</th>\n",
       "      <td>0.0</td>\n",
       "      <td>0.0</td>\n",
       "      <td>0.0</td>\n",
       "      <td>0.0</td>\n",
       "      <td>0.0</td>\n",
       "    </tr>\n",
       "    <tr>\n",
       "      <th>168</th>\n",
       "      <td>0.0</td>\n",
       "      <td>0.0</td>\n",
       "      <td>0.0</td>\n",
       "      <td>0.0</td>\n",
       "      <td>0.0</td>\n",
       "    </tr>\n",
       "    <tr>\n",
       "      <th>169</th>\n",
       "      <td>0.0</td>\n",
       "      <td>0.0</td>\n",
       "      <td>0.0</td>\n",
       "      <td>0.0</td>\n",
       "      <td>0.0</td>\n",
       "    </tr>\n",
       "    <tr>\n",
       "      <th>170</th>\n",
       "      <td>0.0</td>\n",
       "      <td>0.0</td>\n",
       "      <td>0.0</td>\n",
       "      <td>0.0</td>\n",
       "      <td>0.0</td>\n",
       "    </tr>\n",
       "    <tr>\n",
       "      <th>171</th>\n",
       "      <td>1.0</td>\n",
       "      <td>1.0</td>\n",
       "      <td>1.0</td>\n",
       "      <td>1.0</td>\n",
       "      <td>1.0</td>\n",
       "    </tr>\n",
       "  </tbody>\n",
       "</table>\n",
       "<p>170 rows × 5 columns</p>\n",
       "</div>"
      ],
      "text/plain": [
       "     Job1  Job2  Job3  Job4  Job5\n",
       "0     0.0   0.0   0.0   0.0   0.0\n",
       "1     0.5   0.5   0.5   0.5   0.5\n",
       "2     0.0   0.0   0.0   0.0   0.0\n",
       "3     0.0   0.0   0.0   0.0   0.0\n",
       "4     0.0   0.0   0.0   0.0   0.0\n",
       "..    ...   ...   ...   ...   ...\n",
       "167   0.0   0.0   0.0   0.0   0.0\n",
       "168   0.0   0.0   0.0   0.0   0.0\n",
       "169   0.0   0.0   0.0   0.0   0.0\n",
       "170   0.0   0.0   0.0   0.0   0.0\n",
       "171   1.0   1.0   1.0   1.0   1.0\n",
       "\n",
       "[170 rows x 5 columns]"
      ]
     },
     "execution_count": 105,
     "metadata": {},
     "output_type": "execute_result"
    }
   ],
   "source": [
    "df[['Job1','Job2','Job3','Job4','Job5']]"
   ]
  },
  {
   "cell_type": "markdown",
   "metadata": {},
   "source": [
    "##### 字段名操作"
   ]
  },
  {
   "cell_type": "markdown",
   "metadata": {},
   "source": [
    "###### 删除字段"
   ]
  },
  {
   "cell_type": "code",
   "execution_count": 106,
   "metadata": {
    "ExecuteTime": {
     "end_time": "2020-07-09T02:32:38.390411Z",
     "start_time": "2020-07-09T02:32:38.386422Z"
    }
   },
   "outputs": [],
   "source": [
    "df.drop(columns=['Job2','Job3','Job4','Job5'],inplace=True)"
   ]
  },
  {
   "cell_type": "code",
   "execution_count": 107,
   "metadata": {
    "ExecuteTime": {
     "end_time": "2020-07-09T02:32:38.842527Z",
     "start_time": "2020-07-09T02:32:38.837541Z"
    }
   },
   "outputs": [],
   "source": [
    "df.drop(columns='Job',inplace=True)"
   ]
  },
  {
   "cell_type": "markdown",
   "metadata": {},
   "source": [
    "###### rename"
   ]
  },
  {
   "cell_type": "code",
   "execution_count": 108,
   "metadata": {
    "ExecuteTime": {
     "end_time": "2020-07-09T02:32:39.720706Z",
     "start_time": "2020-07-09T02:32:39.715719Z"
    }
   },
   "outputs": [
    {
     "data": {
      "text/plain": [
       "<bound method Index.rename of Index(['Timestamp', 'BachTime', 'Program', 'ProgSkills', 'C', 'CPP', 'CS',\n",
       "       'Java', 'Python', 'JS', 'R', 'SQL', 'SAS', 'Excel', 'Tableau',\n",
       "       'Regression', 'Classification', 'Clustering', 'Job1'],\n",
       "      dtype='object')>"
      ]
     },
     "execution_count": 108,
     "metadata": {},
     "output_type": "execute_result"
    }
   ],
   "source": [
    "df.columns.rename"
   ]
  },
  {
   "cell_type": "markdown",
   "metadata": {},
   "source": [
    "##### Dummify"
   ]
  },
  {
   "cell_type": "raw",
   "metadata": {},
   "source": [
    "# replace BachTime with dummy variable"
   ]
  },
  {
   "attachments": {
    "image.png": {
     "image/png": "[encoded data removed]"
    }
   },
   "cell_type": "markdown",
   "metadata": {},
   "source": [
    "![image.png](attachment:image.png)"
   ]
  },
  {
   "cell_type": "code",
   "execution_count": 116,
   "metadata": {
    "ExecuteTime": {
     "end_time": "2020-07-09T02:34:22.551793Z",
     "start_time": "2020-07-09T02:34:22.545311Z"
    }
   },
   "outputs": [],
   "source": [
    "dumDF = pd.get_dummies(df,columns=['BachTime'])"
   ]
  },
  {
   "cell_type": "code",
   "execution_count": 123,
   "metadata": {
    "ExecuteTime": {
     "end_time": "2020-07-09T02:37:12.165578Z",
     "start_time": "2020-07-09T02:37:12.160592Z"
    }
   },
   "outputs": [
    {
     "data": {
      "text/plain": [
       "['BachTime_< 1 year ago',\n",
       " 'BachTime_longer than 1 year ago but less than 3 years ago',\n",
       " 'BachTime_longer than 3 years ago but less than 5 years ago',\n",
       " 'BachTime_over 5 years ago']"
      ]
     },
     "execution_count": 123,
     "metadata": {},
     "output_type": "execute_result"
    }
   ],
   "source": [
    "cols=dumDF.columns.tolist()\n",
    "cols[-4:]\n",
    "cols[-4:] = ['Bach_0to1','Bach_1to3','Bach_3to5','Bach_5Plus']"
   ]
  },
  {
   "cell_type": "code",
   "execution_count": 125,
   "metadata": {
    "ExecuteTime": {
     "end_time": "2020-07-09T02:37:51.830484Z",
     "start_time": "2020-07-09T02:37:51.826425Z"
    }
   },
   "outputs": [],
   "source": [
    "df = dumDF"
   ]
  },
  {
   "cell_type": "markdown",
   "metadata": {},
   "source": [
    "###### replace Yes with 1 & No with 0"
   ]
  },
  {
   "cell_type": "code",
   "execution_count": 126,
   "metadata": {
    "ExecuteTime": {
     "end_time": "2020-07-09T02:37:56.037566Z",
     "start_time": "2020-07-09T02:37:56.019574Z"
    }
   },
   "outputs": [
    {
     "data": {
      "text/html": [
       "<div>\n",
       "<style scoped>\n",
       "    .dataframe tbody tr th:only-of-type {\n",
       "        vertical-align: middle;\n",
       "    }\n",
       "\n",
       "    .dataframe tbody tr th {\n",
       "        vertical-align: top;\n",
       "    }\n",
       "\n",
       "    .dataframe thead th {\n",
       "        text-align: right;\n",
       "    }\n",
       "</style>\n",
       "<table border=\"1\" class=\"dataframe\">\n",
       "  <thead>\n",
       "    <tr style=\"text-align: right;\">\n",
       "      <th></th>\n",
       "      <th>Timestamp</th>\n",
       "      <th>Program</th>\n",
       "      <th>ProgSkills</th>\n",
       "      <th>C</th>\n",
       "      <th>CPP</th>\n",
       "      <th>CS</th>\n",
       "      <th>Java</th>\n",
       "      <th>Python</th>\n",
       "      <th>JS</th>\n",
       "      <th>R</th>\n",
       "      <th>...</th>\n",
       "      <th>Excel</th>\n",
       "      <th>Tableau</th>\n",
       "      <th>Regression</th>\n",
       "      <th>Classification</th>\n",
       "      <th>Clustering</th>\n",
       "      <th>Job1</th>\n",
       "      <th>BachTime_&lt; 1 year ago</th>\n",
       "      <th>BachTime_longer than 1 year ago but less than 3 years ago</th>\n",
       "      <th>BachTime_longer than 3 years ago but less than 5 years ago</th>\n",
       "      <th>BachTime_over 5 years ago</th>\n",
       "    </tr>\n",
       "  </thead>\n",
       "  <tbody>\n",
       "    <tr>\n",
       "      <th>0</th>\n",
       "      <td>2017/01/09 2:48:20 PM MST</td>\n",
       "      <td>MSIS</td>\n",
       "      <td>4</td>\n",
       "      <td>1</td>\n",
       "      <td>1</td>\n",
       "      <td>0</td>\n",
       "      <td>1</td>\n",
       "      <td>1</td>\n",
       "      <td>1</td>\n",
       "      <td>0</td>\n",
       "      <td>...</td>\n",
       "      <td>1</td>\n",
       "      <td>0</td>\n",
       "      <td>1</td>\n",
       "      <td>4.0</td>\n",
       "      <td>4.0</td>\n",
       "      <td>0.0</td>\n",
       "      <td>0</td>\n",
       "      <td>1</td>\n",
       "      <td>0</td>\n",
       "      <td>0</td>\n",
       "    </tr>\n",
       "    <tr>\n",
       "      <th>1</th>\n",
       "      <td>2017/01/09 3:15:59 PM MST</td>\n",
       "      <td>MSIS</td>\n",
       "      <td>3</td>\n",
       "      <td>1</td>\n",
       "      <td>1</td>\n",
       "      <td>0</td>\n",
       "      <td>1</td>\n",
       "      <td>0</td>\n",
       "      <td>0</td>\n",
       "      <td>0</td>\n",
       "      <td>...</td>\n",
       "      <td>1</td>\n",
       "      <td>0</td>\n",
       "      <td>0</td>\n",
       "      <td>2.0</td>\n",
       "      <td>2.0</td>\n",
       "      <td>0.5</td>\n",
       "      <td>0</td>\n",
       "      <td>0</td>\n",
       "      <td>0</td>\n",
       "      <td>1</td>\n",
       "    </tr>\n",
       "    <tr>\n",
       "      <th>2</th>\n",
       "      <td>2017/01/09 4:48:48 PM MST</td>\n",
       "      <td>MSIS</td>\n",
       "      <td>3</td>\n",
       "      <td>0</td>\n",
       "      <td>0</td>\n",
       "      <td>0</td>\n",
       "      <td>1</td>\n",
       "      <td>1</td>\n",
       "      <td>0</td>\n",
       "      <td>0</td>\n",
       "      <td>...</td>\n",
       "      <td>1</td>\n",
       "      <td>0</td>\n",
       "      <td>1</td>\n",
       "      <td>3.0</td>\n",
       "      <td>3.0</td>\n",
       "      <td>0.0</td>\n",
       "      <td>0</td>\n",
       "      <td>0</td>\n",
       "      <td>1</td>\n",
       "      <td>0</td>\n",
       "    </tr>\n",
       "    <tr>\n",
       "      <th>3</th>\n",
       "      <td>2017/01/09 4:48:51 PM MST</td>\n",
       "      <td>MSIS</td>\n",
       "      <td>3</td>\n",
       "      <td>1</td>\n",
       "      <td>0</td>\n",
       "      <td>0</td>\n",
       "      <td>1</td>\n",
       "      <td>1</td>\n",
       "      <td>0</td>\n",
       "      <td>1</td>\n",
       "      <td>...</td>\n",
       "      <td>1</td>\n",
       "      <td>0</td>\n",
       "      <td>1</td>\n",
       "      <td>2.0</td>\n",
       "      <td>3.0</td>\n",
       "      <td>0.0</td>\n",
       "      <td>0</td>\n",
       "      <td>0</td>\n",
       "      <td>0</td>\n",
       "      <td>1</td>\n",
       "    </tr>\n",
       "    <tr>\n",
       "      <th>4</th>\n",
       "      <td>2017/01/09 4:50:03 PM MST</td>\n",
       "      <td>MSIS</td>\n",
       "      <td>3</td>\n",
       "      <td>1</td>\n",
       "      <td>0</td>\n",
       "      <td>0</td>\n",
       "      <td>1</td>\n",
       "      <td>1</td>\n",
       "      <td>0</td>\n",
       "      <td>0</td>\n",
       "      <td>...</td>\n",
       "      <td>1</td>\n",
       "      <td>0</td>\n",
       "      <td>0</td>\n",
       "      <td>1.0</td>\n",
       "      <td>1.0</td>\n",
       "      <td>0.0</td>\n",
       "      <td>0</td>\n",
       "      <td>0</td>\n",
       "      <td>1</td>\n",
       "      <td>0</td>\n",
       "    </tr>\n",
       "  </tbody>\n",
       "</table>\n",
       "<p>5 rows × 22 columns</p>\n",
       "</div>"
      ],
      "text/plain": [
       "                   Timestamp Program  ProgSkills  C  CPP  CS  Java  Python  \\\n",
       "0  2017/01/09 2:48:20 PM MST    MSIS           4  1    1   0     1       1   \n",
       "1  2017/01/09 3:15:59 PM MST    MSIS           3  1    1   0     1       0   \n",
       "2  2017/01/09 4:48:48 PM MST    MSIS           3  0    0   0     1       1   \n",
       "3  2017/01/09 4:48:51 PM MST    MSIS           3  1    0   0     1       1   \n",
       "4  2017/01/09 4:50:03 PM MST    MSIS           3  1    0   0     1       1   \n",
       "\n",
       "   JS  R  ...  Excel  Tableau  Regression  Classification  Clustering  Job1  \\\n",
       "0   1  0  ...      1        0           1             4.0         4.0   0.0   \n",
       "1   0  0  ...      1        0           0             2.0         2.0   0.5   \n",
       "2   0  0  ...      1        0           1             3.0         3.0   0.0   \n",
       "3   0  1  ...      1        0           1             2.0         3.0   0.0   \n",
       "4   0  0  ...      1        0           0             1.0         1.0   0.0   \n",
       "\n",
       "   BachTime_< 1 year ago  \\\n",
       "0                      0   \n",
       "1                      0   \n",
       "2                      0   \n",
       "3                      0   \n",
       "4                      0   \n",
       "\n",
       "   BachTime_longer than 1 year ago but less than 3 years ago  \\\n",
       "0                                                  1           \n",
       "1                                                  0           \n",
       "2                                                  0           \n",
       "3                                                  0           \n",
       "4                                                  0           \n",
       "\n",
       "   BachTime_longer than 3 years ago but less than 5 years ago  \\\n",
       "0                                                  0            \n",
       "1                                                  0            \n",
       "2                                                  1            \n",
       "3                                                  0            \n",
       "4                                                  1            \n",
       "\n",
       "   BachTime_over 5 years ago  \n",
       "0                          0  \n",
       "1                          1  \n",
       "2                          0  \n",
       "3                          1  \n",
       "4                          0  \n",
       "\n",
       "[5 rows x 22 columns]"
      ]
     },
     "execution_count": 126,
     "metadata": {},
     "output_type": "execute_result"
    }
   ],
   "source": [
    "df.replace({'No':0,'Yes':1},inplace=True)\n",
    "df.head()"
   ]
  },
  {
   "cell_type": "markdown",
   "metadata": {},
   "source": [
    "##### add single column"
   ]
  },
  {
   "cell_type": "code",
   "execution_count": 127,
   "metadata": {
    "ExecuteTime": {
     "end_time": "2020-07-09T02:37:56.650832Z",
     "start_time": "2020-07-09T02:37:56.644889Z"
    }
   },
   "outputs": [],
   "source": [
    "df['Languages']=df.C+df.CPP+df.CS+df.Java+df.Python+df.JS+df.R+df.SAS+df.SQL"
   ]
  },
  {
   "cell_type": "code",
   "execution_count": 128,
   "metadata": {
    "ExecuteTime": {
     "end_time": "2020-07-09T02:37:56.981451Z",
     "start_time": "2020-07-09T02:37:56.964803Z"
    }
   },
   "outputs": [
    {
     "data": {
      "text/html": [
       "<div>\n",
       "<style scoped>\n",
       "    .dataframe tbody tr th:only-of-type {\n",
       "        vertical-align: middle;\n",
       "    }\n",
       "\n",
       "    .dataframe tbody tr th {\n",
       "        vertical-align: top;\n",
       "    }\n",
       "\n",
       "    .dataframe thead th {\n",
       "        text-align: right;\n",
       "    }\n",
       "</style>\n",
       "<table border=\"1\" class=\"dataframe\">\n",
       "  <thead>\n",
       "    <tr style=\"text-align: right;\">\n",
       "      <th></th>\n",
       "      <th>Timestamp</th>\n",
       "      <th>Program</th>\n",
       "      <th>ProgSkills</th>\n",
       "      <th>C</th>\n",
       "      <th>CPP</th>\n",
       "      <th>CS</th>\n",
       "      <th>Java</th>\n",
       "      <th>Python</th>\n",
       "      <th>JS</th>\n",
       "      <th>R</th>\n",
       "      <th>...</th>\n",
       "      <th>Tableau</th>\n",
       "      <th>Regression</th>\n",
       "      <th>Classification</th>\n",
       "      <th>Clustering</th>\n",
       "      <th>Job1</th>\n",
       "      <th>BachTime_&lt; 1 year ago</th>\n",
       "      <th>BachTime_longer than 1 year ago but less than 3 years ago</th>\n",
       "      <th>BachTime_longer than 3 years ago but less than 5 years ago</th>\n",
       "      <th>BachTime_over 5 years ago</th>\n",
       "      <th>Languages</th>\n",
       "    </tr>\n",
       "  </thead>\n",
       "  <tbody>\n",
       "    <tr>\n",
       "      <th>0</th>\n",
       "      <td>2017/01/09 2:48:20 PM MST</td>\n",
       "      <td>MSIS</td>\n",
       "      <td>4</td>\n",
       "      <td>1</td>\n",
       "      <td>1</td>\n",
       "      <td>0</td>\n",
       "      <td>1</td>\n",
       "      <td>1</td>\n",
       "      <td>1</td>\n",
       "      <td>0</td>\n",
       "      <td>...</td>\n",
       "      <td>0</td>\n",
       "      <td>1</td>\n",
       "      <td>4.0</td>\n",
       "      <td>4.0</td>\n",
       "      <td>0.0</td>\n",
       "      <td>0</td>\n",
       "      <td>1</td>\n",
       "      <td>0</td>\n",
       "      <td>0</td>\n",
       "      <td>6</td>\n",
       "    </tr>\n",
       "    <tr>\n",
       "      <th>1</th>\n",
       "      <td>2017/01/09 3:15:59 PM MST</td>\n",
       "      <td>MSIS</td>\n",
       "      <td>3</td>\n",
       "      <td>1</td>\n",
       "      <td>1</td>\n",
       "      <td>0</td>\n",
       "      <td>1</td>\n",
       "      <td>0</td>\n",
       "      <td>0</td>\n",
       "      <td>0</td>\n",
       "      <td>...</td>\n",
       "      <td>0</td>\n",
       "      <td>0</td>\n",
       "      <td>2.0</td>\n",
       "      <td>2.0</td>\n",
       "      <td>0.5</td>\n",
       "      <td>0</td>\n",
       "      <td>0</td>\n",
       "      <td>0</td>\n",
       "      <td>1</td>\n",
       "      <td>4</td>\n",
       "    </tr>\n",
       "    <tr>\n",
       "      <th>2</th>\n",
       "      <td>2017/01/09 4:48:48 PM MST</td>\n",
       "      <td>MSIS</td>\n",
       "      <td>3</td>\n",
       "      <td>0</td>\n",
       "      <td>0</td>\n",
       "      <td>0</td>\n",
       "      <td>1</td>\n",
       "      <td>1</td>\n",
       "      <td>0</td>\n",
       "      <td>0</td>\n",
       "      <td>...</td>\n",
       "      <td>0</td>\n",
       "      <td>1</td>\n",
       "      <td>3.0</td>\n",
       "      <td>3.0</td>\n",
       "      <td>0.0</td>\n",
       "      <td>0</td>\n",
       "      <td>0</td>\n",
       "      <td>1</td>\n",
       "      <td>0</td>\n",
       "      <td>3</td>\n",
       "    </tr>\n",
       "    <tr>\n",
       "      <th>3</th>\n",
       "      <td>2017/01/09 4:48:51 PM MST</td>\n",
       "      <td>MSIS</td>\n",
       "      <td>3</td>\n",
       "      <td>1</td>\n",
       "      <td>0</td>\n",
       "      <td>0</td>\n",
       "      <td>1</td>\n",
       "      <td>1</td>\n",
       "      <td>0</td>\n",
       "      <td>1</td>\n",
       "      <td>...</td>\n",
       "      <td>0</td>\n",
       "      <td>1</td>\n",
       "      <td>2.0</td>\n",
       "      <td>3.0</td>\n",
       "      <td>0.0</td>\n",
       "      <td>0</td>\n",
       "      <td>0</td>\n",
       "      <td>0</td>\n",
       "      <td>1</td>\n",
       "      <td>5</td>\n",
       "    </tr>\n",
       "    <tr>\n",
       "      <th>4</th>\n",
       "      <td>2017/01/09 4:50:03 PM MST</td>\n",
       "      <td>MSIS</td>\n",
       "      <td>3</td>\n",
       "      <td>1</td>\n",
       "      <td>0</td>\n",
       "      <td>0</td>\n",
       "      <td>1</td>\n",
       "      <td>1</td>\n",
       "      <td>0</td>\n",
       "      <td>0</td>\n",
       "      <td>...</td>\n",
       "      <td>0</td>\n",
       "      <td>0</td>\n",
       "      <td>1.0</td>\n",
       "      <td>1.0</td>\n",
       "      <td>0.0</td>\n",
       "      <td>0</td>\n",
       "      <td>0</td>\n",
       "      <td>1</td>\n",
       "      <td>0</td>\n",
       "      <td>4</td>\n",
       "    </tr>\n",
       "  </tbody>\n",
       "</table>\n",
       "<p>5 rows × 23 columns</p>\n",
       "</div>"
      ],
      "text/plain": [
       "                   Timestamp Program  ProgSkills  C  CPP  CS  Java  Python  \\\n",
       "0  2017/01/09 2:48:20 PM MST    MSIS           4  1    1   0     1       1   \n",
       "1  2017/01/09 3:15:59 PM MST    MSIS           3  1    1   0     1       0   \n",
       "2  2017/01/09 4:48:48 PM MST    MSIS           3  0    0   0     1       1   \n",
       "3  2017/01/09 4:48:51 PM MST    MSIS           3  1    0   0     1       1   \n",
       "4  2017/01/09 4:50:03 PM MST    MSIS           3  1    0   0     1       1   \n",
       "\n",
       "   JS  R  ...  Tableau  Regression  Classification  Clustering  Job1  \\\n",
       "0   1  0  ...        0           1             4.0         4.0   0.0   \n",
       "1   0  0  ...        0           0             2.0         2.0   0.5   \n",
       "2   0  0  ...        0           1             3.0         3.0   0.0   \n",
       "3   0  1  ...        0           1             2.0         3.0   0.0   \n",
       "4   0  0  ...        0           0             1.0         1.0   0.0   \n",
       "\n",
       "   BachTime_< 1 year ago  \\\n",
       "0                      0   \n",
       "1                      0   \n",
       "2                      0   \n",
       "3                      0   \n",
       "4                      0   \n",
       "\n",
       "   BachTime_longer than 1 year ago but less than 3 years ago  \\\n",
       "0                                                  1           \n",
       "1                                                  0           \n",
       "2                                                  0           \n",
       "3                                                  0           \n",
       "4                                                  0           \n",
       "\n",
       "   BachTime_longer than 3 years ago but less than 5 years ago  \\\n",
       "0                                                  0            \n",
       "1                                                  0            \n",
       "2                                                  1            \n",
       "3                                                  0            \n",
       "4                                                  1            \n",
       "\n",
       "   BachTime_over 5 years ago  Languages  \n",
       "0                          0          6  \n",
       "1                          1          4  \n",
       "2                          0          3  \n",
       "3                          1          5  \n",
       "4                          0          4  \n",
       "\n",
       "[5 rows x 23 columns]"
      ]
     },
     "execution_count": 128,
     "metadata": {},
     "output_type": "execute_result"
    }
   ],
   "source": [
    "df.head()"
   ]
  },
  {
   "cell_type": "code",
   "execution_count": 129,
   "metadata": {
    "ExecuteTime": {
     "end_time": "2020-07-09T02:37:57.343484Z",
     "start_time": "2020-07-09T02:37:57.340452Z"
    }
   },
   "outputs": [],
   "source": [
    "cols= df.columns.tolist()"
   ]
  },
  {
   "cell_type": "markdown",
   "metadata": {},
   "source": [
    "###### 最后的字段放第一位"
   ]
  },
  {
   "cell_type": "code",
   "execution_count": 130,
   "metadata": {
    "ExecuteTime": {
     "end_time": "2020-07-09T02:37:58.005069Z",
     "start_time": "2020-07-09T02:37:58.001081Z"
    }
   },
   "outputs": [],
   "source": [
    "cols.insert(0,cols.pop(-1))"
   ]
  },
  {
   "cell_type": "code",
   "execution_count": 131,
   "metadata": {
    "ExecuteTime": {
     "end_time": "2020-07-09T02:38:00.029279Z",
     "start_time": "2020-07-09T02:38:00.024294Z"
    }
   },
   "outputs": [],
   "source": [
    "df = df.reindex(columns=cols)"
   ]
  },
  {
   "cell_type": "markdown",
   "metadata": {},
   "source": [
    "##### add complex columns"
   ]
  },
  {
   "cell_type": "code",
   "execution_count": 132,
   "metadata": {
    "ExecuteTime": {
     "end_time": "2020-07-09T02:38:00.060975Z",
     "start_time": "2020-07-09T02:38:00.056950Z"
    }
   },
   "outputs": [],
   "source": [
    "import numpy as np"
   ]
  },
  {
   "cell_type": "code",
   "execution_count": 133,
   "metadata": {
    "ExecuteTime": {
     "end_time": "2020-07-09T02:38:00.119991Z",
     "start_time": "2020-07-09T02:38:00.088989Z"
    }
   },
   "outputs": [
    {
     "name": "stderr",
     "output_type": "stream",
     "text": [
      "C:\\Users\\60448\\AppData\\Local\\Programs\\Python\\Python36\\lib\\site-packages\\dateutil\\parser\\_parser.py:1206: UnknownTimezoneWarning:\n",
      "\n",
      "tzname MST identified but not understood.  Pass `tzinfos` argument in order to correctly return a timezone-aware datetime.  In a future version, this will raise an exception.\n",
      "\n",
      "C:\\Users\\60448\\AppData\\Local\\Programs\\Python\\Python36\\lib\\site-packages\\dateutil\\parser\\_parser.py:1206: UnknownTimezoneWarning:\n",
      "\n",
      "tzname MDT identified but not understood.  Pass `tzinfos` argument in order to correctly return a timezone-aware datetime.  In a future version, this will raise an exception.\n",
      "\n",
      "C:\\Users\\60448\\AppData\\Local\\Programs\\Python\\Python36\\lib\\site-packages\\dateutil\\parser\\_parser.py:1206: UnknownTimezoneWarning:\n",
      "\n",
      "tzname PST identified but not understood.  Pass `tzinfos` argument in order to correctly return a timezone-aware datetime.  In a future version, this will raise an exception.\n",
      "\n"
     ]
    },
    {
     "data": {
      "text/plain": [
       "0      2017\n",
       "1      2017\n",
       "2      2017\n",
       "3      2017\n",
       "4      2017\n",
       "       ... \n",
       "167    2020\n",
       "168    2020\n",
       "169    2020\n",
       "170    2020\n",
       "171    2020\n",
       "Name: Timestamp, Length: 170, dtype: int64"
      ]
     },
     "execution_count": 133,
     "metadata": {},
     "output_type": "execute_result"
    }
   ],
   "source": [
    "df.Timestamp.astype(np.datetime64).dt.year"
   ]
  },
  {
   "cell_type": "markdown",
   "metadata": {},
   "source": [
    "###### 简单判定，boolean mask"
   ]
  },
  {
   "cell_type": "code",
   "execution_count": 134,
   "metadata": {
    "ExecuteTime": {
     "end_time": "2020-07-09T02:38:00.150829Z",
     "start_time": "2020-07-09T02:38:00.145844Z"
    }
   },
   "outputs": [],
   "source": [
    "# 若懂的语言在3个以上，为expert\n",
    "\n",
    "df['Expert']=(df.Languages >=3 )*1.0"
   ]
  },
  {
   "cell_type": "markdown",
   "metadata": {},
   "source": [
    "###### 复杂判定1，function"
   ]
  },
  {
   "cell_type": "code",
   "execution_count": 135,
   "metadata": {
    "ExecuteTime": {
     "end_time": "2020-07-09T02:38:00.561220Z",
     "start_time": "2020-07-09T02:38:00.558670Z"
    }
   },
   "outputs": [],
   "source": [
    "def expertfunction(row):\n",
    "    if row['Languages']>=3:\n",
    "        return 1\n",
    "    else:\n",
    "        return 0"
   ]
  },
  {
   "cell_type": "code",
   "execution_count": 136,
   "metadata": {
    "ExecuteTime": {
     "end_time": "2020-07-09T02:38:00.906241Z",
     "start_time": "2020-07-09T02:38:00.897414Z"
    }
   },
   "outputs": [
    {
     "data": {
      "text/plain": [
       "0      1\n",
       "1      1\n",
       "2      1\n",
       "3      1\n",
       "4      1\n",
       "      ..\n",
       "167    1\n",
       "168    0\n",
       "169    0\n",
       "170    0\n",
       "171    0\n",
       "Length: 170, dtype: int64"
      ]
     },
     "execution_count": 136,
     "metadata": {},
     "output_type": "execute_result"
    }
   ],
   "source": [
    "## 注意这里应用在整个df上！！\n",
    "\n",
    "df.apply(expertfunction,axis=1)   # 需设置坐标以应用在所有row，而非columns!!"
   ]
  },
  {
   "cell_type": "markdown",
   "metadata": {},
   "source": [
    "###### 复杂判定2，lambda"
   ]
  },
  {
   "cell_type": "code",
   "execution_count": 137,
   "metadata": {
    "ExecuteTime": {
     "end_time": "2020-07-09T02:38:01.542606Z",
     "start_time": "2020-07-09T02:38:01.532808Z"
    }
   },
   "outputs": [
    {
     "data": {
      "text/plain": [
       "0      1\n",
       "1      1\n",
       "2      1\n",
       "3      1\n",
       "4      1\n",
       "      ..\n",
       "167    1\n",
       "168    0\n",
       "169    0\n",
       "170    0\n",
       "171    0\n",
       "Length: 170, dtype: int64"
      ]
     },
     "execution_count": 137,
     "metadata": {},
     "output_type": "execute_result"
    }
   ],
   "source": [
    "df.apply(lambda r:1 if r['Languages']>=3 else 0,axis=1)  # 需设置坐标以应用在所有row，而非columns!!"
   ]
  },
  {
   "cell_type": "markdown",
   "metadata": {},
   "source": [
    "##### DataFrame.apply() VS Series.apply()"
   ]
  },
  {
   "cell_type": "markdown",
   "metadata": {},
   "source": [
    "<b>dataframe相当于for loop循环，数据量大的话不建议！</b>"
   ]
  },
  {
   "cell_type": "code",
   "execution_count": 138,
   "metadata": {
    "ExecuteTime": {
     "end_time": "2020-07-09T02:38:04.981851Z",
     "start_time": "2020-07-09T02:38:02.582409Z"
    }
   },
   "outputs": [
    {
     "name": "stdout",
     "output_type": "stream",
     "text": [
      "2.98 ms ± 196 µs per loop (mean ± std. dev. of 7 runs, 100 loops each)\n"
     ]
    }
   ],
   "source": [
    "%timeit df.apply(lambda r: r['Program'].lower(),axis=1)"
   ]
  },
  {
   "cell_type": "markdown",
   "metadata": {},
   "source": [
    "<b>series 用了vectorization，并行向量计算</b>"
   ]
  },
  {
   "cell_type": "code",
   "execution_count": 139,
   "metadata": {
    "ExecuteTime": {
     "end_time": "2020-07-09T02:38:06.872447Z",
     "start_time": "2020-07-09T02:38:05.015723Z"
    }
   },
   "outputs": [
    {
     "name": "stdout",
     "output_type": "stream",
     "text": [
      "226 µs ± 6.9 µs per loop (mean ± std. dev. of 7 runs, 1000 loops each)\n"
     ]
    }
   ],
   "source": [
    "%timeit df.Program.apply(lambda v:v.lower())"
   ]
  },
  {
   "cell_type": "markdown",
   "metadata": {},
   "source": [
    "##### write to file"
   ]
  },
  {
   "cell_type": "code",
   "execution_count": 140,
   "metadata": {
    "ExecuteTime": {
     "end_time": "2020-07-09T02:38:06.910346Z",
     "start_time": "2020-07-09T02:38:06.901370Z"
    }
   },
   "outputs": [],
   "source": [
    "df.to_csv('cleaned_survey.csv')"
   ]
  },
  {
   "cell_type": "markdown",
   "metadata": {},
   "source": [
    "#### analysis"
   ]
  },
  {
   "cell_type": "code",
   "execution_count": 142,
   "metadata": {
    "ExecuteTime": {
     "end_time": "2020-07-09T02:38:47.604576Z",
     "start_time": "2020-07-09T02:38:47.540241Z"
    }
   },
   "outputs": [
    {
     "data": {
      "text/html": [
       "<div>\n",
       "<style scoped>\n",
       "    .dataframe tbody tr th:only-of-type {\n",
       "        vertical-align: middle;\n",
       "    }\n",
       "\n",
       "    .dataframe tbody tr th {\n",
       "        vertical-align: top;\n",
       "    }\n",
       "\n",
       "    .dataframe thead th {\n",
       "        text-align: right;\n",
       "    }\n",
       "</style>\n",
       "<table border=\"1\" class=\"dataframe\">\n",
       "  <thead>\n",
       "    <tr style=\"text-align: right;\">\n",
       "      <th></th>\n",
       "      <th>Languages</th>\n",
       "      <th>ProgSkills</th>\n",
       "      <th>C</th>\n",
       "      <th>CPP</th>\n",
       "      <th>CS</th>\n",
       "      <th>Java</th>\n",
       "      <th>Python</th>\n",
       "      <th>JS</th>\n",
       "      <th>R</th>\n",
       "      <th>SQL</th>\n",
       "      <th>...</th>\n",
       "      <th>Tableau</th>\n",
       "      <th>Regression</th>\n",
       "      <th>Classification</th>\n",
       "      <th>Clustering</th>\n",
       "      <th>Job1</th>\n",
       "      <th>BachTime_&lt; 1 year ago</th>\n",
       "      <th>BachTime_longer than 1 year ago but less than 3 years ago</th>\n",
       "      <th>BachTime_longer than 3 years ago but less than 5 years ago</th>\n",
       "      <th>BachTime_over 5 years ago</th>\n",
       "      <th>Expert</th>\n",
       "    </tr>\n",
       "  </thead>\n",
       "  <tbody>\n",
       "    <tr>\n",
       "      <th>count</th>\n",
       "      <td>170.000000</td>\n",
       "      <td>170.000000</td>\n",
       "      <td>170.000000</td>\n",
       "      <td>170.000000</td>\n",
       "      <td>170.000000</td>\n",
       "      <td>170.000000</td>\n",
       "      <td>170.000000</td>\n",
       "      <td>170.000000</td>\n",
       "      <td>170.000000</td>\n",
       "      <td>170.000000</td>\n",
       "      <td>...</td>\n",
       "      <td>170.000000</td>\n",
       "      <td>170.000000</td>\n",
       "      <td>170.000000</td>\n",
       "      <td>170.000000</td>\n",
       "      <td>170.000000</td>\n",
       "      <td>170.000000</td>\n",
       "      <td>170.000000</td>\n",
       "      <td>170.000000</td>\n",
       "      <td>170.000000</td>\n",
       "      <td>170.000000</td>\n",
       "    </tr>\n",
       "    <tr>\n",
       "      <th>mean</th>\n",
       "      <td>3.194118</td>\n",
       "      <td>2.588235</td>\n",
       "      <td>0.400000</td>\n",
       "      <td>0.305882</td>\n",
       "      <td>0.064706</td>\n",
       "      <td>0.470588</td>\n",
       "      <td>0.400000</td>\n",
       "      <td>0.229412</td>\n",
       "      <td>0.511765</td>\n",
       "      <td>0.729412</td>\n",
       "      <td>...</td>\n",
       "      <td>0.447059</td>\n",
       "      <td>0.688235</td>\n",
       "      <td>1.656794</td>\n",
       "      <td>1.688235</td>\n",
       "      <td>0.244118</td>\n",
       "      <td>0.088235</td>\n",
       "      <td>0.258824</td>\n",
       "      <td>0.258824</td>\n",
       "      <td>0.382353</td>\n",
       "      <td>0.635294</td>\n",
       "    </tr>\n",
       "    <tr>\n",
       "      <th>std</th>\n",
       "      <td>1.761848</td>\n",
       "      <td>1.012281</td>\n",
       "      <td>0.491345</td>\n",
       "      <td>0.462141</td>\n",
       "      <td>0.246733</td>\n",
       "      <td>0.500609</td>\n",
       "      <td>0.491345</td>\n",
       "      <td>0.421697</td>\n",
       "      <td>0.501338</td>\n",
       "      <td>0.445576</td>\n",
       "      <td>...</td>\n",
       "      <td>0.498658</td>\n",
       "      <td>0.464583</td>\n",
       "      <td>0.916950</td>\n",
       "      <td>0.937315</td>\n",
       "      <td>0.377779</td>\n",
       "      <td>0.284475</td>\n",
       "      <td>0.439282</td>\n",
       "      <td>0.439282</td>\n",
       "      <td>0.487398</td>\n",
       "      <td>0.482770</td>\n",
       "    </tr>\n",
       "    <tr>\n",
       "      <th>min</th>\n",
       "      <td>0.000000</td>\n",
       "      <td>1.000000</td>\n",
       "      <td>0.000000</td>\n",
       "      <td>0.000000</td>\n",
       "      <td>0.000000</td>\n",
       "      <td>0.000000</td>\n",
       "      <td>0.000000</td>\n",
       "      <td>0.000000</td>\n",
       "      <td>0.000000</td>\n",
       "      <td>0.000000</td>\n",
       "      <td>...</td>\n",
       "      <td>0.000000</td>\n",
       "      <td>0.000000</td>\n",
       "      <td>1.000000</td>\n",
       "      <td>1.000000</td>\n",
       "      <td>0.000000</td>\n",
       "      <td>0.000000</td>\n",
       "      <td>0.000000</td>\n",
       "      <td>0.000000</td>\n",
       "      <td>0.000000</td>\n",
       "      <td>0.000000</td>\n",
       "    </tr>\n",
       "    <tr>\n",
       "      <th>25%</th>\n",
       "      <td>2.000000</td>\n",
       "      <td>2.000000</td>\n",
       "      <td>0.000000</td>\n",
       "      <td>0.000000</td>\n",
       "      <td>0.000000</td>\n",
       "      <td>0.000000</td>\n",
       "      <td>0.000000</td>\n",
       "      <td>0.000000</td>\n",
       "      <td>0.000000</td>\n",
       "      <td>0.000000</td>\n",
       "      <td>...</td>\n",
       "      <td>0.000000</td>\n",
       "      <td>0.000000</td>\n",
       "      <td>1.000000</td>\n",
       "      <td>1.000000</td>\n",
       "      <td>0.000000</td>\n",
       "      <td>0.000000</td>\n",
       "      <td>0.000000</td>\n",
       "      <td>0.000000</td>\n",
       "      <td>0.000000</td>\n",
       "      <td>0.000000</td>\n",
       "    </tr>\n",
       "    <tr>\n",
       "      <th>50%</th>\n",
       "      <td>3.000000</td>\n",
       "      <td>3.000000</td>\n",
       "      <td>0.000000</td>\n",
       "      <td>0.000000</td>\n",
       "      <td>0.000000</td>\n",
       "      <td>0.000000</td>\n",
       "      <td>0.000000</td>\n",
       "      <td>0.000000</td>\n",
       "      <td>1.000000</td>\n",
       "      <td>1.000000</td>\n",
       "      <td>...</td>\n",
       "      <td>0.000000</td>\n",
       "      <td>1.000000</td>\n",
       "      <td>1.000000</td>\n",
       "      <td>1.000000</td>\n",
       "      <td>0.000000</td>\n",
       "      <td>0.000000</td>\n",
       "      <td>0.000000</td>\n",
       "      <td>0.000000</td>\n",
       "      <td>0.000000</td>\n",
       "      <td>1.000000</td>\n",
       "    </tr>\n",
       "    <tr>\n",
       "      <th>75%</th>\n",
       "      <td>5.000000</td>\n",
       "      <td>3.000000</td>\n",
       "      <td>1.000000</td>\n",
       "      <td>1.000000</td>\n",
       "      <td>0.000000</td>\n",
       "      <td>1.000000</td>\n",
       "      <td>1.000000</td>\n",
       "      <td>0.000000</td>\n",
       "      <td>1.000000</td>\n",
       "      <td>1.000000</td>\n",
       "      <td>...</td>\n",
       "      <td>1.000000</td>\n",
       "      <td>1.000000</td>\n",
       "      <td>2.000000</td>\n",
       "      <td>2.000000</td>\n",
       "      <td>0.500000</td>\n",
       "      <td>0.000000</td>\n",
       "      <td>1.000000</td>\n",
       "      <td>1.000000</td>\n",
       "      <td>1.000000</td>\n",
       "      <td>1.000000</td>\n",
       "    </tr>\n",
       "    <tr>\n",
       "      <th>max</th>\n",
       "      <td>7.000000</td>\n",
       "      <td>5.000000</td>\n",
       "      <td>1.000000</td>\n",
       "      <td>1.000000</td>\n",
       "      <td>1.000000</td>\n",
       "      <td>1.000000</td>\n",
       "      <td>1.000000</td>\n",
       "      <td>1.000000</td>\n",
       "      <td>1.000000</td>\n",
       "      <td>1.000000</td>\n",
       "      <td>...</td>\n",
       "      <td>1.000000</td>\n",
       "      <td>1.000000</td>\n",
       "      <td>5.000000</td>\n",
       "      <td>5.000000</td>\n",
       "      <td>1.000000</td>\n",
       "      <td>1.000000</td>\n",
       "      <td>1.000000</td>\n",
       "      <td>1.000000</td>\n",
       "      <td>1.000000</td>\n",
       "      <td>1.000000</td>\n",
       "    </tr>\n",
       "  </tbody>\n",
       "</table>\n",
       "<p>8 rows × 22 columns</p>\n",
       "</div>"
      ],
      "text/plain": [
       "        Languages  ProgSkills           C         CPP          CS        Java  \\\n",
       "count  170.000000  170.000000  170.000000  170.000000  170.000000  170.000000   \n",
       "mean     3.194118    2.588235    0.400000    0.305882    0.064706    0.470588   \n",
       "std      1.761848    1.012281    0.491345    0.462141    0.246733    0.500609   \n",
       "min      0.000000    1.000000    0.000000    0.000000    0.000000    0.000000   \n",
       "25%      2.000000    2.000000    0.000000    0.000000    0.000000    0.000000   \n",
       "50%      3.000000    3.000000    0.000000    0.000000    0.000000    0.000000   \n",
       "75%      5.000000    3.000000    1.000000    1.000000    0.000000    1.000000   \n",
       "max      7.000000    5.000000    1.000000    1.000000    1.000000    1.000000   \n",
       "\n",
       "           Python          JS           R         SQL  ...     Tableau  \\\n",
       "count  170.000000  170.000000  170.000000  170.000000  ...  170.000000   \n",
       "mean     0.400000    0.229412    0.511765    0.729412  ...    0.447059   \n",
       "std      0.491345    0.421697    0.501338    0.445576  ...    0.498658   \n",
       "min      0.000000    0.000000    0.000000    0.000000  ...    0.000000   \n",
       "25%      0.000000    0.000000    0.000000    0.000000  ...    0.000000   \n",
       "50%      0.000000    0.000000    1.000000    1.000000  ...    0.000000   \n",
       "75%      1.000000    0.000000    1.000000    1.000000  ...    1.000000   \n",
       "max      1.000000    1.000000    1.000000    1.000000  ...    1.000000   \n",
       "\n",
       "       Regression  Classification  Clustering        Job1  \\\n",
       "count  170.000000      170.000000  170.000000  170.000000   \n",
       "mean     0.688235        1.656794    1.688235    0.244118   \n",
       "std      0.464583        0.916950    0.937315    0.377779   \n",
       "min      0.000000        1.000000    1.000000    0.000000   \n",
       "25%      0.000000        1.000000    1.000000    0.000000   \n",
       "50%      1.000000        1.000000    1.000000    0.000000   \n",
       "75%      1.000000        2.000000    2.000000    0.500000   \n",
       "max      1.000000        5.000000    5.000000    1.000000   \n",
       "\n",
       "       BachTime_< 1 year ago  \\\n",
       "count             170.000000   \n",
       "mean                0.088235   \n",
       "std                 0.284475   \n",
       "min                 0.000000   \n",
       "25%                 0.000000   \n",
       "50%                 0.000000   \n",
       "75%                 0.000000   \n",
       "max                 1.000000   \n",
       "\n",
       "       BachTime_longer than 1 year ago but less than 3 years ago  \\\n",
       "count                                         170.000000           \n",
       "mean                                            0.258824           \n",
       "std                                             0.439282           \n",
       "min                                             0.000000           \n",
       "25%                                             0.000000           \n",
       "50%                                             0.000000           \n",
       "75%                                             1.000000           \n",
       "max                                             1.000000           \n",
       "\n",
       "       BachTime_longer than 3 years ago but less than 5 years ago  \\\n",
       "count                                         170.000000            \n",
       "mean                                            0.258824            \n",
       "std                                             0.439282            \n",
       "min                                             0.000000            \n",
       "25%                                             0.000000            \n",
       "50%                                             0.000000            \n",
       "75%                                             1.000000            \n",
       "max                                             1.000000            \n",
       "\n",
       "       BachTime_over 5 years ago      Expert  \n",
       "count                 170.000000  170.000000  \n",
       "mean                    0.382353    0.635294  \n",
       "std                     0.487398    0.482770  \n",
       "min                     0.000000    0.000000  \n",
       "25%                     0.000000    0.000000  \n",
       "50%                     0.000000    1.000000  \n",
       "75%                     1.000000    1.000000  \n",
       "max                     1.000000    1.000000  \n",
       "\n",
       "[8 rows x 22 columns]"
      ]
     },
     "execution_count": 142,
     "metadata": {},
     "output_type": "execute_result"
    }
   ],
   "source": [
    "df.describe()"
   ]
  },
  {
   "cell_type": "markdown",
   "metadata": {
    "ExecuteTime": {
     "end_time": "2020-07-09T02:40:36.251359Z",
     "start_time": "2020-07-09T02:40:36.247370Z"
    }
   },
   "source": [
    "##### 相关分析"
   ]
  },
  {
   "cell_type": "code",
   "execution_count": 145,
   "metadata": {
    "ExecuteTime": {
     "end_time": "2020-07-09T02:41:00.140352Z",
     "start_time": "2020-07-09T02:41:00.130745Z"
    }
   },
   "outputs": [
    {
     "data": {
      "text/plain": [
       "Languages  Languages                                                     1.000000\n",
       "           ProgSkills                                                    0.741810\n",
       "           C                                                             0.572799\n",
       "           CPP                                                           0.624299\n",
       "           CS                                                            0.406515\n",
       "                                                                           ...   \n",
       "Expert     BachTime_< 1 year ago                                        -0.022810\n",
       "           BachTime_longer than 1 year ago but less than 3 years ago    -0.110294\n",
       "           BachTime_longer than 3 years ago but less than 5 years ago    0.029215\n",
       "           BachTime_over 5 years ago                                     0.118340\n",
       "           Expert                                                        1.000000\n",
       "Length: 484, dtype: float64"
      ]
     },
     "execution_count": 145,
     "metadata": {},
     "output_type": "execute_result"
    }
   ],
   "source": [
    "cor=df.corr()\n",
    "cor.stack()"
   ]
  },
  {
   "cell_type": "markdown",
   "metadata": {},
   "source": [
    "###### 找到最强相关性"
   ]
  },
  {
   "cell_type": "code",
   "execution_count": 151,
   "metadata": {
    "ExecuteTime": {
     "end_time": "2020-07-09T02:46:11.214116Z",
     "start_time": "2020-07-09T02:46:11.183239Z"
    }
   },
   "outputs": [
    {
     "data": {
      "text/plain": [
       "Classification  Clustering        0.889189\n",
       "Clustering      Classification    0.889189\n",
       "Languages       Expert            0.793313\n",
       "Expert          Languages         0.793313\n",
       "Languages       ProgSkills        0.741810\n",
       "ProgSkills      Languages         0.741810\n",
       "Languages       Java              0.660622\n",
       "Java            Languages         0.660622\n",
       "Languages       SQL               0.632612\n",
       "SQL             Languages         0.632612\n",
       "Languages       CPP               0.624299\n",
       "CPP             Languages         0.624299\n",
       "ProgSkills      Expert            0.623206\n",
       "Expert          ProgSkills        0.623206\n",
       "SQL             Expert            0.611314\n",
       "Expert          SQL               0.611314\n",
       "R               Regression        0.587454\n",
       "Regression      R                 0.587454\n",
       "Languages       JS                0.584810\n",
       "JS              Languages         0.584810\n",
       "dtype: float64"
      ]
     },
     "execution_count": 151,
     "metadata": {},
     "output_type": "execute_result"
    },
    {
     "data": {
      "text/plain": [
       "Java                                                       R                                                            -0.493725\n",
       "BachTime_longer than 1 year ago but less than 3 years ago  BachTime_over 5 years ago                                    -0.464947\n",
       "BachTime_over 5 years ago                                  BachTime_longer than 1 year ago but less than 3 years ago    -0.464947\n",
       "Java                                                       Regression                                                   -0.459453\n",
       "C                                                          R                                                            -0.403557\n",
       "BachTime_longer than 1 year ago but less than 3 years ago  BachTime_longer than 3 years ago but less than 5 years ago   -0.349206\n",
       "C                                                          Regression                                                   -0.279954\n",
       "CPP                                                        R                                                            -0.271016\n",
       "JS                                                         Excel                                                        -0.245644\n",
       "BachTime_< 1 year ago                                      BachTime_over 5 years ago                                    -0.244761\n",
       "dtype: float64"
      ]
     },
     "execution_count": 151,
     "metadata": {},
     "output_type": "execute_result"
    }
   ],
   "source": [
    "cor[cor<1].stack().nlargest(20)  # 1是自相关，舍去\n",
    "\n",
    "# 对list做slicing---隔行互换的关联无意义\n",
    "cor[cor<1].stack().nsmallest(20).iloc[::2]  # 全部，隔数选择"
   ]
  },
  {
   "cell_type": "code",
   "execution_count": 152,
   "metadata": {
    "ExecuteTime": {
     "end_time": "2020-07-09T02:47:55.929746Z",
     "start_time": "2020-07-09T02:47:55.921769Z"
    }
   },
   "outputs": [
    {
     "data": {
      "text/plain": [
       "CS          BachTime_< 1 year ago                                         0.002479\n",
       "R           Tableau                                                       0.002506\n",
       "Languages   BachTime_longer than 3 years ago but less than 5 years ago    0.004138\n",
       "Excel       Regression                                                    0.006241\n",
       "CPP         Excel                                                         0.007985\n",
       "CS          BachTime_longer than 3 years ago but less than 5 years ago    0.008350\n",
       "Tableau     BachTime_longer than 3 years ago but less than 5 years ago    0.008898\n",
       "ProgSkills  BachTime_over 5 years ago                                     0.009171\n",
       "JS          SAS                                                           0.010777\n",
       "CS          Job1                                                          0.011763\n",
       "dtype: float64"
      ]
     },
     "execution_count": 152,
     "metadata": {},
     "output_type": "execute_result"
    }
   ],
   "source": [
    "cor.stack().abs().nsmallest(20).iloc[::2]  # 最不相关的"
   ]
  },
  {
   "cell_type": "code",
   "execution_count": null,
   "metadata": {},
   "outputs": [],
   "source": []
  }
 ],
 "metadata": {
  "kernelspec": {
   "display_name": "Python 3.6.8 64-bit",
   "language": "python",
   "name": "python36864bitdeffc346cf9545b0ac5f18a9837f94ba"
  },
  "language_info": {
   "codemirror_mode": {
    "name": "ipython",
    "version": 3
   },
   "file_extension": ".py",
   "mimetype": "text/x-python",
   "name": "python",
   "nbconvert_exporter": "python",
   "pygments_lexer": "ipython3",
   "version": "3.6.8"
  },
  "toc": {
   "base_numbering": 1,
   "nav_menu": {},
   "number_sections": true,
   "sideBar": true,
   "skip_h1_title": false,
   "title_cell": "Table of Contents",
   "title_sidebar": "Contents",
   "toc_cell": false,
   "toc_position": {
    "height": "calc(100% - 180px)",
    "left": "10px",
    "top": "150px",
    "width": "307.2px"
   },
   "toc_section_display": true,
   "toc_window_display": true
  },
  "varInspector": {
   "cols": {
    "lenName": 16,
    "lenType": 16,
    "lenVar": 40
   },
   "kernels_config": {
    "python": {
     "delete_cmd_postfix": "",
     "delete_cmd_prefix": "del ",
     "library": "var_list.py",
     "varRefreshCmd": "print(var_dic_list())"
    },
    "r": {
     "delete_cmd_postfix": ") ",
     "delete_cmd_prefix": "rm(",
     "library": "var_list.r",
     "varRefreshCmd": "cat(var_dic_list()) "
    }
   },
   "types_to_exclude": [
    "module",
    "function",
    "builtin_function_or_method",
    "instance",
    "_Feature"
   ],
   "window_display": false
  }
 },
 "nbformat": 4,
 "nbformat_minor": 2
}
