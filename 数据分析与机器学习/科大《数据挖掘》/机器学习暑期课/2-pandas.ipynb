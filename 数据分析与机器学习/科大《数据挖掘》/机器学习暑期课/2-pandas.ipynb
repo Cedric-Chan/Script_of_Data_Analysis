{
 "cells": [
  {
   "cell_type": "code",
   "execution_count": 1,
   "metadata": {
    "ExecuteTime": {
     "end_time": "2020-07-04T01:03:32.796138Z",
     "start_time": "2020-07-04T01:03:31.902012Z"
    }
   },
   "outputs": [],
   "source": [
    "import pandas as pd"
   ]
  },
  {
   "cell_type": "markdown",
   "metadata": {},
   "source": [
    "##### 读取dataframe"
   ]
  },
  {
   "cell_type": "code",
   "execution_count": 2,
   "metadata": {
    "ExecuteTime": {
     "end_time": "2020-07-04T01:03:34.847018Z",
     "start_time": "2020-07-04T01:03:34.817058Z"
    }
   },
   "outputs": [
    {
     "data": {
      "text/html": [
       "<div>\n",
       "<style scoped>\n",
       "    .dataframe tbody tr th:only-of-type {\n",
       "        vertical-align: middle;\n",
       "    }\n",
       "\n",
       "    .dataframe tbody tr th {\n",
       "        vertical-align: top;\n",
       "    }\n",
       "\n",
       "    .dataframe thead th {\n",
       "        text-align: right;\n",
       "    }\n",
       "</style>\n",
       "<table border=\"1\" class=\"dataframe\">\n",
       "  <thead>\n",
       "    <tr style=\"text-align: right;\">\n",
       "      <th></th>\n",
       "      <th>hw1</th>\n",
       "      <th>hw2</th>\n",
       "      <th>program</th>\n",
       "    </tr>\n",
       "    <tr>\n",
       "      <th>Name</th>\n",
       "      <th></th>\n",
       "      <th></th>\n",
       "      <th></th>\n",
       "    </tr>\n",
       "  </thead>\n",
       "  <tbody>\n",
       "    <tr>\n",
       "      <th>Dorian</th>\n",
       "      <td>10.0</td>\n",
       "      <td>10.0</td>\n",
       "      <td>MSIS</td>\n",
       "    </tr>\n",
       "    <tr>\n",
       "      <th>Jeannine</th>\n",
       "      <td>6.0</td>\n",
       "      <td>7.0</td>\n",
       "      <td>MSIS</td>\n",
       "    </tr>\n",
       "    <tr>\n",
       "      <th>Iluminada</th>\n",
       "      <td>2.0</td>\n",
       "      <td>NaN</td>\n",
       "      <td>MBA</td>\n",
       "    </tr>\n",
       "    <tr>\n",
       "      <th>Luci</th>\n",
       "      <td>7.0</td>\n",
       "      <td>7.0</td>\n",
       "      <td>MSIS</td>\n",
       "    </tr>\n",
       "    <tr>\n",
       "      <th>Jenny</th>\n",
       "      <td>8.0</td>\n",
       "      <td>NaN</td>\n",
       "      <td>NaN</td>\n",
       "    </tr>\n",
       "  </tbody>\n",
       "</table>\n",
       "</div>"
      ],
      "text/plain": [
       "            hw1   hw2 program\n",
       "Name                         \n",
       "Dorian     10.0  10.0    MSIS\n",
       "Jeannine    6.0   7.0    MSIS\n",
       "Iluminada   2.0   NaN     MBA\n",
       "Luci        7.0   7.0    MSIS\n",
       "Jenny       8.0   NaN     NaN"
      ]
     },
     "execution_count": 2,
     "metadata": {},
     "output_type": "execute_result"
    }
   ],
   "source": [
    "df = pd.read_csv('C:/Users/60448/Desktop/students.csv',\n",
    "                 index_col='Name')  # 不用索引列\n",
    "\n",
    "df.head()"
   ]
  },
  {
   "cell_type": "markdown",
   "metadata": {},
   "source": [
    "##### 读取series"
   ]
  },
  {
   "cell_type": "code",
   "execution_count": 3,
   "metadata": {
    "ExecuteTime": {
     "end_time": "2020-07-04T01:03:37.383095Z",
     "start_time": "2020-07-04T01:03:37.378091Z"
    }
   },
   "outputs": [
    {
     "data": {
      "text/plain": [
       "11"
      ]
     },
     "execution_count": 3,
     "metadata": {},
     "output_type": "execute_result"
    }
   ],
   "source": [
    "df['hw1']\n",
    "hw1 = df.hw1\n",
    "hw1\n",
    "\n",
    "len(hw1)"
   ]
  },
  {
   "cell_type": "markdown",
   "metadata": {},
   "source": [
    "###### index & values"
   ]
  },
  {
   "cell_type": "code",
   "execution_count": 4,
   "metadata": {
    "ExecuteTime": {
     "end_time": "2020-07-04T01:03:38.574219Z",
     "start_time": "2020-07-04T01:03:38.565208Z"
    }
   },
   "outputs": [
    {
     "data": {
      "text/plain": [
       "array([2., 7., 8., 2.])"
      ]
     },
     "execution_count": 4,
     "metadata": {},
     "output_type": "execute_result"
    }
   ],
   "source": [
    "hw1.index\n",
    "\n",
    "hw1.values\n",
    "\n",
    "hw1.values[2:6]"
   ]
  },
  {
   "cell_type": "markdown",
   "metadata": {},
   "source": [
    "##### describe"
   ]
  },
  {
   "cell_type": "code",
   "execution_count": 5,
   "metadata": {
    "ExecuteTime": {
     "end_time": "2020-07-04T01:03:40.413735Z",
     "start_time": "2020-07-04T01:03:40.404725Z"
    }
   },
   "outputs": [
    {
     "data": {
      "text/plain": [
       "count    10.000000\n",
       "mean      5.600000\n",
       "std       3.098387\n",
       "min       1.000000\n",
       "25%       2.750000\n",
       "50%       6.000000\n",
       "75%       7.750000\n",
       "max      10.000000\n",
       "Name: hw1, dtype: float64"
      ]
     },
     "execution_count": 5,
     "metadata": {},
     "output_type": "execute_result"
    }
   ],
   "source": [
    "hw1.describe()"
   ]
  },
  {
   "cell_type": "code",
   "execution_count": 6,
   "metadata": {
    "ExecuteTime": {
     "end_time": "2020-07-04T01:03:41.701576Z",
     "start_time": "2020-07-04T01:03:41.695623Z"
    }
   },
   "outputs": [
    {
     "data": {
      "text/plain": [
       "56.0"
      ]
     },
     "execution_count": 6,
     "metadata": {},
     "output_type": "execute_result"
    }
   ],
   "source": [
    "hw1.mean()\n",
    "hw1.median()\n",
    "hw1.max()\n",
    "hw1.sum()"
   ]
  },
  {
   "cell_type": "markdown",
   "metadata": {},
   "source": [
    "##### iloc（定位选择）"
   ]
  },
  {
   "cell_type": "code",
   "execution_count": 27,
   "metadata": {
    "ExecuteTime": {
     "end_time": "2020-07-04T01:17:31.253239Z",
     "start_time": "2020-07-04T01:17:31.245953Z"
    }
   },
   "outputs": [
    {
     "data": {
      "text/plain": [
       "Name\n",
       "John       NaN\n",
       "Shelby     1.0\n",
       "Garland    9.0\n",
       "Name: hw1, dtype: float64"
      ]
     },
     "execution_count": 27,
     "metadata": {},
     "output_type": "execute_result"
    }
   ],
   "source": [
    "hw1.iloc[3]\n",
    "\n",
    "# 切片\n",
    "hw1_sub = hw1.iloc[2:6]\n",
    "hw1_sub\n",
    "\n",
    "# 挑选\n",
    "hw1.iloc[[-1,-3,-4]]"
   ]
  },
  {
   "cell_type": "markdown",
   "metadata": {},
   "source": [
    "##### [……]索引选择(此时名字是索引列)"
   ]
  },
  {
   "cell_type": "code",
   "execution_count": 26,
   "metadata": {
    "ExecuteTime": {
     "end_time": "2020-07-04T01:16:35.991857Z",
     "start_time": "2020-07-04T01:16:35.985876Z"
    }
   },
   "outputs": [
    {
     "data": {
      "text/plain": [
       "hw1           7\n",
       "hw2           7\n",
       "program    MSIS\n",
       "Name: Luci, dtype: object"
      ]
     },
     "execution_count": 26,
     "metadata": {},
     "output_type": "execute_result"
    }
   ],
   "source": [
    "hw1['Luci']\n",
    "df.loc['Luci']"
   ]
  },
  {
   "cell_type": "markdown",
   "metadata": {},
   "source": [
    "##### 条件选择（boolean selection）"
   ]
  },
  {
   "cell_type": "code",
   "execution_count": 33,
   "metadata": {
    "ExecuteTime": {
     "end_time": "2020-07-04T01:23:55.690842Z",
     "start_time": "2020-07-04T01:23:55.679856Z"
    }
   },
   "outputs": [
    {
     "data": {
      "text/plain": [
       "Name\n",
       "Jeannine    6.0\n",
       "Luci        7.0\n",
       "Jenny       8.0\n",
       "Michael     6.0\n",
       "Name: hw1, dtype: float64"
      ]
     },
     "execution_count": 33,
     "metadata": {},
     "output_type": "execute_result"
    }
   ],
   "source": [
    "# 成绩大于等于6的学生\n",
    "b = (hw1 >= 6)  # boolean mask\n",
    "hw1[b]  # 制作filter\n",
    "\n",
    "# 【或门】成绩小于5或大于9\n",
    "hw1[(hw1 < 5) | (hw1 > 9)]\n",
    "\n",
    "# 【与门】成绩大于5且小于9\n",
    "hw1[(hw1 > 5) & (hw1 < 9)]"
   ]
  },
  {
   "cell_type": "markdown",
   "metadata": {},
   "source": [
    "##### 排序"
   ]
  },
  {
   "cell_type": "code",
   "execution_count": 90,
   "metadata": {
    "ExecuteTime": {
     "end_time": "2020-07-04T01:58:28.842405Z",
     "start_time": "2020-07-04T01:58:28.834426Z"
    }
   },
   "outputs": [
    {
     "data": {
      "text/plain": [
       "'Jenny'"
      ]
     },
     "execution_count": 90,
     "metadata": {},
     "output_type": "execute_result"
    }
   ],
   "source": [
    "#test【以J开头的人里谁是最高分】\n",
    "hw1[hw1.index >= 'J']  # J之后\n",
    "hw1[hw1.index <= 'K']  # K之前\n",
    "hw1[(hw1.index >= 'J') & (hw1.index <= 'K')]\n",
    "hw1[(hw1.index >= 'J') & (hw1.index <= 'K')].idxmax()"
   ]
  },
  {
   "cell_type": "markdown",
   "metadata": {},
   "source": [
    "###### 返回最高分的姓名"
   ]
  },
  {
   "cell_type": "code",
   "execution_count": 38,
   "metadata": {
    "ExecuteTime": {
     "end_time": "2020-07-04T01:26:56.525451Z",
     "start_time": "2020-07-04T01:26:56.519469Z"
    }
   },
   "outputs": [
    {
     "data": {
      "text/plain": [
       "Name\n",
       "Dorian    10.0\n",
       "Name: hw1, dtype: float64"
      ]
     },
     "execution_count": 38,
     "metadata": {},
     "output_type": "execute_result"
    }
   ],
   "source": [
    "hw1[hw1 == hw1.max()]"
   ]
  },
  {
   "cell_type": "markdown",
   "metadata": {},
   "source": [
    "###### idxmax和idxmin (会忽略nan)"
   ]
  },
  {
   "cell_type": "code",
   "execution_count": 45,
   "metadata": {
    "ExecuteTime": {
     "end_time": "2020-07-04T01:35:29.771230Z",
     "start_time": "2020-07-04T01:35:29.766202Z"
    }
   },
   "outputs": [
    {
     "data": {
      "text/plain": [
       "'Dorian'"
      ]
     },
     "execution_count": 45,
     "metadata": {},
     "output_type": "execute_result"
    }
   ],
   "source": [
    "hw1.idxmax()"
   ]
  },
  {
   "cell_type": "markdown",
   "metadata": {},
   "source": [
    "###### rank(从小到大排第几)"
   ]
  },
  {
   "cell_type": "code",
   "execution_count": 44,
   "metadata": {
    "ExecuteTime": {
     "end_time": "2020-07-04T01:32:31.207979Z",
     "start_time": "2020-07-04T01:32:31.202044Z"
    }
   },
   "outputs": [
    {
     "data": {
      "text/plain": [
       "Name\n",
       "Dorian        1.0\n",
       "Jeannine      5.0\n",
       "Iluminada     8.0\n",
       "Luci          4.0\n",
       "Jenny         3.0\n",
       "Demetria      8.0\n",
       "Michael       5.0\n",
       "Garland       2.0\n",
       "Shelby       10.0\n",
       "Mercy         7.0\n",
       "John          NaN\n",
       "Name: hw1, dtype: float64"
      ]
     },
     "execution_count": 44,
     "metadata": {},
     "output_type": "execute_result"
    }
   ],
   "source": [
    "hw1.rank()  # 【正序】并列为带小数点（method=average）\n",
    "hw1.rank(ascending=False, method='min')  #【逆序】【去除小数点，最符合习惯】//dense则在排序时不会跳过并列"
   ]
  },
  {
   "cell_type": "code",
   "execution_count": 67,
   "metadata": {
    "ExecuteTime": {
     "end_time": "2020-07-04T01:46:29.406690Z",
     "start_time": "2020-07-04T01:46:29.400706Z"
    }
   },
   "outputs": [
    {
     "data": {
      "text/plain": [
       "Name\n",
       "Dorian        1.0\n",
       "Jeannine      5.0\n",
       "Iluminada     8.0\n",
       "Luci          4.0\n",
       "Jenny         3.0\n",
       "Demetria      8.0\n",
       "Michael       5.0\n",
       "Garland       2.0\n",
       "Shelby       10.0\n",
       "Mercy         7.0\n",
       "John          NaN\n",
       "Name: hw1, dtype: float64"
      ]
     },
     "execution_count": 67,
     "metadata": {},
     "output_type": "execute_result"
    }
   ],
   "source": [
    "#test\n",
    "hw1.rank(ascending=False, method= 'min')"
   ]
  },
  {
   "cell_type": "markdown",
   "metadata": {},
   "source": [
    "###### sort_values和sort_index"
   ]
  },
  {
   "cell_type": "code",
   "execution_count": 48,
   "metadata": {
    "ExecuteTime": {
     "end_time": "2020-07-04T01:38:09.842170Z",
     "start_time": "2020-07-04T01:38:09.837169Z"
    }
   },
   "outputs": [
    {
     "data": {
      "text/plain": [
       "Name\n",
       "Demetria      2.0\n",
       "Dorian       10.0\n",
       "Garland       9.0\n",
       "Iluminada     2.0\n",
       "Jeannine      6.0\n",
       "Jenny         8.0\n",
       "John          NaN\n",
       "Luci          7.0\n",
       "Mercy         5.0\n",
       "Michael       6.0\n",
       "Shelby        1.0\n",
       "Name: hw1, dtype: float64"
      ]
     },
     "execution_count": 48,
     "metadata": {},
     "output_type": "execute_result"
    }
   ],
   "source": [
    "hw1.sort_values() #按值，默认增序\n",
    "hw1.sort_index() #按索引序列排序"
   ]
  },
  {
   "cell_type": "code",
   "execution_count": 81,
   "metadata": {
    "ExecuteTime": {
     "end_time": "2020-07-04T01:54:25.724197Z",
     "start_time": "2020-07-04T01:54:25.718215Z"
    }
   },
   "outputs": [
    {
     "data": {
      "text/plain": [
       "Name\n",
       "Shelby    1.0\n",
       "Name: hw1, dtype: float64"
      ]
     },
     "execution_count": 81,
     "metadata": {},
     "output_type": "execute_result"
    }
   ],
   "source": [
    "#test【返回索引最后的值】\n",
    "hw1.sort_index().tail(1)\n",
    "hw1.sort_index().iloc[-1:]"
   ]
  },
  {
   "cell_type": "markdown",
   "metadata": {},
   "source": [
    "###### nlargest 和 nsmallest"
   ]
  },
  {
   "cell_type": "code",
   "execution_count": 61,
   "metadata": {
    "ExecuteTime": {
     "end_time": "2020-07-04T01:45:04.008590Z",
     "start_time": "2020-07-04T01:45:04.002605Z"
    }
   },
   "outputs": [
    {
     "data": {
      "text/plain": [
       "Name\n",
       "Dorian     10.0\n",
       "Garland     9.0\n",
       "Jenny       8.0\n",
       "Name: hw1, dtype: float64"
      ]
     },
     "execution_count": 61,
     "metadata": {},
     "output_type": "execute_result"
    }
   ],
   "source": [
    "hw1.nlargest(3) #前三名"
   ]
  },
  {
   "cell_type": "code",
   "execution_count": 73,
   "metadata": {
    "ExecuteTime": {
     "end_time": "2020-07-04T01:49:06.191209Z",
     "start_time": "2020-07-04T01:49:06.184224Z"
    }
   },
   "outputs": [
    {
     "data": {
      "text/plain": [
       "Name\n",
       "Luci    7.0\n",
       "Name: hw1, dtype: float64"
      ]
     },
     "execution_count": 73,
     "metadata": {},
     "output_type": "execute_result"
    }
   ],
   "source": [
    "#test【第四名及分数】\n",
    "hw1.nlargest(4)[-1:]\n",
    "hw1.nlargest(4).tail(1)\n",
    "hw1.nlargest(4).iloc[3:4]"
   ]
  },
  {
   "cell_type": "code",
   "execution_count": 79,
   "metadata": {
    "ExecuteTime": {
     "end_time": "2020-07-04T01:52:12.875861Z",
     "start_time": "2020-07-04T01:52:12.868796Z"
    }
   },
   "outputs": [
    {
     "data": {
      "text/plain": [
       "Name\n",
       "Jeannine    6.0\n",
       "Michael     6.0\n",
       "Name: hw1, dtype: float64"
      ]
     },
     "execution_count": 79,
     "metadata": {},
     "output_type": "execute_result"
    }
   ],
   "source": [
    "#test2 当存在并列时，上述不可显示全部，只显示索引排在前面的那个\n",
    "#【思路是用boolean mask，以原始排序等级作为TF筛选条件】\n",
    "hw1[hw1.rank(ascending=False, method= 'min') == 5]"
   ]
  },
  {
   "cell_type": "markdown",
   "metadata": {},
   "source": [
    "###### head 和tail"
   ]
  },
  {
   "cell_type": "code",
   "execution_count": 50,
   "metadata": {
    "ExecuteTime": {
     "end_time": "2020-07-04T01:40:14.285676Z",
     "start_time": "2020-07-04T01:40:14.279861Z"
    }
   },
   "outputs": [
    {
     "data": {
      "text/plain": [
       "Name\n",
       "Michael    6.0\n",
       "Garland    9.0\n",
       "Shelby     1.0\n",
       "Mercy      5.0\n",
       "John       NaN\n",
       "Name: hw1, dtype: float64"
      ]
     },
     "execution_count": 50,
     "metadata": {},
     "output_type": "execute_result"
    }
   ],
   "source": [
    "hw1.tail(5)"
   ]
  },
  {
   "cell_type": "markdown",
   "metadata": {},
   "source": [
    "##### 整列运算"
   ]
  },
  {
   "cell_type": "code",
   "execution_count": 92,
   "metadata": {
    "ExecuteTime": {
     "end_time": "2020-07-04T01:59:30.193905Z",
     "start_time": "2020-07-04T01:59:30.187920Z"
    }
   },
   "outputs": [
    {
     "data": {
      "text/plain": [
       "Name\n",
       "Dorian       15.0\n",
       "Jeannine     11.0\n",
       "Iluminada     7.0\n",
       "Luci         12.0\n",
       "Jenny        13.0\n",
       "Demetria      7.0\n",
       "Michael      11.0\n",
       "Garland      14.0\n",
       "Shelby        6.0\n",
       "Mercy        10.0\n",
       "John          NaN\n",
       "Name: hw1, dtype: float64"
      ]
     },
     "execution_count": 92,
     "metadata": {},
     "output_type": "execute_result"
    }
   ],
   "source": [
    "hw2 = hw1+5\n",
    "hw2"
   ]
  },
  {
   "cell_type": "markdown",
   "metadata": {},
   "source": [
    "##### astype类型转换"
   ]
  },
  {
   "cell_type": "code",
   "execution_count": 93,
   "metadata": {
    "ExecuteTime": {
     "end_time": "2020-07-04T02:00:30.788243Z",
     "start_time": "2020-07-04T02:00:30.784345Z"
    }
   },
   "outputs": [],
   "source": [
    "import numpy"
   ]
  },
  {
   "cell_type": "code",
   "execution_count": 95,
   "metadata": {
    "ExecuteTime": {
     "end_time": "2020-07-04T02:01:22.702209Z",
     "start_time": "2020-07-04T02:01:22.697171Z"
    }
   },
   "outputs": [
    {
     "data": {
      "text/plain": [
       "Name\n",
       "Dorian       10.0\n",
       "Jeannine      6.0\n",
       "Iluminada     2.0\n",
       "Luci          7.0\n",
       "Jenny         8.0\n",
       "Demetria      2.0\n",
       "Michael       6.0\n",
       "Garland       9.0\n",
       "Shelby        1.0\n",
       "Mercy         5.0\n",
       "John          NaN\n",
       "Name: hw1, dtype: float64"
      ]
     },
     "execution_count": 95,
     "metadata": {},
     "output_type": "execute_result"
    }
   ],
   "source": [
    "hw1.astype('float')"
   ]
  },
  {
   "cell_type": "markdown",
   "metadata": {},
   "source": [
    "##### 跨列操作"
   ]
  },
  {
   "cell_type": "code",
   "execution_count": 97,
   "metadata": {
    "ExecuteTime": {
     "end_time": "2020-07-04T02:03:48.039117Z",
     "start_time": "2020-07-04T02:03:48.032093Z"
    }
   },
   "outputs": [
    {
     "data": {
      "text/plain": [
       "Name\n",
       "Dorian       10.0\n",
       "Jeannine      7.0\n",
       "Iluminada     NaN\n",
       "Luci          7.0\n",
       "Jenny         NaN\n",
       "Demetria      4.0\n",
       "Michael      10.0\n",
       "Garland       1.0\n",
       "Shelby       10.0\n",
       "Mercy         6.0\n",
       "John         10.0\n",
       "Name: hw2, dtype: float64"
      ]
     },
     "execution_count": 97,
     "metadata": {},
     "output_type": "execute_result"
    }
   ],
   "source": [
    "hw2 = df['hw2']\n",
    "hw2"
   ]
  },
  {
   "cell_type": "code",
   "execution_count": 99,
   "metadata": {
    "ExecuteTime": {
     "end_time": "2020-07-04T02:05:28.296082Z",
     "start_time": "2020-07-04T02:05:28.290099Z"
    }
   },
   "outputs": [
    {
     "data": {
      "text/plain": [
       "Name\n",
       "Dorian       10.0\n",
       "Jeannine      6.5\n",
       "Iluminada     NaN\n",
       "Luci          7.0\n",
       "Jenny         NaN\n",
       "Demetria      3.0\n",
       "Michael       8.0\n",
       "Garland       5.0\n",
       "Shelby        5.5\n",
       "Mercy         5.5\n",
       "John          NaN\n",
       "dtype: float64"
      ]
     },
     "execution_count": 99,
     "metadata": {},
     "output_type": "execute_result"
    }
   ],
   "source": [
    "(hw1 + hw2) / 2  # 【index必须一致】"
   ]
  },
  {
   "cell_type": "code",
   "execution_count": 116,
   "metadata": {
    "ExecuteTime": {
     "end_time": "2020-07-04T02:20:38.888426Z",
     "start_time": "2020-07-04T02:20:38.880448Z"
    }
   },
   "outputs": [
    {
     "data": {
      "text/plain": [
       "Name\n",
       "Jeannine    0.2\n",
       "dtype: float64"
      ]
     },
     "execution_count": 116,
     "metadata": {},
     "output_type": "execute_result"
    }
   ],
   "source": [
    "# test1【将hw1平均分增至8】\n",
    "(hw1 - hw1.mean()) + 8\n",
    "\n",
    "# test2【哪个同学的均分最接近6.7】\n",
    "hw = (hw1 + hw2) / 2\n",
    "x = (hw - 6.7).abs()\n",
    "x.nsmallest(1)"
   ]
  }
 ],
 "metadata": {
  "kernelspec": {
   "display_name": "Python 3.6.8 64-bit",
   "language": "python",
   "name": "python36864bitdeffc346cf9545b0ac5f18a9837f94ba"
  },
  "language_info": {
   "codemirror_mode": {
    "name": "ipython",
    "version": 3
   },
   "file_extension": ".py",
   "mimetype": "text/x-python",
   "name": "python",
   "nbconvert_exporter": "python",
   "pygments_lexer": "ipython3",
   "version": "3.6.8"
  },
  "toc": {
   "base_numbering": 1,
   "nav_menu": {},
   "number_sections": true,
   "sideBar": true,
   "skip_h1_title": false,
   "title_cell": "Table of Contents",
   "title_sidebar": "Contents",
   "toc_cell": false,
   "toc_position": {
    "height": "calc(100% - 180px)",
    "left": "10px",
    "top": "150px",
    "width": "239.438px"
   },
   "toc_section_display": true,
   "toc_window_display": true
  },
  "varInspector": {
   "cols": {
    "lenName": 16,
    "lenType": 16,
    "lenVar": 40
   },
   "kernels_config": {
    "python": {
     "delete_cmd_postfix": "",
     "delete_cmd_prefix": "del ",
     "library": "var_list.py",
     "varRefreshCmd": "print(var_dic_list())"
    },
    "r": {
     "delete_cmd_postfix": ") ",
     "delete_cmd_prefix": "rm(",
     "library": "var_list.r",
     "varRefreshCmd": "cat(var_dic_list()) "
    }
   },
   "types_to_exclude": [
    "module",
    "function",
    "builtin_function_or_method",
    "instance",
    "_Feature"
   ],
   "window_display": false
  }
 },
 "nbformat": 4,
 "nbformat_minor": 2
}
