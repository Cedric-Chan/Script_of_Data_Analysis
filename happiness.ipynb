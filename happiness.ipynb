{
 "cells": [
  {
   "cell_type": "code",
   "execution_count": 22,
   "metadata": {
    "ExecuteTime": {
     "end_time": "2021-01-12T16:40:42.726821Z",
     "start_time": "2021-01-12T16:40:42.721835Z"
    }
   },
   "outputs": [],
   "source": [
    "import pandas as pd\n",
    "import numpy as np\n",
    "\n",
    "# Bagging算法\n",
    "from sklearn.ensemble import RandomForestRegressor  # 随机森林\n",
    "\n",
    "# Boosting算法\n",
    "from xgboost import XGBRegressor  # xgboost\n",
    "import lightgbm as lgb     # lightgbm--优化版XGboost框架\n",
    "from catboost import CatBoostRegressor   # catboost\n",
    "\n",
    "# Stacking算法\n",
    "from sklearn.ensemble import StackingRegressor \n",
    "\n",
    "\n",
    "from sklearn import feature_selection\n",
    "from sklearn.model_selection import GridSearchCV\n",
    "import seaborn as sns\n",
    "from sklearn.metrics import roc_auc_score, roc_curve\n",
    "from sklearn.model_selection import KFold\n",
    "from sklearn.model_selection import train_test_split\n",
    "from sklearn import metrics\n",
    "from sklearn.metrics import mean_squared_error"
   ]
  },
  {
   "cell_type": "code",
   "execution_count": 23,
   "metadata": {
    "ExecuteTime": {
     "end_time": "2021-01-12T16:40:43.382579Z",
     "start_time": "2021-01-12T16:40:43.374641Z"
    }
   },
   "outputs": [
    {
     "name": "stdout",
     "output_type": "stream",
     "text": [
      "Populating the interactive namespace from numpy and matplotlib\n"
     ]
    }
   ],
   "source": [
    "import os\n",
    "import gc\n",
    "\n",
    "import warnings\n",
    "warnings.filterwarnings('ignore')\n",
    "\n",
    "from IPython.core.interactiveshell import InteractiveShell\n",
    "InteractiveShell.ast_node_interactivity = \"all\"\n",
    "pd.set_option('precision',2)  # 显示两位小数\n",
    "\n",
    "%pylab inline"
   ]
  },
  {
   "cell_type": "markdown",
   "metadata": {},
   "source": [
    "## 加载幸福感数据"
   ]
  },
  {
   "cell_type": "code",
   "execution_count": 24,
   "metadata": {
    "ExecuteTime": {
     "end_time": "2021-01-12T16:40:44.885107Z",
     "start_time": "2021-01-12T16:40:44.745482Z"
    }
   },
   "outputs": [
    {
     "data": {
      "text/html": [
       "<div>\n",
       "<style scoped>\n",
       "    .dataframe tbody tr th:only-of-type {\n",
       "        vertical-align: middle;\n",
       "    }\n",
       "\n",
       "    .dataframe tbody tr th {\n",
       "        vertical-align: top;\n",
       "    }\n",
       "\n",
       "    .dataframe thead th {\n",
       "        text-align: right;\n",
       "    }\n",
       "</style>\n",
       "<table border=\"1\" class=\"dataframe\">\n",
       "  <thead>\n",
       "    <tr style=\"text-align: right;\">\n",
       "      <th></th>\n",
       "      <th>id</th>\n",
       "      <th>happiness</th>\n",
       "      <th>survey_type</th>\n",
       "      <th>province</th>\n",
       "      <th>city</th>\n",
       "      <th>county</th>\n",
       "      <th>survey_time</th>\n",
       "      <th>gender</th>\n",
       "      <th>birth</th>\n",
       "      <th>nationality</th>\n",
       "      <th>...</th>\n",
       "      <th>neighbor_familiarity</th>\n",
       "      <th>public_service_1</th>\n",
       "      <th>public_service_2</th>\n",
       "      <th>public_service_3</th>\n",
       "      <th>public_service_4</th>\n",
       "      <th>public_service_5</th>\n",
       "      <th>public_service_6</th>\n",
       "      <th>public_service_7</th>\n",
       "      <th>public_service_8</th>\n",
       "      <th>public_service_9</th>\n",
       "    </tr>\n",
       "  </thead>\n",
       "  <tbody>\n",
       "    <tr>\n",
       "      <th>0</th>\n",
       "      <td>1</td>\n",
       "      <td>4</td>\n",
       "      <td>1</td>\n",
       "      <td>12</td>\n",
       "      <td>32</td>\n",
       "      <td>59</td>\n",
       "      <td>2015-08-04 14:18:00</td>\n",
       "      <td>1</td>\n",
       "      <td>1959</td>\n",
       "      <td>1</td>\n",
       "      <td>...</td>\n",
       "      <td>4</td>\n",
       "      <td>50</td>\n",
       "      <td>60</td>\n",
       "      <td>50</td>\n",
       "      <td>50</td>\n",
       "      <td>30.0</td>\n",
       "      <td>30</td>\n",
       "      <td>50</td>\n",
       "      <td>50</td>\n",
       "      <td>50</td>\n",
       "    </tr>\n",
       "    <tr>\n",
       "      <th>1</th>\n",
       "      <td>2</td>\n",
       "      <td>4</td>\n",
       "      <td>2</td>\n",
       "      <td>18</td>\n",
       "      <td>52</td>\n",
       "      <td>85</td>\n",
       "      <td>2015-07-21 15:04:00</td>\n",
       "      <td>1</td>\n",
       "      <td>1992</td>\n",
       "      <td>1</td>\n",
       "      <td>...</td>\n",
       "      <td>3</td>\n",
       "      <td>90</td>\n",
       "      <td>70</td>\n",
       "      <td>70</td>\n",
       "      <td>80</td>\n",
       "      <td>85.0</td>\n",
       "      <td>70</td>\n",
       "      <td>90</td>\n",
       "      <td>60</td>\n",
       "      <td>60</td>\n",
       "    </tr>\n",
       "    <tr>\n",
       "      <th>2</th>\n",
       "      <td>3</td>\n",
       "      <td>4</td>\n",
       "      <td>2</td>\n",
       "      <td>29</td>\n",
       "      <td>83</td>\n",
       "      <td>126</td>\n",
       "      <td>2015-07-21 13:24:00</td>\n",
       "      <td>2</td>\n",
       "      <td>1967</td>\n",
       "      <td>1</td>\n",
       "      <td>...</td>\n",
       "      <td>4</td>\n",
       "      <td>90</td>\n",
       "      <td>80</td>\n",
       "      <td>75</td>\n",
       "      <td>79</td>\n",
       "      <td>80.0</td>\n",
       "      <td>90</td>\n",
       "      <td>90</td>\n",
       "      <td>90</td>\n",
       "      <td>75</td>\n",
       "    </tr>\n",
       "    <tr>\n",
       "      <th>3</th>\n",
       "      <td>4</td>\n",
       "      <td>5</td>\n",
       "      <td>2</td>\n",
       "      <td>10</td>\n",
       "      <td>28</td>\n",
       "      <td>51</td>\n",
       "      <td>2015-07-25 17:33:00</td>\n",
       "      <td>2</td>\n",
       "      <td>1943</td>\n",
       "      <td>1</td>\n",
       "      <td>...</td>\n",
       "      <td>3</td>\n",
       "      <td>100</td>\n",
       "      <td>90</td>\n",
       "      <td>70</td>\n",
       "      <td>80</td>\n",
       "      <td>80.0</td>\n",
       "      <td>90</td>\n",
       "      <td>90</td>\n",
       "      <td>80</td>\n",
       "      <td>80</td>\n",
       "    </tr>\n",
       "    <tr>\n",
       "      <th>4</th>\n",
       "      <td>5</td>\n",
       "      <td>4</td>\n",
       "      <td>1</td>\n",
       "      <td>7</td>\n",
       "      <td>18</td>\n",
       "      <td>36</td>\n",
       "      <td>2015-08-10 09:50:00</td>\n",
       "      <td>2</td>\n",
       "      <td>1994</td>\n",
       "      <td>1</td>\n",
       "      <td>...</td>\n",
       "      <td>2</td>\n",
       "      <td>50</td>\n",
       "      <td>50</td>\n",
       "      <td>50</td>\n",
       "      <td>50</td>\n",
       "      <td>50.0</td>\n",
       "      <td>50</td>\n",
       "      <td>50</td>\n",
       "      <td>50</td>\n",
       "      <td>50</td>\n",
       "    </tr>\n",
       "  </tbody>\n",
       "</table>\n",
       "<p>5 rows × 140 columns</p>\n",
       "</div>"
      ],
      "text/plain": [
       "   id  happiness  survey_type  province  city  county         survey_time  \\\n",
       "0   1          4            1        12    32      59 2015-08-04 14:18:00   \n",
       "1   2          4            2        18    52      85 2015-07-21 15:04:00   \n",
       "2   3          4            2        29    83     126 2015-07-21 13:24:00   \n",
       "3   4          5            2        10    28      51 2015-07-25 17:33:00   \n",
       "4   5          4            1         7    18      36 2015-08-10 09:50:00   \n",
       "\n",
       "   gender  birth  nationality  ...  neighbor_familiarity  public_service_1  \\\n",
       "0       1   1959            1  ...                     4                50   \n",
       "1       1   1992            1  ...                     3                90   \n",
       "2       2   1967            1  ...                     4                90   \n",
       "3       2   1943            1  ...                     3               100   \n",
       "4       2   1994            1  ...                     2                50   \n",
       "\n",
       "   public_service_2 public_service_3  public_service_4  public_service_5  \\\n",
       "0                60               50                50              30.0   \n",
       "1                70               70                80              85.0   \n",
       "2                80               75                79              80.0   \n",
       "3                90               70                80              80.0   \n",
       "4                50               50                50              50.0   \n",
       "\n",
       "   public_service_6  public_service_7  public_service_8  public_service_9  \n",
       "0                30                50                50                50  \n",
       "1                70                90                60                60  \n",
       "2                90                90                90                75  \n",
       "3                90                90                80                80  \n",
       "4                50                50                50                50  \n",
       "\n",
       "[5 rows x 140 columns]"
      ]
     },
     "execution_count": 24,
     "metadata": {},
     "output_type": "execute_result"
    }
   ],
   "source": [
    "train = pd.read_csv(\"C:/Users/60448/Desktop/happiness/happiness_train_complete.csv\", parse_dates=[\"survey_time\"], encoding='latin-1') \n",
    "test = pd.read_csv(\"C:/Users/60448/Desktop/happiness/happiness_test_complete.csv\", parse_dates=[\"survey_time\"], encoding='latin-1')\n",
    "train.head()"
   ]
  },
  {
   "cell_type": "code",
   "execution_count": 4,
   "metadata": {
    "ExecuteTime": {
     "end_time": "2021-01-12T16:39:39.101240Z",
     "start_time": "2021-01-12T16:39:38.815013Z"
    }
   },
   "outputs": [
    {
     "data": {
      "text/html": [
       "<div>\n",
       "<style scoped>\n",
       "    .dataframe tbody tr th:only-of-type {\n",
       "        vertical-align: middle;\n",
       "    }\n",
       "\n",
       "    .dataframe tbody tr th {\n",
       "        vertical-align: top;\n",
       "    }\n",
       "\n",
       "    .dataframe thead th {\n",
       "        text-align: right;\n",
       "    }\n",
       "</style>\n",
       "<table border=\"1\" class=\"dataframe\">\n",
       "  <thead>\n",
       "    <tr style=\"text-align: right;\">\n",
       "      <th></th>\n",
       "      <th>id</th>\n",
       "      <th>happiness</th>\n",
       "      <th>survey_type</th>\n",
       "      <th>province</th>\n",
       "      <th>city</th>\n",
       "      <th>county</th>\n",
       "      <th>gender</th>\n",
       "      <th>birth</th>\n",
       "      <th>nationality</th>\n",
       "      <th>religion</th>\n",
       "      <th>...</th>\n",
       "      <th>neighbor_familiarity</th>\n",
       "      <th>public_service_1</th>\n",
       "      <th>public_service_2</th>\n",
       "      <th>public_service_3</th>\n",
       "      <th>public_service_4</th>\n",
       "      <th>public_service_5</th>\n",
       "      <th>public_service_6</th>\n",
       "      <th>public_service_7</th>\n",
       "      <th>public_service_8</th>\n",
       "      <th>public_service_9</th>\n",
       "    </tr>\n",
       "  </thead>\n",
       "  <tbody>\n",
       "    <tr>\n",
       "      <th>count</th>\n",
       "      <td>8000.00</td>\n",
       "      <td>8000.00</td>\n",
       "      <td>8000.00</td>\n",
       "      <td>8000.00</td>\n",
       "      <td>8000.00</td>\n",
       "      <td>8000.00</td>\n",
       "      <td>8000.00</td>\n",
       "      <td>8000.00</td>\n",
       "      <td>8000.00</td>\n",
       "      <td>8000.00</td>\n",
       "      <td>...</td>\n",
       "      <td>8000.00</td>\n",
       "      <td>8000.00</td>\n",
       "      <td>8000.00</td>\n",
       "      <td>8000.00</td>\n",
       "      <td>8000.00</td>\n",
       "      <td>8000.00</td>\n",
       "      <td>8000.00</td>\n",
       "      <td>8000.00</td>\n",
       "      <td>8000.00</td>\n",
       "      <td>8000.00</td>\n",
       "    </tr>\n",
       "    <tr>\n",
       "      <th>mean</th>\n",
       "      <td>4000.50</td>\n",
       "      <td>3.85</td>\n",
       "      <td>1.41</td>\n",
       "      <td>15.16</td>\n",
       "      <td>42.56</td>\n",
       "      <td>70.62</td>\n",
       "      <td>1.53</td>\n",
       "      <td>1964.71</td>\n",
       "      <td>1.37</td>\n",
       "      <td>0.77</td>\n",
       "      <td>...</td>\n",
       "      <td>3.72</td>\n",
       "      <td>70.81</td>\n",
       "      <td>68.17</td>\n",
       "      <td>62.74</td>\n",
       "      <td>66.32</td>\n",
       "      <td>62.79</td>\n",
       "      <td>67.06</td>\n",
       "      <td>66.10</td>\n",
       "      <td>65.63</td>\n",
       "      <td>67.15</td>\n",
       "    </tr>\n",
       "    <tr>\n",
       "      <th>std</th>\n",
       "      <td>2309.55</td>\n",
       "      <td>0.94</td>\n",
       "      <td>0.49</td>\n",
       "      <td>8.92</td>\n",
       "      <td>27.19</td>\n",
       "      <td>38.75</td>\n",
       "      <td>0.50</td>\n",
       "      <td>16.84</td>\n",
       "      <td>1.53</td>\n",
       "      <td>1.07</td>\n",
       "      <td>...</td>\n",
       "      <td>1.14</td>\n",
       "      <td>21.18</td>\n",
       "      <td>20.55</td>\n",
       "      <td>24.77</td>\n",
       "      <td>22.05</td>\n",
       "      <td>23.46</td>\n",
       "      <td>21.59</td>\n",
       "      <td>23.09</td>\n",
       "      <td>23.83</td>\n",
       "      <td>22.50</td>\n",
       "    </tr>\n",
       "    <tr>\n",
       "      <th>min</th>\n",
       "      <td>1.00</td>\n",
       "      <td>-8.00</td>\n",
       "      <td>1.00</td>\n",
       "      <td>1.00</td>\n",
       "      <td>1.00</td>\n",
       "      <td>1.00</td>\n",
       "      <td>1.00</td>\n",
       "      <td>1921.00</td>\n",
       "      <td>-8.00</td>\n",
       "      <td>-8.00</td>\n",
       "      <td>...</td>\n",
       "      <td>-8.00</td>\n",
       "      <td>-3.00</td>\n",
       "      <td>-3.00</td>\n",
       "      <td>-3.00</td>\n",
       "      <td>-3.00</td>\n",
       "      <td>-3.00</td>\n",
       "      <td>-3.00</td>\n",
       "      <td>-3.00</td>\n",
       "      <td>-3.00</td>\n",
       "      <td>-3.00</td>\n",
       "    </tr>\n",
       "    <tr>\n",
       "      <th>25%</th>\n",
       "      <td>2000.75</td>\n",
       "      <td>4.00</td>\n",
       "      <td>1.00</td>\n",
       "      <td>7.00</td>\n",
       "      <td>18.00</td>\n",
       "      <td>37.00</td>\n",
       "      <td>1.00</td>\n",
       "      <td>1952.00</td>\n",
       "      <td>1.00</td>\n",
       "      <td>1.00</td>\n",
       "      <td>...</td>\n",
       "      <td>3.00</td>\n",
       "      <td>60.00</td>\n",
       "      <td>60.00</td>\n",
       "      <td>50.00</td>\n",
       "      <td>60.00</td>\n",
       "      <td>55.00</td>\n",
       "      <td>60.00</td>\n",
       "      <td>60.00</td>\n",
       "      <td>60.00</td>\n",
       "      <td>60.00</td>\n",
       "    </tr>\n",
       "    <tr>\n",
       "      <th>50%</th>\n",
       "      <td>4000.50</td>\n",
       "      <td>4.00</td>\n",
       "      <td>1.00</td>\n",
       "      <td>15.00</td>\n",
       "      <td>42.00</td>\n",
       "      <td>73.00</td>\n",
       "      <td>2.00</td>\n",
       "      <td>1965.00</td>\n",
       "      <td>1.00</td>\n",
       "      <td>1.00</td>\n",
       "      <td>...</td>\n",
       "      <td>4.00</td>\n",
       "      <td>79.00</td>\n",
       "      <td>70.00</td>\n",
       "      <td>70.00</td>\n",
       "      <td>70.00</td>\n",
       "      <td>70.00</td>\n",
       "      <td>70.00</td>\n",
       "      <td>70.00</td>\n",
       "      <td>70.00</td>\n",
       "      <td>70.00</td>\n",
       "    </tr>\n",
       "    <tr>\n",
       "      <th>75%</th>\n",
       "      <td>6000.25</td>\n",
       "      <td>4.00</td>\n",
       "      <td>2.00</td>\n",
       "      <td>22.00</td>\n",
       "      <td>65.00</td>\n",
       "      <td>104.00</td>\n",
       "      <td>2.00</td>\n",
       "      <td>1977.00</td>\n",
       "      <td>1.00</td>\n",
       "      <td>1.00</td>\n",
       "      <td>...</td>\n",
       "      <td>5.00</td>\n",
       "      <td>80.00</td>\n",
       "      <td>80.00</td>\n",
       "      <td>80.00</td>\n",
       "      <td>80.00</td>\n",
       "      <td>80.00</td>\n",
       "      <td>80.00</td>\n",
       "      <td>80.00</td>\n",
       "      <td>80.00</td>\n",
       "      <td>80.00</td>\n",
       "    </tr>\n",
       "    <tr>\n",
       "      <th>max</th>\n",
       "      <td>8000.00</td>\n",
       "      <td>5.00</td>\n",
       "      <td>2.00</td>\n",
       "      <td>31.00</td>\n",
       "      <td>89.00</td>\n",
       "      <td>134.00</td>\n",
       "      <td>2.00</td>\n",
       "      <td>1997.00</td>\n",
       "      <td>8.00</td>\n",
       "      <td>1.00</td>\n",
       "      <td>...</td>\n",
       "      <td>5.00</td>\n",
       "      <td>100.00</td>\n",
       "      <td>100.00</td>\n",
       "      <td>100.00</td>\n",
       "      <td>100.00</td>\n",
       "      <td>100.00</td>\n",
       "      <td>100.00</td>\n",
       "      <td>100.00</td>\n",
       "      <td>100.00</td>\n",
       "      <td>100.00</td>\n",
       "    </tr>\n",
       "  </tbody>\n",
       "</table>\n",
       "<p>8 rows × 136 columns</p>\n",
       "</div>"
      ],
      "text/plain": [
       "            id  happiness  survey_type  province     city   county   gender  \\\n",
       "count  8000.00    8000.00      8000.00   8000.00  8000.00  8000.00  8000.00   \n",
       "mean   4000.50       3.85         1.41     15.16    42.56    70.62     1.53   \n",
       "std    2309.55       0.94         0.49      8.92    27.19    38.75     0.50   \n",
       "min       1.00      -8.00         1.00      1.00     1.00     1.00     1.00   \n",
       "25%    2000.75       4.00         1.00      7.00    18.00    37.00     1.00   \n",
       "50%    4000.50       4.00         1.00     15.00    42.00    73.00     2.00   \n",
       "75%    6000.25       4.00         2.00     22.00    65.00   104.00     2.00   \n",
       "max    8000.00       5.00         2.00     31.00    89.00   134.00     2.00   \n",
       "\n",
       "         birth  nationality  religion  ...  neighbor_familiarity  \\\n",
       "count  8000.00      8000.00   8000.00  ...               8000.00   \n",
       "mean   1964.71         1.37      0.77  ...                  3.72   \n",
       "std      16.84         1.53      1.07  ...                  1.14   \n",
       "min    1921.00        -8.00     -8.00  ...                 -8.00   \n",
       "25%    1952.00         1.00      1.00  ...                  3.00   \n",
       "50%    1965.00         1.00      1.00  ...                  4.00   \n",
       "75%    1977.00         1.00      1.00  ...                  5.00   \n",
       "max    1997.00         8.00      1.00  ...                  5.00   \n",
       "\n",
       "       public_service_1  public_service_2  public_service_3  public_service_4  \\\n",
       "count           8000.00           8000.00           8000.00           8000.00   \n",
       "mean              70.81             68.17             62.74             66.32   \n",
       "std               21.18             20.55             24.77             22.05   \n",
       "min               -3.00             -3.00             -3.00             -3.00   \n",
       "25%               60.00             60.00             50.00             60.00   \n",
       "50%               79.00             70.00             70.00             70.00   \n",
       "75%               80.00             80.00             80.00             80.00   \n",
       "max              100.00            100.00            100.00            100.00   \n",
       "\n",
       "       public_service_5  public_service_6  public_service_7  public_service_8  \\\n",
       "count           8000.00           8000.00           8000.00           8000.00   \n",
       "mean              62.79             67.06             66.10             65.63   \n",
       "std               23.46             21.59             23.09             23.83   \n",
       "min               -3.00             -3.00             -3.00             -3.00   \n",
       "25%               55.00             60.00             60.00             60.00   \n",
       "50%               70.00             70.00             70.00             70.00   \n",
       "75%               80.00             80.00             80.00             80.00   \n",
       "max              100.00            100.00            100.00            100.00   \n",
       "\n",
       "       public_service_9  \n",
       "count           8000.00  \n",
       "mean              67.15  \n",
       "std               22.50  \n",
       "min               -3.00  \n",
       "25%               60.00  \n",
       "50%               70.00  \n",
       "75%               80.00  \n",
       "max              100.00  \n",
       "\n",
       "[8 rows x 136 columns]"
      ]
     },
     "execution_count": 4,
     "metadata": {},
     "output_type": "execute_result"
    }
   ],
   "source": [
    "# 查看特征的数据分布\n",
    "train.describe()"
   ]
  },
  {
   "cell_type": "markdown",
   "metadata": {},
   "source": [
    "### 可视化"
   ]
  },
  {
   "cell_type": "code",
   "execution_count": 26,
   "metadata": {
    "ExecuteTime": {
     "end_time": "2021-01-12T16:40:51.234070Z",
     "start_time": "2021-01-12T16:40:51.027070Z"
    }
   },
   "outputs": [
    {
     "data": {
      "text/plain": [
       "<matplotlib.axes._subplots.AxesSubplot at 0x2033b11d828>"
      ]
     },
     "execution_count": 26,
     "metadata": {},
     "output_type": "execute_result"
    },
    {
     "data": {
      "text/plain": [
       "Text(0.5, 1.0, 'happiness')"
      ]
     },
     "execution_count": 26,
     "metadata": {},
     "output_type": "execute_result"
    },
    {
     "data": {
      "text/plain": [
       "Text(0, 0.5, '')"
      ]
     },
     "execution_count": 26,
     "metadata": {},
     "output_type": "execute_result"
    },
    {
     "data": {
      "text/plain": [
       "<matplotlib.axes._subplots.AxesSubplot at 0x2033b1457b8>"
      ]
     },
     "execution_count": 26,
     "metadata": {},
     "output_type": "execute_result"
    },
    {
     "data": {
      "text/plain": [
       "Text(0.5, 1.0, 'happiness')"
      ]
     },
     "execution_count": 26,
     "metadata": {},
     "output_type": "execute_result"
    },
    {
     "data": {
      "image/png": "[encoded data removed]",
      "text/plain": [
       "<Figure size 1296x576 with 2 Axes>"
      ]
     },
     "metadata": {
      "needs_background": "light"
     },
     "output_type": "display_data"
    }
   ],
   "source": [
    "# 查看各个类别的分布情况，有很明显的类别不均衡的问题\n",
    "f,ax=plt.subplots(1,2,figsize=(18,8))\n",
    "train['happiness'].value_counts().plot.pie(autopct='%1.1f%%',ax=ax[0],shadow=True)\n",
    "ax[0].set_title('happiness')\n",
    "ax[0].set_ylabel('')\n",
    "train['happiness'].value_counts().plot.bar(ax=ax[1])\n",
    "ax[1].set_title('happiness')\n",
    "plt.show()"
   ]
  },
  {
   "cell_type": "code",
   "execution_count": 27,
   "metadata": {
    "ExecuteTime": {
     "end_time": "2021-01-12T16:40:51.589946Z",
     "start_time": "2021-01-12T16:40:51.453677Z"
    }
   },
   "outputs": [
    {
     "data": {
      "text/plain": [
       "<matplotlib.axes._subplots.AxesSubplot at 0x2033b1019e8>"
      ]
     },
     "execution_count": 27,
     "metadata": {},
     "output_type": "execute_result"
    },
    {
     "data": {
      "text/plain": [
       "Text(0.5, 1, 'Sex:happiness')"
      ]
     },
     "execution_count": 27,
     "metadata": {},
     "output_type": "execute_result"
    },
    {
     "data": {
      "image/png": "[encoded data removed]",
      "text/plain": [
       "<Figure size 432x288 with 1 Axes>"
      ]
     },
     "metadata": {
      "needs_background": "light"
     },
     "output_type": "display_data"
    }
   ],
   "source": [
    "# 探究性别和幸福感的分布\n",
    "sns.countplot('gender',hue='happiness',data=train)\n",
    "ax[1].set_title('Sex:happiness')"
   ]
  },
  {
   "cell_type": "code",
   "execution_count": 28,
   "metadata": {
    "ExecuteTime": {
     "end_time": "2021-01-12T16:40:52.058677Z",
     "start_time": "2021-01-12T16:40:51.928999Z"
    },
    "scrolled": true
   },
   "outputs": [
    {
     "data": {
      "text/plain": [
       "<matplotlib.axes._subplots.AxesSubplot at 0x2033a37cf98>"
      ]
     },
     "execution_count": 28,
     "metadata": {},
     "output_type": "execute_result"
    },
    {
     "data": {
      "image/png": "[encoded data removed]",
      "text/plain": [
       "<Figure size 432x288 with 1 Axes>"
      ]
     },
     "metadata": {
      "needs_background": "light"
     },
     "output_type": "display_data"
    }
   ],
   "source": [
    "# 探究年龄和幸福感的关系\n",
    "train['survey_time'] = train['survey_time'].dt.year\n",
    "test['survey_time'] = test['survey_time'].dt.year\n",
    "train['Age'] = train['survey_time']-train['birth']\n",
    "test['Age'] = test['survey_time']-test['birth']\n",
    "del_list=['survey_time','birth']\n",
    "figure,ax = plt.subplots(1,1)\n",
    "train['Age'].plot.hist(ax=ax,color='blue')"
   ]
  },
  {
   "cell_type": "markdown",
   "metadata": {},
   "source": [
    "### 分箱与异常值处理"
   ]
  },
  {
   "cell_type": "markdown",
   "metadata": {},
   "source": [
    "#### 年龄"
   ]
  },
  {
   "cell_type": "code",
   "execution_count": 29,
   "metadata": {
    "ExecuteTime": {
     "end_time": "2021-01-12T16:40:55.214717Z",
     "start_time": "2021-01-12T16:40:55.021723Z"
    }
   },
   "outputs": [
    {
     "data": {
      "text/plain": [
       "<matplotlib.axes._subplots.AxesSubplot at 0x2033bb7e7b8>"
      ]
     },
     "execution_count": 29,
     "metadata": {},
     "output_type": "execute_result"
    },
    {
     "data": {
      "image/png": "[encoded data removed]",
      "text/plain": [
       "<Figure size 432x288 with 1 Axes>"
      ]
     },
     "metadata": {
      "needs_background": "light"
     },
     "output_type": "display_data"
    }
   ],
   "source": [
    "# 一般会将年龄分箱，避免噪声和异常值的影响\n",
    "combine=[train,test]\n",
    "\n",
    "for dataset in combine:\n",
    "    dataset.loc[dataset['Age']<=16,'Age']=0\n",
    "    dataset.loc[(dataset['Age'] > 16) & (dataset['Age'] <= 32), 'Age'] = 1\n",
    "    dataset.loc[(dataset['Age'] > 32) & (dataset['Age'] <= 48), 'Age'] = 2\n",
    "    dataset.loc[(dataset['Age'] > 48) & (dataset['Age'] <= 64), 'Age'] = 3\n",
    "    dataset.loc[(dataset['Age'] > 64) & (dataset['Age'] <= 80), 'Age'] = 4\n",
    "    dataset.loc[ dataset['Age'] > 80, 'Age'] = 5\n",
    "sns.countplot('Age', hue='happiness', data=train)"
   ]
  },
  {
   "cell_type": "code",
   "execution_count": 30,
   "metadata": {
    "ExecuteTime": {
     "end_time": "2021-01-12T16:40:56.422527Z",
     "start_time": "2021-01-12T16:40:56.073461Z"
    }
   },
   "outputs": [
    {
     "data": {
      "text/plain": [
       "<matplotlib.axes._subplots.AxesSubplot at 0x2033b240b70>"
      ]
     },
     "execution_count": 30,
     "metadata": {},
     "output_type": "execute_result"
    },
    {
     "data": {
      "text/plain": [
       "<matplotlib.axes._subplots.AxesSubplot at 0x2033b267cf8>"
      ]
     },
     "execution_count": 30,
     "metadata": {},
     "output_type": "execute_result"
    },
    {
     "data": {
      "text/plain": [
       "<matplotlib.axes._subplots.AxesSubplot at 0x2033b298da0>"
      ]
     },
     "execution_count": 30,
     "metadata": {},
     "output_type": "execute_result"
    },
    {
     "data": {
      "text/plain": [
       "<matplotlib.axes._subplots.AxesSubplot at 0x2033b2c9eb8>"
      ]
     },
     "execution_count": 30,
     "metadata": {},
     "output_type": "execute_result"
    },
    {
     "data": {
      "text/plain": [
       "<matplotlib.axes._subplots.AxesSubplot at 0x2033b2fafd0>"
      ]
     },
     "execution_count": 30,
     "metadata": {},
     "output_type": "execute_result"
    },
    {
     "data": {
      "image/png": "[encoded data removed]",
      "text/plain": [
       "<Figure size 1296x288 with 5 Axes>"
      ]
     },
     "metadata": {},
     "output_type": "display_data"
    }
   ],
   "source": [
    "figure1,ax1 = plt.subplots(1,5,figsize=(18,4))\n",
    "train['happiness'][train['Age']==1].value_counts().plot.pie(autopct='%1.1f%%',ax=ax1[0],shadow=True)\n",
    "train['happiness'][train['Age']==2].value_counts().plot.pie(autopct='%1.1f%%',ax=ax1[1],shadow=True)\n",
    "train['happiness'][train['Age']==3].value_counts().plot.pie(autopct='%1.1f%%',ax=ax1[2],shadow=True)\n",
    "train['happiness'][train['Age']==4].value_counts().plot.pie(autopct='%1.1f%%',ax=ax1[3],shadow=True)\n",
    "train['happiness'][train['Age']==5].value_counts().plot.pie(autopct='%1.1f%%',ax=ax1[4],shadow=True)"
   ]
  },
  {
   "cell_type": "markdown",
   "metadata": {},
   "source": [
    "#### 收入"
   ]
  },
  {
   "cell_type": "code",
   "execution_count": 31,
   "metadata": {
    "ExecuteTime": {
     "end_time": "2021-01-12T16:40:57.875598Z",
     "start_time": "2021-01-12T16:40:57.810770Z"
    }
   },
   "outputs": [
    {
     "name": "stdout",
     "output_type": "stream",
     "text": [
      "3    2627\n",
      "2    1973\n",
      "1    1655\n",
      "4    1349\n",
      "5     396\n",
      "Name: income_cut, dtype: int64\n",
      "family_income\n",
      "1    3.64\n",
      "2    3.64\n",
      "3    3.80\n",
      "4    3.90\n",
      "5    4.05\n",
      "6    4.14\n",
      "7    4.28\n",
      "Name: happiness, dtype: float64\n",
      "3    2627\n",
      "2    1973\n",
      "1    1655\n",
      "4    1349\n",
      "5     396\n",
      "Name: income_cut, dtype: int64\n",
      "4    3138\n",
      "5    1540\n",
      "1    1331\n",
      "2     826\n",
      "3     818\n",
      "6     190\n",
      "7     157\n",
      "Name: inc_exp, dtype: int64\n",
      "inc_exp\n",
      "1    3.79\n",
      "2    3.76\n",
      "3    3.80\n",
      "4    3.88\n",
      "5    3.88\n",
      "6    3.94\n",
      "7    3.99\n",
      "Name: happiness, dtype: float64\n"
     ]
    }
   ],
   "source": [
    "def income_cut(x):\n",
    "    if x<=0:\n",
    "        return 1\n",
    "    elif  0<x<500:\n",
    "        return 1\n",
    "    elif  500<=x<=10000:\n",
    "        return 2\n",
    "    elif  10000<x<40000:\n",
    "        return 3\n",
    "    elif  40000<=x<100000:\n",
    "        return 4\n",
    "    elif  100000<=x:\n",
    "        return 5\n",
    "train[\"income_cut\"]=train[\"income\"].map(income_cut)\n",
    "print(train[\"income_cut\"].value_counts())\n",
    "#转换收入变量\n",
    "train[\"income\"]=train[\"income\"].map(income_cut)\n",
    "\n",
    "def family_income_cut(x):\n",
    "    if x<=0 or pd.isnull(x)==1:\n",
    "        return 1\n",
    "    elif  0<x<=3000:\n",
    "        return 1\n",
    "    elif  3000<x<=10000:\n",
    "        return 2\n",
    "    elif  10000<x<30000:\n",
    "        return 3\n",
    "    elif  30000<=x<100000:\n",
    "        return 4\n",
    "    elif  100000<=x<300000:\n",
    "        return 5\n",
    "    elif  300000<=x<1000000:\n",
    "        return 6\n",
    "    elif  1000000<=x:\n",
    "        return 7\n",
    "train[\"family_income\"]=train[\"family_income\"].map(family_income_cut)\n",
    "print(train['happiness'].groupby([train[\"family_income\"]]).mean())\n",
    "\n",
    "#转换收入变量\n",
    "train[\"family_income\"]=train[\"family_income\"].map(family_income_cut)\n",
    "\n",
    "def s_income_cut(x):\n",
    "    if x<=0 or pd.isnull(x)==1:\n",
    "        return 1\n",
    "    elif  0<x<500:\n",
    "        return 1\n",
    "    elif  500<=x<=10000:\n",
    "        return 2\n",
    "    elif  10000<x<40000:\n",
    "        return 3\n",
    "    elif  40000<=x<100000:\n",
    "        return 4\n",
    "    elif  100000<=x:\n",
    "        return 5\n",
    "print(train[\"income_cut\"].value_counts())\n",
    "train[\"s_income\"]=train[\"s_income\"].map(s_income_cut)\n",
    "\n",
    "def inc_exp_cut(x):\n",
    "    if x<=0 or pd.isnull(x)==1:\n",
    "        return 1\n",
    "    elif  0<x<=3000:\n",
    "        return 1\n",
    "    elif  3000<x<=10000:\n",
    "        return 2\n",
    "    elif  10000<x<30000:\n",
    "        return 3\n",
    "    elif  30000<=x<100000:\n",
    "        return 4\n",
    "    elif  100000<=x<300000:\n",
    "        return 5\n",
    "    elif  300000<=x<1000000:\n",
    "        return 6\n",
    "    elif  1000000<=x:\n",
    "        return 7\n",
    "train[\"inc_exp\"]=train[\"inc_exp\"].map(inc_exp_cut)\n",
    "print(train[\"inc_exp\"].value_counts())\n",
    "print(train['happiness'].groupby([train[\"inc_exp\"]]).mean())\n",
    "\n",
    "#转换收入变量\n",
    "train[\"inc_exp\"]=train[\"inc_exp\"].map(family_income_cut)"
   ]
  },
  {
   "cell_type": "markdown",
   "metadata": {},
   "source": [
    "### 缺失值处理"
   ]
  },
  {
   "cell_type": "code",
   "execution_count": 32,
   "metadata": {
    "ExecuteTime": {
     "end_time": "2021-01-12T16:41:00.227873Z",
     "start_time": "2021-01-12T16:41:00.219371Z"
    }
   },
   "outputs": [],
   "source": [
    "# 查看每个特征的缺失情况\n",
    "queshi = train.isnull().sum()\n",
    "\n",
    "queshi = pd.DataFrame(queshi)"
   ]
  },
  {
   "cell_type": "code",
   "execution_count": 33,
   "metadata": {
    "ExecuteTime": {
     "end_time": "2021-01-12T16:41:00.855249Z",
     "start_time": "2021-01-12T16:41:00.851190Z"
    }
   },
   "outputs": [],
   "source": [
    "del_col = queshi[queshi[0]>5000].index.to_list()"
   ]
  },
  {
   "cell_type": "code",
   "execution_count": 34,
   "metadata": {
    "ExecuteTime": {
     "end_time": "2021-01-12T16:41:01.692450Z",
     "start_time": "2021-01-12T16:41:01.687505Z"
    }
   },
   "outputs": [
    {
     "data": {
      "text/plain": [
       "['edu_other',\n",
       " 'join_party',\n",
       " 'property_other',\n",
       " 'work_status',\n",
       " 'work_yr',\n",
       " 'work_type',\n",
       " 'work_manage',\n",
       " 'invest_other',\n",
       " 's_work_status',\n",
       " 's_work_type']"
      ]
     },
     "execution_count": 34,
     "metadata": {},
     "output_type": "execute_result"
    }
   ],
   "source": [
    "del_col"
   ]
  },
  {
   "cell_type": "code",
   "execution_count": 35,
   "metadata": {
    "ExecuteTime": {
     "end_time": "2021-01-12T16:41:04.881678Z",
     "start_time": "2021-01-12T16:41:04.816209Z"
    }
   },
   "outputs": [],
   "source": [
    "for col in del_col:\n",
    "    train.drop([col],axis=1,inplace=True)"
   ]
  },
  {
   "cell_type": "code",
   "execution_count": 36,
   "metadata": {
    "ExecuteTime": {
     "end_time": "2021-01-12T16:41:06.711688Z",
     "start_time": "2021-01-12T16:41:06.702752Z"
    }
   },
   "outputs": [],
   "source": [
    "# 删除训练集中无效的标签对应的数据\n",
    "train = train.loc[train['happiness'] > 0]"
   ]
  },
  {
   "cell_type": "code",
   "execution_count": 37,
   "metadata": {
    "ExecuteTime": {
     "end_time": "2021-01-12T16:41:08.696387Z",
     "start_time": "2021-01-12T16:41:08.689398Z"
    }
   },
   "outputs": [
    {
     "data": {
      "text/html": [
       "<div>\n",
       "<style scoped>\n",
       "    .dataframe tbody tr th:only-of-type {\n",
       "        vertical-align: middle;\n",
       "    }\n",
       "\n",
       "    .dataframe tbody tr th {\n",
       "        vertical-align: top;\n",
       "    }\n",
       "\n",
       "    .dataframe thead th {\n",
       "        text-align: right;\n",
       "    }\n",
       "</style>\n",
       "<table border=\"1\" class=\"dataframe\">\n",
       "  <thead>\n",
       "    <tr style=\"text-align: right;\">\n",
       "      <th></th>\n",
       "      <th>0</th>\n",
       "    </tr>\n",
       "  </thead>\n",
       "  <tbody>\n",
       "    <tr>\n",
       "      <th>edu_other</th>\n",
       "      <td>7997</td>\n",
       "    </tr>\n",
       "    <tr>\n",
       "      <th>edu_status</th>\n",
       "      <td>1120</td>\n",
       "    </tr>\n",
       "    <tr>\n",
       "      <th>edu_yr</th>\n",
       "      <td>1972</td>\n",
       "    </tr>\n",
       "    <tr>\n",
       "      <th>join_party</th>\n",
       "      <td>7176</td>\n",
       "    </tr>\n",
       "    <tr>\n",
       "      <th>property_other</th>\n",
       "      <td>7934</td>\n",
       "    </tr>\n",
       "    <tr>\n",
       "      <th>hukou_loc</th>\n",
       "      <td>4</td>\n",
       "    </tr>\n",
       "    <tr>\n",
       "      <th>social_neighbor</th>\n",
       "      <td>796</td>\n",
       "    </tr>\n",
       "    <tr>\n",
       "      <th>social_friend</th>\n",
       "      <td>796</td>\n",
       "    </tr>\n",
       "    <tr>\n",
       "      <th>work_status</th>\n",
       "      <td>5049</td>\n",
       "    </tr>\n",
       "    <tr>\n",
       "      <th>work_yr</th>\n",
       "      <td>5049</td>\n",
       "    </tr>\n",
       "    <tr>\n",
       "      <th>work_type</th>\n",
       "      <td>5049</td>\n",
       "    </tr>\n",
       "    <tr>\n",
       "      <th>work_manage</th>\n",
       "      <td>5049</td>\n",
       "    </tr>\n",
       "    <tr>\n",
       "      <th>invest_other</th>\n",
       "      <td>7971</td>\n",
       "    </tr>\n",
       "    <tr>\n",
       "      <th>minor_child</th>\n",
       "      <td>1066</td>\n",
       "    </tr>\n",
       "    <tr>\n",
       "      <th>marital_1st</th>\n",
       "      <td>828</td>\n",
       "    </tr>\n",
       "    <tr>\n",
       "      <th>s_birth</th>\n",
       "      <td>1718</td>\n",
       "    </tr>\n",
       "    <tr>\n",
       "      <th>marital_now</th>\n",
       "      <td>1770</td>\n",
       "    </tr>\n",
       "    <tr>\n",
       "      <th>s_edu</th>\n",
       "      <td>1718</td>\n",
       "    </tr>\n",
       "    <tr>\n",
       "      <th>s_political</th>\n",
       "      <td>1718</td>\n",
       "    </tr>\n",
       "    <tr>\n",
       "      <th>s_hukou</th>\n",
       "      <td>1718</td>\n",
       "    </tr>\n",
       "    <tr>\n",
       "      <th>s_work_exper</th>\n",
       "      <td>1718</td>\n",
       "    </tr>\n",
       "    <tr>\n",
       "      <th>s_work_status</th>\n",
       "      <td>5435</td>\n",
       "    </tr>\n",
       "    <tr>\n",
       "      <th>s_work_type</th>\n",
       "      <td>5435</td>\n",
       "    </tr>\n",
       "  </tbody>\n",
       "</table>\n",
       "</div>"
      ],
      "text/plain": [
       "                    0\n",
       "edu_other        7997\n",
       "edu_status       1120\n",
       "edu_yr           1972\n",
       "join_party       7176\n",
       "property_other   7934\n",
       "hukou_loc           4\n",
       "social_neighbor   796\n",
       "social_friend     796\n",
       "work_status      5049\n",
       "work_yr          5049\n",
       "work_type        5049\n",
       "work_manage      5049\n",
       "invest_other     7971\n",
       "minor_child      1066\n",
       "marital_1st       828\n",
       "s_birth          1718\n",
       "marital_now      1770\n",
       "s_edu            1718\n",
       "s_political      1718\n",
       "s_hukou          1718\n",
       "s_work_exper     1718\n",
       "s_work_status    5435\n",
       "s_work_type      5435"
      ]
     },
     "execution_count": 37,
     "metadata": {},
     "output_type": "execute_result"
    }
   ],
   "source": [
    "queshi[queshi[0]>0]"
   ]
  },
  {
   "cell_type": "code",
   "execution_count": 38,
   "metadata": {
    "ExecuteTime": {
     "end_time": "2021-01-12T16:41:10.762849Z",
     "start_time": "2021-01-12T16:41:10.749883Z"
    }
   },
   "outputs": [],
   "source": [
    "train.dropna(thresh=len(train)*0.70, axis='columns',inplace=True)   # 删除列中缺失值高于 30% 的缺失值"
   ]
  },
  {
   "cell_type": "code",
   "execution_count": 39,
   "metadata": {
    "ExecuteTime": {
     "end_time": "2021-01-12T16:41:11.799119Z",
     "start_time": "2021-01-12T16:41:11.780129Z"
    }
   },
   "outputs": [
    {
     "data": {
      "text/html": [
       "<div>\n",
       "<style scoped>\n",
       "    .dataframe tbody tr th:only-of-type {\n",
       "        vertical-align: middle;\n",
       "    }\n",
       "\n",
       "    .dataframe tbody tr th {\n",
       "        vertical-align: top;\n",
       "    }\n",
       "\n",
       "    .dataframe thead th {\n",
       "        text-align: right;\n",
       "    }\n",
       "</style>\n",
       "<table border=\"1\" class=\"dataframe\">\n",
       "  <thead>\n",
       "    <tr style=\"text-align: right;\">\n",
       "      <th></th>\n",
       "      <th>id</th>\n",
       "      <th>happiness</th>\n",
       "      <th>survey_type</th>\n",
       "      <th>province</th>\n",
       "      <th>city</th>\n",
       "      <th>county</th>\n",
       "      <th>survey_time</th>\n",
       "      <th>gender</th>\n",
       "      <th>birth</th>\n",
       "      <th>nationality</th>\n",
       "      <th>...</th>\n",
       "      <th>public_service_2</th>\n",
       "      <th>public_service_3</th>\n",
       "      <th>public_service_4</th>\n",
       "      <th>public_service_5</th>\n",
       "      <th>public_service_6</th>\n",
       "      <th>public_service_7</th>\n",
       "      <th>public_service_8</th>\n",
       "      <th>public_service_9</th>\n",
       "      <th>Age</th>\n",
       "      <th>income_cut</th>\n",
       "    </tr>\n",
       "  </thead>\n",
       "  <tbody>\n",
       "    <tr>\n",
       "      <th>0</th>\n",
       "      <td>1</td>\n",
       "      <td>4</td>\n",
       "      <td>1</td>\n",
       "      <td>12</td>\n",
       "      <td>32</td>\n",
       "      <td>59</td>\n",
       "      <td>2015</td>\n",
       "      <td>1</td>\n",
       "      <td>1959</td>\n",
       "      <td>1</td>\n",
       "      <td>...</td>\n",
       "      <td>60</td>\n",
       "      <td>50</td>\n",
       "      <td>50</td>\n",
       "      <td>30.0</td>\n",
       "      <td>30</td>\n",
       "      <td>50</td>\n",
       "      <td>50</td>\n",
       "      <td>50</td>\n",
       "      <td>3</td>\n",
       "      <td>3</td>\n",
       "    </tr>\n",
       "    <tr>\n",
       "      <th>1</th>\n",
       "      <td>2</td>\n",
       "      <td>4</td>\n",
       "      <td>2</td>\n",
       "      <td>18</td>\n",
       "      <td>52</td>\n",
       "      <td>85</td>\n",
       "      <td>2015</td>\n",
       "      <td>1</td>\n",
       "      <td>1992</td>\n",
       "      <td>1</td>\n",
       "      <td>...</td>\n",
       "      <td>70</td>\n",
       "      <td>70</td>\n",
       "      <td>80</td>\n",
       "      <td>85.0</td>\n",
       "      <td>70</td>\n",
       "      <td>90</td>\n",
       "      <td>60</td>\n",
       "      <td>60</td>\n",
       "      <td>1</td>\n",
       "      <td>3</td>\n",
       "    </tr>\n",
       "    <tr>\n",
       "      <th>2</th>\n",
       "      <td>3</td>\n",
       "      <td>4</td>\n",
       "      <td>2</td>\n",
       "      <td>29</td>\n",
       "      <td>83</td>\n",
       "      <td>126</td>\n",
       "      <td>2015</td>\n",
       "      <td>2</td>\n",
       "      <td>1967</td>\n",
       "      <td>1</td>\n",
       "      <td>...</td>\n",
       "      <td>80</td>\n",
       "      <td>75</td>\n",
       "      <td>79</td>\n",
       "      <td>80.0</td>\n",
       "      <td>90</td>\n",
       "      <td>90</td>\n",
       "      <td>90</td>\n",
       "      <td>75</td>\n",
       "      <td>2</td>\n",
       "      <td>2</td>\n",
       "    </tr>\n",
       "    <tr>\n",
       "      <th>3</th>\n",
       "      <td>4</td>\n",
       "      <td>5</td>\n",
       "      <td>2</td>\n",
       "      <td>10</td>\n",
       "      <td>28</td>\n",
       "      <td>51</td>\n",
       "      <td>2015</td>\n",
       "      <td>2</td>\n",
       "      <td>1943</td>\n",
       "      <td>1</td>\n",
       "      <td>...</td>\n",
       "      <td>90</td>\n",
       "      <td>70</td>\n",
       "      <td>80</td>\n",
       "      <td>80.0</td>\n",
       "      <td>90</td>\n",
       "      <td>90</td>\n",
       "      <td>80</td>\n",
       "      <td>80</td>\n",
       "      <td>4</td>\n",
       "      <td>2</td>\n",
       "    </tr>\n",
       "    <tr>\n",
       "      <th>4</th>\n",
       "      <td>5</td>\n",
       "      <td>4</td>\n",
       "      <td>1</td>\n",
       "      <td>7</td>\n",
       "      <td>18</td>\n",
       "      <td>36</td>\n",
       "      <td>2015</td>\n",
       "      <td>2</td>\n",
       "      <td>1994</td>\n",
       "      <td>1</td>\n",
       "      <td>...</td>\n",
       "      <td>50</td>\n",
       "      <td>50</td>\n",
       "      <td>50</td>\n",
       "      <td>50.0</td>\n",
       "      <td>50</td>\n",
       "      <td>50</td>\n",
       "      <td>50</td>\n",
       "      <td>50</td>\n",
       "      <td>1</td>\n",
       "      <td>1</td>\n",
       "    </tr>\n",
       "    <tr>\n",
       "      <th>...</th>\n",
       "      <td>...</td>\n",
       "      <td>...</td>\n",
       "      <td>...</td>\n",
       "      <td>...</td>\n",
       "      <td>...</td>\n",
       "      <td>...</td>\n",
       "      <td>...</td>\n",
       "      <td>...</td>\n",
       "      <td>...</td>\n",
       "      <td>...</td>\n",
       "      <td>...</td>\n",
       "      <td>...</td>\n",
       "      <td>...</td>\n",
       "      <td>...</td>\n",
       "      <td>...</td>\n",
       "      <td>...</td>\n",
       "      <td>...</td>\n",
       "      <td>...</td>\n",
       "      <td>...</td>\n",
       "      <td>...</td>\n",
       "      <td>...</td>\n",
       "    </tr>\n",
       "    <tr>\n",
       "      <th>7995</th>\n",
       "      <td>7996</td>\n",
       "      <td>2</td>\n",
       "      <td>2</td>\n",
       "      <td>29</td>\n",
       "      <td>82</td>\n",
       "      <td>124</td>\n",
       "      <td>2015</td>\n",
       "      <td>1</td>\n",
       "      <td>1981</td>\n",
       "      <td>1</td>\n",
       "      <td>...</td>\n",
       "      <td>50</td>\n",
       "      <td>50</td>\n",
       "      <td>50</td>\n",
       "      <td>40.0</td>\n",
       "      <td>50</td>\n",
       "      <td>50</td>\n",
       "      <td>60</td>\n",
       "      <td>50</td>\n",
       "      <td>2</td>\n",
       "      <td>3</td>\n",
       "    </tr>\n",
       "    <tr>\n",
       "      <th>7996</th>\n",
       "      <td>7997</td>\n",
       "      <td>3</td>\n",
       "      <td>1</td>\n",
       "      <td>12</td>\n",
       "      <td>32</td>\n",
       "      <td>61</td>\n",
       "      <td>2015</td>\n",
       "      <td>2</td>\n",
       "      <td>1945</td>\n",
       "      <td>1</td>\n",
       "      <td>...</td>\n",
       "      <td>80</td>\n",
       "      <td>80</td>\n",
       "      <td>80</td>\n",
       "      <td>80.0</td>\n",
       "      <td>60</td>\n",
       "      <td>60</td>\n",
       "      <td>80</td>\n",
       "      <td>80</td>\n",
       "      <td>4</td>\n",
       "      <td>3</td>\n",
       "    </tr>\n",
       "    <tr>\n",
       "      <th>7997</th>\n",
       "      <td>7998</td>\n",
       "      <td>4</td>\n",
       "      <td>1</td>\n",
       "      <td>16</td>\n",
       "      <td>46</td>\n",
       "      <td>78</td>\n",
       "      <td>2015</td>\n",
       "      <td>2</td>\n",
       "      <td>1967</td>\n",
       "      <td>1</td>\n",
       "      <td>...</td>\n",
       "      <td>70</td>\n",
       "      <td>70</td>\n",
       "      <td>80</td>\n",
       "      <td>80.0</td>\n",
       "      <td>70</td>\n",
       "      <td>75</td>\n",
       "      <td>70</td>\n",
       "      <td>75</td>\n",
       "      <td>2</td>\n",
       "      <td>1</td>\n",
       "    </tr>\n",
       "    <tr>\n",
       "      <th>7998</th>\n",
       "      <td>7999</td>\n",
       "      <td>3</td>\n",
       "      <td>1</td>\n",
       "      <td>1</td>\n",
       "      <td>1</td>\n",
       "      <td>8</td>\n",
       "      <td>2015</td>\n",
       "      <td>2</td>\n",
       "      <td>1978</td>\n",
       "      <td>1</td>\n",
       "      <td>...</td>\n",
       "      <td>67</td>\n",
       "      <td>70</td>\n",
       "      <td>69</td>\n",
       "      <td>78.0</td>\n",
       "      <td>60</td>\n",
       "      <td>70</td>\n",
       "      <td>80</td>\n",
       "      <td>70</td>\n",
       "      <td>2</td>\n",
       "      <td>5</td>\n",
       "    </tr>\n",
       "    <tr>\n",
       "      <th>7999</th>\n",
       "      <td>8000</td>\n",
       "      <td>4</td>\n",
       "      <td>1</td>\n",
       "      <td>1</td>\n",
       "      <td>1</td>\n",
       "      <td>3</td>\n",
       "      <td>2015</td>\n",
       "      <td>2</td>\n",
       "      <td>1991</td>\n",
       "      <td>1</td>\n",
       "      <td>...</td>\n",
       "      <td>80</td>\n",
       "      <td>80</td>\n",
       "      <td>80</td>\n",
       "      <td>80.0</td>\n",
       "      <td>80</td>\n",
       "      <td>80</td>\n",
       "      <td>80</td>\n",
       "      <td>80</td>\n",
       "      <td>1</td>\n",
       "      <td>4</td>\n",
       "    </tr>\n",
       "  </tbody>\n",
       "</table>\n",
       "<p>7988 rows × 132 columns</p>\n",
       "</div>"
      ],
      "text/plain": [
       "        id  happiness  survey_type  province  city  county  survey_time  \\\n",
       "0        1          4            1        12    32      59         2015   \n",
       "1        2          4            2        18    52      85         2015   \n",
       "2        3          4            2        29    83     126         2015   \n",
       "3        4          5            2        10    28      51         2015   \n",
       "4        5          4            1         7    18      36         2015   \n",
       "...    ...        ...          ...       ...   ...     ...          ...   \n",
       "7995  7996          2            2        29    82     124         2015   \n",
       "7996  7997          3            1        12    32      61         2015   \n",
       "7997  7998          4            1        16    46      78         2015   \n",
       "7998  7999          3            1         1     1       8         2015   \n",
       "7999  8000          4            1         1     1       3         2015   \n",
       "\n",
       "      gender  birth  nationality  ...  public_service_2  public_service_3  \\\n",
       "0          1   1959            1  ...                60                50   \n",
       "1          1   1992            1  ...                70                70   \n",
       "2          2   1967            1  ...                80                75   \n",
       "3          2   1943            1  ...                90                70   \n",
       "4          2   1994            1  ...                50                50   \n",
       "...      ...    ...          ...  ...               ...               ...   \n",
       "7995       1   1981            1  ...                50                50   \n",
       "7996       2   1945            1  ...                80                80   \n",
       "7997       2   1967            1  ...                70                70   \n",
       "7998       2   1978            1  ...                67                70   \n",
       "7999       2   1991            1  ...                80                80   \n",
       "\n",
       "      public_service_4  public_service_5  public_service_6  public_service_7  \\\n",
       "0                   50              30.0                30                50   \n",
       "1                   80              85.0                70                90   \n",
       "2                   79              80.0                90                90   \n",
       "3                   80              80.0                90                90   \n",
       "4                   50              50.0                50                50   \n",
       "...                ...               ...               ...               ...   \n",
       "7995                50              40.0                50                50   \n",
       "7996                80              80.0                60                60   \n",
       "7997                80              80.0                70                75   \n",
       "7998                69              78.0                60                70   \n",
       "7999                80              80.0                80                80   \n",
       "\n",
       "      public_service_8  public_service_9  Age  income_cut  \n",
       "0                   50                50    3           3  \n",
       "1                   60                60    1           3  \n",
       "2                   90                75    2           2  \n",
       "3                   80                80    4           2  \n",
       "4                   50                50    1           1  \n",
       "...                ...               ...  ...         ...  \n",
       "7995                60                50    2           3  \n",
       "7996                80                80    4           3  \n",
       "7997                70                75    2           1  \n",
       "7998                80                70    2           5  \n",
       "7999                80                80    1           4  \n",
       "\n",
       "[7988 rows x 132 columns]"
      ]
     },
     "execution_count": 39,
     "metadata": {},
     "output_type": "execute_result"
    }
   ],
   "source": [
    "train"
   ]
  },
  {
   "cell_type": "markdown",
   "metadata": {},
   "source": [
    "#### KNNImputer填充缺失值"
   ]
  },
  {
   "cell_type": "code",
   "execution_count": 19,
   "metadata": {
    "ExecuteTime": {
     "end_time": "2021-01-12T14:04:47.004434Z",
     "start_time": "2021-01-12T14:04:46.979501Z"
    }
   },
   "outputs": [
    {
     "data": {
      "text/html": [
       "<div>\n",
       "<style scoped>\n",
       "    .dataframe tbody tr th:only-of-type {\n",
       "        vertical-align: middle;\n",
       "    }\n",
       "\n",
       "    .dataframe tbody tr th {\n",
       "        vertical-align: top;\n",
       "    }\n",
       "\n",
       "    .dataframe thead th {\n",
       "        text-align: right;\n",
       "    }\n",
       "</style>\n",
       "<table border=\"1\" class=\"dataframe\">\n",
       "  <thead>\n",
       "    <tr style=\"text-align: right;\">\n",
       "      <th></th>\n",
       "      <th>id</th>\n",
       "      <th>happiness</th>\n",
       "      <th>survey_type</th>\n",
       "      <th>province</th>\n",
       "      <th>city</th>\n",
       "      <th>county</th>\n",
       "      <th>survey_time</th>\n",
       "      <th>gender</th>\n",
       "      <th>birth</th>\n",
       "      <th>nationality</th>\n",
       "      <th>...</th>\n",
       "      <th>public_service_2</th>\n",
       "      <th>public_service_3</th>\n",
       "      <th>public_service_4</th>\n",
       "      <th>public_service_5</th>\n",
       "      <th>public_service_6</th>\n",
       "      <th>public_service_7</th>\n",
       "      <th>public_service_8</th>\n",
       "      <th>public_service_9</th>\n",
       "      <th>Age</th>\n",
       "      <th>income_cut</th>\n",
       "    </tr>\n",
       "  </thead>\n",
       "  <tbody>\n",
       "    <tr>\n",
       "      <th>0</th>\n",
       "      <td>1</td>\n",
       "      <td>4</td>\n",
       "      <td>1</td>\n",
       "      <td>12</td>\n",
       "      <td>32</td>\n",
       "      <td>59</td>\n",
       "      <td>2015</td>\n",
       "      <td>1</td>\n",
       "      <td>1959</td>\n",
       "      <td>1</td>\n",
       "      <td>...</td>\n",
       "      <td>60</td>\n",
       "      <td>50</td>\n",
       "      <td>50</td>\n",
       "      <td>30.0</td>\n",
       "      <td>30</td>\n",
       "      <td>50</td>\n",
       "      <td>50</td>\n",
       "      <td>50</td>\n",
       "      <td>3</td>\n",
       "      <td>3</td>\n",
       "    </tr>\n",
       "    <tr>\n",
       "      <th>1</th>\n",
       "      <td>2</td>\n",
       "      <td>4</td>\n",
       "      <td>2</td>\n",
       "      <td>18</td>\n",
       "      <td>52</td>\n",
       "      <td>85</td>\n",
       "      <td>2015</td>\n",
       "      <td>1</td>\n",
       "      <td>1992</td>\n",
       "      <td>1</td>\n",
       "      <td>...</td>\n",
       "      <td>70</td>\n",
       "      <td>70</td>\n",
       "      <td>80</td>\n",
       "      <td>85.0</td>\n",
       "      <td>70</td>\n",
       "      <td>90</td>\n",
       "      <td>60</td>\n",
       "      <td>60</td>\n",
       "      <td>1</td>\n",
       "      <td>3</td>\n",
       "    </tr>\n",
       "    <tr>\n",
       "      <th>2</th>\n",
       "      <td>3</td>\n",
       "      <td>4</td>\n",
       "      <td>2</td>\n",
       "      <td>29</td>\n",
       "      <td>83</td>\n",
       "      <td>126</td>\n",
       "      <td>2015</td>\n",
       "      <td>2</td>\n",
       "      <td>1967</td>\n",
       "      <td>1</td>\n",
       "      <td>...</td>\n",
       "      <td>80</td>\n",
       "      <td>75</td>\n",
       "      <td>79</td>\n",
       "      <td>80.0</td>\n",
       "      <td>90</td>\n",
       "      <td>90</td>\n",
       "      <td>90</td>\n",
       "      <td>75</td>\n",
       "      <td>2</td>\n",
       "      <td>2</td>\n",
       "    </tr>\n",
       "    <tr>\n",
       "      <th>3</th>\n",
       "      <td>4</td>\n",
       "      <td>5</td>\n",
       "      <td>2</td>\n",
       "      <td>10</td>\n",
       "      <td>28</td>\n",
       "      <td>51</td>\n",
       "      <td>2015</td>\n",
       "      <td>2</td>\n",
       "      <td>1943</td>\n",
       "      <td>1</td>\n",
       "      <td>...</td>\n",
       "      <td>90</td>\n",
       "      <td>70</td>\n",
       "      <td>80</td>\n",
       "      <td>80.0</td>\n",
       "      <td>90</td>\n",
       "      <td>90</td>\n",
       "      <td>80</td>\n",
       "      <td>80</td>\n",
       "      <td>4</td>\n",
       "      <td>2</td>\n",
       "    </tr>\n",
       "    <tr>\n",
       "      <th>4</th>\n",
       "      <td>5</td>\n",
       "      <td>4</td>\n",
       "      <td>1</td>\n",
       "      <td>7</td>\n",
       "      <td>18</td>\n",
       "      <td>36</td>\n",
       "      <td>2015</td>\n",
       "      <td>2</td>\n",
       "      <td>1994</td>\n",
       "      <td>1</td>\n",
       "      <td>...</td>\n",
       "      <td>50</td>\n",
       "      <td>50</td>\n",
       "      <td>50</td>\n",
       "      <td>50.0</td>\n",
       "      <td>50</td>\n",
       "      <td>50</td>\n",
       "      <td>50</td>\n",
       "      <td>50</td>\n",
       "      <td>1</td>\n",
       "      <td>1</td>\n",
       "    </tr>\n",
       "    <tr>\n",
       "      <th>...</th>\n",
       "      <td>...</td>\n",
       "      <td>...</td>\n",
       "      <td>...</td>\n",
       "      <td>...</td>\n",
       "      <td>...</td>\n",
       "      <td>...</td>\n",
       "      <td>...</td>\n",
       "      <td>...</td>\n",
       "      <td>...</td>\n",
       "      <td>...</td>\n",
       "      <td>...</td>\n",
       "      <td>...</td>\n",
       "      <td>...</td>\n",
       "      <td>...</td>\n",
       "      <td>...</td>\n",
       "      <td>...</td>\n",
       "      <td>...</td>\n",
       "      <td>...</td>\n",
       "      <td>...</td>\n",
       "      <td>...</td>\n",
       "      <td>...</td>\n",
       "    </tr>\n",
       "    <tr>\n",
       "      <th>996</th>\n",
       "      <td>997</td>\n",
       "      <td>4</td>\n",
       "      <td>2</td>\n",
       "      <td>5</td>\n",
       "      <td>9</td>\n",
       "      <td>25</td>\n",
       "      <td>2015</td>\n",
       "      <td>1</td>\n",
       "      <td>1937</td>\n",
       "      <td>1</td>\n",
       "      <td>...</td>\n",
       "      <td>70</td>\n",
       "      <td>70</td>\n",
       "      <td>80</td>\n",
       "      <td>70.0</td>\n",
       "      <td>70</td>\n",
       "      <td>70</td>\n",
       "      <td>70</td>\n",
       "      <td>70</td>\n",
       "      <td>4</td>\n",
       "      <td>2</td>\n",
       "    </tr>\n",
       "    <tr>\n",
       "      <th>997</th>\n",
       "      <td>998</td>\n",
       "      <td>4</td>\n",
       "      <td>1</td>\n",
       "      <td>18</td>\n",
       "      <td>51</td>\n",
       "      <td>84</td>\n",
       "      <td>2015</td>\n",
       "      <td>2</td>\n",
       "      <td>1952</td>\n",
       "      <td>1</td>\n",
       "      <td>...</td>\n",
       "      <td>60</td>\n",
       "      <td>40</td>\n",
       "      <td>70</td>\n",
       "      <td>60.0</td>\n",
       "      <td>65</td>\n",
       "      <td>65</td>\n",
       "      <td>50</td>\n",
       "      <td>50</td>\n",
       "      <td>3</td>\n",
       "      <td>2</td>\n",
       "    </tr>\n",
       "    <tr>\n",
       "      <th>998</th>\n",
       "      <td>999</td>\n",
       "      <td>5</td>\n",
       "      <td>1</td>\n",
       "      <td>12</td>\n",
       "      <td>32</td>\n",
       "      <td>56</td>\n",
       "      <td>2015</td>\n",
       "      <td>2</td>\n",
       "      <td>1954</td>\n",
       "      <td>1</td>\n",
       "      <td>...</td>\n",
       "      <td>30</td>\n",
       "      <td>50</td>\n",
       "      <td>70</td>\n",
       "      <td>50.0</td>\n",
       "      <td>60</td>\n",
       "      <td>50</td>\n",
       "      <td>50</td>\n",
       "      <td>50</td>\n",
       "      <td>3</td>\n",
       "      <td>4</td>\n",
       "    </tr>\n",
       "    <tr>\n",
       "      <th>999</th>\n",
       "      <td>1000</td>\n",
       "      <td>5</td>\n",
       "      <td>2</td>\n",
       "      <td>18</td>\n",
       "      <td>52</td>\n",
       "      <td>85</td>\n",
       "      <td>2015</td>\n",
       "      <td>2</td>\n",
       "      <td>1955</td>\n",
       "      <td>1</td>\n",
       "      <td>...</td>\n",
       "      <td>70</td>\n",
       "      <td>70</td>\n",
       "      <td>80</td>\n",
       "      <td>70.0</td>\n",
       "      <td>70</td>\n",
       "      <td>80</td>\n",
       "      <td>70</td>\n",
       "      <td>70</td>\n",
       "      <td>3</td>\n",
       "      <td>2</td>\n",
       "    </tr>\n",
       "    <tr>\n",
       "      <th>1000</th>\n",
       "      <td>1001</td>\n",
       "      <td>5</td>\n",
       "      <td>2</td>\n",
       "      <td>11</td>\n",
       "      <td>30</td>\n",
       "      <td>53</td>\n",
       "      <td>2015</td>\n",
       "      <td>2</td>\n",
       "      <td>1984</td>\n",
       "      <td>1</td>\n",
       "      <td>...</td>\n",
       "      <td>60</td>\n",
       "      <td>50</td>\n",
       "      <td>80</td>\n",
       "      <td>50.0</td>\n",
       "      <td>70</td>\n",
       "      <td>40</td>\n",
       "      <td>65</td>\n",
       "      <td>65</td>\n",
       "      <td>1</td>\n",
       "      <td>4</td>\n",
       "    </tr>\n",
       "  </tbody>\n",
       "</table>\n",
       "<p>1000 rows × 132 columns</p>\n",
       "</div>"
      ],
      "text/plain": [
       "        id  happiness  survey_type  province  city  county  survey_time  \\\n",
       "0        1          4            1        12    32      59         2015   \n",
       "1        2          4            2        18    52      85         2015   \n",
       "2        3          4            2        29    83     126         2015   \n",
       "3        4          5            2        10    28      51         2015   \n",
       "4        5          4            1         7    18      36         2015   \n",
       "...    ...        ...          ...       ...   ...     ...          ...   \n",
       "996    997          4            2         5     9      25         2015   \n",
       "997    998          4            1        18    51      84         2015   \n",
       "998    999          5            1        12    32      56         2015   \n",
       "999   1000          5            2        18    52      85         2015   \n",
       "1000  1001          5            2        11    30      53         2015   \n",
       "\n",
       "      gender  birth  nationality  ...  public_service_2  public_service_3  \\\n",
       "0          1   1959            1  ...                60                50   \n",
       "1          1   1992            1  ...                70                70   \n",
       "2          2   1967            1  ...                80                75   \n",
       "3          2   1943            1  ...                90                70   \n",
       "4          2   1994            1  ...                50                50   \n",
       "...      ...    ...          ...  ...               ...               ...   \n",
       "996        1   1937            1  ...                70                70   \n",
       "997        2   1952            1  ...                60                40   \n",
       "998        2   1954            1  ...                30                50   \n",
       "999        2   1955            1  ...                70                70   \n",
       "1000       2   1984            1  ...                60                50   \n",
       "\n",
       "      public_service_4  public_service_5  public_service_6  public_service_7  \\\n",
       "0                   50              30.0                30                50   \n",
       "1                   80              85.0                70                90   \n",
       "2                   79              80.0                90                90   \n",
       "3                   80              80.0                90                90   \n",
       "4                   50              50.0                50                50   \n",
       "...                ...               ...               ...               ...   \n",
       "996                 80              70.0                70                70   \n",
       "997                 70              60.0                65                65   \n",
       "998                 70              50.0                60                50   \n",
       "999                 80              70.0                70                80   \n",
       "1000                80              50.0                70                40   \n",
       "\n",
       "      public_service_8  public_service_9  Age  income_cut  \n",
       "0                   50                50    3           3  \n",
       "1                   60                60    1           3  \n",
       "2                   90                75    2           2  \n",
       "3                   80                80    4           2  \n",
       "4                   50                50    1           1  \n",
       "...                ...               ...  ...         ...  \n",
       "996                 70                70    4           2  \n",
       "997                 50                50    3           2  \n",
       "998                 50                50    3           4  \n",
       "999                 70                70    3           2  \n",
       "1000                65                65    1           4  \n",
       "\n",
       "[1000 rows x 132 columns]"
      ]
     },
     "execution_count": 19,
     "metadata": {},
     "output_type": "execute_result"
    }
   ],
   "source": [
    "from sklearn.impute import KNNImputer  #* impute.KNNImputer直接使用KNN的算法填补缺失值\n",
    "sample=train[:1000]\n",
    "sample\n"
   ]
  },
  {
   "cell_type": "code",
   "execution_count": 16,
   "metadata": {
    "ExecuteTime": {
     "end_time": "2021-01-06T17:39:22.053928Z",
     "start_time": "2021-01-06T17:39:22.046947Z"
    }
   },
   "outputs": [
    {
     "data": {
      "text/plain": [
       "473"
      ]
     },
     "execution_count": 16,
     "metadata": {},
     "output_type": "execute_result"
    }
   ],
   "source": [
    "sample.isnull().any(axis = 1).sum()"
   ]
  },
  {
   "cell_type": "code",
   "execution_count": 76,
   "metadata": {
    "ExecuteTime": {
     "end_time": "2021-01-05T15:36:42.753829Z",
     "start_time": "2021-01-05T15:36:42.721940Z"
    }
   },
   "outputs": [],
   "source": [
    "imputer = KNNImputer(n_neighbors=5)\n",
    "sample = imputer.fit_transform(sample)"
   ]
  },
  {
   "cell_type": "code",
   "execution_count": 39,
   "metadata": {
    "ExecuteTime": {
     "end_time": "2021-01-12T14:08:28.465212Z",
     "start_time": "2021-01-12T14:08:28.445266Z"
    }
   },
   "outputs": [
    {
     "data": {
      "text/html": [
       "<div>\n",
       "<style scoped>\n",
       "    .dataframe tbody tr th:only-of-type {\n",
       "        vertical-align: middle;\n",
       "    }\n",
       "\n",
       "    .dataframe tbody tr th {\n",
       "        vertical-align: top;\n",
       "    }\n",
       "\n",
       "    .dataframe thead th {\n",
       "        text-align: right;\n",
       "    }\n",
       "</style>\n",
       "<table border=\"1\" class=\"dataframe\">\n",
       "  <thead>\n",
       "    <tr style=\"text-align: right;\">\n",
       "      <th></th>\n",
       "      <th>id</th>\n",
       "      <th>happiness</th>\n",
       "      <th>survey_type</th>\n",
       "      <th>province</th>\n",
       "      <th>city</th>\n",
       "      <th>county</th>\n",
       "      <th>survey_time</th>\n",
       "      <th>gender</th>\n",
       "      <th>birth</th>\n",
       "      <th>nationality</th>\n",
       "      <th>...</th>\n",
       "      <th>public_service_2</th>\n",
       "      <th>public_service_3</th>\n",
       "      <th>public_service_4</th>\n",
       "      <th>public_service_5</th>\n",
       "      <th>public_service_6</th>\n",
       "      <th>public_service_7</th>\n",
       "      <th>public_service_8</th>\n",
       "      <th>public_service_9</th>\n",
       "      <th>Age</th>\n",
       "      <th>income_cut</th>\n",
       "    </tr>\n",
       "  </thead>\n",
       "  <tbody>\n",
       "    <tr>\n",
       "      <th>0</th>\n",
       "      <td>1</td>\n",
       "      <td>4</td>\n",
       "      <td>1</td>\n",
       "      <td>12</td>\n",
       "      <td>32</td>\n",
       "      <td>59</td>\n",
       "      <td>2015</td>\n",
       "      <td>1</td>\n",
       "      <td>1959</td>\n",
       "      <td>1</td>\n",
       "      <td>...</td>\n",
       "      <td>60</td>\n",
       "      <td>50</td>\n",
       "      <td>50</td>\n",
       "      <td>30.0</td>\n",
       "      <td>30</td>\n",
       "      <td>50</td>\n",
       "      <td>50</td>\n",
       "      <td>50</td>\n",
       "      <td>3</td>\n",
       "      <td>3</td>\n",
       "    </tr>\n",
       "    <tr>\n",
       "      <th>1</th>\n",
       "      <td>2</td>\n",
       "      <td>4</td>\n",
       "      <td>2</td>\n",
       "      <td>18</td>\n",
       "      <td>52</td>\n",
       "      <td>85</td>\n",
       "      <td>2015</td>\n",
       "      <td>1</td>\n",
       "      <td>1992</td>\n",
       "      <td>1</td>\n",
       "      <td>...</td>\n",
       "      <td>70</td>\n",
       "      <td>70</td>\n",
       "      <td>80</td>\n",
       "      <td>85.0</td>\n",
       "      <td>70</td>\n",
       "      <td>90</td>\n",
       "      <td>60</td>\n",
       "      <td>60</td>\n",
       "      <td>1</td>\n",
       "      <td>3</td>\n",
       "    </tr>\n",
       "    <tr>\n",
       "      <th>2</th>\n",
       "      <td>3</td>\n",
       "      <td>4</td>\n",
       "      <td>2</td>\n",
       "      <td>29</td>\n",
       "      <td>83</td>\n",
       "      <td>126</td>\n",
       "      <td>2015</td>\n",
       "      <td>2</td>\n",
       "      <td>1967</td>\n",
       "      <td>1</td>\n",
       "      <td>...</td>\n",
       "      <td>80</td>\n",
       "      <td>75</td>\n",
       "      <td>79</td>\n",
       "      <td>80.0</td>\n",
       "      <td>90</td>\n",
       "      <td>90</td>\n",
       "      <td>90</td>\n",
       "      <td>75</td>\n",
       "      <td>2</td>\n",
       "      <td>2</td>\n",
       "    </tr>\n",
       "    <tr>\n",
       "      <th>3</th>\n",
       "      <td>4</td>\n",
       "      <td>5</td>\n",
       "      <td>2</td>\n",
       "      <td>10</td>\n",
       "      <td>28</td>\n",
       "      <td>51</td>\n",
       "      <td>2015</td>\n",
       "      <td>2</td>\n",
       "      <td>1943</td>\n",
       "      <td>1</td>\n",
       "      <td>...</td>\n",
       "      <td>90</td>\n",
       "      <td>70</td>\n",
       "      <td>80</td>\n",
       "      <td>80.0</td>\n",
       "      <td>90</td>\n",
       "      <td>90</td>\n",
       "      <td>80</td>\n",
       "      <td>80</td>\n",
       "      <td>4</td>\n",
       "      <td>2</td>\n",
       "    </tr>\n",
       "    <tr>\n",
       "      <th>4</th>\n",
       "      <td>5</td>\n",
       "      <td>4</td>\n",
       "      <td>1</td>\n",
       "      <td>7</td>\n",
       "      <td>18</td>\n",
       "      <td>36</td>\n",
       "      <td>2015</td>\n",
       "      <td>2</td>\n",
       "      <td>1994</td>\n",
       "      <td>1</td>\n",
       "      <td>...</td>\n",
       "      <td>50</td>\n",
       "      <td>50</td>\n",
       "      <td>50</td>\n",
       "      <td>50.0</td>\n",
       "      <td>50</td>\n",
       "      <td>50</td>\n",
       "      <td>50</td>\n",
       "      <td>50</td>\n",
       "      <td>1</td>\n",
       "      <td>1</td>\n",
       "    </tr>\n",
       "    <tr>\n",
       "      <th>...</th>\n",
       "      <td>...</td>\n",
       "      <td>...</td>\n",
       "      <td>...</td>\n",
       "      <td>...</td>\n",
       "      <td>...</td>\n",
       "      <td>...</td>\n",
       "      <td>...</td>\n",
       "      <td>...</td>\n",
       "      <td>...</td>\n",
       "      <td>...</td>\n",
       "      <td>...</td>\n",
       "      <td>...</td>\n",
       "      <td>...</td>\n",
       "      <td>...</td>\n",
       "      <td>...</td>\n",
       "      <td>...</td>\n",
       "      <td>...</td>\n",
       "      <td>...</td>\n",
       "      <td>...</td>\n",
       "      <td>...</td>\n",
       "      <td>...</td>\n",
       "    </tr>\n",
       "    <tr>\n",
       "      <th>7995</th>\n",
       "      <td>7996</td>\n",
       "      <td>2</td>\n",
       "      <td>2</td>\n",
       "      <td>29</td>\n",
       "      <td>82</td>\n",
       "      <td>124</td>\n",
       "      <td>2015</td>\n",
       "      <td>1</td>\n",
       "      <td>1981</td>\n",
       "      <td>1</td>\n",
       "      <td>...</td>\n",
       "      <td>50</td>\n",
       "      <td>50</td>\n",
       "      <td>50</td>\n",
       "      <td>40.0</td>\n",
       "      <td>50</td>\n",
       "      <td>50</td>\n",
       "      <td>60</td>\n",
       "      <td>50</td>\n",
       "      <td>2</td>\n",
       "      <td>3</td>\n",
       "    </tr>\n",
       "    <tr>\n",
       "      <th>7996</th>\n",
       "      <td>7997</td>\n",
       "      <td>3</td>\n",
       "      <td>1</td>\n",
       "      <td>12</td>\n",
       "      <td>32</td>\n",
       "      <td>61</td>\n",
       "      <td>2015</td>\n",
       "      <td>2</td>\n",
       "      <td>1945</td>\n",
       "      <td>1</td>\n",
       "      <td>...</td>\n",
       "      <td>80</td>\n",
       "      <td>80</td>\n",
       "      <td>80</td>\n",
       "      <td>80.0</td>\n",
       "      <td>60</td>\n",
       "      <td>60</td>\n",
       "      <td>80</td>\n",
       "      <td>80</td>\n",
       "      <td>4</td>\n",
       "      <td>3</td>\n",
       "    </tr>\n",
       "    <tr>\n",
       "      <th>7997</th>\n",
       "      <td>7998</td>\n",
       "      <td>4</td>\n",
       "      <td>1</td>\n",
       "      <td>16</td>\n",
       "      <td>46</td>\n",
       "      <td>78</td>\n",
       "      <td>2015</td>\n",
       "      <td>2</td>\n",
       "      <td>1967</td>\n",
       "      <td>1</td>\n",
       "      <td>...</td>\n",
       "      <td>70</td>\n",
       "      <td>70</td>\n",
       "      <td>80</td>\n",
       "      <td>80.0</td>\n",
       "      <td>70</td>\n",
       "      <td>75</td>\n",
       "      <td>70</td>\n",
       "      <td>75</td>\n",
       "      <td>2</td>\n",
       "      <td>1</td>\n",
       "    </tr>\n",
       "    <tr>\n",
       "      <th>7998</th>\n",
       "      <td>7999</td>\n",
       "      <td>3</td>\n",
       "      <td>1</td>\n",
       "      <td>1</td>\n",
       "      <td>1</td>\n",
       "      <td>8</td>\n",
       "      <td>2015</td>\n",
       "      <td>2</td>\n",
       "      <td>1978</td>\n",
       "      <td>1</td>\n",
       "      <td>...</td>\n",
       "      <td>67</td>\n",
       "      <td>70</td>\n",
       "      <td>69</td>\n",
       "      <td>78.0</td>\n",
       "      <td>60</td>\n",
       "      <td>70</td>\n",
       "      <td>80</td>\n",
       "      <td>70</td>\n",
       "      <td>2</td>\n",
       "      <td>5</td>\n",
       "    </tr>\n",
       "    <tr>\n",
       "      <th>7999</th>\n",
       "      <td>8000</td>\n",
       "      <td>4</td>\n",
       "      <td>1</td>\n",
       "      <td>1</td>\n",
       "      <td>1</td>\n",
       "      <td>3</td>\n",
       "      <td>2015</td>\n",
       "      <td>2</td>\n",
       "      <td>1991</td>\n",
       "      <td>1</td>\n",
       "      <td>...</td>\n",
       "      <td>80</td>\n",
       "      <td>80</td>\n",
       "      <td>80</td>\n",
       "      <td>80.0</td>\n",
       "      <td>80</td>\n",
       "      <td>80</td>\n",
       "      <td>80</td>\n",
       "      <td>80</td>\n",
       "      <td>1</td>\n",
       "      <td>4</td>\n",
       "    </tr>\n",
       "  </tbody>\n",
       "</table>\n",
       "<p>7988 rows × 132 columns</p>\n",
       "</div>"
      ],
      "text/plain": [
       "        id  happiness  survey_type  province  city  county  survey_time  \\\n",
       "0        1          4            1        12    32      59         2015   \n",
       "1        2          4            2        18    52      85         2015   \n",
       "2        3          4            2        29    83     126         2015   \n",
       "3        4          5            2        10    28      51         2015   \n",
       "4        5          4            1         7    18      36         2015   \n",
       "...    ...        ...          ...       ...   ...     ...          ...   \n",
       "7995  7996          2            2        29    82     124         2015   \n",
       "7996  7997          3            1        12    32      61         2015   \n",
       "7997  7998          4            1        16    46      78         2015   \n",
       "7998  7999          3            1         1     1       8         2015   \n",
       "7999  8000          4            1         1     1       3         2015   \n",
       "\n",
       "      gender  birth  nationality  ...  public_service_2  public_service_3  \\\n",
       "0          1   1959            1  ...                60                50   \n",
       "1          1   1992            1  ...                70                70   \n",
       "2          2   1967            1  ...                80                75   \n",
       "3          2   1943            1  ...                90                70   \n",
       "4          2   1994            1  ...                50                50   \n",
       "...      ...    ...          ...  ...               ...               ...   \n",
       "7995       1   1981            1  ...                50                50   \n",
       "7996       2   1945            1  ...                80                80   \n",
       "7997       2   1967            1  ...                70                70   \n",
       "7998       2   1978            1  ...                67                70   \n",
       "7999       2   1991            1  ...                80                80   \n",
       "\n",
       "      public_service_4  public_service_5  public_service_6  public_service_7  \\\n",
       "0                   50              30.0                30                50   \n",
       "1                   80              85.0                70                90   \n",
       "2                   79              80.0                90                90   \n",
       "3                   80              80.0                90                90   \n",
       "4                   50              50.0                50                50   \n",
       "...                ...               ...               ...               ...   \n",
       "7995                50              40.0                50                50   \n",
       "7996                80              80.0                60                60   \n",
       "7997                80              80.0                70                75   \n",
       "7998                69              78.0                60                70   \n",
       "7999                80              80.0                80                80   \n",
       "\n",
       "      public_service_8  public_service_9  Age  income_cut  \n",
       "0                   50                50    3           3  \n",
       "1                   60                60    1           3  \n",
       "2                   90                75    2           2  \n",
       "3                   80                80    4           2  \n",
       "4                   50                50    1           1  \n",
       "...                ...               ...  ...         ...  \n",
       "7995                60                50    2           3  \n",
       "7996                80                80    4           3  \n",
       "7997                70                75    2           1  \n",
       "7998                80                70    2           5  \n",
       "7999                80                80    1           4  \n",
       "\n",
       "[7988 rows x 132 columns]"
      ]
     },
     "execution_count": 39,
     "metadata": {},
     "output_type": "execute_result"
    }
   ],
   "source": [
    "train"
   ]
  },
  {
   "cell_type": "code",
   "execution_count": 40,
   "metadata": {
    "ExecuteTime": {
     "end_time": "2021-01-12T16:41:18.091830Z",
     "start_time": "2021-01-12T16:41:18.086886Z"
    }
   },
   "outputs": [
    {
     "data": {
      "text/plain": [
       "Index(['id', 'happiness', 'survey_type', 'province', 'city', 'county',\n",
       "       'survey_time', 'gender', 'birth', 'nationality',\n",
       "       ...\n",
       "       'public_service_2', 'public_service_3', 'public_service_4',\n",
       "       'public_service_5', 'public_service_6', 'public_service_7',\n",
       "       'public_service_8', 'public_service_9', 'Age', 'income_cut'],\n",
       "      dtype='object', length=132)"
      ]
     },
     "execution_count": 40,
     "metadata": {},
     "output_type": "execute_result"
    }
   ],
   "source": [
    "col = train.columns\n",
    "col"
   ]
  },
  {
   "cell_type": "code",
   "execution_count": 77,
   "metadata": {
    "ExecuteTime": {
     "end_time": "2021-01-05T15:36:45.159500Z",
     "start_time": "2021-01-05T15:36:45.155465Z"
    }
   },
   "outputs": [],
   "source": [
    "sample = pd.DataFrame(sample,columns=col)"
   ]
  },
  {
   "cell_type": "code",
   "execution_count": 78,
   "metadata": {
    "ExecuteTime": {
     "end_time": "2021-01-05T15:36:45.659118Z",
     "start_time": "2021-01-05T15:36:45.630194Z"
    }
   },
   "outputs": [
    {
     "data": {
      "text/html": [
       "<div>\n",
       "<style scoped>\n",
       "    .dataframe tbody tr th:only-of-type {\n",
       "        vertical-align: middle;\n",
       "    }\n",
       "\n",
       "    .dataframe tbody tr th {\n",
       "        vertical-align: top;\n",
       "    }\n",
       "\n",
       "    .dataframe thead th {\n",
       "        text-align: right;\n",
       "    }\n",
       "</style>\n",
       "<table border=\"1\" class=\"dataframe\">\n",
       "  <thead>\n",
       "    <tr style=\"text-align: right;\">\n",
       "      <th></th>\n",
       "      <th>id</th>\n",
       "      <th>happiness</th>\n",
       "      <th>survey_type</th>\n",
       "      <th>province</th>\n",
       "      <th>city</th>\n",
       "      <th>county</th>\n",
       "      <th>survey_time</th>\n",
       "      <th>gender</th>\n",
       "      <th>birth</th>\n",
       "      <th>nationality</th>\n",
       "      <th>...</th>\n",
       "      <th>public_service_1</th>\n",
       "      <th>public_service_2</th>\n",
       "      <th>public_service_3</th>\n",
       "      <th>public_service_4</th>\n",
       "      <th>public_service_5</th>\n",
       "      <th>public_service_6</th>\n",
       "      <th>public_service_7</th>\n",
       "      <th>public_service_8</th>\n",
       "      <th>public_service_9</th>\n",
       "      <th>Age</th>\n",
       "    </tr>\n",
       "  </thead>\n",
       "  <tbody>\n",
       "    <tr>\n",
       "      <th>0</th>\n",
       "      <td>1.0</td>\n",
       "      <td>4.0</td>\n",
       "      <td>1.0</td>\n",
       "      <td>12.0</td>\n",
       "      <td>32.0</td>\n",
       "      <td>59.0</td>\n",
       "      <td>2015.0</td>\n",
       "      <td>1.0</td>\n",
       "      <td>1959.0</td>\n",
       "      <td>1.0</td>\n",
       "      <td>...</td>\n",
       "      <td>50.0</td>\n",
       "      <td>60.0</td>\n",
       "      <td>50.0</td>\n",
       "      <td>50.0</td>\n",
       "      <td>30.0</td>\n",
       "      <td>30.0</td>\n",
       "      <td>50.0</td>\n",
       "      <td>50.0</td>\n",
       "      <td>50.0</td>\n",
       "      <td>3.0</td>\n",
       "    </tr>\n",
       "    <tr>\n",
       "      <th>1</th>\n",
       "      <td>2.0</td>\n",
       "      <td>4.0</td>\n",
       "      <td>2.0</td>\n",
       "      <td>18.0</td>\n",
       "      <td>52.0</td>\n",
       "      <td>85.0</td>\n",
       "      <td>2015.0</td>\n",
       "      <td>1.0</td>\n",
       "      <td>1992.0</td>\n",
       "      <td>1.0</td>\n",
       "      <td>...</td>\n",
       "      <td>90.0</td>\n",
       "      <td>70.0</td>\n",
       "      <td>70.0</td>\n",
       "      <td>80.0</td>\n",
       "      <td>85.0</td>\n",
       "      <td>70.0</td>\n",
       "      <td>90.0</td>\n",
       "      <td>60.0</td>\n",
       "      <td>60.0</td>\n",
       "      <td>1.0</td>\n",
       "    </tr>\n",
       "    <tr>\n",
       "      <th>2</th>\n",
       "      <td>3.0</td>\n",
       "      <td>4.0</td>\n",
       "      <td>2.0</td>\n",
       "      <td>29.0</td>\n",
       "      <td>83.0</td>\n",
       "      <td>126.0</td>\n",
       "      <td>2015.0</td>\n",
       "      <td>2.0</td>\n",
       "      <td>1967.0</td>\n",
       "      <td>1.0</td>\n",
       "      <td>...</td>\n",
       "      <td>90.0</td>\n",
       "      <td>80.0</td>\n",
       "      <td>75.0</td>\n",
       "      <td>79.0</td>\n",
       "      <td>80.0</td>\n",
       "      <td>90.0</td>\n",
       "      <td>90.0</td>\n",
       "      <td>90.0</td>\n",
       "      <td>75.0</td>\n",
       "      <td>2.0</td>\n",
       "    </tr>\n",
       "    <tr>\n",
       "      <th>3</th>\n",
       "      <td>4.0</td>\n",
       "      <td>5.0</td>\n",
       "      <td>2.0</td>\n",
       "      <td>10.0</td>\n",
       "      <td>28.0</td>\n",
       "      <td>51.0</td>\n",
       "      <td>2015.0</td>\n",
       "      <td>2.0</td>\n",
       "      <td>1943.0</td>\n",
       "      <td>1.0</td>\n",
       "      <td>...</td>\n",
       "      <td>100.0</td>\n",
       "      <td>90.0</td>\n",
       "      <td>70.0</td>\n",
       "      <td>80.0</td>\n",
       "      <td>80.0</td>\n",
       "      <td>90.0</td>\n",
       "      <td>90.0</td>\n",
       "      <td>80.0</td>\n",
       "      <td>80.0</td>\n",
       "      <td>4.0</td>\n",
       "    </tr>\n",
       "    <tr>\n",
       "      <th>4</th>\n",
       "      <td>5.0</td>\n",
       "      <td>4.0</td>\n",
       "      <td>1.0</td>\n",
       "      <td>7.0</td>\n",
       "      <td>18.0</td>\n",
       "      <td>36.0</td>\n",
       "      <td>2015.0</td>\n",
       "      <td>2.0</td>\n",
       "      <td>1994.0</td>\n",
       "      <td>1.0</td>\n",
       "      <td>...</td>\n",
       "      <td>50.0</td>\n",
       "      <td>50.0</td>\n",
       "      <td>50.0</td>\n",
       "      <td>50.0</td>\n",
       "      <td>50.0</td>\n",
       "      <td>50.0</td>\n",
       "      <td>50.0</td>\n",
       "      <td>50.0</td>\n",
       "      <td>50.0</td>\n",
       "      <td>1.0</td>\n",
       "    </tr>\n",
       "    <tr>\n",
       "      <th>...</th>\n",
       "      <td>...</td>\n",
       "      <td>...</td>\n",
       "      <td>...</td>\n",
       "      <td>...</td>\n",
       "      <td>...</td>\n",
       "      <td>...</td>\n",
       "      <td>...</td>\n",
       "      <td>...</td>\n",
       "      <td>...</td>\n",
       "      <td>...</td>\n",
       "      <td>...</td>\n",
       "      <td>...</td>\n",
       "      <td>...</td>\n",
       "      <td>...</td>\n",
       "      <td>...</td>\n",
       "      <td>...</td>\n",
       "      <td>...</td>\n",
       "      <td>...</td>\n",
       "      <td>...</td>\n",
       "      <td>...</td>\n",
       "      <td>...</td>\n",
       "    </tr>\n",
       "    <tr>\n",
       "      <th>995</th>\n",
       "      <td>997.0</td>\n",
       "      <td>4.0</td>\n",
       "      <td>2.0</td>\n",
       "      <td>5.0</td>\n",
       "      <td>9.0</td>\n",
       "      <td>25.0</td>\n",
       "      <td>2015.0</td>\n",
       "      <td>1.0</td>\n",
       "      <td>1937.0</td>\n",
       "      <td>1.0</td>\n",
       "      <td>...</td>\n",
       "      <td>70.0</td>\n",
       "      <td>70.0</td>\n",
       "      <td>70.0</td>\n",
       "      <td>80.0</td>\n",
       "      <td>70.0</td>\n",
       "      <td>70.0</td>\n",
       "      <td>70.0</td>\n",
       "      <td>70.0</td>\n",
       "      <td>70.0</td>\n",
       "      <td>4.0</td>\n",
       "    </tr>\n",
       "    <tr>\n",
       "      <th>996</th>\n",
       "      <td>998.0</td>\n",
       "      <td>4.0</td>\n",
       "      <td>1.0</td>\n",
       "      <td>18.0</td>\n",
       "      <td>51.0</td>\n",
       "      <td>84.0</td>\n",
       "      <td>2015.0</td>\n",
       "      <td>2.0</td>\n",
       "      <td>1952.0</td>\n",
       "      <td>1.0</td>\n",
       "      <td>...</td>\n",
       "      <td>70.0</td>\n",
       "      <td>60.0</td>\n",
       "      <td>40.0</td>\n",
       "      <td>70.0</td>\n",
       "      <td>60.0</td>\n",
       "      <td>65.0</td>\n",
       "      <td>65.0</td>\n",
       "      <td>50.0</td>\n",
       "      <td>50.0</td>\n",
       "      <td>3.0</td>\n",
       "    </tr>\n",
       "    <tr>\n",
       "      <th>997</th>\n",
       "      <td>999.0</td>\n",
       "      <td>5.0</td>\n",
       "      <td>1.0</td>\n",
       "      <td>12.0</td>\n",
       "      <td>32.0</td>\n",
       "      <td>56.0</td>\n",
       "      <td>2015.0</td>\n",
       "      <td>2.0</td>\n",
       "      <td>1954.0</td>\n",
       "      <td>1.0</td>\n",
       "      <td>...</td>\n",
       "      <td>40.0</td>\n",
       "      <td>30.0</td>\n",
       "      <td>50.0</td>\n",
       "      <td>70.0</td>\n",
       "      <td>50.0</td>\n",
       "      <td>60.0</td>\n",
       "      <td>50.0</td>\n",
       "      <td>50.0</td>\n",
       "      <td>50.0</td>\n",
       "      <td>3.0</td>\n",
       "    </tr>\n",
       "    <tr>\n",
       "      <th>998</th>\n",
       "      <td>1000.0</td>\n",
       "      <td>5.0</td>\n",
       "      <td>2.0</td>\n",
       "      <td>18.0</td>\n",
       "      <td>52.0</td>\n",
       "      <td>85.0</td>\n",
       "      <td>2015.0</td>\n",
       "      <td>2.0</td>\n",
       "      <td>1955.0</td>\n",
       "      <td>1.0</td>\n",
       "      <td>...</td>\n",
       "      <td>80.0</td>\n",
       "      <td>70.0</td>\n",
       "      <td>70.0</td>\n",
       "      <td>80.0</td>\n",
       "      <td>70.0</td>\n",
       "      <td>70.0</td>\n",
       "      <td>80.0</td>\n",
       "      <td>70.0</td>\n",
       "      <td>70.0</td>\n",
       "      <td>3.0</td>\n",
       "    </tr>\n",
       "    <tr>\n",
       "      <th>999</th>\n",
       "      <td>1001.0</td>\n",
       "      <td>5.0</td>\n",
       "      <td>2.0</td>\n",
       "      <td>11.0</td>\n",
       "      <td>30.0</td>\n",
       "      <td>53.0</td>\n",
       "      <td>2015.0</td>\n",
       "      <td>2.0</td>\n",
       "      <td>1984.0</td>\n",
       "      <td>1.0</td>\n",
       "      <td>...</td>\n",
       "      <td>80.0</td>\n",
       "      <td>60.0</td>\n",
       "      <td>50.0</td>\n",
       "      <td>80.0</td>\n",
       "      <td>50.0</td>\n",
       "      <td>70.0</td>\n",
       "      <td>40.0</td>\n",
       "      <td>65.0</td>\n",
       "      <td>65.0</td>\n",
       "      <td>1.0</td>\n",
       "    </tr>\n",
       "  </tbody>\n",
       "</table>\n",
       "<p>1000 rows × 120 columns</p>\n",
       "</div>"
      ],
      "text/plain": [
       "         id  happiness  survey_type  province  city  county  survey_time  \\\n",
       "0       1.0        4.0          1.0      12.0  32.0    59.0       2015.0   \n",
       "1       2.0        4.0          2.0      18.0  52.0    85.0       2015.0   \n",
       "2       3.0        4.0          2.0      29.0  83.0   126.0       2015.0   \n",
       "3       4.0        5.0          2.0      10.0  28.0    51.0       2015.0   \n",
       "4       5.0        4.0          1.0       7.0  18.0    36.0       2015.0   \n",
       "..      ...        ...          ...       ...   ...     ...          ...   \n",
       "995   997.0        4.0          2.0       5.0   9.0    25.0       2015.0   \n",
       "996   998.0        4.0          1.0      18.0  51.0    84.0       2015.0   \n",
       "997   999.0        5.0          1.0      12.0  32.0    56.0       2015.0   \n",
       "998  1000.0        5.0          2.0      18.0  52.0    85.0       2015.0   \n",
       "999  1001.0        5.0          2.0      11.0  30.0    53.0       2015.0   \n",
       "\n",
       "     gender   birth  nationality  ...  public_service_1  public_service_2  \\\n",
       "0       1.0  1959.0          1.0  ...              50.0              60.0   \n",
       "1       1.0  1992.0          1.0  ...              90.0              70.0   \n",
       "2       2.0  1967.0          1.0  ...              90.0              80.0   \n",
       "3       2.0  1943.0          1.0  ...             100.0              90.0   \n",
       "4       2.0  1994.0          1.0  ...              50.0              50.0   \n",
       "..      ...     ...          ...  ...               ...               ...   \n",
       "995     1.0  1937.0          1.0  ...              70.0              70.0   \n",
       "996     2.0  1952.0          1.0  ...              70.0              60.0   \n",
       "997     2.0  1954.0          1.0  ...              40.0              30.0   \n",
       "998     2.0  1955.0          1.0  ...              80.0              70.0   \n",
       "999     2.0  1984.0          1.0  ...              80.0              60.0   \n",
       "\n",
       "     public_service_3  public_service_4  public_service_5  public_service_6  \\\n",
       "0                50.0              50.0              30.0              30.0   \n",
       "1                70.0              80.0              85.0              70.0   \n",
       "2                75.0              79.0              80.0              90.0   \n",
       "3                70.0              80.0              80.0              90.0   \n",
       "4                50.0              50.0              50.0              50.0   \n",
       "..                ...               ...               ...               ...   \n",
       "995              70.0              80.0              70.0              70.0   \n",
       "996              40.0              70.0              60.0              65.0   \n",
       "997              50.0              70.0              50.0              60.0   \n",
       "998              70.0              80.0              70.0              70.0   \n",
       "999              50.0              80.0              50.0              70.0   \n",
       "\n",
       "     public_service_7  public_service_8  public_service_9  Age  \n",
       "0                50.0              50.0              50.0  3.0  \n",
       "1                90.0              60.0              60.0  1.0  \n",
       "2                90.0              90.0              75.0  2.0  \n",
       "3                90.0              80.0              80.0  4.0  \n",
       "4                50.0              50.0              50.0  1.0  \n",
       "..                ...               ...               ...  ...  \n",
       "995              70.0              70.0              70.0  4.0  \n",
       "996              65.0              50.0              50.0  3.0  \n",
       "997              50.0              50.0              50.0  3.0  \n",
       "998              80.0              70.0              70.0  3.0  \n",
       "999              40.0              65.0              65.0  1.0  \n",
       "\n",
       "[1000 rows x 120 columns]"
      ]
     },
     "execution_count": 78,
     "metadata": {},
     "output_type": "execute_result"
    }
   ],
   "source": [
    "sample"
   ]
  },
  {
   "cell_type": "code",
   "execution_count": 41,
   "metadata": {
    "ExecuteTime": {
     "end_time": "2021-01-12T16:41:28.828647Z",
     "start_time": "2021-01-12T16:41:21.852322Z"
    }
   },
   "outputs": [],
   "source": [
    "from sklearn.impute import KNNImputer  #* impute.KNNImputer直接使用KNN的算法填补缺失值\n",
    "\n",
    "imputer = KNNImputer(n_neighbors=10)\n",
    "train = imputer.fit_transform(train)\n",
    "train = pd.DataFrame(train,columns=col)"
   ]
  },
  {
   "cell_type": "code",
   "execution_count": 42,
   "metadata": {
    "ExecuteTime": {
     "end_time": "2021-01-12T16:41:29.428086Z",
     "start_time": "2021-01-12T16:41:29.398166Z"
    }
   },
   "outputs": [
    {
     "data": {
      "text/html": [
       "<div>\n",
       "<style scoped>\n",
       "    .dataframe tbody tr th:only-of-type {\n",
       "        vertical-align: middle;\n",
       "    }\n",
       "\n",
       "    .dataframe tbody tr th {\n",
       "        vertical-align: top;\n",
       "    }\n",
       "\n",
       "    .dataframe thead th {\n",
       "        text-align: right;\n",
       "    }\n",
       "</style>\n",
       "<table border=\"1\" class=\"dataframe\">\n",
       "  <thead>\n",
       "    <tr style=\"text-align: right;\">\n",
       "      <th></th>\n",
       "      <th>id</th>\n",
       "      <th>happiness</th>\n",
       "      <th>survey_type</th>\n",
       "      <th>province</th>\n",
       "      <th>city</th>\n",
       "      <th>county</th>\n",
       "      <th>survey_time</th>\n",
       "      <th>gender</th>\n",
       "      <th>birth</th>\n",
       "      <th>nationality</th>\n",
       "      <th>...</th>\n",
       "      <th>public_service_2</th>\n",
       "      <th>public_service_3</th>\n",
       "      <th>public_service_4</th>\n",
       "      <th>public_service_5</th>\n",
       "      <th>public_service_6</th>\n",
       "      <th>public_service_7</th>\n",
       "      <th>public_service_8</th>\n",
       "      <th>public_service_9</th>\n",
       "      <th>Age</th>\n",
       "      <th>income_cut</th>\n",
       "    </tr>\n",
       "  </thead>\n",
       "  <tbody>\n",
       "    <tr>\n",
       "      <th>0</th>\n",
       "      <td>1.0</td>\n",
       "      <td>4.0</td>\n",
       "      <td>1.0</td>\n",
       "      <td>12.0</td>\n",
       "      <td>32.0</td>\n",
       "      <td>59.0</td>\n",
       "      <td>2015.0</td>\n",
       "      <td>1.0</td>\n",
       "      <td>1959.0</td>\n",
       "      <td>1.0</td>\n",
       "      <td>...</td>\n",
       "      <td>60.0</td>\n",
       "      <td>50.0</td>\n",
       "      <td>50.0</td>\n",
       "      <td>30.0</td>\n",
       "      <td>30.0</td>\n",
       "      <td>50.0</td>\n",
       "      <td>50.0</td>\n",
       "      <td>50.0</td>\n",
       "      <td>3.0</td>\n",
       "      <td>3.0</td>\n",
       "    </tr>\n",
       "    <tr>\n",
       "      <th>1</th>\n",
       "      <td>2.0</td>\n",
       "      <td>4.0</td>\n",
       "      <td>2.0</td>\n",
       "      <td>18.0</td>\n",
       "      <td>52.0</td>\n",
       "      <td>85.0</td>\n",
       "      <td>2015.0</td>\n",
       "      <td>1.0</td>\n",
       "      <td>1992.0</td>\n",
       "      <td>1.0</td>\n",
       "      <td>...</td>\n",
       "      <td>70.0</td>\n",
       "      <td>70.0</td>\n",
       "      <td>80.0</td>\n",
       "      <td>85.0</td>\n",
       "      <td>70.0</td>\n",
       "      <td>90.0</td>\n",
       "      <td>60.0</td>\n",
       "      <td>60.0</td>\n",
       "      <td>1.0</td>\n",
       "      <td>3.0</td>\n",
       "    </tr>\n",
       "    <tr>\n",
       "      <th>2</th>\n",
       "      <td>3.0</td>\n",
       "      <td>4.0</td>\n",
       "      <td>2.0</td>\n",
       "      <td>29.0</td>\n",
       "      <td>83.0</td>\n",
       "      <td>126.0</td>\n",
       "      <td>2015.0</td>\n",
       "      <td>2.0</td>\n",
       "      <td>1967.0</td>\n",
       "      <td>1.0</td>\n",
       "      <td>...</td>\n",
       "      <td>80.0</td>\n",
       "      <td>75.0</td>\n",
       "      <td>79.0</td>\n",
       "      <td>80.0</td>\n",
       "      <td>90.0</td>\n",
       "      <td>90.0</td>\n",
       "      <td>90.0</td>\n",
       "      <td>75.0</td>\n",
       "      <td>2.0</td>\n",
       "      <td>2.0</td>\n",
       "    </tr>\n",
       "    <tr>\n",
       "      <th>3</th>\n",
       "      <td>4.0</td>\n",
       "      <td>5.0</td>\n",
       "      <td>2.0</td>\n",
       "      <td>10.0</td>\n",
       "      <td>28.0</td>\n",
       "      <td>51.0</td>\n",
       "      <td>2015.0</td>\n",
       "      <td>2.0</td>\n",
       "      <td>1943.0</td>\n",
       "      <td>1.0</td>\n",
       "      <td>...</td>\n",
       "      <td>90.0</td>\n",
       "      <td>70.0</td>\n",
       "      <td>80.0</td>\n",
       "      <td>80.0</td>\n",
       "      <td>90.0</td>\n",
       "      <td>90.0</td>\n",
       "      <td>80.0</td>\n",
       "      <td>80.0</td>\n",
       "      <td>4.0</td>\n",
       "      <td>2.0</td>\n",
       "    </tr>\n",
       "    <tr>\n",
       "      <th>4</th>\n",
       "      <td>5.0</td>\n",
       "      <td>4.0</td>\n",
       "      <td>1.0</td>\n",
       "      <td>7.0</td>\n",
       "      <td>18.0</td>\n",
       "      <td>36.0</td>\n",
       "      <td>2015.0</td>\n",
       "      <td>2.0</td>\n",
       "      <td>1994.0</td>\n",
       "      <td>1.0</td>\n",
       "      <td>...</td>\n",
       "      <td>50.0</td>\n",
       "      <td>50.0</td>\n",
       "      <td>50.0</td>\n",
       "      <td>50.0</td>\n",
       "      <td>50.0</td>\n",
       "      <td>50.0</td>\n",
       "      <td>50.0</td>\n",
       "      <td>50.0</td>\n",
       "      <td>1.0</td>\n",
       "      <td>1.0</td>\n",
       "    </tr>\n",
       "    <tr>\n",
       "      <th>...</th>\n",
       "      <td>...</td>\n",
       "      <td>...</td>\n",
       "      <td>...</td>\n",
       "      <td>...</td>\n",
       "      <td>...</td>\n",
       "      <td>...</td>\n",
       "      <td>...</td>\n",
       "      <td>...</td>\n",
       "      <td>...</td>\n",
       "      <td>...</td>\n",
       "      <td>...</td>\n",
       "      <td>...</td>\n",
       "      <td>...</td>\n",
       "      <td>...</td>\n",
       "      <td>...</td>\n",
       "      <td>...</td>\n",
       "      <td>...</td>\n",
       "      <td>...</td>\n",
       "      <td>...</td>\n",
       "      <td>...</td>\n",
       "      <td>...</td>\n",
       "    </tr>\n",
       "    <tr>\n",
       "      <th>7983</th>\n",
       "      <td>7996.0</td>\n",
       "      <td>2.0</td>\n",
       "      <td>2.0</td>\n",
       "      <td>29.0</td>\n",
       "      <td>82.0</td>\n",
       "      <td>124.0</td>\n",
       "      <td>2015.0</td>\n",
       "      <td>1.0</td>\n",
       "      <td>1981.0</td>\n",
       "      <td>1.0</td>\n",
       "      <td>...</td>\n",
       "      <td>50.0</td>\n",
       "      <td>50.0</td>\n",
       "      <td>50.0</td>\n",
       "      <td>40.0</td>\n",
       "      <td>50.0</td>\n",
       "      <td>50.0</td>\n",
       "      <td>60.0</td>\n",
       "      <td>50.0</td>\n",
       "      <td>2.0</td>\n",
       "      <td>3.0</td>\n",
       "    </tr>\n",
       "    <tr>\n",
       "      <th>7984</th>\n",
       "      <td>7997.0</td>\n",
       "      <td>3.0</td>\n",
       "      <td>1.0</td>\n",
       "      <td>12.0</td>\n",
       "      <td>32.0</td>\n",
       "      <td>61.0</td>\n",
       "      <td>2015.0</td>\n",
       "      <td>2.0</td>\n",
       "      <td>1945.0</td>\n",
       "      <td>1.0</td>\n",
       "      <td>...</td>\n",
       "      <td>80.0</td>\n",
       "      <td>80.0</td>\n",
       "      <td>80.0</td>\n",
       "      <td>80.0</td>\n",
       "      <td>60.0</td>\n",
       "      <td>60.0</td>\n",
       "      <td>80.0</td>\n",
       "      <td>80.0</td>\n",
       "      <td>4.0</td>\n",
       "      <td>3.0</td>\n",
       "    </tr>\n",
       "    <tr>\n",
       "      <th>7985</th>\n",
       "      <td>7998.0</td>\n",
       "      <td>4.0</td>\n",
       "      <td>1.0</td>\n",
       "      <td>16.0</td>\n",
       "      <td>46.0</td>\n",
       "      <td>78.0</td>\n",
       "      <td>2015.0</td>\n",
       "      <td>2.0</td>\n",
       "      <td>1967.0</td>\n",
       "      <td>1.0</td>\n",
       "      <td>...</td>\n",
       "      <td>70.0</td>\n",
       "      <td>70.0</td>\n",
       "      <td>80.0</td>\n",
       "      <td>80.0</td>\n",
       "      <td>70.0</td>\n",
       "      <td>75.0</td>\n",
       "      <td>70.0</td>\n",
       "      <td>75.0</td>\n",
       "      <td>2.0</td>\n",
       "      <td>1.0</td>\n",
       "    </tr>\n",
       "    <tr>\n",
       "      <th>7986</th>\n",
       "      <td>7999.0</td>\n",
       "      <td>3.0</td>\n",
       "      <td>1.0</td>\n",
       "      <td>1.0</td>\n",
       "      <td>1.0</td>\n",
       "      <td>8.0</td>\n",
       "      <td>2015.0</td>\n",
       "      <td>2.0</td>\n",
       "      <td>1978.0</td>\n",
       "      <td>1.0</td>\n",
       "      <td>...</td>\n",
       "      <td>67.0</td>\n",
       "      <td>70.0</td>\n",
       "      <td>69.0</td>\n",
       "      <td>78.0</td>\n",
       "      <td>60.0</td>\n",
       "      <td>70.0</td>\n",
       "      <td>80.0</td>\n",
       "      <td>70.0</td>\n",
       "      <td>2.0</td>\n",
       "      <td>5.0</td>\n",
       "    </tr>\n",
       "    <tr>\n",
       "      <th>7987</th>\n",
       "      <td>8000.0</td>\n",
       "      <td>4.0</td>\n",
       "      <td>1.0</td>\n",
       "      <td>1.0</td>\n",
       "      <td>1.0</td>\n",
       "      <td>3.0</td>\n",
       "      <td>2015.0</td>\n",
       "      <td>2.0</td>\n",
       "      <td>1991.0</td>\n",
       "      <td>1.0</td>\n",
       "      <td>...</td>\n",
       "      <td>80.0</td>\n",
       "      <td>80.0</td>\n",
       "      <td>80.0</td>\n",
       "      <td>80.0</td>\n",
       "      <td>80.0</td>\n",
       "      <td>80.0</td>\n",
       "      <td>80.0</td>\n",
       "      <td>80.0</td>\n",
       "      <td>1.0</td>\n",
       "      <td>4.0</td>\n",
       "    </tr>\n",
       "  </tbody>\n",
       "</table>\n",
       "<p>7988 rows × 132 columns</p>\n",
       "</div>"
      ],
      "text/plain": [
       "          id  happiness  survey_type  province  city  county  survey_time  \\\n",
       "0        1.0        4.0          1.0      12.0  32.0    59.0       2015.0   \n",
       "1        2.0        4.0          2.0      18.0  52.0    85.0       2015.0   \n",
       "2        3.0        4.0          2.0      29.0  83.0   126.0       2015.0   \n",
       "3        4.0        5.0          2.0      10.0  28.0    51.0       2015.0   \n",
       "4        5.0        4.0          1.0       7.0  18.0    36.0       2015.0   \n",
       "...      ...        ...          ...       ...   ...     ...          ...   \n",
       "7983  7996.0        2.0          2.0      29.0  82.0   124.0       2015.0   \n",
       "7984  7997.0        3.0          1.0      12.0  32.0    61.0       2015.0   \n",
       "7985  7998.0        4.0          1.0      16.0  46.0    78.0       2015.0   \n",
       "7986  7999.0        3.0          1.0       1.0   1.0     8.0       2015.0   \n",
       "7987  8000.0        4.0          1.0       1.0   1.0     3.0       2015.0   \n",
       "\n",
       "      gender   birth  nationality  ...  public_service_2  public_service_3  \\\n",
       "0        1.0  1959.0          1.0  ...              60.0              50.0   \n",
       "1        1.0  1992.0          1.0  ...              70.0              70.0   \n",
       "2        2.0  1967.0          1.0  ...              80.0              75.0   \n",
       "3        2.0  1943.0          1.0  ...              90.0              70.0   \n",
       "4        2.0  1994.0          1.0  ...              50.0              50.0   \n",
       "...      ...     ...          ...  ...               ...               ...   \n",
       "7983     1.0  1981.0          1.0  ...              50.0              50.0   \n",
       "7984     2.0  1945.0          1.0  ...              80.0              80.0   \n",
       "7985     2.0  1967.0          1.0  ...              70.0              70.0   \n",
       "7986     2.0  1978.0          1.0  ...              67.0              70.0   \n",
       "7987     2.0  1991.0          1.0  ...              80.0              80.0   \n",
       "\n",
       "      public_service_4  public_service_5  public_service_6  public_service_7  \\\n",
       "0                 50.0              30.0              30.0              50.0   \n",
       "1                 80.0              85.0              70.0              90.0   \n",
       "2                 79.0              80.0              90.0              90.0   \n",
       "3                 80.0              80.0              90.0              90.0   \n",
       "4                 50.0              50.0              50.0              50.0   \n",
       "...                ...               ...               ...               ...   \n",
       "7983              50.0              40.0              50.0              50.0   \n",
       "7984              80.0              80.0              60.0              60.0   \n",
       "7985              80.0              80.0              70.0              75.0   \n",
       "7986              69.0              78.0              60.0              70.0   \n",
       "7987              80.0              80.0              80.0              80.0   \n",
       "\n",
       "      public_service_8  public_service_9  Age  income_cut  \n",
       "0                 50.0              50.0  3.0         3.0  \n",
       "1                 60.0              60.0  1.0         3.0  \n",
       "2                 90.0              75.0  2.0         2.0  \n",
       "3                 80.0              80.0  4.0         2.0  \n",
       "4                 50.0              50.0  1.0         1.0  \n",
       "...                ...               ...  ...         ...  \n",
       "7983              60.0              50.0  2.0         3.0  \n",
       "7984              80.0              80.0  4.0         3.0  \n",
       "7985              70.0              75.0  2.0         1.0  \n",
       "7986              80.0              70.0  2.0         5.0  \n",
       "7987              80.0              80.0  1.0         4.0  \n",
       "\n",
       "[7988 rows x 132 columns]"
      ]
     },
     "execution_count": 42,
     "metadata": {},
     "output_type": "execute_result"
    }
   ],
   "source": [
    "train"
   ]
  },
  {
   "cell_type": "markdown",
   "metadata": {},
   "source": [
    "### 特征选择"
   ]
  },
  {
   "cell_type": "code",
   "execution_count": 43,
   "metadata": {
    "ExecuteTime": {
     "end_time": "2021-01-12T16:41:37.622119Z",
     "start_time": "2021-01-12T16:41:37.061619Z"
    },
    "scrolled": true
   },
   "outputs": [
    {
     "data": {
      "text/plain": [
       "happiness           1.00\n",
       "edu                 0.10\n",
       "edu_yr              0.05\n",
       "income              0.08\n",
       "political           0.08\n",
       "                    ... \n",
       "public_service_6    0.16\n",
       "public_service_7    0.15\n",
       "public_service_8    0.13\n",
       "public_service_9    0.13\n",
       "income_cut          0.08\n",
       "Name: happiness, Length: 66, dtype: float64"
      ]
     },
     "execution_count": 43,
     "metadata": {},
     "output_type": "execute_result"
    }
   ],
   "source": [
    "# 目前只考虑通过相关性选择特征\n",
    "train.corr()['happiness'][abs(train.corr()['happiness'])>0.05]"
   ]
  },
  {
   "cell_type": "code",
   "execution_count": 44,
   "metadata": {
    "ExecuteTime": {
     "end_time": "2021-01-12T16:41:39.565918Z",
     "start_time": "2021-01-12T16:41:38.993450Z"
    }
   },
   "outputs": [
    {
     "data": {
      "text/plain": [
       "67"
      ]
     },
     "execution_count": 44,
     "metadata": {},
     "output_type": "execute_result"
    }
   ],
   "source": [
    "# 选择相关性大于0.05的作为候选特征参与训练，并加入我们认为比较重要的特征，总共66个特征参与训练\n",
    "features = (train.corr()['happiness'][abs(train.corr()['happiness'])>0.05]).index\n",
    "features = features.values.tolist()\n",
    "features.extend(['Age', 'work_exper'])\n",
    "features.remove('happiness')\n",
    "len(features)"
   ]
  },
  {
   "cell_type": "code",
   "execution_count": 45,
   "metadata": {
    "ExecuteTime": {
     "end_time": "2021-01-12T14:17:34.810372Z",
     "start_time": "2021-01-12T14:17:34.805383Z"
    }
   },
   "outputs": [
    {
     "data": {
      "text/plain": [
       "['edu',\n",
       " 'edu_yr',\n",
       " 'income',\n",
       " 'political',\n",
       " 'property_8',\n",
       " 'weight_jin',\n",
       " 'health',\n",
       " 'health_problem',\n",
       " 'depression',\n",
       " 'hukou',\n",
       " 'media_1',\n",
       " 'media_2',\n",
       " 'media_3',\n",
       " 'media_4',\n",
       " 'media_5',\n",
       " 'media_6',\n",
       " 'leisure_1',\n",
       " 'leisure_3',\n",
       " 'leisure_4',\n",
       " 'leisure_6',\n",
       " 'leisure_7',\n",
       " 'leisure_8',\n",
       " 'leisure_9',\n",
       " 'leisure_12',\n",
       " 'socialize',\n",
       " 'relax',\n",
       " 'learn',\n",
       " 'social_friend',\n",
       " 'socia_outing',\n",
       " 'equity',\n",
       " 'class',\n",
       " 'class_10_before',\n",
       " 'class_10_after',\n",
       " 'class_14',\n",
       " 'family_m',\n",
       " 'family_status',\n",
       " 'house',\n",
       " 'car',\n",
       " 'invest_1',\n",
       " 'invest_2',\n",
       " 's_edu',\n",
       " 's_political',\n",
       " 's_hukou',\n",
       " 's_income',\n",
       " 'status_peer',\n",
       " 'status_3_before',\n",
       " 'view',\n",
       " 'trust_1',\n",
       " 'trust_2',\n",
       " 'trust_5',\n",
       " 'trust_7',\n",
       " 'trust_8',\n",
       " 'trust_10',\n",
       " 'trust_12',\n",
       " 'neighbor_familiarity',\n",
       " 'public_service_1',\n",
       " 'public_service_2',\n",
       " 'public_service_3',\n",
       " 'public_service_4',\n",
       " 'public_service_5',\n",
       " 'public_service_6',\n",
       " 'public_service_7',\n",
       " 'public_service_8',\n",
       " 'public_service_9',\n",
       " 'income_cut',\n",
       " 'Age',\n",
       " 'work_exper']"
      ]
     },
     "execution_count": 45,
     "metadata": {},
     "output_type": "execute_result"
    }
   ],
   "source": [
    "features"
   ]
  },
  {
   "cell_type": "markdown",
   "metadata": {},
   "source": [
    "## 搭建模型"
   ]
  },
  {
   "cell_type": "code",
   "execution_count": 45,
   "metadata": {
    "ExecuteTime": {
     "end_time": "2021-01-12T16:41:46.074501Z",
     "start_time": "2021-01-12T16:41:46.070549Z"
    }
   },
   "outputs": [],
   "source": [
    "features.remove('income_cut')"
   ]
  },
  {
   "cell_type": "markdown",
   "metadata": {},
   "source": [
    "### 拆分训练集和测试集"
   ]
  },
  {
   "cell_type": "markdown",
   "metadata": {},
   "source": [
    "#### 随机森林"
   ]
  },
  {
   "cell_type": "code",
   "execution_count": 58,
   "metadata": {
    "ExecuteTime": {
     "end_time": "2021-01-12T14:35:03.515316Z",
     "start_time": "2021-01-12T14:35:03.511329Z"
    }
   },
   "outputs": [],
   "source": [
    "from sklearn import model_selection\n",
    "from sklearn.model_selection import GridSearchCV\n",
    "from sklearn import tree\n",
    "from sklearn import ensemble\n"
   ]
  },
  {
   "cell_type": "code",
   "execution_count": 51,
   "metadata": {
    "ExecuteTime": {
     "end_time": "2021-01-12T14:27:38.403965Z",
     "start_time": "2021-01-12T14:27:38.391975Z"
    }
   },
   "outputs": [],
   "source": [
    "# 将数据集拆分为训练集和测试集\n",
    "X_train_train, X_train_test, y_train_train, y_train_test = model_selection.train_test_split(train[features], train.happiness, \n",
    "                                                                    test_size = 0.2, random_state = 1234)"
   ]
  },
  {
   "cell_type": "markdown",
   "metadata": {},
   "source": [
    "添加标准化处理"
   ]
  },
  {
   "cell_type": "code",
   "execution_count": 62,
   "metadata": {
    "ExecuteTime": {
     "end_time": "2021-01-12T14:42:48.758712Z",
     "start_time": "2021-01-12T14:41:39.122227Z"
    }
   },
   "outputs": [
    {
     "data": {
      "text/plain": [
       "RandomForestRegressor(bootstrap=True, ccp_alpha=0.0, criterion='mse',\n",
       "                      max_depth=None, max_features='auto', max_leaf_nodes=None,\n",
       "                      max_samples=None, min_impurity_decrease=0.0,\n",
       "                      min_impurity_split=None, min_samples_leaf=1,\n",
       "                      min_samples_split=2, min_weight_fraction_leaf=0.0,\n",
       "                      n_estimators=1000, n_jobs=None, oob_score=False,\n",
       "                      random_state=1234, verbose=0, warm_start=False)"
      ]
     },
     "execution_count": 62,
     "metadata": {},
     "output_type": "execute_result"
    },
    {
     "data": {
      "text/plain": [
       "0.46402584918648304"
      ]
     },
     "execution_count": 62,
     "metadata": {},
     "output_type": "execute_result"
    }
   ],
   "source": [
    "from sklearn.preprocessing import StandardScaler\n",
    "\n",
    "scaler = StandardScaler()\n",
    "X_train_s = scaler.fit_transform(X_train_train)  # fit_transform 可分为两步，这里合二为一【preprocessing不能看test集】\n",
    "X_test_s = scaler.transform(X_train_test)  # 删掉fit很重要\n",
    "\n",
    "RF = ensemble.RandomForestRegressor(n_estimators=1000, random_state=1234)\n",
    "RF.fit(X_train_s, y_train_train)            # 随机森林拟合\n",
    "RF_pred = RF.predict(X_test_s)        # 模型在测试集上的预测\n",
    "# 计算随机森林模型的MSE值（几乎仅为最优参数的决策树模型MSE值的一半）\n",
    "metrics.mean_squared_error(y_train_test, RF_pred)"
   ]
  },
  {
   "cell_type": "markdown",
   "metadata": {},
   "source": [
    "#### LightGBM"
   ]
  },
  {
   "cell_type": "code",
   "execution_count": 66,
   "metadata": {
    "ExecuteTime": {
     "end_time": "2021-01-12T15:10:13.350542Z",
     "start_time": "2021-01-12T15:10:13.345556Z"
    }
   },
   "outputs": [],
   "source": [
    "# 生成数据和标签\n",
    "target = y_train_train\n",
    "train_selected =pd.DataFrame(X_train_s)\n",
    "test = X_test_s\n",
    "feature_importance_df = pd.DataFrame()\n",
    "oof = np.zeros(len(X_train_train))\n",
    "predictions = np.zeros(len(X_train_test))\n",
    "\n",
    "params = {'num_leaves': 9,\n",
    "         'min_data_in_leaf': 40,\n",
    "         'objective': 'regression',\n",
    "         'max_depth': 16,\n",
    "         'learning_rate': 0.01,\n",
    "         'boosting': 'gbdt',\n",
    "         'bagging_freq': 5,\n",
    "         'bagging_fraction': 0.8,   # 每次迭代时用的数据比例\n",
    "         'feature_fraction': 0.8201,# 每次迭代中随机选择80％的参数来建树\n",
    "         'bagging_seed': 11,\n",
    "         'reg_alpha': 1.728910519108444,\n",
    "         'reg_lambda': 4.9847051755586085,\n",
    "         'random_state': 42,\n",
    "         'metric': 'rmse',\n",
    "         'verbosity': -1,\n",
    "         'subsample': 0.81,\n",
    "         'min_gain_to_split': 0.01077313523861969,\n",
    "         'min_child_weight': 19.428902804238373,\n",
    "         'num_threads': 4}\n",
    "\n",
    "kfolds = KFold(n_splits=5,shuffle=True,random_state=15)\n",
    "predictions = np.zeros(len(X_train_test))\n",
    "\n",
    "for fold_n,(trn_index,val_index) in enumerate(kfolds.split(train_selected,target)):\n",
    "    print(\"fold_n {}\".format(fold_n))\n",
    "    trn_data = lgb.Dataset(train_selected.iloc[trn_index],label=target.iloc[trn_index])\n",
    "    val_data = lgb.Dataset(train_selected.iloc[val_index],label=target.iloc[val_index])\n",
    "    num_round=10000\n",
    "    clf = lgb.train(params, trn_data, num_round, valid_sets = [trn_data, val_data], verbose_eval=1000, early_stopping_rounds = 100)\n",
    "    oof[val_index] = clf.predict(train_selected.iloc[val_index], num_iteration=clf.best_iteration)\n",
    "    predictions += clf.predict(test,num_iteration=clf.best_iteration)/5\n",
    "    fold_importance_df = pd.DataFrame()\n",
    "    fold_importance_df[\"feature\"] = features\n",
    "    fold_importance_df[\"importance\"] = clf.feature_importance()\n",
    "    fold_importance_df[\"fold\"] = fold_n + 1\n",
    "    feature_importance_df = pd.concat([feature_importance_df, fold_importance_df], axis=0)\n",
    "    print(\"CV score: {:<8.5f}\".format(mean_squared_error(target, oof)**0.5))      "
   ]
  },
  {
   "cell_type": "code",
   "execution_count": 68,
   "metadata": {
    "ExecuteTime": {
     "end_time": "2021-01-12T15:10:20.910057Z",
     "start_time": "2021-01-12T15:10:20.905069Z"
    }
   },
   "outputs": [
    {
     "data": {
      "text/plain": [
       "0.44484454096214"
      ]
     },
     "execution_count": 68,
     "metadata": {},
     "output_type": "execute_result"
    }
   ],
   "source": [
    "metrics.mean_squared_error(y_train_test, predictions)"
   ]
  },
  {
   "cell_type": "code",
   "execution_count": null,
   "metadata": {},
   "outputs": [],
   "source": []
  },
  {
   "cell_type": "code",
   "execution_count": null,
   "metadata": {},
   "outputs": [],
   "source": []
  },
  {
   "cell_type": "code",
   "execution_count": 142,
   "metadata": {
    "ExecuteTime": {
     "end_time": "2021-01-05T16:26:53.093632Z",
     "start_time": "2021-01-05T16:26:53.083616Z"
    }
   },
   "outputs": [
    {
     "data": {
      "text/html": [
       "<div>\n",
       "<style scoped>\n",
       "    .dataframe tbody tr th:only-of-type {\n",
       "        vertical-align: middle;\n",
       "    }\n",
       "\n",
       "    .dataframe tbody tr th {\n",
       "        vertical-align: top;\n",
       "    }\n",
       "\n",
       "    .dataframe thead th {\n",
       "        text-align: right;\n",
       "    }\n",
       "</style>\n",
       "<table border=\"1\" class=\"dataframe\">\n",
       "  <thead>\n",
       "    <tr style=\"text-align: right;\">\n",
       "      <th></th>\n",
       "      <th>id</th>\n",
       "      <th>happiness</th>\n",
       "    </tr>\n",
       "  </thead>\n",
       "  <tbody>\n",
       "    <tr>\n",
       "      <th>0</th>\n",
       "      <td>8001</td>\n",
       "      <td>3.84</td>\n",
       "    </tr>\n",
       "    <tr>\n",
       "      <th>1</th>\n",
       "      <td>8002</td>\n",
       "      <td>3.00</td>\n",
       "    </tr>\n",
       "    <tr>\n",
       "      <th>2</th>\n",
       "      <td>8003</td>\n",
       "      <td>3.35</td>\n",
       "    </tr>\n",
       "    <tr>\n",
       "      <th>3</th>\n",
       "      <td>8004</td>\n",
       "      <td>4.28</td>\n",
       "    </tr>\n",
       "    <tr>\n",
       "      <th>4</th>\n",
       "      <td>8005</td>\n",
       "      <td>3.29</td>\n",
       "    </tr>\n",
       "  </tbody>\n",
       "</table>\n",
       "</div>"
      ],
      "text/plain": [
       "     id  happiness\n",
       "0  8001       3.84\n",
       "1  8002       3.00\n",
       "2  8003       3.35\n",
       "3  8004       4.28\n",
       "4  8005       3.29"
      ]
     },
     "execution_count": 142,
     "metadata": {},
     "output_type": "execute_result"
    }
   ],
   "source": [
    "# 计算结果\n",
    "submit = pd.read_csv(\"C:Users/60448/Desktop/happiness/happiness_submit.csv\")\n",
    "submision_lgb1  = pd.DataFrame({\"id\":submit['id'].values})\n",
    "submision_lgb1[\"happiness\"]=predictions\n",
    "submision_lgb1.head(5)"
   ]
  },
  {
   "cell_type": "markdown",
   "metadata": {},
   "source": [
    "#### XGBoost"
   ]
  },
  {
   "cell_type": "code",
   "execution_count": 80,
   "metadata": {
    "ExecuteTime": {
     "end_time": "2021-01-12T15:25:31.833017Z",
     "start_time": "2021-01-12T15:25:13.217245Z"
    }
   },
   "outputs": [
    {
     "name": "stdout",
     "output_type": "stream",
     "text": [
      "Fitting 5 folds for each of 16 candidates, totalling 80 fits\n"
     ]
    },
    {
     "name": "stderr",
     "output_type": "stream",
     "text": [
      "[Parallel(n_jobs=-1)]: Using backend LokyBackend with 8 concurrent workers.\n",
      "[Parallel(n_jobs=-1)]: Done  34 tasks      | elapsed:    9.2s\n",
      "[Parallel(n_jobs=-1)]: Done  80 out of  80 | elapsed:   17.0s finished\n"
     ]
    },
    {
     "name": "stdout",
     "output_type": "stream",
     "text": [
      "[23:25:30] WARNING: d:\\build\\xgboost\\xgboost-0.90.git\\src\\objective\\regression_obj.cu:152: reg:linear is now deprecated in favor of reg:squarederror.\n"
     ]
    },
    {
     "data": {
      "text/plain": [
       "GridSearchCV(cv=5, error_score=nan,\n",
       "             estimator=XGBRegressor(base_score=0.5, booster='gbtree',\n",
       "                                    colsample_bylevel=1, colsample_bynode=1,\n",
       "                                    colsample_bytree=1, gamma=0,\n",
       "                                    importance_type='gain', learning_rate=0.1,\n",
       "                                    max_delta_step=0, max_depth=3,\n",
       "                                    min_child_weight=1, missing=None,\n",
       "                                    n_estimators=100, n_jobs=1, nthread=None,\n",
       "                                    objective='reg:linear', random_state=0,\n",
       "                                    reg_alpha=0, reg_lambda=1,\n",
       "                                    scale_pos_weight=1, seed=None, silent=None,\n",
       "                                    subsample=1, verbosity=1),\n",
       "             iid='deprecated', n_jobs=-1,\n",
       "             param_grid={'learning_rate': [0.01, 0.05, 0.1, 0.2],\n",
       "                         'max_depth': [3, 4, 5, 6]},\n",
       "             pre_dispatch='2*n_jobs', refit=True, return_train_score=False,\n",
       "             scoring=None, verbose=1)"
      ]
     },
     "execution_count": 80,
     "metadata": {},
     "output_type": "execute_result"
    },
    {
     "data": {
      "text/plain": [
       "({'learning_rate': 0.1, 'max_depth': 3}, 0.2893190042771826)"
      ]
     },
     "execution_count": 80,
     "metadata": {},
     "output_type": "execute_result"
    },
    {
     "name": "stdout",
     "output_type": "stream",
     "text": [
      "[23:25:31] WARNING: d:\\build\\xgboost\\xgboost-0.90.git\\src\\objective\\regression_obj.cu:152: reg:linear is now deprecated in favor of reg:squarederror.\n"
     ]
    },
    {
     "data": {
      "text/plain": [
       "XGBRegressor(base_score=0.5, booster='gbtree', colsample_bylevel=1,\n",
       "             colsample_bynode=1, colsample_bytree=1, gamma=0,\n",
       "             importance_type='gain', learning_rate=0.1, max_delta_step=0,\n",
       "             max_depth=3, min_child_weight=1, missing=None, n_estimators=100,\n",
       "             n_jobs=1, nthread=None, objective='reg:linear', random_state=0,\n",
       "             reg_alpha=0, reg_lambda=1, scale_pos_weight=1, seed=None,\n",
       "             silent=None, subsample=1, verbosity=1)"
      ]
     },
     "execution_count": 80,
     "metadata": {},
     "output_type": "execute_result"
    },
    {
     "name": "stdout",
     "output_type": "stream",
     "text": [
      "0.446065635219788\n"
     ]
    }
   ],
   "source": [
    "# 根据重抽样后的数据构建XGBoost模型\n",
    "import xgboost\n",
    "import numpy as np\n",
    "\n",
    "# 使用网格搜索法对模型参数进行调优\n",
    "learning_rate = [0.01,0.05,0.1,0.2]\n",
    "max_depth = [3,4,5,6]\n",
    "params = {'learning_rate':learning_rate,'max_depth':max_depth}\n",
    "XGB_grid = GridSearchCV(estimator = xgboost.XGBRegressor(),\n",
    "                         param_grid= params, cv = 5, n_jobs = -1, verbose = 1)\n",
    "XGB_grid.fit(X_train_s,y_train_train)\n",
    "\n",
    "\n",
    "# 返回参数的最佳组合和对应MSE值\n",
    "XGB_grid.best_params_, XGB_grid.best_score_\n",
    "\n",
    "xgboost = xgboost.XGBRegressor()                # 构建参数调优后的XGBoost回归器\n",
    "xgboost.fit(X_train_s,y_train_train)       # 使用重抽样后的数据，对其建模\n",
    "# 将模型运用到测试数据集中\n",
    "resample_pred = xgboost.predict(np.array(X_test_s))\n",
    "# 返回模型的预测效果\n",
    "print(metrics.mean_squared_error(y_train_test, resample_pred))"
   ]
  },
  {
   "cell_type": "markdown",
   "metadata": {},
   "source": [
    "#### catboost"
   ]
  },
  {
   "cell_type": "code",
   "execution_count": 82,
   "metadata": {
    "ExecuteTime": {
     "end_time": "2021-01-12T15:31:25.683460Z",
     "start_time": "2021-01-12T15:31:25.101428Z"
    }
   },
   "outputs": [
    {
     "name": "stdout",
     "output_type": "stream",
     "text": [
      "0:\tlearn: 0.7677896\ttotal: 69.1ms\tremaining: 69.1ms\n",
      "1:\tlearn: 0.7473406\ttotal: 70.2ms\tremaining: 0us\n"
     ]
    },
    {
     "data": {
      "text/plain": [
       "<catboost.core.CatBoostRegressor at 0x2679b6a0fd0>"
      ]
     },
     "execution_count": 82,
     "metadata": {},
     "output_type": "execute_result"
    },
    {
     "name": "stdout",
     "output_type": "stream",
     "text": [
      "0.5338256699972473\n"
     ]
    }
   ],
   "source": [
    "from catboost import CatBoostRegressor\n",
    "\n",
    "\n",
    "model = CatBoostRegressor(iterations=2,\n",
    "                          learning_rate=1,\n",
    "                          depth=2)\n",
    "\n",
    "model.fit(X_train_s,y_train_train)\n",
    "preds = model.predict(X_test_s)\n",
    "print(metrics.mean_squared_error(y_train_test, preds))"
   ]
  },
  {
   "cell_type": "markdown",
   "metadata": {},
   "source": [
    "#### Stacking算法"
   ]
  },
  {
   "cell_type": "code",
   "execution_count": 84,
   "metadata": {
    "ExecuteTime": {
     "end_time": "2021-01-12T15:34:46.321060Z",
     "start_time": "2021-01-12T15:34:46.316032Z"
    }
   },
   "outputs": [],
   "source": [
    "from sklearn.ensemble import StackingRegressor \n",
    "from sklearn.linear_model import RidgeCV\n",
    "from sklearn.svm import LinearSVR\n",
    "\n",
    "estimators = [\n",
    "('lr', RidgeCV()),\n",
    "('svr', LinearSVR(random_state=42))\n",
    "]\n",
    "\n",
    "reg = StackingRegressor(\n",
    "    estimators=estimators,\n",
    "     final_estimator=RandomForestRegressor(n_estimators=1000,\n",
    "                                           random_state=42)\n",
    ")"
   ]
  },
  {
   "cell_type": "code",
   "execution_count": 90,
   "metadata": {
    "ExecuteTime": {
     "end_time": "2021-01-12T15:39:08.020010Z",
     "start_time": "2021-01-12T15:38:52.661846Z"
    }
   },
   "outputs": [
    {
     "data": {
      "text/plain": [
       "StackingRegressor(cv=None,\n",
       "                  estimators=[('lr',\n",
       "                               RidgeCV(alphas=array([ 0.1,  1. , 10. ]),\n",
       "                                       cv=None, fit_intercept=True,\n",
       "                                       gcv_mode=None, normalize=False,\n",
       "                                       scoring=None, store_cv_values=False)),\n",
       "                              ('svr',\n",
       "                               LinearSVR(C=1.0, dual=True, epsilon=0.0,\n",
       "                                         fit_intercept=True,\n",
       "                                         intercept_scaling=1.0,\n",
       "                                         loss='epsilon_insensitive',\n",
       "                                         max_iter=1000, random_state=42,\n",
       "                                         tol=0.0001, verbose=0))],\n",
       "                  final_esti...\n",
       "                                                        ccp_alpha=0.0,\n",
       "                                                        criterion='mse',\n",
       "                                                        max_depth=None,\n",
       "                                                        max_features='auto',\n",
       "                                                        max_leaf_nodes=None,\n",
       "                                                        max_samples=None,\n",
       "                                                        min_impurity_decrease=0.0,\n",
       "                                                        min_impurity_split=None,\n",
       "                                                        min_samples_leaf=1,\n",
       "                                                        min_samples_split=2,\n",
       "                                                        min_weight_fraction_leaf=0.0,\n",
       "                                                        n_estimators=1000,\n",
       "                                                        n_jobs=None,\n",
       "                                                        oob_score=False,\n",
       "                                                        random_state=42,\n",
       "                                                        verbose=0,\n",
       "                                                        warm_start=False),\n",
       "                  n_jobs=None, passthrough=False, verbose=0)"
      ]
     },
     "execution_count": 90,
     "metadata": {},
     "output_type": "execute_result"
    },
    {
     "name": "stdout",
     "output_type": "stream",
     "text": [
      "0.5805195375469338\n"
     ]
    }
   ],
   "source": [
    "reg.fit(X_train_s, y_train_train)\n",
    "pred = reg.predict(np.array(X_test_s))\n",
    "\n",
    "# 返回模型的预测效果\n",
    "print(metrics.mean_squared_error(y_train_test, pred))"
   ]
  },
  {
   "cell_type": "markdown",
   "metadata": {},
   "source": [
    "## 开搞-lightGBM效果最好"
   ]
  },
  {
   "cell_type": "code",
   "execution_count": 46,
   "metadata": {
    "ExecuteTime": {
     "end_time": "2021-01-12T16:41:54.504788Z",
     "start_time": "2021-01-12T16:41:54.462327Z"
    }
   },
   "outputs": [],
   "source": [
    "test = pd.read_csv(\"C:/Users/60448/Desktop/happiness/happiness_test_complete.csv\", parse_dates=[\"survey_time\"], encoding='latin-1')"
   ]
  },
  {
   "cell_type": "code",
   "execution_count": 47,
   "metadata": {
    "ExecuteTime": {
     "end_time": "2021-01-12T16:41:55.099133Z",
     "start_time": "2021-01-12T16:41:54.973470Z"
    }
   },
   "outputs": [
    {
     "data": {
      "text/plain": [
       "<matplotlib.axes._subplots.AxesSubplot at 0x2033b851160>"
      ]
     },
     "execution_count": 47,
     "metadata": {},
     "output_type": "execute_result"
    },
    {
     "data": {
      "image/png": "[encoded data removed]",
      "text/plain": [
       "<Figure size 432x288 with 1 Axes>"
      ]
     },
     "metadata": {
      "needs_background": "light"
     },
     "output_type": "display_data"
    }
   ],
   "source": [
    "# 探究年龄和幸福感的关系\n",
    "\n",
    "test['survey_time'] = test['survey_time'].dt.year\n",
    "\n",
    "test['Age'] = test['survey_time']-test['birth']\n",
    "del_list=['survey_time','birth']\n",
    "figure,ax = plt.subplots(1,1)\n",
    "test['Age'].plot.hist(ax=ax,color='blue')"
   ]
  },
  {
   "cell_type": "code",
   "execution_count": 48,
   "metadata": {
    "ExecuteTime": {
     "end_time": "2021-01-12T16:41:57.175754Z",
     "start_time": "2021-01-12T16:41:57.012574Z"
    }
   },
   "outputs": [
    {
     "data": {
      "text/plain": [
       "<matplotlib.axes._subplots.AxesSubplot at 0x2033bb31f98>"
      ]
     },
     "execution_count": 48,
     "metadata": {},
     "output_type": "execute_result"
    },
    {
     "data": {
      "image/png": "[encoded data removed]",
      "text/plain": [
       "<Figure size 432x288 with 1 Axes>"
      ]
     },
     "metadata": {
      "needs_background": "light"
     },
     "output_type": "display_data"
    }
   ],
   "source": [
    "# 一般会将年龄分箱，避免噪声和异常值的影响\n",
    "combine=[test]\n",
    "\n",
    "for dataset in combine:\n",
    "    dataset.loc[dataset['Age']<=16,'Age']=0\n",
    "    dataset.loc[(dataset['Age'] > 16) & (dataset['Age'] <= 32), 'Age'] = 1\n",
    "    dataset.loc[(dataset['Age'] > 32) & (dataset['Age'] <= 48), 'Age'] = 2\n",
    "    dataset.loc[(dataset['Age'] > 48) & (dataset['Age'] <= 64), 'Age'] = 3\n",
    "    dataset.loc[(dataset['Age'] > 64) & (dataset['Age'] <= 80), 'Age'] = 4\n",
    "    dataset.loc[ dataset['Age'] > 80, 'Age'] = 5\n",
    "sns.countplot('Age', hue='happiness', data=train)"
   ]
  },
  {
   "cell_type": "code",
   "execution_count": 49,
   "metadata": {
    "ExecuteTime": {
     "end_time": "2021-01-12T16:41:57.837975Z",
     "start_time": "2021-01-12T16:41:57.799046Z"
    }
   },
   "outputs": [
    {
     "name": "stdout",
     "output_type": "stream",
     "text": [
      "3    952\n",
      "2    788\n",
      "1    613\n",
      "4    495\n",
      "5    120\n",
      "Name: income_cut, dtype: int64\n",
      "3    952\n",
      "2    788\n",
      "1    613\n",
      "4    495\n",
      "5    120\n",
      "Name: income_cut, dtype: int64\n",
      "4    1159\n",
      "5     587\n",
      "1     505\n",
      "3     313\n",
      "2     298\n",
      "6      57\n",
      "7      49\n",
      "Name: inc_exp, dtype: int64\n"
     ]
    }
   ],
   "source": [
    "def income_cut(x):\n",
    "    if x<=0:\n",
    "        return 1\n",
    "    elif  0<x<500:\n",
    "        return 1\n",
    "    elif  500<=x<=10000:\n",
    "        return 2\n",
    "    elif  10000<x<40000:\n",
    "        return 3\n",
    "    elif  40000<=x<100000:\n",
    "        return 4\n",
    "    elif  100000<=x:\n",
    "        return 5\n",
    "test[\"income_cut\"]=test[\"income\"].map(income_cut)\n",
    "print(test[\"income_cut\"].value_counts())\n",
    "#转换收入变量\n",
    "test[\"income\"]=test[\"income\"].map(income_cut)\n",
    "\n",
    "def family_income_cut(x):\n",
    "    if x<=0 or pd.isnull(x)==1:\n",
    "        return 1\n",
    "    elif  0<x<=3000:\n",
    "        return 1\n",
    "    elif  3000<x<=10000:\n",
    "        return 2\n",
    "    elif  10000<x<30000:\n",
    "        return 3\n",
    "    elif  30000<=x<100000:\n",
    "        return 4\n",
    "    elif  100000<=x<300000:\n",
    "        return 5\n",
    "    elif  300000<=x<1000000:\n",
    "        return 6\n",
    "    elif  1000000<=x:\n",
    "        return 7\n",
    "test[\"family_income\"]=test[\"family_income\"].map(family_income_cut)\n",
    "\n",
    "#转换收入变量\n",
    "test[\"family_income\"]=test[\"family_income\"].map(family_income_cut)\n",
    "\n",
    "def s_income_cut(x):\n",
    "    if x<=0 or pd.isnull(x)==1:\n",
    "        return 1\n",
    "    elif  0<x<500:\n",
    "        return 1\n",
    "    elif  500<=x<=10000:\n",
    "        return 2\n",
    "    elif  10000<x<40000:\n",
    "        return 3\n",
    "    elif  40000<=x<100000:\n",
    "        return 4\n",
    "    elif  100000<=x:\n",
    "        return 5\n",
    "print(test[\"income_cut\"].value_counts())\n",
    "test[\"s_income\"]=test[\"s_income\"].map(s_income_cut)\n",
    "\n",
    "def inc_exp_cut(x):\n",
    "    if x<=0 or pd.isnull(x)==1:\n",
    "        return 1\n",
    "    elif  0<x<=3000:\n",
    "        return 1\n",
    "    elif  3000<x<=10000:\n",
    "        return 2\n",
    "    elif  10000<x<30000:\n",
    "        return 3\n",
    "    elif  30000<=x<100000:\n",
    "        return 4\n",
    "    elif  100000<=x<300000:\n",
    "        return 5\n",
    "    elif  300000<=x<1000000:\n",
    "        return 6\n",
    "    elif  1000000<=x:\n",
    "        return 7\n",
    "test[\"inc_exp\"]=test[\"inc_exp\"].map(inc_exp_cut)\n",
    "print(test[\"inc_exp\"].value_counts())\n",
    "\n",
    "\n",
    "#转换收入变量\n",
    "test[\"inc_exp\"]=test[\"inc_exp\"].map(family_income_cut)"
   ]
  },
  {
   "cell_type": "code",
   "execution_count": 50,
   "metadata": {
    "ExecuteTime": {
     "end_time": "2021-01-12T16:41:59.976254Z",
     "start_time": "2021-01-12T16:41:59.967253Z"
    }
   },
   "outputs": [],
   "source": [
    "test = test[features]"
   ]
  },
  {
   "cell_type": "code",
   "execution_count": 51,
   "metadata": {
    "ExecuteTime": {
     "end_time": "2021-01-12T16:42:00.563690Z",
     "start_time": "2021-01-12T16:42:00.558662Z"
    }
   },
   "outputs": [
    {
     "data": {
      "text/plain": [
       "Index(['edu', 'edu_yr', 'income', 'political', 'property_8', 'weight_jin',\n",
       "       'health', 'health_problem', 'depression', 'hukou', 'media_1', 'media_2',\n",
       "       'media_3', 'media_4', 'media_5', 'media_6', 'leisure_1', 'leisure_3',\n",
       "       'leisure_4', 'leisure_6', 'leisure_7', 'leisure_8', 'leisure_9',\n",
       "       'leisure_12', 'socialize', 'relax', 'learn', 'social_friend',\n",
       "       'socia_outing', 'equity', 'class', 'class_10_before', 'class_10_after',\n",
       "       'class_14', 'family_m', 'family_status', 'house', 'car', 'invest_1',\n",
       "       'invest_2', 's_edu', 's_political', 's_hukou', 's_income',\n",
       "       'status_peer', 'status_3_before', 'view', 'trust_1', 'trust_2',\n",
       "       'trust_5', 'trust_7', 'trust_8', 'trust_10', 'trust_12',\n",
       "       'neighbor_familiarity', 'public_service_1', 'public_service_2',\n",
       "       'public_service_3', 'public_service_4', 'public_service_5',\n",
       "       'public_service_6', 'public_service_7', 'public_service_8',\n",
       "       'public_service_9', 'Age', 'work_exper'],\n",
       "      dtype='object')"
      ]
     },
     "execution_count": 51,
     "metadata": {},
     "output_type": "execute_result"
    }
   ],
   "source": [
    "col = test.columns\n",
    "col"
   ]
  },
  {
   "cell_type": "code",
   "execution_count": 52,
   "metadata": {
    "ExecuteTime": {
     "end_time": "2021-01-12T16:42:03.731260Z",
     "start_time": "2021-01-12T16:42:03.172754Z"
    }
   },
   "outputs": [],
   "source": [
    "from sklearn.impute import KNNImputer  #* impute.KNNImputer直接使用KNN的算法填补缺失值\n",
    "\n",
    "imputer = KNNImputer(n_neighbors=10)\n",
    "test = imputer.fit_transform(test)\n",
    "test = pd.DataFrame(test,columns=col)"
   ]
  },
  {
   "cell_type": "markdown",
   "metadata": {},
   "source": [
    "### 拆分训练集和测试集"
   ]
  },
  {
   "cell_type": "markdown",
   "metadata": {},
   "source": [
    "### 标准化处理"
   ]
  },
  {
   "cell_type": "code",
   "execution_count": 53,
   "metadata": {
    "ExecuteTime": {
     "end_time": "2021-01-12T16:42:07.110223Z",
     "start_time": "2021-01-12T16:42:07.084780Z"
    }
   },
   "outputs": [],
   "source": [
    "from sklearn.preprocessing import StandardScaler\n",
    "\n",
    "scaler = StandardScaler()\n",
    "X_train_s = scaler.fit_transform(train[features])  # fit_transform 可分为两步，这里合二为一【preprocessing不能看test集】\n",
    "X_test_s = scaler.transform(test[features])  # 删掉fit很重要"
   ]
  },
  {
   "cell_type": "code",
   "execution_count": 54,
   "metadata": {
    "ExecuteTime": {
     "end_time": "2021-01-12T16:42:15.460385Z",
     "start_time": "2021-01-12T16:42:10.052353Z"
    }
   },
   "outputs": [
    {
     "name": "stdout",
     "output_type": "stream",
     "text": [
      "fold_n 0\n",
      "Training until validation scores don't improve for 100 rounds\n",
      "[1000]\ttraining's rmse: 0.623986\tvalid_1's rmse: 0.683031\n",
      "Early stopping, best iteration is:\n",
      "[1100]\ttraining's rmse: 0.619023\tvalid_1's rmse: 0.682544\n",
      "CV score: 3.54971 \n",
      "fold_n 1\n",
      "Training until validation scores don't improve for 100 rounds\n",
      "[1000]\ttraining's rmse: 0.620266\tvalid_1's rmse: 0.691415\n",
      "Early stopping, best iteration is:\n",
      "[905]\ttraining's rmse: 0.625312\tvalid_1's rmse: 0.69118\n",
      "CV score: 3.10339 \n",
      "fold_n 2\n",
      "Training until validation scores don't improve for 100 rounds\n",
      "[1000]\ttraining's rmse: 0.631956\tvalid_1's rmse: 0.650783\n",
      "Early stopping, best iteration is:\n",
      "[1395]\ttraining's rmse: 0.613725\tvalid_1's rmse: 0.649538\n",
      "CV score: 2.55907 \n",
      "fold_n 3\n",
      "Training until validation scores don't improve for 100 rounds\n",
      "[1000]\ttraining's rmse: 0.620351\tvalid_1's rmse: 0.699757\n",
      "Early stopping, best iteration is:\n",
      "[1119]\ttraining's rmse: 0.614527\tvalid_1's rmse: 0.699404\n",
      "CV score: 1.87191 \n",
      "fold_n 4\n",
      "Training until validation scores don't improve for 100 rounds\n",
      "[1000]\ttraining's rmse: 0.622505\tvalid_1's rmse: 0.6857\n",
      "Early stopping, best iteration is:\n",
      "[1180]\ttraining's rmse: 0.614095\tvalid_1's rmse: 0.684681\n",
      "CV score: 0.68168 \n"
     ]
    }
   ],
   "source": [
    "# 生成数据和标签\n",
    "target = train['happiness']\n",
    "train_selected =pd.DataFrame(X_train_s)\n",
    "test = X_test_s\n",
    "feature_importance_df = pd.DataFrame()\n",
    "oof = np.zeros(len(target))\n",
    "predictions = np.zeros(len(test))\n",
    "\n",
    "params = {'num_leaves': 9,\n",
    "         'min_data_in_leaf': 40,\n",
    "         'objective': 'regression',\n",
    "         'max_depth': 16,\n",
    "         'learning_rate': 0.01,\n",
    "         'boosting': 'gbdt',\n",
    "         'bagging_freq': 5,\n",
    "         'bagging_fraction': 0.8,   # 每次迭代时用的数据比例\n",
    "         'feature_fraction': 0.8201,# 每次迭代中随机选择80％的参数来建树\n",
    "         'bagging_seed': 11,\n",
    "         'reg_alpha': 1.728910519108444,\n",
    "         'reg_lambda': 4.9847051755586085,\n",
    "         'random_state': 42,\n",
    "         'metric': 'rmse',\n",
    "         'verbosity': -1,\n",
    "         'subsample': 0.81,\n",
    "         'min_gain_to_split': 0.01077313523861969,\n",
    "         'min_child_weight': 19.428902804238373,\n",
    "         'num_threads': 4}\n",
    "\n",
    "kfolds = KFold(n_splits=5,shuffle=True,random_state=15)\n",
    "predictions = np.zeros(len(test))\n",
    "\n",
    "for fold_n,(trn_index,val_index) in enumerate(kfolds.split(train_selected,target)):\n",
    "    print(\"fold_n {}\".format(fold_n))\n",
    "    trn_data = lgb.Dataset(train_selected.iloc[trn_index],label=target.iloc[trn_index])\n",
    "    val_data = lgb.Dataset(train_selected.iloc[val_index],label=target.iloc[val_index])\n",
    "    num_round=10000\n",
    "    clf = lgb.train(params, trn_data, num_round, valid_sets = [trn_data, val_data], verbose_eval=1000, early_stopping_rounds = 100)\n",
    "    oof[val_index] = clf.predict(train_selected.iloc[val_index], num_iteration=clf.best_iteration)\n",
    "    predictions += clf.predict(test,num_iteration=clf.best_iteration)/5\n",
    "    fold_importance_df = pd.DataFrame()\n",
    "    fold_importance_df[\"feature\"] = features\n",
    "    fold_importance_df[\"importance\"] = clf.feature_importance()\n",
    "    fold_importance_df[\"fold\"] = fold_n + 1\n",
    "    feature_importance_df = pd.concat([feature_importance_df, fold_importance_df], axis=0)\n",
    "    print(\"CV score: {:<8.5f}\".format(mean_squared_error(target, oof)**0.5))      "
   ]
  },
  {
   "cell_type": "code",
   "execution_count": 55,
   "metadata": {
    "ExecuteTime": {
     "end_time": "2021-01-12T16:42:29.421145Z",
     "start_time": "2021-01-12T16:42:29.410177Z"
    }
   },
   "outputs": [
    {
     "data": {
      "text/html": [
       "<div>\n",
       "<style scoped>\n",
       "    .dataframe tbody tr th:only-of-type {\n",
       "        vertical-align: middle;\n",
       "    }\n",
       "\n",
       "    .dataframe tbody tr th {\n",
       "        vertical-align: top;\n",
       "    }\n",
       "\n",
       "    .dataframe thead th {\n",
       "        text-align: right;\n",
       "    }\n",
       "</style>\n",
       "<table border=\"1\" class=\"dataframe\">\n",
       "  <thead>\n",
       "    <tr style=\"text-align: right;\">\n",
       "      <th></th>\n",
       "      <th>id</th>\n",
       "      <th>happiness</th>\n",
       "    </tr>\n",
       "  </thead>\n",
       "  <tbody>\n",
       "    <tr>\n",
       "      <th>0</th>\n",
       "      <td>8001</td>\n",
       "      <td>3.84</td>\n",
       "    </tr>\n",
       "    <tr>\n",
       "      <th>1</th>\n",
       "      <td>8002</td>\n",
       "      <td>3.03</td>\n",
       "    </tr>\n",
       "    <tr>\n",
       "      <th>2</th>\n",
       "      <td>8003</td>\n",
       "      <td>3.40</td>\n",
       "    </tr>\n",
       "    <tr>\n",
       "      <th>3</th>\n",
       "      <td>8004</td>\n",
       "      <td>4.27</td>\n",
       "    </tr>\n",
       "    <tr>\n",
       "      <th>4</th>\n",
       "      <td>8005</td>\n",
       "      <td>3.34</td>\n",
       "    </tr>\n",
       "  </tbody>\n",
       "</table>\n",
       "</div>"
      ],
      "text/plain": [
       "     id  happiness\n",
       "0  8001       3.84\n",
       "1  8002       3.03\n",
       "2  8003       3.40\n",
       "3  8004       4.27\n",
       "4  8005       3.34"
      ]
     },
     "execution_count": 55,
     "metadata": {},
     "output_type": "execute_result"
    }
   ],
   "source": [
    "# 计算结果\n",
    "submit = pd.read_csv(\"C:Users/60448/Desktop/happiness/happiness_submit.csv\")\n",
    "submision_lgb1  = pd.DataFrame({\"id\":submit['id'].values})\n",
    "submision_lgb1[\"happiness\"]=predictions\n",
    "submision_lgb1.head(5)"
   ]
  },
  {
   "cell_type": "code",
   "execution_count": 56,
   "metadata": {
    "ExecuteTime": {
     "end_time": "2021-01-12T16:42:34.592538Z",
     "start_time": "2021-01-12T16:42:34.586575Z"
    }
   },
   "outputs": [
    {
     "data": {
      "text/plain": [
       "0       3.8\n",
       "1       3.0\n",
       "2       3.4\n",
       "3       4.3\n",
       "4       3.3\n",
       "       ... \n",
       "2963    4.5\n",
       "2964    3.5\n",
       "2965    4.1\n",
       "2966    4.1\n",
       "2967    4.9\n",
       "Name: happiness, Length: 2968, dtype: float64"
      ]
     },
     "execution_count": 56,
     "metadata": {},
     "output_type": "execute_result"
    }
   ],
   "source": [
    "submision_lgb1['happiness'].round(1)"
   ]
  },
  {
   "cell_type": "code",
   "execution_count": 154,
   "metadata": {
    "ExecuteTime": {
     "end_time": "2021-01-12T16:29:51.808445Z",
     "start_time": "2021-01-12T16:29:51.787908Z"
    }
   },
   "outputs": [],
   "source": [
    "arr =[]\n",
    "for i in  submision_lgb1['happiness'].values:\n",
    "    if str(i.round(1)).split(\".\")[1] not in ['3','4','5','6','7']:\n",
    "        arr.append(1)\n",
    "    else:\n",
    "        arr.append(0)"
   ]
  },
  {
   "cell_type": "code",
   "execution_count": 155,
   "metadata": {
    "ExecuteTime": {
     "end_time": "2021-01-12T16:29:53.074060Z",
     "start_time": "2021-01-12T16:29:53.069115Z"
    }
   },
   "outputs": [],
   "source": [
    "submision_lgb1['exg']=arr"
   ]
  },
  {
   "cell_type": "code",
   "execution_count": 158,
   "metadata": {
    "ExecuteTime": {
     "end_time": "2021-01-12T16:30:50.355660Z",
     "start_time": "2021-01-12T16:30:50.347881Z"
    }
   },
   "outputs": [
    {
     "data": {
      "text/plain": [
       "0       4.0\n",
       "1       3.0\n",
       "5       4.0\n",
       "6       4.0\n",
       "8       4.0\n",
       "       ... \n",
       "2960    4.0\n",
       "2961    4.0\n",
       "2965    4.0\n",
       "2966    4.0\n",
       "2967    5.0\n",
       "Name: happiness, Length: 1790, dtype: float64"
      ]
     },
     "execution_count": 158,
     "metadata": {},
     "output_type": "execute_result"
    }
   ],
   "source": [
    "submision_lgb1[submision_lgb1['exg']==1]['happiness'].round(0)"
   ]
  },
  {
   "cell_type": "code",
   "execution_count": 57,
   "metadata": {
    "ExecuteTime": {
     "end_time": "2021-01-12T16:42:39.324854Z",
     "start_time": "2021-01-12T16:42:39.129379Z"
    }
   },
   "outputs": [],
   "source": [
    "submision_lgb1.to_csv('C:/Users/60448/Desktop/submission.csv')"
   ]
  },
  {
   "cell_type": "code",
   "execution_count": null,
   "metadata": {},
   "outputs": [],
   "source": []
  },
  {
   "cell_type": "markdown",
   "metadata": {},
   "source": [
    "## 开搞2-XGBoost"
   ]
  },
  {
   "cell_type": "code",
   "execution_count": 61,
   "metadata": {
    "ExecuteTime": {
     "end_time": "2021-01-12T16:53:51.257917Z",
     "start_time": "2021-01-12T16:53:11.449273Z"
    }
   },
   "outputs": [
    {
     "name": "stdout",
     "output_type": "stream",
     "text": [
      "Fitting 5 folds for each of 42 candidates, totalling 210 fits\n"
     ]
    },
    {
     "name": "stderr",
     "output_type": "stream",
     "text": [
      "[Parallel(n_jobs=-1)]: Using backend LokyBackend with 8 concurrent workers.\n",
      "[Parallel(n_jobs=-1)]: Done  34 tasks      | elapsed:    8.4s\n",
      "[Parallel(n_jobs=-1)]: Done 184 tasks      | elapsed:   33.9s\n",
      "[Parallel(n_jobs=-1)]: Done 210 out of 210 | elapsed:   38.7s finished\n"
     ]
    },
    {
     "name": "stdout",
     "output_type": "stream",
     "text": [
      "[00:53:50] WARNING: d:\\build\\xgboost\\xgboost-0.90.git\\src\\objective\\regression_obj.cu:152: reg:linear is now deprecated in favor of reg:squarederror.\n"
     ]
    },
    {
     "data": {
      "text/plain": [
       "GridSearchCV(cv=5, error_score=nan,\n",
       "             estimator=XGBRegressor(base_score=0.5, booster='gbtree',\n",
       "                                    colsample_bylevel=1, colsample_bynode=1,\n",
       "                                    colsample_bytree=1, gamma=0,\n",
       "                                    importance_type='gain', learning_rate=0.1,\n",
       "                                    max_delta_step=0, max_depth=3,\n",
       "                                    min_child_weight=1, missing=None,\n",
       "                                    n_estimators=100, n_jobs=1, nthread=None,\n",
       "                                    objective='reg:linear', random_state=0,\n",
       "                                    reg_alpha=0, reg_lambda=1,\n",
       "                                    scale_pos_weight=1, seed=None, silent=None,\n",
       "                                    subsample=1, verbosity=1),\n",
       "             iid='deprecated', n_jobs=-1,\n",
       "             param_grid={'learning_rate': [0.01, 0.05, 0.08, 0.1, 0.13, 0.15,\n",
       "                                           0.2],\n",
       "                         'max_depth': [1, 2, 3, 4, 5, 6]},\n",
       "             pre_dispatch='2*n_jobs', refit=True, return_train_score=False,\n",
       "             scoring=None, verbose=1)"
      ]
     },
     "execution_count": 61,
     "metadata": {},
     "output_type": "execute_result"
    },
    {
     "data": {
      "text/plain": [
       "({'learning_rate': 0.13, 'max_depth': 3}, 0.2961022664415413)"
      ]
     },
     "execution_count": 61,
     "metadata": {},
     "output_type": "execute_result"
    }
   ],
   "source": [
    "# 根据重抽样后的数据构建XGBoost模型\n",
    "import xgboost\n",
    "import numpy as np\n",
    "\n",
    "# 使用网格搜索法对模型参数进行调优\n",
    "learning_rate = [0.01,0.05,0.08,0.1,0.13,0.15,0.2]\n",
    "max_depth = [1,2,3,4,5,6]\n",
    "params = {'learning_rate':learning_rate,'max_depth':max_depth}\n",
    "XGB_grid = GridSearchCV(estimator = xgboost.XGBRegressor(),\n",
    "                         param_grid= params, cv = 5, n_jobs = -1, verbose = 1)\n",
    "XGB_grid.fit(X_train_s,train['happiness'])\n",
    "\n",
    "\n",
    "# 返回参数的最佳组合和对应MSE值\n",
    "XGB_grid.best_params_, XGB_grid.best_score_"
   ]
  },
  {
   "cell_type": "code",
   "execution_count": 68,
   "metadata": {
    "ExecuteTime": {
     "end_time": "2021-01-12T16:57:21.199477Z",
     "start_time": "2021-01-12T16:57:20.407553Z"
    }
   },
   "outputs": [
    {
     "name": "stdout",
     "output_type": "stream",
     "text": [
      "[00:57:20] WARNING: d:\\build\\xgboost\\xgboost-0.90.git\\src\\objective\\regression_obj.cu:152: reg:linear is now deprecated in favor of reg:squarederror.\n"
     ]
    },
    {
     "data": {
      "text/plain": [
       "XGBRegressor(base_score=0.5, booster='gbtree', colsample_bylevel=1,\n",
       "             colsample_bynode=1, colsample_bytree=1, gamma=0,\n",
       "             importance_type='gain', learning_rate=0.13, max_delta_step=0,\n",
       "             max_depth=3, min_child_weight=1, missing=None, n_estimators=100,\n",
       "             n_jobs=1, nthread=None, objective='reg:linear', random_state=0,\n",
       "             reg_alpha=0, reg_lambda=1, scale_pos_weight=1, seed=None,\n",
       "             silent=None, subsample=1, verbosity=1)"
      ]
     },
     "execution_count": 68,
     "metadata": {},
     "output_type": "execute_result"
    }
   ],
   "source": [
    "import xgboost\n",
    "xgboost = xgboost.XGBRegressor(learning_rate=0.13,max_depth=3)                # 构建参数调优后的XGBoost回归器\n",
    "xgboost.fit(X_train_s,train['happiness'])       # 使用重抽样后的数据，对其建模\n",
    "# 将模型运用到测试数据集中\n",
    "resample_pred = xgboost.predict(np.array(X_test_s))\n"
   ]
  },
  {
   "cell_type": "code",
   "execution_count": 70,
   "metadata": {
    "ExecuteTime": {
     "end_time": "2021-01-12T16:58:29.191755Z",
     "start_time": "2021-01-12T16:58:29.180191Z"
    }
   },
   "outputs": [
    {
     "data": {
      "text/html": [
       "<div>\n",
       "<style scoped>\n",
       "    .dataframe tbody tr th:only-of-type {\n",
       "        vertical-align: middle;\n",
       "    }\n",
       "\n",
       "    .dataframe tbody tr th {\n",
       "        vertical-align: top;\n",
       "    }\n",
       "\n",
       "    .dataframe thead th {\n",
       "        text-align: right;\n",
       "    }\n",
       "</style>\n",
       "<table border=\"1\" class=\"dataframe\">\n",
       "  <thead>\n",
       "    <tr style=\"text-align: right;\">\n",
       "      <th></th>\n",
       "      <th>id</th>\n",
       "      <th>happiness</th>\n",
       "    </tr>\n",
       "  </thead>\n",
       "  <tbody>\n",
       "    <tr>\n",
       "      <th>0</th>\n",
       "      <td>8001</td>\n",
       "      <td>3.89</td>\n",
       "    </tr>\n",
       "    <tr>\n",
       "      <th>1</th>\n",
       "      <td>8002</td>\n",
       "      <td>2.91</td>\n",
       "    </tr>\n",
       "    <tr>\n",
       "      <th>2</th>\n",
       "      <td>8003</td>\n",
       "      <td>3.30</td>\n",
       "    </tr>\n",
       "    <tr>\n",
       "      <th>3</th>\n",
       "      <td>8004</td>\n",
       "      <td>4.28</td>\n",
       "    </tr>\n",
       "    <tr>\n",
       "      <th>4</th>\n",
       "      <td>8005</td>\n",
       "      <td>3.38</td>\n",
       "    </tr>\n",
       "  </tbody>\n",
       "</table>\n",
       "</div>"
      ],
      "text/plain": [
       "     id  happiness\n",
       "0  8001       3.89\n",
       "1  8002       2.91\n",
       "2  8003       3.30\n",
       "3  8004       4.28\n",
       "4  8005       3.38"
      ]
     },
     "execution_count": 70,
     "metadata": {},
     "output_type": "execute_result"
    }
   ],
   "source": [
    "# 计算结果\n",
    "submit = pd.read_csv(\"C:Users/60448/Desktop/happiness/happiness_submit.csv\")\n",
    "submision  = pd.DataFrame({\"id\":submit['id'].values})\n",
    "submision[\"happiness\"]=resample_pred\n",
    "submision.head(5)"
   ]
  },
  {
   "cell_type": "code",
   "execution_count": 71,
   "metadata": {
    "ExecuteTime": {
     "end_time": "2021-01-12T16:58:48.210198Z",
     "start_time": "2021-01-12T16:58:48.197722Z"
    }
   },
   "outputs": [],
   "source": [
    "submision.to_csv('C:/Users/60448/Desktop/submission2.csv')"
   ]
  },
  {
   "cell_type": "markdown",
   "metadata": {},
   "source": [
    "## 开搞3-随机森林"
   ]
  },
  {
   "cell_type": "code",
   "execution_count": 72,
   "metadata": {
    "ExecuteTime": {
     "end_time": "2021-01-12T17:04:33.160519Z",
     "start_time": "2021-01-12T17:04:33.157487Z"
    }
   },
   "outputs": [],
   "source": [
    "from sklearn import model_selection\n",
    "from sklearn.model_selection import GridSearchCV\n",
    "from sklearn import tree\n",
    "from sklearn import ensemble"
   ]
  },
  {
   "cell_type": "code",
   "execution_count": 73,
   "metadata": {
    "ExecuteTime": {
     "end_time": "2021-01-12T17:06:54.775854Z",
     "start_time": "2021-01-12T17:05:26.199084Z"
    }
   },
   "outputs": [
    {
     "data": {
      "text/plain": [
       "RandomForestRegressor(bootstrap=True, ccp_alpha=0.0, criterion='mse',\n",
       "                      max_depth=None, max_features='auto', max_leaf_nodes=None,\n",
       "                      max_samples=None, min_impurity_decrease=0.0,\n",
       "                      min_impurity_split=None, min_samples_leaf=1,\n",
       "                      min_samples_split=2, min_weight_fraction_leaf=0.0,\n",
       "                      n_estimators=1000, n_jobs=None, oob_score=False,\n",
       "                      random_state=1234, verbose=0, warm_start=False)"
      ]
     },
     "execution_count": 73,
     "metadata": {},
     "output_type": "execute_result"
    }
   ],
   "source": [
    "RF = ensemble.RandomForestRegressor(n_estimators=1000, random_state=1234)\n",
    "RF.fit(X_train_s,train['happiness'])            # 随机森林拟合\n",
    "RF_pred = RF.predict(X_test_s)        # 模型在测试集上的预测\n"
   ]
  },
  {
   "cell_type": "code",
   "execution_count": 74,
   "metadata": {
    "ExecuteTime": {
     "end_time": "2021-01-12T17:07:02.800430Z",
     "start_time": "2021-01-12T17:07:02.788457Z"
    }
   },
   "outputs": [
    {
     "data": {
      "text/html": [
       "<div>\n",
       "<style scoped>\n",
       "    .dataframe tbody tr th:only-of-type {\n",
       "        vertical-align: middle;\n",
       "    }\n",
       "\n",
       "    .dataframe tbody tr th {\n",
       "        vertical-align: top;\n",
       "    }\n",
       "\n",
       "    .dataframe thead th {\n",
       "        text-align: right;\n",
       "    }\n",
       "</style>\n",
       "<table border=\"1\" class=\"dataframe\">\n",
       "  <thead>\n",
       "    <tr style=\"text-align: right;\">\n",
       "      <th></th>\n",
       "      <th>id</th>\n",
       "      <th>happiness</th>\n",
       "    </tr>\n",
       "  </thead>\n",
       "  <tbody>\n",
       "    <tr>\n",
       "      <th>0</th>\n",
       "      <td>8001</td>\n",
       "      <td>3.91</td>\n",
       "    </tr>\n",
       "    <tr>\n",
       "      <th>1</th>\n",
       "      <td>8002</td>\n",
       "      <td>3.10</td>\n",
       "    </tr>\n",
       "    <tr>\n",
       "      <th>2</th>\n",
       "      <td>8003</td>\n",
       "      <td>3.24</td>\n",
       "    </tr>\n",
       "    <tr>\n",
       "      <th>3</th>\n",
       "      <td>8004</td>\n",
       "      <td>4.31</td>\n",
       "    </tr>\n",
       "    <tr>\n",
       "      <th>4</th>\n",
       "      <td>8005</td>\n",
       "      <td>3.13</td>\n",
       "    </tr>\n",
       "  </tbody>\n",
       "</table>\n",
       "</div>"
      ],
      "text/plain": [
       "     id  happiness\n",
       "0  8001       3.91\n",
       "1  8002       3.10\n",
       "2  8003       3.24\n",
       "3  8004       4.31\n",
       "4  8005       3.13"
      ]
     },
     "execution_count": 74,
     "metadata": {},
     "output_type": "execute_result"
    }
   ],
   "source": [
    "# 计算结果\n",
    "submit = pd.read_csv(\"C:Users/60448/Desktop/happiness/happiness_submit.csv\")\n",
    "submision  = pd.DataFrame({\"id\":submit['id'].values})\n",
    "submision[\"happiness\"]=RF_pred\n",
    "submision.head(5)"
   ]
  },
  {
   "cell_type": "code",
   "execution_count": 75,
   "metadata": {
    "ExecuteTime": {
     "end_time": "2021-01-12T17:07:17.251277Z",
     "start_time": "2021-01-12T17:07:17.239269Z"
    }
   },
   "outputs": [],
   "source": [
    "submision.to_csv('C:/Users/60448/Desktop/submission3.csv')"
   ]
  },
  {
   "cell_type": "code",
   "execution_count": 76,
   "metadata": {
    "ExecuteTime": {
     "end_time": "2021-01-12T17:09:33.304993Z",
     "start_time": "2021-01-12T17:09:33.301006Z"
    }
   },
   "outputs": [],
   "source": [
    "submision['result'] = 5.0"
   ]
  },
  {
   "cell_type": "code",
   "execution_count": null,
   "metadata": {},
   "outputs": [],
   "source": []
  }
 ],
 "metadata": {
  "kernelspec": {
   "display_name": "Python 3.6.8 64-bit",
   "language": "python",
   "name": "python36864bitdeffc346cf9545b0ac5f18a9837f94ba"
  },
  "language_info": {
   "codemirror_mode": {
    "name": "ipython",
    "version": 3
   },
   "file_extension": ".py",
   "mimetype": "text/x-python",
   "name": "python",
   "nbconvert_exporter": "python",
   "pygments_lexer": "ipython3",
   "version": "3.6.8"
  },
  "toc": {
   "base_numbering": 1,
   "nav_menu": {},
   "number_sections": true,
   "sideBar": true,
   "skip_h1_title": false,
   "title_cell": "Table of Contents",
   "title_sidebar": "Contents",
   "toc_cell": false,
   "toc_position": {
    "height": "calc(100% - 180px)",
    "left": "10px",
    "top": "150px",
    "width": "349.091px"
   },
   "toc_section_display": true,
   "toc_window_display": true
  },
  "varInspector": {
   "cols": {
    "lenName": 16,
    "lenType": 16,
    "lenVar": 40
   },
   "kernels_config": {
    "python": {
     "delete_cmd_postfix": "",
     "delete_cmd_prefix": "del ",
     "library": "var_list.py",
     "varRefreshCmd": "print(var_dic_list())"
    },
    "r": {
     "delete_cmd_postfix": ") ",
     "delete_cmd_prefix": "rm(",
     "library": "var_list.r",
     "varRefreshCmd": "cat(var_dic_list()) "
    }
   },
   "types_to_exclude": [
    "module",
    "function",
    "builtin_function_or_method",
    "instance",
    "_Feature"
   ],
   "window_display": false
  }
 },
 "nbformat": 4,
 "nbformat_minor": 2
}
