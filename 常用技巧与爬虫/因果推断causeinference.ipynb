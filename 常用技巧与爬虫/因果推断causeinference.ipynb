{
 "cells": [
  {
   "cell_type": "markdown",
   "metadata": {},
   "source": [
    "# 此包可以用于进行因果推断分析"
   ]
  },
  {
   "cell_type": "code",
   "execution_count": 3,
   "metadata": {
    "ExecuteTime": {
     "end_time": "2020-02-07T14:43:18.079340Z",
     "start_time": "2020-02-07T14:43:15.529008Z"
    }
   },
   "outputs": [
    {
     "data": {
      "text/html": [
       "<div>\n",
       "<style scoped>\n",
       "    .dataframe tbody tr th:only-of-type {\n",
       "        vertical-align: middle;\n",
       "    }\n",
       "\n",
       "    .dataframe tbody tr th {\n",
       "        vertical-align: top;\n",
       "    }\n",
       "\n",
       "    .dataframe thead th {\n",
       "        text-align: right;\n",
       "    }\n",
       "</style>\n",
       "<table border=\"1\" class=\"dataframe\">\n",
       "  <thead>\n",
       "    <tr style=\"text-align: right;\">\n",
       "      <th></th>\n",
       "      <th>y</th>\n",
       "      <th>istreatment</th>\n",
       "      <th>x1</th>\n",
       "      <th>x2</th>\n",
       "      <th>x3</th>\n",
       "    </tr>\n",
       "  </thead>\n",
       "  <tbody>\n",
       "    <tr>\n",
       "      <td>0</td>\n",
       "      <td>4.636388</td>\n",
       "      <td>1</td>\n",
       "      <td>-0.355052</td>\n",
       "      <td>0.441348</td>\n",
       "      <td>0.908629</td>\n",
       "    </tr>\n",
       "    <tr>\n",
       "      <td>1</td>\n",
       "      <td>-1.965486</td>\n",
       "      <td>0</td>\n",
       "      <td>-0.819260</td>\n",
       "      <td>-0.712998</td>\n",
       "      <td>0.037563</td>\n",
       "    </tr>\n",
       "    <tr>\n",
       "      <td>2</td>\n",
       "      <td>0.581781</td>\n",
       "      <td>0</td>\n",
       "      <td>1.391339</td>\n",
       "      <td>-0.017292</td>\n",
       "      <td>-0.804188</td>\n",
       "    </tr>\n",
       "    <tr>\n",
       "      <td>3</td>\n",
       "      <td>-2.067287</td>\n",
       "      <td>0</td>\n",
       "      <td>-0.831021</td>\n",
       "      <td>0.497860</td>\n",
       "      <td>0.349555</td>\n",
       "    </tr>\n",
       "    <tr>\n",
       "      <td>4</td>\n",
       "      <td>9.546829</td>\n",
       "      <td>1</td>\n",
       "      <td>1.682321</td>\n",
       "      <td>0.608986</td>\n",
       "      <td>0.937725</td>\n",
       "    </tr>\n",
       "    <tr>\n",
       "      <td>...</td>\n",
       "      <td>...</td>\n",
       "      <td>...</td>\n",
       "      <td>...</td>\n",
       "      <td>...</td>\n",
       "      <td>...</td>\n",
       "    </tr>\n",
       "    <tr>\n",
       "      <td>4995</td>\n",
       "      <td>5.229174</td>\n",
       "      <td>1</td>\n",
       "      <td>0.177594</td>\n",
       "      <td>0.565183</td>\n",
       "      <td>0.159337</td>\n",
       "    </tr>\n",
       "    <tr>\n",
       "      <td>4996</td>\n",
       "      <td>2.842308</td>\n",
       "      <td>1</td>\n",
       "      <td>0.549753</td>\n",
       "      <td>-0.912549</td>\n",
       "      <td>0.046224</td>\n",
       "    </tr>\n",
       "    <tr>\n",
       "      <td>4997</td>\n",
       "      <td>6.659550</td>\n",
       "      <td>1</td>\n",
       "      <td>1.359027</td>\n",
       "      <td>1.181659</td>\n",
       "      <td>-1.893093</td>\n",
       "    </tr>\n",
       "    <tr>\n",
       "      <td>4998</td>\n",
       "      <td>1.016941</td>\n",
       "      <td>0</td>\n",
       "      <td>-2.103881</td>\n",
       "      <td>0.543803</td>\n",
       "      <td>0.962677</td>\n",
       "    </tr>\n",
       "    <tr>\n",
       "      <td>4999</td>\n",
       "      <td>3.323807</td>\n",
       "      <td>1</td>\n",
       "      <td>1.627608</td>\n",
       "      <td>-0.923482</td>\n",
       "      <td>0.194445</td>\n",
       "    </tr>\n",
       "  </tbody>\n",
       "</table>\n",
       "<p>5000 rows × 5 columns</p>\n",
       "</div>"
      ],
      "text/plain": [
       "             y  istreatment        x1        x2        x3\n",
       "0     4.636388            1 -0.355052  0.441348  0.908629\n",
       "1    -1.965486            0 -0.819260 -0.712998  0.037563\n",
       "2     0.581781            0  1.391339 -0.017292 -0.804188\n",
       "3    -2.067287            0 -0.831021  0.497860  0.349555\n",
       "4     9.546829            1  1.682321  0.608986  0.937725\n",
       "...        ...          ...       ...       ...       ...\n",
       "4995  5.229174            1  0.177594  0.565183  0.159337\n",
       "4996  2.842308            1  0.549753 -0.912549  0.046224\n",
       "4997  6.659550            1  1.359027  1.181659 -1.893093\n",
       "4998  1.016941            0 -2.103881  0.543803  0.962677\n",
       "4999  3.323807            1  1.627608 -0.923482  0.194445\n",
       "\n",
       "[5000 rows x 5 columns]"
      ]
     },
     "execution_count": 3,
     "metadata": {},
     "output_type": "execute_result"
    }
   ],
   "source": [
    "import pandas as pd\n",
    "\n",
    "df = pd.read_csv('C:/Users/123/Desktop/data.csv')\n",
    "df"
   ]
  },
  {
   "cell_type": "markdown",
   "metadata": {},
   "source": [
    "## 数据描述\n",
    "\n",
    "- x1，x2，x3 控制变量\n",
    "\n",
    "- y 因变量\n",
    "\n",
    "- istreatment 处置变量D，标注每条数据隶属于treatment或control组。1为treatment， 0为control。"
   ]
  },
  {
   "cell_type": "code",
   "execution_count": 2,
   "metadata": {
    "ExecuteTime": {
     "end_time": "2020-02-07T14:34:47.910082Z",
     "start_time": "2020-02-07T14:34:44.589262Z"
    }
   },
   "outputs": [],
   "source": [
    "from causalinference import CausalModel"
   ]
  },
  {
   "cell_type": "code",
   "execution_count": 4,
   "metadata": {
    "ExecuteTime": {
     "end_time": "2020-02-07T14:51:53.344373Z",
     "start_time": "2020-02-07T14:51:53.181334Z"
    }
   },
   "outputs": [
    {
     "data": {
      "text/plain": [
       "<causalinference.causal.CausalModel at 0x2926b38b668>"
      ]
     },
     "execution_count": 4,
     "metadata": {},
     "output_type": "execute_result"
    }
   ],
   "source": [
    "Y = df['y'].values\n",
    "D = df['istreatment'].values\n",
    "X = df[['x1', 'x2', 'x3']].values\n",
    "\n",
    "#CausalModel参数依次为Y， D， X。其中Y为因变量\n",
    "causal = CausalModel(Y, D, X)\n",
    "causal"
   ]
  },
  {
   "cell_type": "markdown",
   "metadata": {},
   "source": [
    "##  描述性统计分析"
   ]
  },
  {
   "cell_type": "code",
   "execution_count": 6,
   "metadata": {
    "ExecuteTime": {
     "end_time": "2020-02-07T14:55:48.681533Z",
     "start_time": "2020-02-07T14:55:48.673532Z"
    }
   },
   "outputs": [
    {
     "data": {
      "text/plain": [
       "dict_keys(['N', 'K', 'N_c', 'N_t', 'Y_c_mean', 'Y_t_mean', 'Y_c_sd', 'Y_t_sd', 'rdiff', 'X_c_mean', 'X_t_mean', 'X_c_sd', 'X_t_sd', 'ndiff'])"
      ]
     },
     "execution_count": 6,
     "metadata": {},
     "output_type": "execute_result"
    }
   ],
   "source": [
    "causal.summary_stats.keys()\n",
    "# 查看causal.summary_stats含有的指标字段名"
   ]
  },
  {
   "cell_type": "code",
   "execution_count": 5,
   "metadata": {
    "ExecuteTime": {
     "end_time": "2020-02-07T14:55:13.572823Z",
     "start_time": "2020-02-07T14:55:13.559820Z"
    }
   },
   "outputs": [
    {
     "name": "stdout",
     "output_type": "stream",
     "text": [
      "\n",
      "Summary Statistics\n",
      "\n",
      "                      Controls (N_c=2509)        Treated (N_t=2491)             \n",
      "       Variable         Mean         S.d.         Mean         S.d.     Raw-diff\n",
      "--------------------------------------------------------------------------------\n",
      "              Y       -1.012        1.742        4.978        3.068        5.989\n",
      "\n",
      "                      Controls (N_c=2509)        Treated (N_t=2491)             \n",
      "       Variable         Mean         S.d.         Mean         S.d.     Nor-diff\n",
      "--------------------------------------------------------------------------------\n",
      "             X0       -0.343        0.940        0.336        0.961        0.714\n",
      "             X1       -0.347        0.936        0.345        0.958        0.730\n",
      "             X2       -0.313        0.940        0.306        0.963        0.650\n",
      "\n"
     ]
    }
   ],
   "source": [
    "print(causal.summary_stats)"
   ]
  },
  {
   "cell_type": "markdown",
   "metadata": {},
   "source": [
    "### 使用OLS估计处置效应\n",
    "估计处置效应最简单的方法是使用OLS方法，\n",
    "\n",
    "![](img/ols.png)\n",
    "\n",
    "CausalModel.est_via_ols(adj)\n",
    "\n",
    "该方法有一个参数adj\n",
    "- adj=0  模型未使用X控制变量\n",
    "- adj=1  模型使用了D(是否为处置组)和X（控制变量）。\n",
    "- adj=2  模型使用了D(是否为处置组)、X（控制变量）、D与X的交互\n",
    "- adj默认为2"
   ]
  },
  {
   "cell_type": "code",
   "execution_count": 14,
   "metadata": {
    "ExecuteTime": {
     "end_time": "2020-02-07T15:01:20.199759Z",
     "start_time": "2020-02-07T15:01:20.175753Z"
    }
   },
   "outputs": [
    {
     "name": "stdout",
     "output_type": "stream",
     "text": [
      "\n",
      "Treatment Effect Estimates: OLS\n",
      "\n",
      "                     Est.       S.e.          z      P>|z|      [95% Conf. int.]\n",
      "--------------------------------------------------------------------------------\n",
      "           ATE      3.017      0.034     88.740      0.000      2.950      3.083\n",
      "           ATC      2.031      0.040     51.183      0.000      1.953      2.108\n",
      "           ATT      4.010      0.039    103.964      0.000      3.934      4.086\n",
      "\n"
     ]
    }
   ],
   "source": [
    "causal.est_via_ols(adj=2)\n",
    "print(causal.estimates)"
   ]
  },
  {
   "cell_type": "markdown",
   "metadata": {},
   "source": [
    "参数解读\n",
    "- ATE  平均处置效应(average treatment eﬀect)\n",
    "- ATC  控制组的平均处置效应(average treatment eﬀect for the controls)\n",
    "- ATT  处置组的平均处置效应(average treatment eﬀect for the treated)\n",
    "\n",
    "你们再试试adj设置为0和1分别运行出什么结果"
   ]
  },
  {
   "cell_type": "markdown",
   "metadata": {},
   "source": [
    "### 倾向得分估计\n",
    "\n",
    "我们估计处置效应时，很希望处置组和控制组很类似。比如研究受教育水平对个人收入的影响，其他变量如家庭背景、年龄、地区等控制变量存在差异，我们希望控制组和处置组的之间的控制变量平衡性尽可能的好，这样两个组就会很像，当对这两个组的受教育水平进行操作时，两个组的收入差异可以认为是受教育水平带来的。\n",
    "\n",
    "让两个组很像，这里就用到倾向得分估计。"
   ]
  },
  {
   "cell_type": "code",
   "execution_count": 15,
   "metadata": {
    "ExecuteTime": {
     "end_time": "2020-02-07T15:03:26.000760Z",
     "start_time": "2020-02-07T15:03:24.891484Z"
    }
   },
   "outputs": [
    {
     "name": "stdout",
     "output_type": "stream",
     "text": [
      "\n",
      "Estimated Parameters of Propensity Score\n",
      "\n",
      "                    Coef.       S.e.          z      P>|z|      [95% Conf. int.]\n",
      "--------------------------------------------------------------------------------\n",
      "     Intercept      0.005      0.035      0.145      0.885     -0.063      0.073\n",
      "            X1      0.999      0.041     24.495      0.000      0.919      1.079\n",
      "            X0      1.000      0.041     24.543      0.000      0.920      1.080\n",
      "            X2      0.933      0.040     23.181      0.000      0.855      1.012\n",
      "\n"
     ]
    }
   ],
   "source": [
    "causal.est_propensity_s()\n",
    "print(causal.propensity)"
   ]
  },
  {
   "cell_type": "markdown",
   "metadata": {},
   "source": [
    "### 分层方法估计处置效应\n",
    "倾向得分估计，让两个组尽量相似，但实际上这个相似值范围有点大。比如假设受教育水平对个人收入的影响，身高、体重等颜值信息（控制变量）其实对收入也是有影响的，那么就应该对人群进行分层，不同颜值水平下受教育水平对个人收入的影响。\n",
    "\n",
    "分层方法估计CausalModel.stratify_s 自动选择控制变量"
   ]
  },
  {
   "cell_type": "code",
   "execution_count": 16,
   "metadata": {
    "ExecuteTime": {
     "end_time": "2020-02-07T15:04:55.947873Z",
     "start_time": "2020-02-07T15:04:55.862865Z"
    }
   },
   "outputs": [
    {
     "name": "stdout",
     "output_type": "stream",
     "text": [
      "\n",
      "Stratification Summary\n",
      "\n",
      "              Propensity Score         Sample Size     Ave. Propensity   Outcome\n",
      "   Stratum      Min.      Max.  Controls   Treated  Controls   Treated  Raw-diff\n",
      "--------------------------------------------------------------------------------\n",
      "         1     0.001     0.043       153         5     0.024     0.029    -0.049\n",
      "         2     0.043     0.069       148         8     0.056     0.059     0.142\n",
      "         3     0.070     0.118       283        29     0.093     0.092     0.953\n",
      "         4     0.119     0.178       268        45     0.147     0.147     1.154\n",
      "         5     0.178     0.240       247        65     0.208     0.210     1.728\n",
      "         6     0.240     0.361       451       174     0.299     0.300     2.093\n",
      "         7     0.361     0.427       196       117     0.393     0.395     2.406\n",
      "         8     0.427     0.499       153       159     0.465     0.464     2.868\n",
      "         9     0.499     0.532        82        75     0.515     0.515     2.973\n",
      "        10     0.532     0.568        65        91     0.551     0.553     3.259\n",
      "        11     0.568     0.630       114       198     0.600     0.601     3.456\n",
      "        12     0.630     0.758       180       445     0.693     0.696     3.918\n",
      "        13     0.758     0.818        77       236     0.787     0.789     4.503\n",
      "        14     0.818     0.876        57       255     0.845     0.849     4.937\n",
      "        15     0.876     0.933        23       289     0.904     0.904     5.171\n",
      "        16     0.933     0.998        12       300     0.957     0.963     6.822\n",
      "\n"
     ]
    }
   ],
   "source": [
    "causal.stratify_s()  \n",
    "print(causal.strata) "
   ]
  },
  {
   "cell_type": "code",
   "execution_count": null,
   "metadata": {},
   "outputs": [],
   "source": []
  }
 ],
 "metadata": {
  "kernelspec": {
   "display_name": "Python 3",
   "language": "python",
   "name": "python3"
  },
  "language_info": {
   "codemirror_mode": {
    "name": "ipython",
    "version": 3
   },
   "file_extension": ".py",
   "mimetype": "text/x-python",
   "name": "python",
   "nbconvert_exporter": "python",
   "pygments_lexer": "ipython3",
   "version": "3.6.8"
  },
  "toc": {
   "base_numbering": 1,
   "nav_menu": {},
   "number_sections": false,
   "sideBar": true,
   "skip_h1_title": false,
   "title_cell": "Table of Contents",
   "title_sidebar": "Contents",
   "toc_cell": false,
   "toc_position": {},
   "toc_section_display": true,
   "toc_window_display": false
  }
 },
 "nbformat": 4,
 "nbformat_minor": 2
}
