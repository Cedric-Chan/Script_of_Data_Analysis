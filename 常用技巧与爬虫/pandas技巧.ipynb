{
 "cells": [
  {
   "cell_type": "markdown",
   "metadata": {},
   "source": [
    "# 非聚合类方法\n",
    "- 非聚合指的是数据处理前后没有进行分组操作，数据列的长度没有发生改变"
   ]
  },
  {
   "cell_type": "markdown",
   "metadata": {},
   "source": [
    "## map()\n",
    "- map()针对单列Series进行处理\n",
    "- map()还有一个参数na_action，取值为None或ingore，用于控制遇到缺失值的处理方式。设置为ingore时串行运算过程中将忽略Nan值原样返回。"
   ]
  },
  {
   "cell_type": "markdown",
   "metadata": {},
   "source": [
    "### 字典映射"
   ]
  },
  {
   "cell_type": "code",
   "execution_count": null,
   "metadata": {},
   "outputs": [],
   "source": [
    "gender2xb = {'F': '女性', 'M': '男性'}\n",
    "\n",
    "#利用map()方法得到对应gender列的映射列\n",
    "data.gender.map(gender2xb)"
   ]
  },
  {
   "cell_type": "markdown",
   "metadata": {},
   "source": [
    "### lambda函数"
   ]
  },
  {
   "cell_type": "code",
   "execution_count": null,
   "metadata": {},
   "outputs": [],
   "source": [
    "data.gender.map(lambda x:'女性'if x is'F'else'男性')"
   ]
  },
  {
   "cell_type": "markdown",
   "metadata": {},
   "source": [
    "### 常规函数"
   ]
  },
  {
   "cell_type": "code",
   "execution_count": null,
   "metadata": {},
   "outputs": [],
   "source": [
    "def gender_to_xb(x):\n",
    "\n",
    "    return '女性' if x is 'F' else '男性'\n",
    "\n",
    "data.gender.map(gender_to_xb)"
   ]
  },
  {
   "cell_type": "markdown",
   "metadata": {},
   "source": [
    "### 规范化输出"
   ]
  },
  {
   "cell_type": "code",
   "execution_count": null,
   "metadata": {},
   "outputs": [],
   "source": [
    "data.gender.map(\"This kid's gender is {}\".format)"
   ]
  },
  {
   "cell_type": "markdown",
   "metadata": {},
   "source": [
    "****——————————————————————————————————————————————————****"
   ]
  },
  {
   "cell_type": "markdown",
   "metadata": {},
   "source": [
    "## apply()\n",
    "- apply()堪称pandas中最好用的方法,可以对单列或多列进行运算，覆盖非常多的使用场景。"
   ]
  },
  {
   "cell_type": "markdown",
   "metadata": {},
   "source": [
    "### 结合lambda实现单列操作"
   ]
  },
  {
   "cell_type": "code",
   "execution_count": null,
   "metadata": {},
   "outputs": [],
   "source": [
    "# 此处同map()\n",
    "data.gender.apply(lambda x:'女性'if x is'F'else'男性')"
   ]
  },
  {
   "cell_type": "markdown",
   "metadata": {},
   "source": [
    "### 多列操作"
   ]
  },
  {
   "cell_type": "markdown",
   "metadata": {},
   "source": [
    "#### 多列输入"
   ]
  },
  {
   "cell_type": "code",
   "execution_count": null,
   "metadata": {},
   "outputs": [],
   "source": [
    "def generate_descriptive_statement(year, name, gender, count):\n",
    "    year, count = str(year), str(count)\n",
    "    gender = '女性' if gender is 'F' else '男性'\n",
    "\n",
    "    return '在{}年，叫做{}性别为{}的新生儿有{}个。'.format(year, name, gender, count)\n",
    "\n",
    "\n",
    "data.apply(lambda row:generate_descriptive_statement(row['year'],\n",
    "                                                      row['name'],\n",
    "                                                      row['gender'],\n",
    "                                                      row['count']),\n",
    "                                                      axis = 1   # 按行运行\n",
    "          )"
   ]
  },
  {
   "cell_type": "markdown",
   "metadata": {},
   "source": [
    "#### 多列输出"
   ]
  },
  {
   "cell_type": "code",
   "execution_count": null,
   "metadata": {},
   "outputs": [],
   "source": [
    "# 利用apply()来提取name列中的首字母和剩余部分字母\n",
    "data.apply(lambda row: (row['name'][0], row['name'][1:]), axis=1)  # zip(*zipped)可以用来解开元组序列\n",
    "# 返回的是单列结果，每个元素是返回值组成的元组"
   ]
  },
  {
   "cell_type": "markdown",
   "metadata": {},
   "source": [
    "### 显示进度条"
   ]
  },
  {
   "cell_type": "code",
   "execution_count": null,
   "metadata": {},
   "outputs": [],
   "source": [
    "from tqdm._tqdm_notebook import tqdm_notebook\n",
    "\n",
    "tqdm_notebook.pandas(desc='apply')\n",
    "data.progress_apply(lambda row:generate_descriptive_statement(row['year'],\n",
    "                                                      row['name'],\n",
    "                                                      row['gender'],\n",
    "                                                      row['count']),\n",
    "                                                      axis = 1\n",
    "                   )"
   ]
  },
  {
   "cell_type": "markdown",
   "metadata": {},
   "source": [
    "****——————————————————————————————————————————————————****"
   ]
  },
  {
   "cell_type": "markdown",
   "metadata": {},
   "source": [
    "## applymap()\n",
    "- applymap()将传入的函数等作用于整个数据框中每一个位置的元素，因此其返回结果的形状与原数据框一致"
   ]
  },
  {
   "cell_type": "code",
   "execution_count": null,
   "metadata": {},
   "outputs": [],
   "source": [
    "def lower_all_string(x):  \n",
    "    if isinstance(x, str):  # isinstance()用于判断是否为某一类型数据\n",
    "        return x.lower()\n",
    "    else:\n",
    "        return x\n",
    "\n",
    "data.applymap(lower_all_string)  # applymap()在全部数据上运行函数，不改变原数据结构，用于批量数据处理"
   ]
  },
  {
   "cell_type": "markdown",
   "metadata": {},
   "source": [
    "****——————————————————————————————————————————————————****"
   ]
  },
  {
   "cell_type": "markdown",
   "metadata": {},
   "source": [
    "# 聚合类操作\n",
    "- 像SQL里的聚合操作那样将原始数据分组运算"
   ]
  },
  {
   "cell_type": "markdown",
   "metadata": {},
   "source": [
    "## groupby()"
   ]
  },
  {
   "cell_type": "code",
   "execution_count": null,
   "metadata": {},
   "outputs": [],
   "source": [
    "#按照年份和性别对婴儿姓名数据进行分组\n",
    "groups = data.groupby(by=['year','gender'])\n",
    "\n",
    "#利用列表解析提取分组结果\n",
    "groups = [group for group in groups]\n",
    "\n",
    "# 查看其中的一个元素：\n",
    "groupso[0]"
   ]
  },
  {
   "cell_type": "markdown",
   "metadata": {},
   "source": [
    "### 直接调用聚合函数\n",
    "- (.reset_index(drop=False)将索引还原回数据框)"
   ]
  },
  {
   "cell_type": "code",
   "execution_count": null,
   "metadata": {},
   "outputs": [],
   "source": [
    "#求每个分组中最高频次  \n",
    "data.groupby(by=['year','gender'])['count'].max().reset_index(drop=False)"
   ]
  },
  {
   "cell_type": "markdown",
   "metadata": {},
   "source": [
    "### 结合apply()"
   ]
  },
  {
   "cell_type": "code",
   "execution_count": null,
   "metadata": {},
   "outputs": [],
   "source": [
    "import numpy as np\n",
    "\n",
    "def find_most_name(df):\n",
    "    return str(np.max(df['count']))+'-'+df['name'][np.argmax(df['count'])]\n",
    "\n",
    "data.groupby(['year','gender']).apply(find_most_name).reset_index(drop=False)"
   ]
  },
  {
   "cell_type": "markdown",
   "metadata": {},
   "source": [
    "### 利用agg()进行更灵活的聚合\n",
    "- agg即aggregate，聚合"
   ]
  },
  {
   "cell_type": "markdown",
   "metadata": {},
   "source": [
    "#### 聚合单列"
   ]
  },
  {
   "cell_type": "code",
   "execution_count": null,
   "metadata": {},
   "outputs": [],
   "source": [
    "#求count列的最小值、最大值以及中位数\n",
    "data['count'].agg(['min','max','median'])"
   ]
  },
  {
   "cell_type": "markdown",
   "metadata": {},
   "source": [
    "#### 聚合数据框\n",
    "- 对数据框进行聚合时因为有多列，所以要使用字典的方式传入聚合方案"
   ]
  },
  {
   "cell_type": "code",
   "execution_count": null,
   "metadata": {},
   "outputs": [],
   "source": [
    " data.agg({'year': ['max','min'], 'count': ['mean','std']})"
   ]
  },
  {
   "cell_type": "markdown",
   "metadata": {},
   "source": [
    "#### 聚合groupby()结果\n",
    "- .reset_index(drop=False)还原索引列\n",
    "- pd.NamedAgg()还原聚合运算列"
   ]
  },
  {
   "cell_type": "code",
   "execution_count": null,
   "metadata": {},
   "outputs": [],
   "source": [
    "data.groupby(['year','gender']).agg(\n",
    "    min_count=pd.NamedAgg(column='count', aggfunc='min'),\n",
    "    max_count=pd.NamedAgg(column='count', aggfunc='max'),\n",
    "    median=pd.NamedAgg(column='count', aggfunc='median')).reset_index(drop=False)"
   ]
  }
 ],
 "metadata": {
  "kernelspec": {
   "display_name": "Python 3.6.8 64-bit",
   "language": "python",
   "name": "python36864bit1509dad7ed2f4e16b89368ecdc9f1af8"
  },
  "language_info": {
   "codemirror_mode": {
    "name": "ipython",
    "version": 3
   },
   "file_extension": ".py",
   "mimetype": "text/x-python",
   "name": "python",
   "nbconvert_exporter": "python",
   "pygments_lexer": "ipython3",
   "version": "3.6.8"
  },
  "toc": {
   "base_numbering": 1,
   "nav_menu": {},
   "number_sections": true,
   "sideBar": true,
   "skip_h1_title": false,
   "title_cell": "Table of Contents",
   "title_sidebar": "Contents",
   "toc_cell": false,
   "toc_position": {},
   "toc_section_display": true,
   "toc_window_display": false
  }
 },
 "nbformat": 4,
 "nbformat_minor": 2
}
