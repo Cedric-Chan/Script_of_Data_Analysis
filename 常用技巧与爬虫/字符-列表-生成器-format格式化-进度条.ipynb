{
 "cells": [
  {
   "cell_type": "markdown",
   "metadata": {},
   "source": [
    "# apply()添加进度条"
   ]
  },
  {
   "cell_type": "code",
   "execution_count": null,
   "metadata": {},
   "outputs": [],
   "source": [
    "from tqdm._tqdm_notebook import tqdm_notebook\n",
    "\n",
    "tqdm_notebook.pandas(desc='apply')\n",
    "data.progress_apply(lambda row:generate_descriptive_statement(row['year'],\n",
    "                                                      row['name'],\n",
    "                                                      row['gender'],\n",
    "                                                      row['count']),\n",
    "                                                      axis = 1\n",
    "                   )"
   ]
  },
  {
   "cell_type": "markdown",
   "metadata": {},
   "source": [
    "# 连接字符串"
   ]
  },
  {
   "cell_type": "code",
   "execution_count": 3,
   "metadata": {
    "ExecuteTime": {
     "end_time": "2020-02-16T08:15:21.585843Z",
     "start_time": "2020-02-16T08:15:21.568838Z"
    }
   },
   "outputs": [
    {
     "name": "stdout",
     "output_type": "stream",
     "text": [
      "python\n",
      "p y t h o n\n"
     ]
    }
   ],
   "source": [
    "character = ['p', 'y', 't', 'h', 'o', 'n']\n",
    "word_1 = \"\".join(character)\n",
    "word_2 = \" \".join(character)\n",
    "print(word_1)\n",
    "print(word_2)"
   ]
  },
  {
   "cell_type": "markdown",
   "metadata": {},
   "source": [
    "# 列表推导式\n",
    "- 由包含表达式的方括号组成，用于从其他可迭代对象(iterable)创建新列表。"
   ]
  },
  {
   "cell_type": "code",
   "execution_count": 4,
   "metadata": {
    "ExecuteTime": {
     "end_time": "2020-02-16T08:17:54.107508Z",
     "start_time": "2020-02-16T08:17:54.100505Z"
    }
   },
   "outputs": [
    {
     "name": "stdout",
     "output_type": "stream",
     "text": [
      "[0, 1, 4, 9, 16]\n"
     ]
    }
   ],
   "source": [
    "m = [x**2 for x in range(5)]\n",
    "print(m)"
   ]
  },
  {
   "cell_type": "markdown",
   "metadata": {},
   "source": [
    "- 查找两个列表中相同部分"
   ]
  },
  {
   "cell_type": "code",
   "execution_count": 5,
   "metadata": {
    "ExecuteTime": {
     "end_time": "2020-02-16T08:20:46.319713Z",
     "start_time": "2020-02-16T08:20:46.308709Z"
    }
   },
   "outputs": [
    {
     "name": "stdout",
     "output_type": "stream",
     "text": [
      "[5, 6, 7]\n"
     ]
    }
   ],
   "source": [
    "list_a = [1, 2, 3, 4, 5, 6, 7]\n",
    "list_b = [5, 6, 7, 8, 9, 10]\n",
    "common = [a for a in list_a for b in list_b if a == b]\n",
    "print(common)"
   ]
  },
  {
   "cell_type": "markdown",
   "metadata": {},
   "source": [
    "# 用enumerate()进行迭代\n",
    "- enumerate()方法为可迭代对象添加一个计数器，并以枚举对象的形式返回。"
   ]
  },
  {
   "cell_type": "markdown",
   "metadata": {},
   "source": [
    "**Fizz-Buzz问题**\n",
    "\n",
    "编写一个程序来打印输出列表中的数字;\n",
    "- 如果是“3”的倍数，输出“fizz”;\n",
    "- 如果是“5”的倍数，输出“buzz”;\n",
    "- 如果同时是3和5的倍数，输出“fizzbuzz”;\n",
    "- 其余情况输出数字本身。"
   ]
  },
  {
   "cell_type": "code",
   "execution_count": 6,
   "metadata": {
    "ExecuteTime": {
     "end_time": "2020-02-16T08:28:33.970000Z",
     "start_time": "2020-02-16T08:28:33.957998Z"
    }
   },
   "outputs": [
    {
     "name": "stdout",
     "output_type": "stream",
     "text": [
      "['fizzbuzz', 'fizz', 28, 'buzz', 'fizzbuzz']\n"
     ]
    }
   ],
   "source": [
    "numbers = [30, 42, 28, 50, 15]\n",
    "for i, num in enumerate(numbers):\n",
    "    if num % 3 == 0 and num % 5 == 0:\n",
    "        numbers[i] = 'fizzbuzz'\n",
    "    elif num % 3 == 0:\n",
    "        numbers[i] = 'fizz'\n",
    "    elif num % 5 == 0:\n",
    "        numbers[i] = 'buzz'\n",
    "\n",
    "print(numbers)"
   ]
  },
  {
   "cell_type": "markdown",
   "metadata": {},
   "source": [
    "# 处理列表时使用zip\n",
    "- 合并长度相同的多个列表"
   ]
  },
  {
   "cell_type": "code",
   "execution_count": 7,
   "metadata": {
    "ExecuteTime": {
     "end_time": "2020-02-16T08:30:47.651962Z",
     "start_time": "2020-02-16T08:30:47.643959Z"
    }
   },
   "outputs": [
    {
     "name": "stdout",
     "output_type": "stream",
     "text": [
      "France Paris\n",
      "Germany Berlin\n",
      "Canada Ottawa\n"
     ]
    }
   ],
   "source": [
    "countries = ['France', 'Germany', 'Canada']\n",
    "capitals = ['Paris', 'Berlin', 'Ottawa']\n",
    "for country, capital in zip(countries, capitals):\n",
    "    print(country, capital)"
   ]
  },
  {
   "cell_type": "markdown",
   "metadata": {},
   "source": [
    "# 使用itertools处理迭代器(iterator)"
   ]
  },
  {
   "cell_type": "markdown",
   "metadata": {},
   "source": [
    "- 以itertools.combinations()为例。itertools.combinations()用于构建组合。这些也是输入值的可能分组。\n",
    "\n",
    "**假设四支球队参加比赛。在小组赛阶段，每支球队与另外每支球队对抗。你的任务是为彼此对抗的每支球队排出所有可能的组合**\n"
   ]
  },
  {
   "cell_type": "code",
   "execution_count": 8,
   "metadata": {
    "ExecuteTime": {
     "end_time": "2020-02-16T08:33:19.205206Z",
     "start_time": "2020-02-16T08:33:19.194201Z"
    }
   },
   "outputs": [
    {
     "data": {
      "text/plain": [
       "[('Team 1', 'Team 2'),\n",
       " ('Team 1', 'Team 3'),\n",
       " ('Team 1', 'Team 4'),\n",
       " ('Team 2', 'Team 3'),\n",
       " ('Team 2', 'Team 4'),\n",
       " ('Team 3', 'Team 4')]"
      ]
     },
     "execution_count": 8,
     "metadata": {},
     "output_type": "execute_result"
    }
   ],
   "source": [
    "import itertools\n",
    "\n",
    "friends = ['Team 1', 'Team 2', 'Team 3', 'Team 4']\n",
    "list(itertools.combinations(friends, r=2))  # 组合方式为两两配对"
   ]
  },
  {
   "cell_type": "markdown",
   "metadata": {},
   "source": [
    "# 使用Counter()函数\n",
    "- Counter()函数处理可迭代对象(比如列表或元组)后返回Counter Dictionary。字典的键将是可迭代对象中的独特元素，而每个键的值将是可迭代对象中的元素计数。"
   ]
  },
  {
   "cell_type": "code",
   "execution_count": 31,
   "metadata": {
    "ExecuteTime": {
     "end_time": "2020-02-16T08:55:25.792230Z",
     "start_time": "2020-02-16T08:55:25.771227Z"
    }
   },
   "outputs": [
    {
     "name": "stdout",
     "output_type": "stream",
     "text": [
      "1# Counter()\n",
      "Counter({'b': 3, 'c': 2, 'd': 2, 'a': 1})\n",
      "\n",
      "2# elements()\n",
      "['b', 'b', 'b', 'c', 'c', 'd', 'd', 'a']\n",
      "\n",
      "3# most_common()\n",
      "[('a', 5), ('b', 2), ('r', 2)]\n",
      "\n",
      "4# 相加\n",
      "Counter({'c': 5, 'a': 4, 'd': 4, 'b': 3})\n",
      "\n",
      "5# 相减\n",
      "Counter({'c': 5, 'a': 2})\n",
      "\n",
      "6# 交集\n",
      "Counter({'a': 1, 'b': 1})\n",
      "\n",
      "7# 并集\n",
      "Counter({'c': 5, 'd': 4, 'a': 3, 'b': 2})\n"
     ]
    }
   ],
   "source": [
    "from collections import Counter\n",
    "# 计数字典\n",
    "count = Counter(['a', 'b', 'c', 'd', 'b', 'c', 'd', 'b'])\n",
    "print('1# Counter()')\n",
    "print(count)\n",
    "\n",
    "# elements() 按照counter的计数，重复返回元素\n",
    "c = Counter(b=3, c=2, d=2, a=1)\n",
    "print('\\n2# elements()')\n",
    "print(list(c.elements()))\n",
    "\n",
    "# most_common(n)按照counter的计数，降序返回前n项组成的list; n忽略时返回全部\n",
    "print('\\n3# most_common()')\n",
    "print(Counter('abracadabra').most_common(3))  # 返回频次前三的元素\n",
    "\n",
    "# 交并、加减\n",
    "c = Counter(a=3, b=1, c=5)\n",
    "d = Counter(a=1, b=2, d=4)\n",
    "\n",
    "print('\\n4# 相加')\n",
    "print(c + d)\n",
    "\n",
    "print('\\n5# 相减')  # 只保留正值\n",
    "print(c - d)\n",
    "\n",
    "print('\\n6# 交集')\n",
    "print(c & d)\n",
    "\n",
    "print('\\n7# 并集')\n",
    "print(c | d)"
   ]
  },
  {
   "cell_type": "markdown",
   "metadata": {},
   "source": [
    "# 将两个列表转换成字典"
   ]
  },
  {
   "cell_type": "code",
   "execution_count": 32,
   "metadata": {
    "ExecuteTime": {
     "end_time": "2020-02-16T08:56:54.189887Z",
     "start_time": "2020-02-16T08:56:54.181881Z"
    }
   },
   "outputs": [
    {
     "name": "stdout",
     "output_type": "stream",
     "text": [
      "{'Peter': 84, 'Julia': 65, 'Alex': 77}\n"
     ]
    }
   ],
   "source": [
    "students = [\"Peter\", \"Julia\", \"Alex\"]  \n",
    "marks = [84, 65, 77]  \n",
    "dictionary = dict(zip(students, marks)) \n",
    "print(dictionary)"
   ]
  },
  {
   "cell_type": "markdown",
   "metadata": {},
   "source": [
    "# 使用Python生成器\n",
    "- 方括号换成圆括号后，我们将列表推导变成了生成器表达式，内存占用下降，效率大幅提升"
   ]
  },
  {
   "cell_type": "code",
   "execution_count": 42,
   "metadata": {
    "ExecuteTime": {
     "end_time": "2020-02-16T09:04:10.744273Z",
     "start_time": "2020-02-16T09:03:48.724701Z"
    }
   },
   "outputs": [
    {
     "name": "stdout",
     "output_type": "stream",
     "text": [
      "333333328333333350000000\n"
     ]
    }
   ],
   "source": [
    "a=sum([i * i for i in range(1, 10000000)])  # 列表推导式2.91s\n",
    "b=sum((i * i for i in range(1, 100000000)))  # 生成器2.19s，内存也更不易溢出\n",
    "print(a)\n",
    "print(b)"
   ]
  },
  {
   "cell_type": "markdown",
   "metadata": {},
   "source": [
    "# 从函数返回多个值\n",
    "- 返回值应是逗号分隔的值列表"
   ]
  },
  {
   "cell_type": "code",
   "execution_count": 43,
   "metadata": {
    "ExecuteTime": {
     "end_time": "2020-02-16T09:05:26.633944Z",
     "start_time": "2020-02-16T09:05:26.622938Z"
    }
   },
   "outputs": [
    {
     "name": "stdout",
     "output_type": "stream",
     "text": [
      "Product= 45 Quotient = 5.0\n"
     ]
    }
   ],
   "source": [
    "def multiplication_division(num1, num2):\n",
    "    return num1 * num2, num1 / num2\n",
    "\n",
    "\n",
    "product, division = multiplication_division(15, 3)\n",
    "print(\"Product=\", product, \"Quotient =\", division)"
   ]
  },
  {
   "cell_type": "markdown",
   "metadata": {},
   "source": [
    "# 使用sorted()函数"
   ]
  },
  {
   "cell_type": "code",
   "execution_count": 45,
   "metadata": {
    "ExecuteTime": {
     "end_time": "2020-02-16T09:07:04.862979Z",
     "start_time": "2020-02-16T09:07:04.843065Z"
    }
   },
   "outputs": [
    {
     "name": "stdout",
     "output_type": "stream",
     "text": [
      "[1, 2, 3, 4, 5]\n"
     ]
    },
    {
     "data": {
      "text/plain": [
       "['india', 'germany', 'france', 'china', 'canada']"
      ]
     },
     "execution_count": 45,
     "metadata": {},
     "output_type": "execute_result"
    }
   ],
   "source": [
    "# 对数字列表进行升序排序\n",
    "print(sorted([3,5,2,1,4]))\n",
    "\n",
    "# 对字符串列表进行降序排序\n",
    "sorted(['france', 'germany', 'canada', 'india', 'china'], reverse=True)"
   ]
  },
  {
   "cell_type": "markdown",
   "metadata": {},
   "source": [
    "# format()格式化输出"
   ]
  },
  {
   "cell_type": "markdown",
   "metadata": {},
   "source": [
    "## 参数传递"
   ]
  },
  {
   "cell_type": "markdown",
   "metadata": {},
   "source": [
    "### 位置传递"
   ]
  },
  {
   "cell_type": "code",
   "execution_count": 14,
   "metadata": {
    "ExecuteTime": {
     "end_time": "2020-02-16T15:22:16.196966Z",
     "start_time": "2020-02-16T15:22:16.185960Z"
    }
   },
   "outputs": [
    {
     "name": "stdout",
     "output_type": "stream",
     "text": [
      "1# 我叫陈灿,中科大硕士\n",
      "2# 中科大硕士,我叫陈灿\n",
      "3# 我叫陈灿\n",
      "4# 陈灿硕士  |  中科大硕士\n"
     ]
    }
   ],
   "source": [
    "a = '{}{}{}{}{}'.format('我叫','陈灿',',','中科大','硕士')  # 默认顺序\n",
    "print('1#',a)\n",
    "\n",
    "b = '{3}{4}{2}{0}{1}'.format('我叫','陈灿',',','中科大','硕士')  # 指定顺序\n",
    "print('2#',b)\n",
    "\n",
    "c = '{}{}'.format('我叫','陈灿',',','中科大','硕士')  # 多余参数不传递\n",
    "print('3#',c)\n",
    "\n",
    "d = '{1}{4}  |  {3}{4}'.format('我叫','陈灿',',','中科大','硕士')  # 参数重复调用\n",
    "print('4#',d)"
   ]
  },
  {
   "cell_type": "markdown",
   "metadata": {},
   "source": [
    "### 关键字传递\n",
    "- 利用key=value实现赋值替换"
   ]
  },
  {
   "cell_type": "code",
   "execution_count": 15,
   "metadata": {
    "ExecuteTime": {
     "end_time": "2020-02-16T15:23:27.020182Z",
     "start_time": "2020-02-16T15:23:27.011177Z"
    }
   },
   "outputs": [
    {
     "data": {
      "text/plain": [
       "'智能演示-微信公众号'"
      ]
     },
     "execution_count": 15,
     "metadata": {},
     "output_type": "execute_result"
    }
   ],
   "source": [
    "'{name1}{name2}-{style}'.format(name2='演示',style='微信公众号',name1='智能')"
   ]
  },
  {
   "cell_type": "markdown",
   "metadata": {},
   "source": [
    "### 字典传递"
   ]
  },
  {
   "cell_type": "code",
   "execution_count": 18,
   "metadata": {
    "ExecuteTime": {
     "end_time": "2020-02-16T15:24:14.600803Z",
     "start_time": "2020-02-16T15:24:14.591802Z"
    }
   },
   "outputs": [
    {
     "name": "stdout",
     "output_type": "stream",
     "text": [
      "智能演示-微信公众号\n"
     ]
    }
   ],
   "source": [
    "dict = {'name':'智能演示','style':'微信公众号'}\n",
    "print('{name}-{style}'.format(**dict))  # 用**传入dict"
   ]
  },
  {
   "cell_type": "markdown",
   "metadata": {},
   "source": [
    "### 列表下标传递\n",
    "- 将参数放在列表中，通过列表下标传递"
   ]
  },
  {
   "cell_type": "code",
   "execution_count": 20,
   "metadata": {
    "ExecuteTime": {
     "end_time": "2020-02-16T15:25:53.440979Z",
     "start_time": "2020-02-16T15:25:53.431970Z"
    }
   },
   "outputs": [
    {
     "name": "stdout",
     "output_type": "stream",
     "text": [
      "智能演示-微信公众号\n"
     ]
    }
   ],
   "source": [
    "list = ['智能演示','-','微信公众号']\n",
    "print('{0[0]}{0[1]}{0[2]}'.format(list))"
   ]
  },
  {
   "cell_type": "markdown",
   "metadata": {
    "ExecuteTime": {
     "end_time": "2020-02-16T15:26:55.472707Z",
     "start_time": "2020-02-16T15:26:55.461704Z"
    }
   },
   "source": [
    "**————————————————————————————————————————————————**"
   ]
  },
  {
   "cell_type": "markdown",
   "metadata": {},
   "source": [
    "## 格式限定符\n",
    "- :\t引导符号\n",
    "-  / = - \\ #\t填充符号，还可以是其他符号\n",
    "- <\t左对齐，   >右对齐\n",
    "- ^\t居中对齐\n",
    "- 10\t指定槽的输出宽度，可以自定义设置\n",
    "- ,\t数字千分位分割符\n",
    "- .\t精度，用来表示浮点数的小数位数或字符串的最大长度。精度常跟类型 f 一起使用。\n",
    "- f\t浮点数类型\n",
    "- b\t二进制\n",
    "- d\t十进制\n",
    "- o\t八进制\n",
    "- x\t十六进制"
   ]
  },
  {
   "cell_type": "markdown",
   "metadata": {},
   "source": [
    "### 填充、对齐、宽度\n",
    "- :号后面引导填充符号（只能是一个字符，不指定符号则默认用空格填充）、对齐方式、输出宽度"
   ]
  },
  {
   "cell_type": "code",
   "execution_count": 22,
   "metadata": {
    "ExecuteTime": {
     "end_time": "2020-02-16T15:33:02.595117Z",
     "start_time": "2020-02-16T15:33:02.585118Z"
    }
   },
   "outputs": [
    {
     "data": {
      "text/plain": [
       "'===智能演示==='"
      ]
     },
     "execution_count": 22,
     "metadata": {},
     "output_type": "execute_result"
    }
   ],
   "source": [
    "'{:>10}'.format('智能演示')   # 不指定符号则默认用空格填充\n",
    "# 输出：'      智能演示'\n",
    "\n",
    "'{:=>10}'.format('智能演示')  # :号后面引导填充符号，右对齐，宽度10\n",
    "# 输出：'======智能演示'\n",
    "\n",
    "'{:=^10}'.format('智能演示')  #  ^ 居中对齐\n",
    "# 输出：'===智能演示==='"
   ]
  },
  {
   "cell_type": "markdown",
   "metadata": {},
   "source": [
    "### 数字处理"
   ]
  },
  {
   "cell_type": "code",
   "execution_count": 24,
   "metadata": {
    "ExecuteTime": {
     "end_time": "2020-02-16T15:33:55.246662Z",
     "start_time": "2020-02-16T15:33:55.236754Z"
    }
   },
   "outputs": [
    {
     "data": {
      "text/plain": [
       "'3.14'"
      ]
     },
     "execution_count": 24,
     "metadata": {},
     "output_type": "execute_result"
    }
   ],
   "source": [
    "# 数字精度\n",
    "'{:.2f}'.format(3.1415926)  # 保留两位小数\n",
    "\n",
    "# 进制转换\n",
    "'{:b}'.format(2020)  # 二进制\n",
    "'{:d}'.format(2020)  # 十进制\n",
    "'{:o}'.format(2020)  # 八进制\n",
    "'{:x}'.format(2020)  # 十六进制\n",
    "\n",
    "# 数字的千分位输出\n",
    "'{:,}'.format(5201314)  # 输出：'5,201,314"
   ]
  },
  {
   "cell_type": "code",
   "execution_count": null,
   "metadata": {},
   "outputs": [],
   "source": []
  }
 ],
 "metadata": {
  "kernelspec": {
   "display_name": "Python 3.6.8 64-bit",
   "language": "python",
   "name": "python36864bit1509dad7ed2f4e16b89368ecdc9f1af8"
  },
  "language_info": {
   "codemirror_mode": {
    "name": "ipython",
    "version": 3
   },
   "file_extension": ".py",
   "mimetype": "text/x-python",
   "name": "python",
   "nbconvert_exporter": "python",
   "pygments_lexer": "ipython3",
   "version": "3.6.8"
  },
  "toc": {
   "base_numbering": 1,
   "nav_menu": {},
   "number_sections": true,
   "sideBar": true,
   "skip_h1_title": false,
   "title_cell": "Table of Contents",
   "title_sidebar": "Contents",
   "toc_cell": false,
   "toc_position": {},
   "toc_section_display": true,
   "toc_window_display": false
  }
 },
 "nbformat": 4,
 "nbformat_minor": 2
}
