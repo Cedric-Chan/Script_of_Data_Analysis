{
 "cells": [
  {
   "cell_type": "markdown",
   "metadata": {},
   "source": [
    "# 国家统计总局人口数据爬取（2019年为手动录入）"
   ]
  },
  {
   "cell_type": "code",
   "execution_count": 1,
   "metadata": {
    "ExecuteTime": {
     "end_time": "2020-02-09T12:11:50.114397Z",
     "start_time": "2020-02-09T12:11:45.237692Z"
    }
   },
   "outputs": [],
   "source": [
    "import pandas as pd\n",
    "import requests"
   ]
  },
  {
   "cell_type": "code",
   "execution_count": 8,
   "metadata": {
    "ExecuteTime": {
     "end_time": "2020-02-09T13:12:54.227580Z",
     "start_time": "2020-02-09T13:12:54.223581Z"
    }
   },
   "outputs": [],
   "source": [
    "# 人口数量excel文件保存路径\n",
    "POPULATION_EXCEL_PATH = 'C:/Users/123/Desktop/population.xlsx'"
   ]
  },
  {
   "cell_type": "markdown",
   "metadata": {},
   "source": [
    "## 爬取人口结构"
   ]
  },
  {
   "cell_type": "code",
   "execution_count": 2,
   "metadata": {
    "ExecuteTime": {
     "end_time": "2020-02-09T13:10:11.631577Z",
     "start_time": "2020-02-09T13:10:11.618577Z"
    }
   },
   "outputs": [],
   "source": [
    "def spider_population():\n",
    "    \"\"\"\n",
    "    爬取人口数据\n",
    "    \"\"\"\n",
    "    # 请求参数 sj（时间），zb（指标）\n",
    "    # 总人口\n",
    "    dfwds1 = '[{\"wdcode\": \"sj\", \"valuecode\": \"LAST70\"}, {\"wdcode\":\"zb\",\"valuecode\":\"A0301\"}]'\n",
    "    # 增长率\n",
    "    dfwds2 = '[{\"wdcode\": \"sj\", \"valuecode\": \"LAST70\"}, {\"wdcode\":\"zb\",\"valuecode\":\"A0302\"}]'\n",
    "    # 人口结构\n",
    "    dfwds3 = '[{\"wdcode\": \"sj\", \"valuecode\": \"LAST70\"}, {\"wdcode\":\"zb\",\"valuecode\":\"A0303\"}]'\n",
    "    url = 'http://data.stats.gov.cn/easyquery.htm?m=QueryData&dbcode=hgnd&rowcode=zb&colcode=sj&wds=[]&dfwds={}'\n",
    "    # 将所有数据放这里，年份为key，值为各个指标值组成的list\n",
    "    # 因为 2019 年数据还没有列入到年度数据表里，所以根据统计局2019年经济报告中给出的人口数据计算得出\n",
    "    # 数据顺序为历年数据\n",
    "    population_dict = {\n",
    "        '2019': [2019, 140005, 71527, 68478, 84843, 55162, 10.48, 7.14, 3.34, 140005, 25061, 97341, 17603, 43.82942439,\n",
    "                 25.74557483, 18.08384956]}\n",
    "\n",
    "    response1 = requests.get(url.format(dfwds1))\n",
    "    get_population_info(population_dict, response1.json())\n",
    "\n",
    "    response2 = requests.get(url.format(dfwds2))\n",
    "    get_population_info(population_dict, response2.json())\n",
    "\n",
    "    response3 = requests.get(url.format(dfwds3))\n",
    "    get_population_info(population_dict, response3.json())\n",
    "\n",
    "    save_excel(population_dict)\n",
    "\n",
    "    return population_dict"
   ]
  },
  {
   "cell_type": "markdown",
   "metadata": {},
   "source": [
    "## 提取人口数量信息"
   ]
  },
  {
   "cell_type": "code",
   "execution_count": 4,
   "metadata": {
    "ExecuteTime": {
     "end_time": "2020-02-09T13:11:04.617936Z",
     "start_time": "2020-02-09T13:11:04.605933Z"
    }
   },
   "outputs": [],
   "source": [
    "def get_population_info(population_dict, json_obj):\n",
    "    \"\"\"\n",
    "    提取人口数量信息\n",
    "    \"\"\"\n",
    "    datanodes = json_obj['returndata']['datanodes']\n",
    "    for node in datanodes:\n",
    "        # 获取年份\n",
    "        year = node['code'][-4:]\n",
    "        # 数据数值\n",
    "        data = node['data']['data']\n",
    "        if year in population_dict.keys():\n",
    "            population_dict[year].append(data)\n",
    "        else:\n",
    "            population_dict[year] = [int(year), data]\n",
    "    return population_dict"
   ]
  },
  {
   "cell_type": "markdown",
   "metadata": {},
   "source": [
    "## 生成并写入Excel"
   ]
  },
  {
   "cell_type": "code",
   "execution_count": 6,
   "metadata": {
    "ExecuteTime": {
     "end_time": "2020-02-09T13:11:48.868538Z",
     "start_time": "2020-02-09T13:11:48.856535Z"
    }
   },
   "outputs": [],
   "source": [
    "def save_excel(population_dict):\n",
    "    \"\"\"\n",
    "    人口数据生成excel文件\n",
    "    :param population_dict: 人口数据\n",
    "    :return:\n",
    "    \"\"\"\n",
    "    # .T 是行列转换\n",
    "    df = pd.DataFrame(population_dict).T[::-1]\n",
    "    df.columns = ['年份', '年末总人口(万人)', '男性人口(万人)', '女性人口(万人)', '城镇人口(万人)', '乡村人口(万人)', '人口出生率(‰)', '人口死亡率(‰)',\n",
    "                  '人口自然增长率(‰)', '年末总人口(万人)', '0-14岁人口(万人)', '15-64岁人口(万人)', '65岁及以上人口(万人)', '总抚养比(%)',\n",
    "                  '少儿抚养比(%)', '老年抚养比(%)']\n",
    "    writer = pd.ExcelWriter(POPULATION_EXCEL_PATH)\n",
    "    # columns参数用于指定生成的excel中列的顺序\n",
    "    df.to_excel(excel_writer=writer, index=False, encoding='utf-8', sheet_name='中国70年人口数据')\n",
    "    writer.save()\n",
    "    writer.close()"
   ]
  },
  {
   "cell_type": "markdown",
   "metadata": {},
   "source": [
    "## 编译运行"
   ]
  },
  {
   "cell_type": "code",
   "execution_count": 10,
   "metadata": {
    "ExecuteTime": {
     "end_time": "2020-02-09T13:13:12.302617Z",
     "start_time": "2020-02-09T13:13:12.288617Z"
    }
   },
   "outputs": [
    {
     "name": "stdout",
     "output_type": "stream",
     "text": [
      "{'2019': [2019, 140005, 71527, 68478, 84843, 55162, 10.48, 7.14, 3.34, 140005, 25061, 97341, 17603, 43.82942439, 25.74557483, 18.08384956], '2018': [2018, 139538, 71351, 68187, 83136.7404, 56401.2596, 10.94, 7.13, 3.81, 139538, 23523, 99357, 16658, 40.4410358605836, 23.6752317400888, 16.7658041204948], '2017': [2017, 139008, 71137, 67871, 81347.4816, 57660.5184, 12.43, 7.11, 5.32, 139008, 23348, 99829, 15831, 39.2461108495527, 23.3879934688317, 15.858117380721], '2016': [2016, 138271, 70815, 67456, 79298.4185, 58972.5815, 12.95, 7.09, 5.86, 138271, 23008, 100260, 15003, 37.9, 22.9, 15], '2015': [2015, 137462, 70414, 67048, 77116.182, 60345.818, 12.07, 7.11, 4.96, 137462, 22715, 100361, 14386, 36.9675471547713, 22.6332938093483, 14.334253345423], '2014': [2014, 136782, 70079, 66703, 74915.5014, 61866.4986, 12.37, 7.16, 5.21, 136782, 22558, 100469, 13755, 36.2, 22.45269685, 13.69079019], '2013': [2013, 136072, 69728, 66344, 73111.4856, 62960.5144, 12.08, 7.16, 4.92, 136072, 22329, 100582, 13161, 35.2846433755543, 22.19979718041, 13.0848461951443], '2012': [2012, 135404, 69395, 66009, 71181.8828, 64222.1172, 12.1, 7.15, 4.95, 135404, 22287, 100403, 12714, 34.8605121360916, 22.1975438980907, 12.6629682380009], '2011': [2011, 134735, 69068, 65667, 69078.6345, 65656.3655, 11.93, 7.14, 4.79, 134735, 22164, 100283, 12288, 34.3547759839654, 22.101452888326, 12.2533230956393], '2010': [2010, 134091, 68748.4557, 65342.5443, 66978.4545, 67112.5455, 11.9, 7.11, 4.79, 134091, 22259, 99938, 11894, 34.2, 22.3, 11.9], '2009': [2009, 133450, 68646.68, 64803.32, 64512, 68938, 11.95, 7.08, 4.87, 133450, 24659, 97484, 11307, 36.8942595708014, 25.2954330967133, 11.5988264740881], '2008': [2008, 132802, 68357, 64445, 62403, 70399, 12.14, 7.06, 5.08, 132802, 25166, 96680, 10956, 37.3624327678941, 26.0302027306578, 11.3322300372362], '2007': [2007, 132129, 68048, 64081, 60633, 71496, 12.1, 6.93, 5.17, 132129, 25660, 95833, 10636, 37.8742186929346, 26.7757453069402, 11.0984733859944], '2006': [2006, 131448, 67728, 63720, 58288, 73160, 12.09, 6.81, 5.28, 131448, 25961, 95068, 10419, 38.2673454790255, 27.3078217696807, 10.9595237093449], '2005': [2005, 130756, 67375, 63381, 56212, 74544, 12.4, 6.51, 5.89, 130756, 26504, 94197, 10055, 38.8112147945264, 28.1367771797403, 10.674437614786], '2004': [2004, 129988, 66976, 63012, 54283, 75705, 12.29, 6.42, 5.87, 129988, 27947, 92184, 9857, 41.0092857762735, 30.3165408313807, 10.6927449448928], '2003': [2003, 129227, 66556, 62671, 52376, 76851, 12.41, 6.4, 6.01, 129227, 28559, 90976, 9692, 42.0451547660922, 31.3917956384101, 10.653359127682], '2002': [2002, 128453, 66115, 62338, 50212, 78241, 12.86, 6.41, 6.45, 128453, 28774, 90302, 9377, 42.2482337046798, 31.864189054506, 10.3840446501739], '2001': [2001, 127627, 65672, 61955, 48064, 79563, 13.38, 6.43, 6.95, 127627, 28716.075, 89849.408, 9062, 42.0459921116008, 31.9602272727273, 10.0857648388735], '2000': [2000, 126743, 65437, 61306, 45906, 80837, 14.03, 6.45, 7.58, 126743, 29012, 88910, 8821, 42.55966123, 32.63658171, 9.923079522], '1999': [1999, 125786, 64692, 61094, 43748, 82038, 14.64, 6.46, 8.18, 125786, 31949.644, 85157.122, 8679, 47.7196070576457, 37.5184638109306, 10.2011432467152], '1998': [1998, 124761, 63940, 60821, 41608, 83153, 15.64, 6.5, 9.14, 124761, 32064, 84338, 8359, 47.928222633101, 38.0173517280614, 9.91087090503959], '1997': [1997, 123626, 63131, 60495, 39449, 84177, 16.57, 6.51, 10.06, 123626, 32093.3096, 83447.55, 8085.1404, 48.1481481481482, 38.4592592592593, 9.68888888888889], '1996': [1996, 122389, 62200, 60189, 37304, 85085, 16.98, 6.56, 10.42, 122389, 32311, 82245.408, 7833, 48.8095238095238, 39.2708333333333, 9.53869047619048], '1995': [1995, 121121, 61808, 59313, 35174, 85947, 17.12, 6.57, 10.55, 121121, 32218, 81393.312, 7509.502, 48.8092952895196, 39.5831048133291, 9.22619047619048], '1994': [1994, 119850, 61246, 58604, 34169, 85681, 17.7, 6.49, 11.21, 119850, 32359.5, 79868.04, 7622.46, 50.0600240096038, 40.516206482593, 9.54381752701081], '1993': [1993, 118517, 60472, 58045, 33173, 85344, 18.09, 6.64, 11.45, 118517, 32177.3655, 79050.839, 7288.7955, 49.9250374812594, 40.7046476761619, 9.22038980509745], '1992': [1992, 117171, 59811, 57360, 32175, 84996, 18.24, 6.64, 11.6, 117171, 32339.196, 77614.0704, 7217.7336, 50.9661835748792, 41.6666666666667, 9.29951690821256], '1991': [1991, 115823, 59466, 56357, 31203, 84620, 19.68, 6.7, 12.98, 115823, 32094.5533, 76790.649, 6937.7977, 50.8295625942685, 41.7948717948718, 9.03469079939668], '1990': [1990, 114333, 58904, 55429, 30195, 84138, 21.06, 6.67, 14.39, 114333, 31658.8077, 76305.8442, 6368.3481, 49.8351813, 41.4893617, 8.345819598], '1989': [1989, 112704, 58099, 54605, 29540, 83164, 21.58, 6.54, 15.04, 112704, 0, 0, 0, 0, 0, 0], '1988': [1988, 111026, 57201, 53825, 28661, 82365, 22.37, 6.64, 15.73, 111026, 0, 0, 0, 0, 0, 0], '1987': [1987, 109300, 56290, 53010, 27674, 81626, 23.33, 6.72, 16.61, 109300, 31347.24, 71984.98, 5967.78, 51.8372304889159, 43.5469177042211, 8.29031278469481], '1986': [1986, 107507, 55581, 51926, 26366, 81141, 22.43, 6.86, 15.57, 107507, 0, 0, 0, 0, 0, 0], '1985': [1985, 105851, 54725, 51126, 25094, 80757, 21.04, 6.78, 14.26, 105851, 0, 0, 0, 0, 0, 0], '1984': [1984, 104357, 53848, 50509, 24017, 80340, 19.9, 6.82, 13.08, 104357, 0, 0, 0, 0, 0, 0], '1983': [1983, 103008, 53152, 49856, 22274, 80734, 20.19, 6.9, 13.29, 103008, 0, 0, 0, 0, 0, 0], '1982': [1982, 101654, 52352, 49302, 21480, 80174, 22.28, 6.6, 15.68, 101654, 34145.5786, 62517.21, 4991.2114, 62.60162602, 54.61788618, 7.983739837], '1981': [1981, 100072, 51519, 48553, 20171, 79901, 20.91, 6.36, 14.55, 100072, 0, 0, 0, 0, 0, 0], '1980': [1980, 98705, 50785, 47920, 19140, 79565, 18.21, 6.34, 11.87, 98705, 0, 0, 0, 0, 0, 0], '1979': [1979, 97542, 50192, 47350, 18495, 79047, 17.82, 6.21, 11.61, 97542, 0, 0, 0, 0, 0, 0], '1978': [1978, 96259, 49567, 46692, 17245, 79014, 18.25, 6.25, 12, 96259, 0, 0, 0, 0, 0, 0], '1977': [1977, 94974, 48908, 46066, 16669, 78305, 19.03, 6.91, 12.12, 94974, 0, 0, 0, 0, 0, 0], '1976': [1976, 93717, 48257, 45460, 16341, 77376, 20.01, 7.29, 12.72, 93717, 0, 0, 0, 0, 0, 0], '1975': [1975, 92420, 47564, 44856, 16030, 76390, 23.13, 7.36, 15.77, 92420, 0, 0, 0, 0, 0, 0], '1974': [1974, 90859, 46727, 44132, 15595, 75264, 24.95, 7.38, 17.57, 90859, 0, 0, 0, 0, 0, 0], '1973': [1973, 89211, 45876, 43335, 15345, 73866, 28.07, 7.08, 20.99, 89211, 0, 0, 0, 0, 0, 0], '1972': [1972, 87177, 44813, 42364, 14935, 72242, 29.92, 7.65, 22.27, 87177, 0, 0, 0, 0, 0, 0], '1971': [1971, 85229, 43819, 41410, 14711, 70518, 30.74, 7.34, 23.4, 85229, 0, 0, 0, 0, 0, 0], '1970': [1970, 82992, 42686, 40306, 14424, 68568, 33.59, 7.64, 25.95, 82992, 0, 0, 0, 0, 0, 0], '1969': [1969, 80671.2, 41289, 39382, 14117, 66554, 34.25, 8.06, 26.19, 80671.2, 0, 0, 0, 0, 0, 0], '1968': [1968, 78534.2, 40226, 38308, 13838, 64696, 35.75, 8.25, 27.5, 78534.2, 0, 0, 0, 0, 0, 0], '1967': [1967, 76368.2, 39115, 37253, 13548, 62820, 34.12, 8.47, 25.65, 76368.2, 0, 0, 0, 0, 0, 0], '1966': [1966, 74542, 38189, 36353, 13313, 61229, 35.21, 8.87, 26.34, 74542, 0, 0, 0, 0, 0, 0], '1965': [1965, 72538, 37128, 35410, 13045, 59493, 38, 9.5, 28.5, 72538, 0, 0, 0, 0, 0, 0], '1964': [1964, 70499.1, 36142, 34357, 12950, 57549, 39.34, 11.56, 27.78, 70499.1, 0, 0, 0, 0, 0, 0], '1963': [1963, 69172, 35533, 33639, 11646, 57526, 43.6, 10.1, 33.5, 69172, 0, 0, 0, 0, 0, 0], '1962': [1962, 67295.5, 34517, 32778, 11659, 55636, 37.22, 10.08, 27.14, 67295.5, 0, 0, 0, 0, 0, 0], '1961': [1961, 65859.1, 33880, 31979, 12707, 53152, 18.13, 14.33, 3.8, 65859.1, 0, 0, 0, 0, 0, 0], '1960': [1960, 66207, 34283, 31924, 13073, 53134, 20.86, 25.43, -4.57, 66207, 0, 0, 0, 0, 0, 0], '1959': [1959, 67206.9, 34890, 32317, 12371, 54836, 24.78, 14.59, 10.19, 67206.9, 0, 0, 0, 0, 0, 0], '1958': [1958, 65994.3, 34195, 31799, 10721, 55273, 29.22, 11.98, 17.24, 65994.3, 0, 0, 0, 0, 0, 0], '1957': [1957, 64653.3, 33469, 31184, 9949, 54704, 34.03, 10.8, 23.23, 64653.3, 0, 0, 0, 0, 0, 0], '1956': [1956, 62828.3, 32536, 30292, 9185, 53643, 31.9, 11.4, 20.5, 62828.3, 0, 0, 0, 0, 0, 0], '1955': [1955, 61465, 31809, 29656, 8285, 53180, 32.6, 12.28, 20.32, 61465, 0, 0, 0, 0, 0, 0], '1954': [1954, 60266.4, 31242, 29024, 8249, 52017, 37.97, 13.18, 24.79, 60266.4, 0, 0, 0, 0, 0, 0], '1953': [1953, 58796, 30468, 28328, 7826, 50970, 37, 14, 23, 58796, 0, 0, 0, 0, 0, 0], '1952': [1952, 57482, 29833, 27649, 7163, 50319, 37, 17, 20, 57482, 0, 0, 0, 0, 0, 0], '1951': [1951, 56300, 29231, 27069, 6632, 49668, 37.8, 17.8, 20, 56300, 0, 0, 0, 0, 0, 0], '1950': [1950, 55196, 28669, 26527, 6169, 49027, 37, 18, 19, 55196, 0, 0, 0, 0, 0, 0], '1949': [1949, 54167, 28145, 26022, 5765, 48402, 36, 20, 16, 54167, 0, 0, 0, 0, 0, 0]}\n"
     ]
    }
   ],
   "source": [
    "result_dict = spider_population()\n",
    "print(result_dict)"
   ]
  },
  {
   "cell_type": "markdown",
   "metadata": {},
   "source": [
    "# 人口数据分析"
   ]
  },
  {
   "cell_type": "markdown",
   "metadata": {},
   "source": [
    "**需要分析的点**\n",
    "- 总人口\n",
    "- 男女人口比例\n",
    "- 人口城镇化\n",
    "- 人口增长率\n",
    "- 人口老化（抚养比）"
   ]
  },
  {
   "cell_type": "code",
   "execution_count": 25,
   "metadata": {
    "ExecuteTime": {
     "end_time": "2020-02-09T13:30:36.087866Z",
     "start_time": "2020-02-09T13:30:36.080864Z"
    }
   },
   "outputs": [],
   "source": [
    "import numpy as np\n",
    "import pandas as pd\n",
    "import pyecharts.options as opts\n",
    "from pyecharts.charts import Line, Bar, Page, Pie\n",
    "from pyecharts.commons.utils import JsCode"
   ]
  },
  {
   "cell_type": "code",
   "execution_count": 12,
   "metadata": {
    "ExecuteTime": {
     "end_time": "2020-02-09T13:18:51.969580Z",
     "start_time": "2020-02-09T13:18:51.830421Z"
    }
   },
   "outputs": [],
   "source": [
    "# 读取标准数据\n",
    "DF_STANDARD = pd.read_excel(POPULATION_EXCEL_PATH)"
   ]
  },
  {
   "cell_type": "code",
   "execution_count": 13,
   "metadata": {
    "ExecuteTime": {
     "end_time": "2020-02-09T13:19:02.039804Z",
     "start_time": "2020-02-09T13:19:02.033804Z"
    }
   },
   "outputs": [],
   "source": [
    "# 自定义pyecharts图形背景颜色js\n",
    "background_color_js = (\n",
    "    \"new echarts.graphic.LinearGradient(0, 0, 0, 1, \"\n",
    "    \"[{offset: 0, color: '#c86589'}, {offset: 1, color: '#06a7ff'}], false)\"\n",
    ")\n",
    "# 自定义pyecharts图像区域颜色js\n",
    "area_color_js = (\n",
    "    \"new echarts.graphic.LinearGradient(0, 0, 0, 1, \"\n",
    "    \"[{offset: 0, color: '#eb64fb'}, {offset: 1, color: '#3fbbff0d'}], false)\"\n",
    ")"
   ]
  },
  {
   "cell_type": "markdown",
   "metadata": {},
   "source": [
    "## 分析总人口"
   ]
  },
  {
   "cell_type": "code",
   "execution_count": 36,
   "metadata": {
    "ExecuteTime": {
     "end_time": "2020-02-09T13:45:35.851687Z",
     "start_time": "2020-02-09T13:45:35.803675Z"
    }
   },
   "outputs": [],
   "source": [
    "def analysis_total():\n",
    "    \"\"\"\n",
    "    分析总人口\n",
    "    \"\"\"\n",
    "    # 1、分析总人口，画人口曲线图\n",
    "    # 1.1 处理数据\n",
    "    x_data = DF_STANDARD['年份']\n",
    "    # 将人口单位转换为亿\n",
    "    y_data = DF_STANDARD['年末总人口(万人)'].map(lambda x: \"%.2f\" % (x / 10000))\n",
    "    # 1.2 自定义曲线图\n",
    "    line = (\n",
    "        Line(init_opts=opts.InitOpts(bg_color=JsCode(background_color_js)))\n",
    "            .add_xaxis(xaxis_data=x_data)\n",
    "            .add_yaxis(\n",
    "            series_name=\"总人口\",\n",
    "            y_axis=y_data,\n",
    "            is_smooth=True,\n",
    "            is_symbol_show=True,\n",
    "            symbol=\"circle\",\n",
    "            symbol_size=5,\n",
    "            linestyle_opts=opts.LineStyleOpts(color=\"#fff\"),\n",
    "            label_opts=opts.LabelOpts(is_show=False, position=\"top\", color=\"white\"),\n",
    "            itemstyle_opts=opts.ItemStyleOpts(\n",
    "                color=\"red\", border_color=\"#fff\", border_width=1\n",
    "            ),\n",
    "            tooltip_opts=opts.TooltipOpts(is_show=False),\n",
    "            areastyle_opts=opts.AreaStyleOpts(color=JsCode(area_color_js), opacity=1),\n",
    "            # 标出4个关键点的数据\n",
    "            markpoint_opts=opts.MarkPointOpts(\n",
    "                data=[opts.MarkPointItem(name=\"新中国成立（1949年）\", coord=[0, y_data[0]], value=y_data[0]),\n",
    "                      opts.MarkPointItem(name=\"自然灾害（1960-1961年）\", coord=[12,y_data[12]],value=y_data[12]),\n",
    "                      opts.MarkPointItem(name=\"计划生育（1980年）\", coord=[31, y_data[31]], value=y_data[31]),\n",
    "                      opts.MarkPointItem(name=\"放开二胎（2016年）\", coord=[67, y_data[67]], value=y_data[67]),\n",
    "                      opts.MarkPointItem(name=\"2019年\", coord=[70, y_data[70]], value=y_data[70])\n",
    "                      ]\n",
    "            ),\n",
    "            # markline_opts 可以画直线\n",
    "            # markline_opts=opts.MarkLineOpts(\n",
    "            #     data=[[opts.MarkLineItem(coord=[39, y_data[39]]),\n",
    "            #            opts.MarkLineItem(coord=[19, y_data[19]])],\n",
    "            #           [opts.MarkLineItem(coord=[70, y_data[70]]),\n",
    "            #            opts.MarkLineItem(coord=[39, y_data[39]])]],\n",
    "            #     linestyle_opts=opts.LineStyleOpts(color=\"red\")\n",
    "            # ),\n",
    "        )\n",
    "            .set_global_opts(\n",
    "            title_opts=opts.TitleOpts(\n",
    "                title=\"新中国70年人口变化(亿人)\",\n",
    "                pos_bottom=\"5%\",\n",
    "                pos_left=\"center\",\n",
    "                title_textstyle_opts=opts.TextStyleOpts(color=\"#fff\", font_size=16),\n",
    "            ),\n",
    "            # x轴相关的选项设置\n",
    "            xaxis_opts=opts.AxisOpts(\n",
    "                type_=\"category\",\n",
    "                boundary_gap=False,\n",
    "                axislabel_opts=opts.LabelOpts(margin=30, color=\"#ffffff63\"),\n",
    "                axisline_opts=opts.AxisLineOpts(is_show=False),\n",
    "                axistick_opts=opts.AxisTickOpts(\n",
    "                    is_show=True,\n",
    "                    length=25,\n",
    "                    linestyle_opts=opts.LineStyleOpts(color=\"#ffffff1f\"),\n",
    "                ),\n",
    "                splitline_opts=opts.SplitLineOpts(\n",
    "                    is_show=False, linestyle_opts=opts.LineStyleOpts(color=\"#ffffff1f\")\n",
    "                ),\n",
    "            ),\n",
    "            # y轴相关选项设置\n",
    "            yaxis_opts=opts.AxisOpts(\n",
    "                type_=\"value\",\n",
    "                position=\"left\",\n",
    "                axislabel_opts=opts.LabelOpts(margin=20, color=\"#ffffff63\"),\n",
    "                axisline_opts=opts.AxisLineOpts(\n",
    "                    linestyle_opts=opts.LineStyleOpts(width=0, color=\"#ffffff1f\")\n",
    "                ),\n",
    "                axistick_opts=opts.AxisTickOpts(\n",
    "                    is_show=True,\n",
    "                    length=15,\n",
    "                    linestyle_opts=opts.LineStyleOpts(color=\"#ffffff1f\"),\n",
    "                ),\n",
    "                splitline_opts=opts.SplitLineOpts(\n",
    "                    is_show=False, linestyle_opts=opts.LineStyleOpts(color=\"#ffffff1f\")\n",
    "                ),\n",
    "            ),\n",
    "            # 图例配置项相关设置\n",
    "            legend_opts=opts.LegendOpts(is_show=False),\n",
    "        )\n",
    "    )\n",
    "    # 2、分析计划生育执行前后增长人口\n",
    "    # 2.1 数据处理\n",
    "    total_1949 = DF_STANDARD[DF_STANDARD['年份'] == 1949]['年末总人口(万人)'].values\n",
    "    total_1979 = DF_STANDARD[DF_STANDARD['年份'] == 1979]['年末总人口(万人)'].values\n",
    "    total_2010 = DF_STANDARD[DF_STANDARD['年份'] == 2010]['年末总人口(万人)'].values\n",
    "    increase_1949_1979 = '%.2f' % (int(total_1979 - total_1949) / 10000)\n",
    "    increase_1979_2010 = '%.2f' % (int(total_2010 - total_1979) / 10000)\n",
    "    # 2.2 画柱状图\n",
    "    bar = (\n",
    "        Bar(init_opts=opts.InitOpts(bg_color=JsCode(background_color_js)))\n",
    "            .add_xaxis([''])\n",
    "            .add_yaxis(\"前31年：1949-1979\", [increase_1949_1979], color=JsCode(area_color_js),\n",
    "                       label_opts=opts.LabelOpts(color='white', font_size=16))\n",
    "            .add_yaxis(\"后31年：1980-2010\", [increase_1979_2010], color=JsCode(area_color_js),\n",
    "                       label_opts=opts.LabelOpts(color='white', font_size=16))\n",
    "            .set_global_opts(\n",
    "            title_opts=opts.TitleOpts(\n",
    "                title=\"计划生育执行前31年（1949-1979）与后31年（1980-2010）增加人口总数比较（亿人）\",\n",
    "                pos_bottom=\"5%\",\n",
    "                pos_left=\"center\",\n",
    "                title_textstyle_opts=opts.TextStyleOpts(color=\"#fff\", font_size=16)\n",
    "            ),\n",
    "            xaxis_opts=opts.AxisOpts(\n",
    "                # 隐藏x轴的坐标线\n",
    "                axisline_opts=opts.AxisLineOpts(is_show=False),\n",
    "            ),\n",
    "            yaxis_opts=opts.AxisOpts(\n",
    "                # y轴坐标数值\n",
    "                axislabel_opts=opts.LabelOpts(margin=20, color=\"#ffffff63\"),\n",
    "                # y 轴 轴线\n",
    "                axisline_opts=opts.AxisLineOpts(\n",
    "                    linestyle_opts=opts.LineStyleOpts(width=0, color=\"#ffffff1f\")\n",
    "                ),\n",
    "                # y轴刻度横线\n",
    "                axistick_opts=opts.AxisTickOpts(\n",
    "                    is_show=True,\n",
    "                    length=15,\n",
    "                    linestyle_opts=opts.LineStyleOpts(color=\"#ffffff1f\"),\n",
    "                ),\n",
    "            ),\n",
    "            legend_opts=opts.LegendOpts(is_show=False)\n",
    "        )\n",
    "    )\n",
    "    # 3、渲染图像，将多个图像显示在一个html中\n",
    "    #page = Page(layout=Page.DraggablePageLayout) # 用于同一个页面加载多个图\n",
    "    page=Page(page_title='Population_total')\n",
    "    page.add(line)\n",
    "    page.add(bar)\n",
    "    page.render('C:/Users/123/Desktop/population_total.html')"
   ]
  },
  {
   "cell_type": "markdown",
   "metadata": {},
   "source": [
    "## 分析男女比"
   ]
  },
  {
   "cell_type": "code",
   "execution_count": 37,
   "metadata": {
    "ExecuteTime": {
     "end_time": "2020-02-09T13:45:36.698649Z",
     "start_time": "2020-02-09T13:45:36.663637Z"
    }
   },
   "outputs": [],
   "source": [
    "def analysis_sex():\n",
    "    \"\"\"\n",
    "    分析男女比\n",
    "    \"\"\"\n",
    "    # 年份\n",
    "    x_data_year = DF_STANDARD['年份']\n",
    "    # 1、2019年男女比饼图\n",
    "    sex_2019 = DF_STANDARD[DF_STANDARD['年份'] == 2019][['男性人口(万人)', '女性人口(万人)']]\n",
    "    pie = (\n",
    "        Pie()\n",
    "            .add(\"\", [list(z) for z in zip(['男', '女'], np.ravel(sex_2019.values))])\n",
    "            .set_global_opts(title_opts=opts.TitleOpts(title=\"2019中国男女比\", pos_bottom=\"bottom\", pos_left=\"center\"))\n",
    "            .set_series_opts(label_opts=opts.LabelOpts(formatter=\"{b}: {d}%\"))\n",
    "    )\n",
    "    # 2、历年男性占总人数比曲线\n",
    "    # （男性数/总数）x 100 ，然后保留两位小数\n",
    "    man_percent = (DF_STANDARD['男性人口(万人)'] / DF_STANDARD['年末总人口(万人)']).map(lambda x: \"%.2f\" % (x * 100))\n",
    "    line1 = (\n",
    "        Line()\n",
    "            .add_xaxis(x_data_year)\n",
    "            .add_yaxis(\n",
    "            series_name=\"男性占总人口比\",\n",
    "            y_axis=man_percent.values,\n",
    "            # 标出关键点的数据\n",
    "            markpoint_opts=opts.MarkPointOpts(data=[opts.MarkPointItem(type_=\"min\"), opts.MarkPointItem(type_=\"max\")]),\n",
    "            # 画出平均线\n",
    "            markline_opts=opts.MarkLineOpts(data=[opts.MarkLineItem(type_=\"average\")])\n",
    "        )\n",
    "            .set_global_opts(\n",
    "            title_opts=opts.TitleOpts(title=\"中国70年(1949-2019)男性占总人数比\", pos_left=\"center\", pos_top=\"bottom\"),\n",
    "            xaxis_opts=opts.AxisOpts(type_=\"category\"),\n",
    "            # y轴显示百分比，并设置最小值和最大值\n",
    "            yaxis_opts=opts.AxisOpts(type_=\"value\", max_=52, min_=50,\n",
    "                                     axislabel_opts=opts.LabelOpts(formatter='{value} %')),\n",
    "            legend_opts=opts.LegendOpts(is_show=False),\n",
    "        )\n",
    "            .set_series_opts(label_opts=opts.LabelOpts(is_show=False))\n",
    "    )\n",
    "\n",
    "    # 3、男女折线图\n",
    "    # 历年男性人口数\n",
    "    y_data_man = DF_STANDARD['男性人口(万人)']\n",
    "    # 历年女性人口数\n",
    "    y_data_woman = DF_STANDARD['女性人口(万人)']\n",
    "    line2 = (\n",
    "        Line()\n",
    "            .add_xaxis(x_data_year)\n",
    "            .add_yaxis(\"女性\", y_data_woman)\n",
    "            .add_yaxis(\"男性\", y_data_man)\n",
    "            .set_global_opts(\n",
    "            title_opts=opts.TitleOpts(title=\"中国70年(1949-2019)男女人口数(万人)\", pos_left=\"center\", pos_top=\"bottom\"),\n",
    "            xaxis_opts=opts.AxisOpts(type_=\"category\"),\n",
    "        )\n",
    "            .set_series_opts(label_opts=opts.LabelOpts(is_show=False))\n",
    "    )\n",
    "    # 4、男女人口差异图\n",
    "    # 两列相减，获得新列\n",
    "    y_data_man_woman = DF_STANDARD['男性人口(万人)'] - DF_STANDARD['女性人口(万人)']\n",
    "    line3 = (\n",
    "        Line()\n",
    "            .add_xaxis(x_data_year)\n",
    "            .add_yaxis(\n",
    "            series_name=\"男女差值\",\n",
    "            y_axis=y_data_man_woman.values,\n",
    "            # 标出关键点的数据\n",
    "            markpoint_opts=opts.MarkPointOpts(data=[opts.MarkPointItem(type_=\"min\"), opts.MarkPointItem(type_=\"max\"),\n",
    "                                                    opts.MarkPointItem(type_=\"average\")]),\n",
    "            markline_opts=opts.MarkLineOpts(data=[opts.MarkLineItem(type_=\"average\")])\n",
    "        )\n",
    "            .set_global_opts(\n",
    "            title_opts=opts.TitleOpts(title=\"中国70年(1949-2019)男女差值（万人）\", pos_left=\"center\", pos_top=\"bottom\"),\n",
    "            xaxis_opts=opts.AxisOpts(type_=\"category\"),\n",
    "            legend_opts=opts.LegendOpts(is_show=False),\n",
    "        )\n",
    "            .set_series_opts(label_opts=opts.LabelOpts(is_show=False))\n",
    "    )\n",
    "\n",
    "    # 5、渲染图像，将多个图像显示在一个html中\n",
    "    page = Page()\n",
    "    page.add(pie)\n",
    "    page.add(line1)\n",
    "    page.add(line2)\n",
    "    page.add(line3)\n",
    "    page.render('C:/Users/123/Desktop/population_sex.html')"
   ]
  },
  {
   "cell_type": "markdown",
   "metadata": {},
   "source": [
    "## 分析我国人口城镇化"
   ]
  },
  {
   "cell_type": "code",
   "execution_count": 38,
   "metadata": {
    "ExecuteTime": {
     "end_time": "2020-02-09T13:45:37.474594Z",
     "start_time": "2020-02-09T13:45:37.443608Z"
    }
   },
   "outputs": [],
   "source": [
    "def analysis_urbanization():\n",
    "    \"\"\"\n",
    "    分析我国人口城镇化\n",
    "    \"\"\"\n",
    "    # 年份\n",
    "    x_data_year = DF_STANDARD['年份']\n",
    "    # 2019年我国人口城镇化\n",
    "    urbanization_2019 = DF_STANDARD[DF_STANDARD['年份'] == 2019][['城镇人口(万人)', '乡村人口(万人)']]\n",
    "    pie = (\n",
    "        Pie()\n",
    "            .add(\"\", [list(z) for z in zip(['城镇人口', '乡村人口'], np.ravel(urbanization_2019.values))])\n",
    "            .set_global_opts(title_opts=opts.TitleOpts(title=\"2019中国城镇化比例\", pos_bottom=\"bottom\", pos_left=\"center\", ),\n",
    "                             legend_opts=opts.LegendOpts(is_show=False))\n",
    "            .set_series_opts(label_opts=opts.LabelOpts(formatter=\"{b}: {d}%\"))\n",
    "\n",
    "    )\n",
    "    # 2、城镇化比例曲线\n",
    "    y_data_city = DF_STANDARD['城镇人口(万人)'] / 10000\n",
    "    y_data_countryside = DF_STANDARD['乡村人口(万人)'] / 10000\n",
    "    line1 = (\n",
    "        Line()\n",
    "            .add_xaxis(x_data_year)\n",
    "            .add_yaxis(\"城镇人口\", y_data_city)\n",
    "            .add_yaxis(series_name=\"乡村人口\", y_axis=y_data_countryside,\n",
    "                       # 标记线\n",
    "                       markline_opts=opts.MarkLineOpts(\n",
    "                           # 去除标记线的箭头\n",
    "                           symbol='none',\n",
    "                           label_opts=opts.LabelOpts(font_size=16),\n",
    "                           data=[[opts.MarkLineItem(coord=[46, 0]),\n",
    "                                  opts.MarkLineItem(name='1995', coord=[46, y_data_countryside[46]])],\n",
    "                                 [opts.MarkLineItem(coord=[61, 0]),\n",
    "                                  opts.MarkLineItem(name='2010', coord=[61, y_data_countryside[61]])]],\n",
    "                           # opacity不透明度 0 - 1\n",
    "                           linestyle_opts=opts.LineStyleOpts(color=\"red\", opacity=0.3)\n",
    "                       ),\n",
    "                       # 标出关键点的数据\n",
    "                       markpoint_opts=opts.MarkPointOpts(\n",
    "                           data=[opts.MarkPointItem(name=\"1995年\", coord=[46, y_data_countryside[46]],\n",
    "                                                    value=\"%.2f\" % (y_data_countryside[46])),\n",
    "                                 opts.MarkPointItem(name=\"2010年\", coord=[61, y_data_countryside[61]],\n",
    "                                                    value=\"%.2f\" % (y_data_countryside[61]))]\n",
    "                       )\n",
    "                       )\n",
    "            .set_global_opts(\n",
    "            title_opts=opts.TitleOpts(title=\"中国70年(1949-2019)城乡人口曲线（亿人）\", pos_left=\"center\", pos_top=\"bottom\"),\n",
    "            xaxis_opts=opts.AxisOpts(type_=\"category\")\n",
    "        )\n",
    "            .set_series_opts(label_opts=opts.LabelOpts(is_show=False))\n",
    "    )\n",
    "\n",
    "    # 3、城镇化曲线\n",
    "    y_data_urbanization = (DF_STANDARD['城镇人口(万人)'] / DF_STANDARD['年末总人口(万人)']).map(lambda x: \"%.2f\" % (x * 100))\n",
    "    line2 = (\n",
    "        Line()\n",
    "            .add_xaxis(x_data_year)\n",
    "            .add_yaxis(\n",
    "            series_name=\"中国人口城镇化比例曲线\",\n",
    "            y_axis=y_data_urbanization.values,\n",
    "            markline_opts=opts.MarkLineOpts(symbol='none', data=[opts.MarkLineItem(y=30), opts.MarkLineItem(y=70)])\n",
    "        )\n",
    "            .set_global_opts(\n",
    "            title_opts=opts.TitleOpts(title=\"中国(1949-2019)人口城镇化比例曲线\", pos_left=\"center\", pos_top=\"bottom\"),\n",
    "            xaxis_opts=opts.AxisOpts(type_=\"category\"),\n",
    "            # y轴显示百分比，并设置最小值和最大值\n",
    "            yaxis_opts=opts.AxisOpts(type_=\"value\", max_=100, min_=10,\n",
    "                                     axislabel_opts=opts.LabelOpts(formatter='{value} %')),\n",
    "            legend_opts=opts.LegendOpts(is_show=False),\n",
    "        )\n",
    "            .set_series_opts(label_opts=opts.LabelOpts(is_show=False))\n",
    "    )\n",
    "\n",
    "    # 4、渲染图像，将多个图像显示在一个html中\n",
    "    page = Page()\n",
    "    page.add(pie)\n",
    "    page.add(line1)\n",
    "    page.add(line2)\n",
    "    page.render('C:/Users/123/Desktop/population_urbanization.html')"
   ]
  },
  {
   "cell_type": "markdown",
   "metadata": {},
   "source": [
    "## 分析人口增长率"
   ]
  },
  {
   "cell_type": "code",
   "execution_count": 39,
   "metadata": {
    "ExecuteTime": {
     "end_time": "2020-02-09T13:45:38.349257Z",
     "start_time": "2020-02-09T13:45:38.338253Z"
    }
   },
   "outputs": [],
   "source": [
    "def analysis_growth():\n",
    "    \"\"\"\n",
    "    分析人口增长率\n",
    "    \"\"\"\n",
    "    # 1、三条曲线\n",
    "    x_data_year = DF_STANDARD['年份']\n",
    "    y_data_birth = DF_STANDARD['人口出生率(‰)']\n",
    "    y_data_death = DF_STANDARD['人口死亡率(‰)']\n",
    "    y_data_growth = DF_STANDARD['人口自然增长率(‰)']\n",
    "    line1 = (\n",
    "        Line()\n",
    "            .add_xaxis(x_data_year)\n",
    "            .add_yaxis(\"人口出生率\", y_data_birth)\n",
    "            .add_yaxis(\"人口死亡率\", y_data_death)\n",
    "            .add_yaxis(\"人口自然增长率\", y_data_growth)\n",
    "            .set_global_opts(\n",
    "            # y轴显示百分比，并设置最小值和最大值\n",
    "            yaxis_opts=opts.AxisOpts(axislabel_opts=opts.LabelOpts(formatter='{value} ‰')),\n",
    "            title_opts=opts.TitleOpts(title=\"中国70年(1949-2019)出生率、死亡率及增长率变化\", subtitle=\"1949-2019年，单位：‰\",\n",
    "                                      pos_left=\"center\",\n",
    "                                      pos_top=\"bottom\"),\n",
    "            xaxis_opts=opts.AxisOpts(type_=\"category\"),\n",
    "        )\n",
    "            .set_series_opts(label_opts=opts.LabelOpts(is_show=False))\n",
    "    )\n",
    "    # 2、渲染图像，将两个图像显示在一个html中\n",
    "    page = Page()\n",
    "    page.add(line1)\n",
    "    page.render('C:/Users/123/Desktop/analysis_growth.html')"
   ]
  },
  {
   "cell_type": "markdown",
   "metadata": {},
   "source": [
    "## 分析年龄结构"
   ]
  },
  {
   "cell_type": "code",
   "execution_count": 40,
   "metadata": {
    "ExecuteTime": {
     "end_time": "2020-02-09T13:45:39.449459Z",
     "start_time": "2020-02-09T13:45:39.414570Z"
    }
   },
   "outputs": [],
   "source": [
    "def analysis_age():\n",
    "    \"\"\"\n",
    "    分析年龄结构\n",
    "    \"\"\"\n",
    "    new_df = DF_STANDARD[DF_STANDARD['0-14岁人口(万人)'] != 0][['年份', '0-14岁人口(万人)', '15-64岁人口(万人)', '65岁及以上人口(万人)']]\n",
    "    x_data_year = new_df['年份']\n",
    "    y_data_age_14 = new_df['0-14岁人口(万人)']\n",
    "    y_data_age_15_64 = new_df['15-64岁人口(万人)']\n",
    "    y_data_age_65 = new_df['65岁及以上人口(万人)']\n",
    "    line1 = (\n",
    "        Line()\n",
    "            .add_xaxis(x_data_year)\n",
    "            .add_yaxis(\"0-14岁人口\", y_data_age_14)\n",
    "            .add_yaxis(\"15-64\", y_data_age_15_64)\n",
    "            .add_yaxis(\"65岁及以上人口\", y_data_age_65)\n",
    "            .set_global_opts(\n",
    "            # y轴显示百分比，并设置最小值和最大值\n",
    "            yaxis_opts=opts.AxisOpts(axislabel_opts=opts.LabelOpts(formatter='{value}万')),\n",
    "            title_opts=opts.TitleOpts(title=\"中国人口年龄结构变化图（万人）\",\n",
    "                                      pos_left=\"center\",\n",
    "                                      pos_top=\"bottom\"),\n",
    "            xaxis_opts=opts.AxisOpts(type_=\"category\"),\n",
    "        )\n",
    "            .set_series_opts(label_opts=opts.LabelOpts(is_show=False))\n",
    "    )\n",
    "    # 2、1982年龄结构与2019年龄结构\n",
    "    age_1982 = DF_STANDARD[DF_STANDARD['年份'] == 1982][['0-14岁人口(万人)', '15-64岁人口(万人)', '65岁及以上人口(万人)']]\n",
    "    age_2019 = DF_STANDARD[DF_STANDARD['年份'] == 2019][['0-14岁人口(万人)', '15-64岁人口(万人)', '65岁及以上人口(万人)']]\n",
    "\n",
    "    pie = (\n",
    "        Pie()\n",
    "            .add(\n",
    "            \"1982\",\n",
    "            [list(z) for z in zip(['0-14', '15-64', '65'], np.ravel(age_1982.values))],\n",
    "            center=[\"20%\", \"50%\"],\n",
    "            radius=[60, 80],\n",
    "        )\n",
    "            .add(\n",
    "            \"2019\",\n",
    "            [list(z) for z in zip(['0-14', '15-64', '65'], np.ravel(age_2019.values))],\n",
    "            center=[\"55%\", \"50%\"],\n",
    "            radius=[60, 80],\n",
    "        )\n",
    "            .set_series_opts(label_opts=opts.LabelOpts(position=\"top\", formatter=\"{b}: {d}%\"))\n",
    "            .set_global_opts(\n",
    "            title_opts=opts.TitleOpts(title=\"中国1982、2019年年龄结构对比图\", pos_left=\"center\",\n",
    "                                      pos_top=\"bottom\"),\n",
    "            legend_opts=opts.LegendOpts(\n",
    "                type_=\"scroll\", pos_top=\"20%\", pos_left=\"80%\", orient=\"vertical\"\n",
    "            ),\n",
    "        )\n",
    "    )\n",
    "    # 3、抚养比曲线\n",
    "    new_df = DF_STANDARD[DF_STANDARD['总抚养比(%)'] != 0][['年份', '总抚养比(%)', '少儿抚养比(%)', '老年抚养比(%)']]\n",
    "    x_data_year2 = new_df['年份']\n",
    "    y_data_all = new_df['总抚养比(%)']\n",
    "    y_data_new = new_df['少儿抚养比(%)']\n",
    "    y_data_old = new_df['老年抚养比(%)']\n",
    "    line2 = (\n",
    "        Line()\n",
    "            .add_xaxis(x_data_year2)\n",
    "            .add_yaxis(series_name=\"总抚养比\", y_axis=y_data_all, markpoint_opts=opts.MarkPointOpts(\n",
    "            data=[opts.MarkPointItem(name=\"1995年\", coord=[22, y_data_all.values[22]],\n",
    "                                     value=\"%.2f\" % (y_data_all.values[22]))\n",
    "                  ]\n",
    "        ))\n",
    "            .add_yaxis(\"少儿抚养比\", y_data_new)\n",
    "            .add_yaxis(\"老年抚养比\", y_data_old)\n",
    "            .set_global_opts(\n",
    "            # y轴显示百分比，并设置最小值和最大值\n",
    "            yaxis_opts=opts.AxisOpts(axislabel_opts=opts.LabelOpts(formatter='{value}%')),\n",
    "            title_opts=opts.TitleOpts(title=\"中国抚养比变化曲线图\",\n",
    "                                      pos_left=\"center\",\n",
    "                                      pos_top=\"bottom\"),\n",
    "            xaxis_opts=opts.AxisOpts(type_=\"category\"),\n",
    "        )\n",
    "            .set_series_opts(label_opts=opts.LabelOpts(is_show=False))\n",
    "    )\n",
    "    # 4、渲染图像，将两个图像显示在一个html中\n",
    "    page = Page()\n",
    "    page.add(line1)\n",
    "    page.add(line2)\n",
    "    page.add(pie)\n",
    "    page.render('C:/Users/123/Desktop/analysis_age.html')"
   ]
  },
  {
   "cell_type": "code",
   "execution_count": 41,
   "metadata": {
    "ExecuteTime": {
     "end_time": "2020-02-09T13:45:54.980248Z",
     "start_time": "2020-02-09T13:45:54.879105Z"
    }
   },
   "outputs": [],
   "source": [
    "analysis_total()\n",
    "analysis_sex()\n",
    "analysis_urbanization()\n",
    "analysis_growth()\n",
    "analysis_age()"
   ]
  },
  {
   "cell_type": "code",
   "execution_count": null,
   "metadata": {},
   "outputs": [],
   "source": []
  }
 ],
 "metadata": {
  "kernelspec": {
   "display_name": "Python 3.6.8 64-bit",
   "language": "python",
   "name": "python36864bit1509dad7ed2f4e16b89368ecdc9f1af8"
  },
  "language_info": {
   "codemirror_mode": {
    "name": "ipython",
    "version": 3
   },
   "file_extension": ".py",
   "mimetype": "text/x-python",
   "name": "python",
   "nbconvert_exporter": "python",
   "pygments_lexer": "ipython3",
   "version": "3.6.8"
  },
  "toc": {
   "base_numbering": 1,
   "nav_menu": {},
   "number_sections": true,
   "sideBar": true,
   "skip_h1_title": false,
   "title_cell": "Table of Contents",
   "title_sidebar": "Contents",
   "toc_cell": false,
   "toc_position": {
    "height": "calc(100% - 180px)",
    "left": "10px",
    "top": "150px",
    "width": "218.55px"
   },
   "toc_section_display": true,
   "toc_window_display": false
  }
 },
 "nbformat": 4,
 "nbformat_minor": 2
}
