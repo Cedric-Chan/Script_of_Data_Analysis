{
 "cells": [
  {
   "cell_type": "markdown",
   "metadata": {},
   "source": [
    "# 热门地爬取"
   ]
  },
  {
   "cell_type": "code",
   "execution_count": 11,
   "metadata": {
    "ExecuteTime": {
     "end_time": "2020-02-09T10:56:59.831831Z",
     "start_time": "2020-02-09T10:56:59.767914Z"
    }
   },
   "outputs": [],
   "source": [
    "import os\n",
    "import time\n",
    "import random\n",
    "from fake_useragent import UserAgent  # 用于生成随机请求头\n",
    "import requests\n",
    "import pandas as pd"
   ]
  },
  {
   "cell_type": "code",
   "execution_count": 2,
   "metadata": {
    "ExecuteTime": {
     "end_time": "2020-02-09T10:46:14.775059Z",
     "start_time": "2020-02-09T10:46:14.768057Z"
    }
   },
   "outputs": [],
   "source": [
    "# 去哪儿热门景点excel文件保存路径\n",
    "PLACE_EXCEL_PATH = 'C:/Users/123/Desktop/qunar_place.xlsx'"
   ]
  },
  {
   "cell_type": "markdown",
   "metadata": {},
   "source": [
    "## 爬取景点列表"
   ]
  },
  {
   "cell_type": "code",
   "execution_count": 19,
   "metadata": {
    "ExecuteTime": {
     "end_time": "2020-02-09T11:02:35.415832Z",
     "start_time": "2020-02-09T11:02:35.403833Z"
    }
   },
   "outputs": [],
   "source": [
    "def spider_place(keyword, page):\n",
    "    \"\"\"\n",
    "    爬取景点\n",
    "\n",
    "    :param keyword: 搜索关键字\n",
    "    :param page: 分页参数\n",
    "    :return:\n",
    "    \"\"\"\n",
    "    url = f'http://piao.qunar.com/ticket/list.json?keyword={keyword}&region=&from=mpl_search_suggest&page={page}'\n",
    "    headers = {\n",
    "        'Accept': 'application / json, text / javascript, * / *; q = 0.01',\n",
    "        'Accept-Encoding': 'gzip, deflate',\n",
    "        'Accept-Language': 'zh-CN,zh;q=0.9,en;q=0.8',\n",
    "        'Connection': 'keep-alive',\n",
    "        'Host': 'piao.qunar.com',\n",
    "        'Referer': 'http://piao.qunar.com/ticket/list.htm?keyword=%E5%9B%BD%E5%BA%86%E6%97%85%E6%B8%B8%E6%99%AF%E7%82%B9&region=&from=mpl_search_suggest',\n",
    "        'User-Agent': 'Mozilla/5.0 (Macintosh; Intel Mac OS X 10_14_5) AppleWebKit/537.36 (KHTML, like Gecko) Chrome/76.0.3809.132 Safari/537.36',\n",
    "        'X-Requested-With': 'XMLHttpRequest'\n",
    "    }\n",
    "    # 没有用代理\n",
    "    # 站大爷：http://ip.zdaye.com/dayProxy.html\n",
    "    proxies = {'http': '118.24.172.149:1080',\n",
    "               'https': '60.205.202.3:3128'}\n",
    "    response = requests.get(url, headers={'User-Agent': UserAgent().random\n",
    "                                          })\n",
    "    # 提取景点信息\n",
    "    place_list = get_place_info(response.json())\n",
    "    print(place_list)\n",
    "        \n",
    "    # 保存景点信息\n",
    "    save_excel(place_list)"
   ]
  },
  {
   "cell_type": "markdown",
   "metadata": {},
   "source": [
    "## 解析json列表"
   ]
  },
  {
   "cell_type": "code",
   "execution_count": 18,
   "metadata": {
    "ExecuteTime": {
     "end_time": "2020-02-09T11:02:33.125470Z",
     "start_time": "2020-02-09T11:02:33.111511Z"
    }
   },
   "outputs": [],
   "source": [
    "def get_place_info(response_json):\n",
    "    \"\"\"\n",
    "    解析json，获取想要字段\n",
    "    :param response_json:\n",
    "    :return:\n",
    "    \"\"\"\n",
    "    sight_list = response_json['data']['sightList']\n",
    "    place_list = []\n",
    "    for sight in sight_list:\n",
    "        try:\n",
    "            goods = {'id': sight['sightId'],  # 景点id\n",
    "                     'name': sight['sightName'],  # 景点名称\n",
    "                     # 景点星级，使用get方法防止触发KeyError\n",
    "                     'star': sight.get('star', '无'),\n",
    "                     'score': sight.get('score', 0),  # 评分\n",
    "                     'price': sight.get('qunarPrice', 0),  # 门票价格\n",
    "                     'sale': sight.get('saleCount', 0),  # 销量\n",
    "                     'districts': sight['districts'],  # 省 市 县\n",
    "                     'point': sight['point'],  # 坐标\n",
    "                     'intro': sight.get('intro', ''),  # 简介\n",
    "                     }\n",
    "            place_list.append(goods)\n",
    "        except IndexError:\n",
    "            print('error')\n",
    "    return place_list"
   ]
  },
  {
   "cell_type": "markdown",
   "metadata": {},
   "source": [
    "## 生成Excel文件"
   ]
  },
  {
   "cell_type": "code",
   "execution_count": 21,
   "metadata": {
    "ExecuteTime": {
     "end_time": "2020-02-09T11:07:16.189250Z",
     "start_time": "2020-02-09T11:07:16.175243Z"
    }
   },
   "outputs": [],
   "source": [
    "def save_excel(place_list):\n",
    "    \"\"\"\n",
    "    将json数据生成excel文件\n",
    "    :param place_list: 景点数据\n",
    "    :return:\n",
    "    \"\"\"\n",
    "    # pandas没有对excel没有追加模式，只能先读后写\n",
    "    try:\n",
    "        if os.path.exists(PLACE_EXCEL_PATH):\n",
    "            df = pd.read_excel(PLACE_EXCEL_PATH)\n",
    "            df = df.append(place_list)\n",
    "        else:\n",
    "            df = pd.DataFrame(place_list)\n",
    "    except IndexError:\n",
    "        print('error')\n",
    "        \n",
    "    writer = pd.ExcelWriter(PLACE_EXCEL_PATH)\n",
    "    # columns参数用于指定生成的excel中列的顺序\n",
    "    df.to_excel(excel_writer=writer,\n",
    "                columns=['id', 'name', 'star', 'score', 'price', 'sale', 'districts', 'point', 'intro'], index=False,\n",
    "                encoding='utf-8', sheet_name='去哪儿热门景点')\n",
    "    writer.save()\n",
    "    writer.close()"
   ]
  },
  {
   "cell_type": "markdown",
   "metadata": {},
   "source": [
    "## 批量爬取"
   ]
  },
  {
   "cell_type": "code",
   "execution_count": 25,
   "metadata": {
    "ExecuteTime": {
     "end_time": "2020-02-09T11:22:33.638711Z",
     "start_time": "2020-02-09T11:22:33.629705Z"
    }
   },
   "outputs": [],
   "source": [
    "def patch_spider_place(keyword):\n",
    "    \"\"\"\n",
    "    批量爬取淘去哪儿景点\n",
    "    :param keyword: 搜索关键字\n",
    "    :return:\n",
    "    \"\"\"\n",
    "    # 写入数据前先清空之前的数据\n",
    "    if os.path.exists(PLACE_EXCEL_PATH):\n",
    "        os.remove(PLACE_EXCEL_PATH)\n",
    "    # 批量爬取\n",
    "    for i in range(1, 36):\n",
    "        print(f'正在爬取 {keyword} 第{i}页')\n",
    "        spider_place(keyword, i)\n",
    "        # 设置一个时间间隔\n",
    "        time.sleep(random.randint(2, 5))\n",
    "    print('爬取完成！')\n",
    "    "
   ]
  },
  {
   "cell_type": "markdown",
   "metadata": {},
   "source": [
    "## 似乎是因为疫情关系，第二页开始就无法爬取了"
   ]
  },
  {
   "cell_type": "code",
   "execution_count": 22,
   "metadata": {
    "ExecuteTime": {
     "end_time": "2020-02-09T11:07:35.311416Z",
     "start_time": "2020-02-09T11:07:21.262388Z"
    }
   },
   "outputs": [
    {
     "name": "stdout",
     "output_type": "stream",
     "text": [
      "正在爬取 国庆旅游景点 第1页\n",
      "[{'id': 4152824504, 'name': '崇州国庆金秋田园灯会', 'star': '无', 'score': '0.0', 'price': 0, 'sale': 0, 'districts': '四川·成都·崇州市', 'point': '103.714815,30.712283', 'intro': '夜晚去田园花海，领略梦幻光影'}, {'id': 4166750013, 'name': '国庆跑马场', 'star': '无', 'score': '0.0', 'price': 0, 'sale': 0, 'districts': '河北·邯郸·磁县', 'point': '114.43083,36.514686', 'intro': '培训，娱乐为一体的大型跑马场，这里地势平坦，广袤辽阔，环境怡人，空气清新。是久居都市的人们放松心情的好去处。也是邯郸独具'}, {'id': 1617365751, 'name': '牛顿小镇中秋国庆灯展', 'star': '无', 'score': '0.0', 'price': 0, 'sale': 0, 'districts': '湖北·黄冈·湖北红安牛顿小镇', 'point': '114.623286,31.288769', 'intro': '牛顿小镇投资打造的本届红安县独具风格的灯展，融合赏灯景、品美食、游戏互动多种项目。'}]\n",
      "正在爬取 国庆旅游景点 第2页\n",
      "[]\n",
      "error\n",
      "正在爬取 国庆旅游景点 第3页\n",
      "[]\n",
      "error\n",
      "正在爬取 国庆旅游景点 第4页\n",
      "[]\n",
      "error\n"
     ]
    },
    {
     "ename": "KeyboardInterrupt",
     "evalue": "",
     "output_type": "error",
     "traceback": [
      "\u001b[1;31m---------------------------------------------------------------------------\u001b[0m",
      "\u001b[1;31mKeyboardInterrupt\u001b[0m                         Traceback (most recent call last)",
      "\u001b[1;32m<ipython-input-22-57d27ced8fa0>\u001b[0m in \u001b[0;36m<module>\u001b[1;34m\u001b[0m\n\u001b[1;32m----> 1\u001b[1;33m \u001b[0mpatch_spider_place\u001b[0m\u001b[1;33m(\u001b[0m\u001b[1;34m'国庆旅游景点'\u001b[0m\u001b[1;33m)\u001b[0m\u001b[1;33m\u001b[0m\u001b[1;33m\u001b[0m\u001b[0m\n\u001b[0m",
      "\u001b[1;32m<ipython-input-14-a70b505cc26a>\u001b[0m in \u001b[0;36mpatch_spider_place\u001b[1;34m(keyword)\u001b[0m\n\u001b[0;32m     13\u001b[0m         \u001b[0mspider_place\u001b[0m\u001b[1;33m(\u001b[0m\u001b[0mkeyword\u001b[0m\u001b[1;33m,\u001b[0m \u001b[0mi\u001b[0m\u001b[1;33m)\u001b[0m\u001b[1;33m\u001b[0m\u001b[1;33m\u001b[0m\u001b[0m\n\u001b[0;32m     14\u001b[0m         \u001b[1;31m# 设置一个时间间隔\u001b[0m\u001b[1;33m\u001b[0m\u001b[1;33m\u001b[0m\u001b[1;33m\u001b[0m\u001b[0m\n\u001b[1;32m---> 15\u001b[1;33m         \u001b[0mtime\u001b[0m\u001b[1;33m.\u001b[0m\u001b[0msleep\u001b[0m\u001b[1;33m(\u001b[0m\u001b[0mrandom\u001b[0m\u001b[1;33m.\u001b[0m\u001b[0mrandint\u001b[0m\u001b[1;33m(\u001b[0m\u001b[1;36m2\u001b[0m\u001b[1;33m,\u001b[0m \u001b[1;36m5\u001b[0m\u001b[1;33m)\u001b[0m\u001b[1;33m)\u001b[0m\u001b[1;33m\u001b[0m\u001b[1;33m\u001b[0m\u001b[0m\n\u001b[0m\u001b[0;32m     16\u001b[0m     \u001b[0mprint\u001b[0m\u001b[1;33m(\u001b[0m\u001b[1;34m'爬取完成！'\u001b[0m\u001b[1;33m)\u001b[0m\u001b[1;33m\u001b[0m\u001b[1;33m\u001b[0m\u001b[0m\n\u001b[0;32m     17\u001b[0m \u001b[1;33m\u001b[0m\u001b[0m\n",
      "\u001b[1;31mKeyboardInterrupt\u001b[0m: "
     ]
    }
   ],
   "source": [
    "patch_spider_place('国庆旅游景点')"
   ]
  },
  {
   "cell_type": "markdown",
   "metadata": {},
   "source": [
    "# 现成数据分析"
   ]
  },
  {
   "cell_type": "code",
   "execution_count": 23,
   "metadata": {
    "ExecuteTime": {
     "end_time": "2020-02-09T11:17:11.333026Z",
     "start_time": "2020-02-09T11:17:11.327023Z"
    }
   },
   "outputs": [],
   "source": [
    "import re\n",
    "\n",
    "import numpy as np\n",
    "import pandas as pd\n",
    "from pyecharts import options as opts\n",
    "from pyecharts.charts import Bar"
   ]
  },
  {
   "cell_type": "code",
   "execution_count": 24,
   "metadata": {
    "ExecuteTime": {
     "end_time": "2020-02-09T11:19:42.097283Z",
     "start_time": "2020-02-09T11:19:41.843223Z"
    }
   },
   "outputs": [],
   "source": [
    "# 去哪儿热门景点excel文件保存路径\n",
    "PLACE_EXCEL_PATH = 'C:/Users/123/Desktop/qunar_place.xlsx'\n",
    "# 读取数据\n",
    "DF = pd.read_excel(PLACE_EXCEL_PATH)\n",
    "# 百度热力图模板\n",
    "HOT_MAP_TEMPLATE_PATH = 'C:/Users/123/Desktop/hot_map_template.html'\n",
    "# 生成的国庆旅游景点热力图\n",
    "PLACE_HOT_MAP_PATH = 'C:/Users/123/Desktop/place_hot_map.html'"
   ]
  },
  {
   "cell_type": "markdown",
   "metadata": {},
   "source": [
    "## 分析销量"
   ]
  },
  {
   "cell_type": "code",
   "execution_count": 26,
   "metadata": {
    "ExecuteTime": {
     "end_time": "2020-02-09T11:22:43.655494Z",
     "start_time": "2020-02-09T11:22:43.639491Z"
    }
   },
   "outputs": [],
   "source": [
    "def analysis_sale():\n",
    "    \"\"\"\n",
    "    分析销量\n",
    "    :return: \n",
    "    \"\"\"\n",
    "    # 引入全局数据\n",
    "    global DF\n",
    "    df = DF.copy()\n",
    "    # 1、生成一个名称和销量的透视表\n",
    "    place_sale = df.pivot_table(index='name', values='sale')\n",
    "    # 2、根据销量排序\n",
    "    place_sale.sort_values('sale', inplace=True, ascending=True)\n",
    "    print(place_sale)\n",
    "    # 3、生成柱状图\n",
    "    place_sale_bar = (\n",
    "        Bar()\n",
    "            .add_xaxis(place_sale.index.tolist()[-20:])\n",
    "            .add_yaxis(\"\", list(map(int, np.ravel(place_sale.values)))[-20:])\n",
    "            .reversal_axis()\n",
    "            .set_series_opts(label_opts=opts.LabelOpts(position=\"right\"))\n",
    "            .set_global_opts(\n",
    "            title_opts=opts.TitleOpts(title=\"国庆旅游热门景点门票销量TOP20\"),\n",
    "            yaxis_opts=opts.AxisOpts(name=\"景点名称\"),\n",
    "            xaxis_opts=opts.AxisOpts(name=\"销量\")\n",
    "        )\n",
    "    )\n",
    "    place_sale_bar.render('place-sale-bar.html')"
   ]
  },
  {
   "cell_type": "markdown",
   "metadata": {},
   "source": [
    "## 分析销售额"
   ]
  },
  {
   "cell_type": "code",
   "execution_count": 27,
   "metadata": {
    "ExecuteTime": {
     "end_time": "2020-02-09T11:23:12.811146Z",
     "start_time": "2020-02-09T11:23:12.794141Z"
    }
   },
   "outputs": [],
   "source": [
    "def analysis_amount():\n",
    "    \"\"\"\n",
    "    分析销售额\n",
    "    :return:\n",
    "    \"\"\"\n",
    "    # 引入全局数据\n",
    "    global DF\n",
    "    df = DF.copy()\n",
    "    amount_list = []\n",
    "    for index, row in df.iterrows():\n",
    "        try:\n",
    "            # 销售额\n",
    "            amount = row['price'] * row['sale']\n",
    "        except Exception:\n",
    "            amount = 0\n",
    "        amount_list.append(amount)\n",
    "    df['amount'] = amount_list\n",
    "    # 生成一个名称和销量的透视表\n",
    "    place_amount = df.pivot_table(index='name', values='amount')\n",
    "    # 根据销售额排序\n",
    "    place_amount.sort_values('amount', inplace=True, ascending=True)\n",
    "    print(place_amount)\n",
    "    # 生成柱状图\n",
    "    place_amount_bar = (\n",
    "        Bar()\n",
    "            .add_xaxis(place_amount.index.tolist()[-20:])\n",
    "            .add_yaxis(\"\", list(map(int, np.ravel(place_amount.values)))[-20:])\n",
    "            .reversal_axis()\n",
    "            .set_series_opts(label_opts=opts.LabelOpts(position=\"right\"))\n",
    "            .set_global_opts(\n",
    "            title_opts=opts.TitleOpts(title=\"国庆旅游热门景点门票销售额TOP20\"),\n",
    "            yaxis_opts=opts.AxisOpts(name=\"景点名称\"),\n",
    "            xaxis_opts=opts.AxisOpts(name=\"销售额\")\n",
    "        )\n",
    "    )\n",
    "    place_amount_bar.render('place-amount-bar.html')"
   ]
  },
  {
   "cell_type": "markdown",
   "metadata": {},
   "source": [
    "## 分析省份旅游景点数（待完成）"
   ]
  },
  {
   "cell_type": "code",
   "execution_count": 28,
   "metadata": {
    "ExecuteTime": {
     "end_time": "2020-02-09T11:24:26.352411Z",
     "start_time": "2020-02-09T11:24:26.333403Z"
    }
   },
   "outputs": [],
   "source": [
    "def analysis_province():\n",
    "    \"\"\"\n",
    "    此功能未完成\n",
    "    分析省份旅游景点数\n",
    "    :return:\n",
    "    \"\"\"\n",
    "    # 引入全局数据\n",
    "    global DF\n",
    "    df = DF.copy()\n",
    "    province_list = []\n",
    "    for item in df.districts:\n",
    "        province_match = re.search(r'^([\\u4e00-\\u9fa5])*', item)\n",
    "        province_list.append(province_match[0])\n",
    "    print(province_list)\n",
    "    df['province'] = province_list\n",
    "    # province_star = df.groupby(['province', 'star'])\n",
    "    province_star = df.groupby(['province', 'star']).agg({'star': 'count'})\n",
    "    province_star_dict = {}\n",
    "    star = ['3A', '4A', '5A', '无']\n",
    "    star_index = 0\n",
    "    prev = ''\n",
    "    for province_star_index in province_star.index:\n",
    "        province_index = province_star_index[1]\n",
    "        if prev != province_index:\n",
    "            star_index = 0\n",
    "            province_star_dict['province_index'] = []\n",
    "        while True:\n",
    "            if province_index == star[star_index]:\n",
    "                province_star.star[province_star_index]\n",
    "                star_index += 1\n",
    "        province_star_dict\n",
    "    print(province_star)"
   ]
  },
  {
   "cell_type": "markdown",
   "metadata": {},
   "source": [
    "## 调用百度地图api生成热力图"
   ]
  },
  {
   "cell_type": "code",
   "execution_count": 30,
   "metadata": {
    "ExecuteTime": {
     "end_time": "2020-02-09T11:27:07.076223Z",
     "start_time": "2020-02-09T11:27:07.058216Z"
    }
   },
   "outputs": [],
   "source": [
    "def analysis_point_sale():\n",
    "    \"\"\"\n",
    "    生成热力图，使用百度地图api\n",
    "    :return:\n",
    "    \"\"\"\n",
    "    # 引入全局数据\n",
    "    global DF\n",
    "    df = DF.copy()\n",
    "    point_sale_list = []\n",
    "    for index, row in df.iterrows():\n",
    "        # 构建坐标数据\n",
    "        lng, lat = row['point'].split(',')\n",
    "        count = row['sale']\n",
    "        point_sale = {'lng': float(lng), 'lat': float(lat), 'count': count}\n",
    "        point_sale_list.append(point_sale)\n",
    "    print(point_sale_list)\n",
    "    data = f'var points ={str(point_sale_list)};'\n",
    "    \n",
    "    ### 替换模板中的坐标数据\n",
    "    with open(HOT_MAP_TEMPLATE_PATH, 'r',\n",
    "              encoding=\"utf-8\") as f1, open(PLACE_HOT_MAP_PATH,\n",
    "                                            'w',\n",
    "                                            encoding=\"utf-8\") as f2:\n",
    "        s = f1.read()\n",
    "        # 替换数据\n",
    "        s2 = s.replace('%data%', data)\n",
    "        f2.write(s2)\n",
    "        f1.close()\n",
    "        f2.close()"
   ]
  },
  {
   "cell_type": "markdown",
   "metadata": {},
   "source": [
    "## 推荐排行榜"
   ]
  },
  {
   "cell_type": "code",
   "execution_count": 31,
   "metadata": {
    "ExecuteTime": {
     "end_time": "2020-02-09T11:28:13.810286Z",
     "start_time": "2020-02-09T11:28:13.790277Z"
    }
   },
   "outputs": [],
   "source": [
    "def analysis_recommend():\n",
    "    \"\"\"\n",
    "    瞎推荐排行榜，高评分、销量少、价格便宜\n",
    "    :return:\n",
    "    \"\"\"\n",
    "    # 引入全局数据\n",
    "    global DF\n",
    "    df = DF.copy()\n",
    "    recommend_list = []\n",
    "    for index, row in df.iterrows():\n",
    "        try:\n",
    "            # 瞎推荐系数算法\n",
    "            recommend = (row['score'] * 1000) / (row['price'] * row['sale'])\n",
    "        except ZeroDivisionError:\n",
    "            recommend = 0\n",
    "        recommend_list.append(recommend)\n",
    "    df['recommend'] = recommend_list\n",
    "    # 生成一个名称和瞎推荐系数的透视表\n",
    "    place_recommend = df.pivot_table(index='name', values='recommend')\n",
    "    # 根据瞎推荐系数排序\n",
    "    place_recommend.sort_values('recommend', inplace=True, ascending=True)\n",
    "    print(place_recommend)\n",
    "    # 生成柱状图\n",
    "    place_recommend_bar = (\n",
    "        Bar()\n",
    "            .add_xaxis(place_recommend.index.tolist()[-20:])\n",
    "            .add_yaxis(\"\", list(map(int, np.ravel(place_recommend.values)))[-20:])\n",
    "            .reversal_axis()\n",
    "            .set_series_opts(label_opts=opts.LabelOpts(position=\"right\"))\n",
    "            .set_global_opts(\n",
    "            title_opts=opts.TitleOpts(title=\"国庆旅游热门景点瞎推荐TOP20\"),\n",
    "            yaxis_opts=opts.AxisOpts(name=\"景点名称\"),\n",
    "            xaxis_opts=opts.AxisOpts(name=\"瞎推荐系数\")\n",
    "        )\n",
    "    )\n",
    "    place_recommend_bar.render('place-recommend-bar.html')\n"
   ]
  },
  {
   "cell_type": "code",
   "execution_count": 32,
   "metadata": {
    "ExecuteTime": {
     "end_time": "2020-02-09T11:28:26.656083Z",
     "start_time": "2020-02-09T11:28:25.892890Z"
    }
   },
   "outputs": [
    {
     "name": "stdout",
     "output_type": "stream",
     "text": [
      "                 sale\n",
      "name                 \n",
      "崇州国庆金秋田园灯会        0.0\n",
      "国庆跑马场             0.0\n",
      "伦敦圣保罗大教堂          2.0\n",
      "绕阳湖水利风景区          2.0\n",
      "金阁寺               2.0\n",
      "...               ...\n",
      "秦始皇陵博物院（兵马俑）  10800.0\n",
      "八达岭长城         11989.0\n",
      "故宫            22433.0\n",
      "横店影视城         27344.0\n",
      "上海迪士尼乐园       47606.0\n",
      "\n",
      "[527 rows x 1 columns]\n",
      "                  amount\n",
      "name                    \n",
      "国庆跑马场                0.0\n",
      "崇州国庆金秋田园灯会           0.0\n",
      "龙庆峡                  8.0\n",
      "金阁寺                  9.6\n",
      "清水寺                 20.0\n",
      "...                  ...\n",
      "故宫              785155.0\n",
      "秦始皇陵博物院（兵马俑）   1166400.0\n",
      "珠海长隆海洋王国       1863938.0\n",
      "横店影视城          2707056.0\n",
      "上海迪士尼乐园       18756764.0\n",
      "\n",
      "[527 rows x 1 columns]\n",
      "[{'lng': 121.667917, 'lat': 31.149712, 'count': 47606}, {'lng': 113.544272, 'lat': 22.104641, 'count': 5149}, {'lng': 115.984178, 'lat': 40.446359, 'count': 6127}, {'lng': 121.915647, 'lat': 30.917713, 'count': 5017}, {'lng': 116.404015, 'lat': 39.912729, 'count': 4073}, {'lng': 110.485702, 'lat': 29.122834, 'count': 5353}, {'lng': 118.704662, 'lat': 25.065398, 'count': 12}, {'lng': 117.267356, 'lat': 40.650895, 'count': 2322}, {'lng': 109.536751, 'lat': 18.296306, 'count': 1946}, {'lng': 128.184947, 'lat': 42.192921, 'count': 2427}, {'lng': 120.079209, 'lat': 31.419262, 'count': 1784}, {'lng': 109.749389, 'lat': 18.362882, 'count': 1290}, {'lng': 121.852044, 'lat': 40.90826, 'count': 820}, {'lng': 119.405391, 'lat': 26.251887, 'count': 1890}, {'lng': 109.748892, 'lat': 18.363273, 'count': 860}, {'lng': 119.744673, 'lat': 30.627035, 'count': 744}, {'lng': 119.768109, 'lat': 40.012102, 'count': 1354}, {'lng': 118.787634, 'lat': 32.015811, 'count': 1120}, {'lng': 116.396015, 'lat': 39.999061, 'count': 862}, {'lng': 109.542853, 'lat': 18.255356, 'count': 368}, {'lng': 113.553944, 'lat': 22.105303, 'count': 1014}, {'lng': 112.906583, 'lat': 24.158095, 'count': 2000}, {'lng': 116.404547, 'lat': 39.903732, 'count': 424}, {'lng': 118.100406, 'lat': 24.459148, 'count': 732}, {'lng': 109.710973, 'lat': 18.31892, 'count': 742}, {'lng': 128.077815, 'lat': 42.026217, 'count': 1224}, {'lng': 123.725089, 'lat': 41.160826, 'count': 614}, {'lng': 110.489286, 'lat': 29.117652, 'count': 804}, {'lng': 109.451034, 'lat': 18.292751, 'count': 360}, {'lng': 121.499109, 'lat': 31.231135, 'count': 600}, {'lng': 110.707728, 'lat': 29.401278, 'count': 542}, {'lng': 109.503109, 'lat': 18.330452, 'count': 288}, {'lng': 118.721425, 'lat': 31.811687, 'count': 438}, {'lng': 118.972, 'lat': 25.742, 'count': 180}, {'lng': 117.934532, 'lat': 27.643093, 'count': 1128}, {'lng': 118.104774, 'lat': 24.443313, 'count': 424}, {'lng': 117.985736, 'lat': 27.644453, 'count': 484}, {'lng': 117.310454, 'lat': 31.697388, 'count': 94}, {'lng': 116.885221, 'lat': 36.709359, 'count': 356}, {'lng': 116.404158, 'lat': 39.909201, 'count': 872}, {'lng': 120.277007, 'lat': 31.456184, 'count': 828}, {'lng': 117.27613, 'lat': 40.650819, 'count': 8}, {'lng': 118.187456, 'lat': 24.539893, 'count': 234}, {'lng': 113.62679, 'lat': 22.634301, 'count': 186}, {'lng': 116.40066, 'lat': 39.90536, 'count': 1514}, {'lng': 113.86935, 'lat': 38.725471, 'count': 288}, {'lng': 112.44405, 'lat': 37.41108, 'count': 466}, {'lng': 117.202575, 'lat': 39.124825, 'count': 84}, {'lng': 104.187816, 'lat': 30.441917, 'count': 104}, {'lng': 112.483486, 'lat': 23.084494, 'count': 1514}, {'lng': 109.265495, 'lat': 34.385836, 'count': 392}, {'lng': 119.405825, 'lat': 26.253012, 'count': 478}, {'lng': 110.438282, 'lat': 25.153169, 'count': 432}, {'lng': 110.475312, 'lat': 24.774335, 'count': 350}, {'lng': 120.70329, 'lat': 36.404835, 'count': 96}, {'lng': 117.206871, 'lat': 39.140884, 'count': 80}, {'lng': 117.201171, 'lat': 39.15063, 'count': 130}, {'lng': 117.444889, 'lat': 23.717796, 'count': 184}, {'lng': 109.95547, 'lat': 28.751383, 'count': 162}, {'lng': 119.224824, 'lat': 29.595154, 'count': 308}, {'lng': 119.020995, 'lat': 29.600519, 'count': 516}, {'lng': 110.493873, 'lat': 29.054255, 'count': 346}, {'lng': 123.749516, 'lat': 41.893604, 'count': 16}, {'lng': 100.211847, 'lat': 26.922349, 'count': 324}, {'lng': 115.887151, 'lat': 28.6865, 'count': 422}, {'lng': 119.729198068, 'lat': 25.4667447909, 'count': 110}, {'lng': 119.812638, 'lat': 25.506354, 'count': 84}, {'lng': 113.999367, 'lat': 28.915724, 'count': 272}, {'lng': 103.449416, 'lat': 29.569811, 'count': 80}, {'lng': 117.309443, 'lat': 31.707828, 'count': 148}, {'lng': 117.252319, 'lat': 36.158398, 'count': 112}, {'lng': 121.458014, 'lat': 37.525422, 'count': 214}, {'lng': 118.131359, 'lat': 24.436317, 'count': 32}, {'lng': 115.601074, 'lat': 39.640937, 'count': 122}, {'lng': 120.304822, 'lat': 29.183043, 'count': 172}, {'lng': 119.43235, 'lat': 25.690738, 'count': 216}, {'lng': 113.146296, 'lat': 23.849317, 'count': 400}, {'lng': 100.260971, 'lat': 27.104797, 'count': 234}, {'lng': 143.668968523873, 'lat': -38.7544153661495, 'count': 12}, {'lng': 113.96541, 'lat': 38.206852, 'count': 54}, {'lng': 115.634944, 'lat': 39.642981, 'count': 60}, {'lng': 116.316176, 'lat': 39.997741, 'count': 38}, {'lng': 112.730389, 'lat': 37.878542, 'count': 42}, {'lng': 117.955861, 'lat': 27.64399, 'count': 36}, {'lng': 119.430334, 'lat': 26.21189, 'count': 94}, {'lng': 113.227718, 'lat': 35.4026, 'count': 24}, {'lng': 117.241154, 'lat': 42.538855, 'count': 26}, {'lng': 113.561087, 'lat': 34.486188, 'count': 140}, {'lng': 117.325201, 'lat': 31.711221, 'count': 78}, {'lng': 100.265002, 'lat': 27.103086, 'count': 332}, {'lng': 115.236594, 'lat': 39.289527, 'count': 70}, {'lng': 125.237649, 'lat': 41.130914, 'count': 58}, {'lng': -0.119543000000021, 'lat': 51.503324, 'count': 38}, {'lng': 129.43432, 'lat': 42.809423, 'count': 100}, {'lng': 126.722573, 'lat': 45.955954, 'count': 100}, {'lng': 106.5897, 'lat': 29.54506, 'count': 8}, {'lng': 109.553059, 'lat': 24.392098, 'count': 106}, {'lng': 119.301187, 'lat': 26.113123, 'count': 62}, {'lng': 103.74818, 'lat': 31.085664, 'count': 26}, {'lng': 109.546165, 'lat': 24.390916, 'count': 154}, {'lng': 127.50739832476, 'lat': 45.509632182087, 'count': 10}, {'lng': 113.043333, 'lat': 23.503261, 'count': 228}, {'lng': 119.350722, 'lat': 40.102345, 'count': 114}, {'lng': 120.866203, 'lat': 32.047203, 'count': 80}, {'lng': 109.698204, 'lat': 18.332954, 'count': 240}, {'lng': 88.139294, 'lat': 43.894016, 'count': 72}, {'lng': 104.050611, 'lat': 30.606115, 'count': 10}, {'lng': 115.601201, 'lat': 39.640744, 'count': 20}, {'lng': 117.958803, 'lat': 27.656036, 'count': 102}, {'lng': 109.748051, 'lat': 18.360402, 'count': 254}, {'lng': 109.74786, 'lat': 18.36045, 'count': 150}, {'lng': 113.556867, 'lat': 34.487982, 'count': 62}, {'lng': 106.579295, 'lat': 29.580896, 'count': 230}, {'lng': 151.241912506521, 'lat': -33.8430216712914, 'count': 74}, {'lng': 119.320286, 'lat': 26.105052, 'count': 34}, {'lng': 139.810700803995, 'lat': 35.7100628453748, 'count': 82}, {'lng': 118.686854, 'lat': 25.772862, 'count': 82}, {'lng': 110.577842, 'lat': 29.351997, 'count': 234}, {'lng': 151.202211035276, 'lat': -33.8700138, 'count': 16}, {'lng': 122.025807, 'lat': 37.507714, 'count': 198}, {'lng': 119.268584, 'lat': 26.401299, 'count': 28}, {'lng': 112.351923, 'lat': 27.985351, 'count': 16}, {'lng': 119.399903, 'lat': 26.245595, 'count': 46}, {'lng': 117.039676, 'lat': 36.668445, 'count': 14}, {'lng': 119.215445, 'lat': 26.130259, 'count': 44}, {'lng': 113.600804, 'lat': 28.416341, 'count': 108}, {'lng': 119.793127, 'lat': 25.467501, 'count': 54}, {'lng': 117.978881, 'lat': 27.648652, 'count': 12}, {'lng': 118.924528, 'lat': 26.399017, 'count': 110}, {'lng': 119.307379, 'lat': 26.066784, 'count': 76}, {'lng': 117.028281, 'lat': 36.667555, 'count': 72}, {'lng': 107.195225, 'lat': 29.046892, 'count': 88}, {'lng': 118.342849, 'lat': 31.629818, 'count': 14}, {'lng': 107.109485, 'lat': 24.305278, 'count': 52}, {'lng': 110.54340512, 'lat': 29.2394061761, 'count': 30}, {'lng': 110.479074, 'lat': 29.071452, 'count': 66}, {'lng': 120.484948, 'lat': 41.556159, 'count': 28}, {'lng': 127.094599, 'lat': 43.656198, 'count': 4}, {'lng': 145.203842910739, 'lat': -38.489864056211, 'count': 22}, {'lng': 151.201508, 'lat': -33.869791, 'count': 6}, {'lng': 151.20876, 'lat': -33.870451, 'count': 20}, {'lng': 116.863701, 'lat': 25.12184, 'count': 54}, {'lng': 118.394036, 'lat': 39.18869, 'count': 8}, {'lng': 120.092088, 'lat': 30.957888, 'count': 30}, {'lng': 110.487262, 'lat': 29.048478, 'count': 58}, {'lng': 120.271389, 'lat': 31.432554, 'count': 118}, {'lng': 117.284212, 'lat': 42.490725, 'count': 18}, {'lng': 120.276152, 'lat': 29.125402, 'count': 8}, {'lng': 120.271389, 'lat': 31.432554, 'count': 82}, {'lng': 109.511625, 'lat': 18.314062, 'count': 98}, {'lng': 109.490639, 'lat': 18.340507, 'count': 50}, {'lng': 112.49857424029, 'lat': 27.910913378179, 'count': 152}, {'lng': 125.344623, 'lat': 41.168389, 'count': 74}, {'lng': 109.677516, 'lat': 36.321241, 'count': 38}, {'lng': 119.410188, 'lat': 26.252166, 'count': 44}, {'lng': 121.122449, 'lat': 28.38293, 'count': 10}, {'lng': 0.0, 'lat': 0.0, 'count': 88}, {'lng': 135.785055555555, 'lat': 34.9948888888889, 'count': 4}, {'lng': 120.336113, 'lat': 29.185583, 'count': 64}, {'lng': 135.843, 'lat': 34.6850555555556, 'count': 8}, {'lng': 119.835148, 'lat': 25.589205, 'count': 28}, {'lng': 117.12109733113, 'lat': 36.248238489199, 'count': 18}, {'lng': 109.746498, 'lat': 18.349891, 'count': 4}, {'lng': 110.495524807, 'lat': 29.3586909615, 'count': 4}, {'lng': 117.170492, 'lat': 40.697861, 'count': 26}, {'lng': 135.8398158, 'lat': 34.6889851, 'count': 4}, {'lng': 120.271389, 'lat': 31.432554, 'count': 98}, {'lng': 121.805977, 'lat': 29.184745, 'count': 4}, {'lng': 117.165058, 'lat': 42.551154, 'count': 8}, {'lng': 120.110502, 'lat': 35.913103, 'count': 12}, {'lng': 117.280627, 'lat': 40.659778, 'count': 52}, {'lng': 119.794321, 'lat': 25.510142, 'count': 22}, {'lng': 120.833692, 'lat': 40.660097, 'count': 76}, {'lng': 120.10689, 'lat': 35.911506, 'count': 70}, {'lng': 151.241928, 'lat': -33.857506, 'count': 62}, {'lng': 117.281931, 'lat': 40.659378, 'count': 48}, {'lng': 117.750551, 'lat': 39.052873, 'count': 79}, {'lng': 117.239879, 'lat': 31.808743, 'count': 53}, {'lng': 117.137797, 'lat': 36.200222, 'count': 52}, {'lng': 2.15356380000003, 'lat': 41.4144423, 'count': 94}, {'lng': 121.357731, 'lat': 31.163619, 'count': 95}, {'lng': 128.12115, 'lat': 42.444814, 'count': 92}, {'lng': 119.638315, 'lat': 26.202311, 'count': 50}, {'lng': 110.066536, 'lat': 25.247309, 'count': 8}, {'lng': 115.591692, 'lat': 39.642714, 'count': 20}, {'lng': 115.675406, 'lat': 39.625342, 'count': 74}, {'lng': 117.207256, 'lat': 39.139199, 'count': 4}, {'lng': 121.074048, 'lat': 28.378688, 'count': 43}, {'lng': -0.0759489647239207, 'lat': 51.5081121913229, 'count': 4}, {'lng': -0.126956599999971, 'lat': 51.5194133, 'count': 12}, {'lng': 119.752414, 'lat': 29.855637, 'count': 20}, {'lng': 112.845352, 'lat': 23.792878, 'count': 28}, {'lng': 112.49929183336, 'lat': 27.91367277469, 'count': 12}, {'lng': 118.760314, 'lat': 39.746725, 'count': 66}, {'lng': 117.172195, 'lat': 40.689651, 'count': 42}, {'lng': 118.601174, 'lat': 25.806573, 'count': 33}, {'lng': 117.948778, 'lat': 41.015751, 'count': 72}, {'lng': 117.501168, 'lat': 42.326075, 'count': 4}, {'lng': 115.273256, 'lat': 39.404772, 'count': 12}, {'lng': 113.210909, 'lat': 22.646067, 'count': 4}, {'lng': 151.2152967, 'lat': -33.8567844, 'count': 89}, {'lng': 118.803931, 'lat': 32.133416, 'count': 12}, {'lng': 116.28716, 'lat': 39.873193, 'count': 2}, {'lng': 109.951515, 'lat': 39.85019, 'count': 14}, {'lng': 122.245769, 'lat': 40.243109, 'count': 82}, {'lng': 115.440756, 'lat': 39.725681, 'count': 91}, {'lng': 122.128667, 'lat': 40.263717, 'count': 89}, {'lng': 116.447897, 'lat': 40.247723, 'count': 4}, {'lng': 106.582631, 'lat': 29.42761, 'count': 48}, {'lng': 127.810294, 'lat': 42.52712, 'count': 16}, {'lng': 120.261251, 'lat': 29.112743, 'count': 78}, {'lng': 107.125408, 'lat': 24.233085, 'count': 20}, {'lng': 119.351502, 'lat': 26.22009, 'count': 4}, {'lng': 115.552856, 'lat': 39.665703, 'count': 10}, {'lng': 112.333965, 'lat': 37.363621, 'count': 12}, {'lng': 103.268273, 'lat': 30.57008, 'count': 2}, {'lng': 117.038713, 'lat': 36.670288, 'count': 18}, {'lng': 117.187836, 'lat': 39.147399, 'count': 14}, {'lng': 122.353295, 'lat': 39.165344, 'count': 61}, {'lng': 117.166942, 'lat': 39.10528, 'count': 60}, {'lng': 122.254529, 'lat': 40.249698, 'count': 62}, {'lng': 145.353657, 'lat': -37.908382, 'count': 16}, {'lng': 120.004452, 'lat': 31.831024, 'count': 63}, {'lng': 117.029527, 'lat': 36.675147, 'count': 8}, {'lng': 135.7726717, 'lat': 34.9671402, 'count': 22}, {'lng': 120.276955, 'lat': 29.117966, 'count': 47}, {'lng': 146.741207, 'lat': -17.711625, 'count': 30}, {'lng': 120.262078, 'lat': 29.114675, 'count': 10}, {'lng': 135.666777777778, 'lat': 35.0094722222222, 'count': 18}, {'lng': 119.566624, 'lat': 29.896333, 'count': 38}, {'lng': 139.7760447, 'lat': 35.6307374, 'count': 4}, {'lng': 119.77883, 'lat': 25.416332, 'count': 6}, {'lng': 106.642868, 'lat': 33.154897, 'count': 61}, {'lng': 119.588342, 'lat': 40.160091, 'count': 4}, {'lng': 117.442785, 'lat': 40.296203, 'count': 88}, {'lng': 135.500377535276, 'lat': 34.6750560970867, 'count': 4}, {'lng': 135.493925, 'lat': 34.6691616, 'count': 31}, {'lng': 124.81908, 'lat': 40.416014, 'count': 4}, {'lng': 116.604649, 'lat': 39.930941, 'count': 6}, {'lng': 106.57575, 'lat': 29.595058, 'count': 10}, {'lng': 107.342292, 'lat': 24.147137, 'count': 8}, {'lng': 117.630166, 'lat': 38.853411, 'count': 33}, {'lng': 135.2282052, 'lat': 34.4320024, 'count': 88}, {'lng': -0.0983506000000034, 'lat': 51.5138453, 'count': 2}, {'lng': 118.442196, 'lat': 29.87174, 'count': 80}, {'lng': 0.0, 'lat': 0.0, 'count': 4}, {'lng': 135.19551, 'lat': 34.690083, 'count': 83}, {'lng': 135.748693086272, 'lat': 35.0142326459435, 'count': 8}, {'lng': 121.060234, 'lat': 28.354889, 'count': 6}, {'lng': 117.031725, 'lat': 36.675277, 'count': 63}, {'lng': 117.031835, 'lat': 36.677426, 'count': 75}, {'lng': 117.040064, 'lat': 36.668997, 'count': 4}, {'lng': 115.591567, 'lat': 39.643843, 'count': 4}, {'lng': 126.273336, 'lat': 41.208273, 'count': 98}, {'lng': 2.17619909999996, 'lat': 41.383962, 'count': 39}, {'lng': 128.077815, 'lat': 42.026219, 'count': 39}, {'lng': 135.24679, 'lat': 34.797924, 'count': 31}, {'lng': 119.318898, 'lat': 26.103528, 'count': 75}, {'lng': 107.105552, 'lat': 22.649759, 'count': 35}, {'lng': 110.058086, 'lat': 34.532881, 'count': 4}, {'lng': 2.17776890000005, 'lat': 41.3758075, 'count': 80}, {'lng': 141.3477324, 'lat': 43.0599007, 'count': 79}, {'lng': -0.128067992627621, 'lat': 51.5080388192036, 'count': 66}, {'lng': -0.0753561647238712, 'lat': 51.5054557739321, 'count': 36}, {'lng': 117.115675, 'lat': 36.261998, 'count': 56}, {'lng': 117.022995, 'lat': 36.667925, 'count': 66}, {'lng': 117.284868, 'lat': 40.659311, 'count': 99}, {'lng': 54.9358612, 'lat': 24.916356, 'count': 76}, {'lng': 135.7292431, 'lat': 35.03937, 'count': 2}, {'lng': 118.444693, 'lat': 29.876102, 'count': 97}, {'lng': 126.445548, 'lat': 42.374673, 'count': 36}, {'lng': 117.201471, 'lat': 42.537207, 'count': 98}, {'lng': 151.2009, 'lat': -33.8748802783652, 'count': 51}, {'lng': 117.104275, 'lat': 39.144013, 'count': 90}, {'lng': 143.668968523873, 'lat': -38.7543986326771, 'count': 30}, {'lng': 141.340013, 'lat': 43.0779575, 'count': 87}, {'lng': 151.2766845, 'lat': -33.8914755, 'count': 46}, {'lng': 55.0060662, 'lat': 24.9209673, 'count': 67}, {'lng': 119.83416, 'lat': 25.551253, 'count': 86}, {'lng': 129.580226, 'lat': 42.806283, 'count': 63}, {'lng': -0.128498, 'lat': 51.499446, 'count': 88}, {'lng': 106.575554, 'lat': 29.428145, 'count': 61}, {'lng': 141.148666666667, 'lat': 42.4976388888889, 'count': 6}, {'lng': 121.986253, 'lat': 41.273981, 'count': 2}, {'lng': 151.216569632292, 'lat': -33.8641849762996, 'count': 64}, {'lng': 135.263722222222, 'lat': 34.7778888888889, 'count': 61}, {'lng': 117.691042, 'lat': 35.840366, 'count': 71}, {'lng': 122.00666, 'lat': 42.866862, 'count': 95}, {'lng': 115.978321, 'lat': 38.952417, 'count': 91}, {'lng': 135.831496, 'lat': 35.116849, 'count': 6}, {'lng': 151.2107871, 'lat': -33.8523063, 'count': 73}, {'lng': 135.848385483027, 'lat': 34.68138031254, 'count': 59}, {'lng': 122.092095, 'lat': 40.225911, 'count': 47}, {'lng': 143.001373, 'lat': -38.610432, 'count': 6}, {'lng': 126.2825, 'lat': 41.168044, 'count': 55}, {'lng': 2.18985892402929, 'lat': 41.3863324603993, 'count': 43}, {'lng': 135.67375, 'lat': 35.0156666666667, 'count': 35}, {'lng': 135.735111111111, 'lat': 35.0314166666667, 'count': 58}, {'lng': 151.211273193359, 'lat': -33.8731368400047, 'count': 86}, {'lng': 114.845937, 'lat': 39.010201, 'count': 43}, {'lng': 142.427995, 'lat': 43.418149, 'count': 88}, {'lng': 103.714815, 'lat': 30.712283, 'count': 0}, {'lng': 140.9699651, 'lat': 43.1676311218584, 'count': 88}, {'lng': 128.12868580389, 'lat': 42.435379305378, 'count': 89}, {'lng': 151.266460478306, 'lat': -33.8732733633383, 'count': 69}, {'lng': 135.86696962507, 'lat': 34.3604331822226, 'count': 73}, {'lng': 135.775475, 'lat': 35.001812, 'count': 37}, {'lng': 139.733833, 'lat': 35.662029, 'count': 36}, {'lng': 139.7631443, 'lat': 35.6365639, 'count': 47}, {'lng': 147.699192181229, 'lat': -18.2870671744257, 'count': 99}, {'lng': 151.1925959, 'lat': -33.873102, 'count': 46}, {'lng': -0.213193, 'lat': 51.434006, 'count': 33}, {'lng': 2.17158530000006, 'lat': 41.3817399, 'count': 31}, {'lng': 122.448527, 'lat': 30.726781, 'count': 96}, {'lng': 126.238499, 'lat': 41.165564, 'count': 89}, {'lng': -0.126138, 'lat': 51.501057, 'count': 94}, {'lng': 111.258552, 'lat': 26.138158, 'count': 2}, {'lng': 119.787429, 'lat': 25.451311, 'count': 89}, {'lng': 135.705785, 'lat': 35.024104, 'count': 49}, {'lng': 113.13802, 'lat': 28.812816, 'count': 65}, {'lng': 119.86898, 'lat': 30.605073, 'count': 6}, {'lng': 135.4386783, 'lat': 35.0984358, 'count': 52}, {'lng': 119.402192, 'lat': 39.777169, 'count': 42}, {'lng': 117.136937, 'lat': 42.662754, 'count': 92}, {'lng': 118.442477, 'lat': 29.871149, 'count': 31}, {'lng': 41.609951, 'lat': 2.343767, 'count': 83}, {'lng': 117.028807, 'lat': 36.672411, 'count': 4}, {'lng': 0.0, 'lat': 0.0, 'count': 79}, {'lng': 117.222564, 'lat': 42.536311, 'count': 63}, {'lng': 118.08843, 'lat': 24.46063, 'count': 43}, {'lng': 121.773912, 'lat': 42.736378, 'count': 78}, {'lng': 145.9886342, 'lat': -16.6575167, 'count': 62}, {'lng': 112.234511, 'lat': 22.594517, 'count': 37}, {'lng': 117.111901, 'lat': 36.263423, 'count': 56}, {'lng': 117.136759, 'lat': 36.207423, 'count': 47}, {'lng': 117.283538, 'lat': 40.659002, 'count': 68}, {'lng': 117.119388, 'lat': 36.25236, 'count': 59}, {'lng': 141.006883, 'lat': 43.192118, 'count': 61}, {'lng': 151.22284913063, 'lat': -33.875531108163, 'count': 73}, {'lng': 122.300342, 'lat': 29.950269, 'count': 97}, {'lng': 128.271663, 'lat': 41.674067, 'count': 57}, {'lng': 114.43083, 'lat': 36.514686, 'count': 0}, {'lng': 144.9619114021, 'lat': -37.8429355385701, 'count': 97}, {'lng': 144.971650511027, 'lat': -37.8046896192264, 'count': 74}, {'lng': 151.216944, 'lat': -33.863889, 'count': 89}, {'lng': 0.0, 'lat': 0.0, 'count': 34}, {'lng': 140.83177, 'lat': 42.538143, 'count': 82}, {'lng': 117.030133, 'lat': 36.678095, 'count': 62}, {'lng': 141.314236, 'lat': 43.054531, 'count': 47}, {'lng': -0.005798682, 'lat': 51.483207012, 'count': 89}, {'lng': -0.086594, 'lat': 51.509872, 'count': 47}, {'lng': 135.203872, 'lat': 34.676774, 'count': 51}, {'lng': 135.19551, 'lat': 34.690083, 'count': 82}, {'lng': 0.0, 'lat': 0.0, 'count': 53}, {'lng': 0.0, 'lat': 0.0, 'count': 76}, {'lng': 0.0, 'lat': 0.0, 'count': 71}, {'lng': 140.842467, 'lat': 42.633516, 'count': 51}, {'lng': 151.209457, 'lat': -33.86264, 'count': 45}, {'lng': 141.005694, 'lat': 43.2317123, 'count': 77}, {'lng': 135.263722222222, 'lat': 34.7778888888889, 'count': 74}, {'lng': 122.00666, 'lat': 42.866862, 'count': 62}, {'lng': 117.691042, 'lat': 35.840366, 'count': 87}, {'lng': 115.978321, 'lat': 38.952417, 'count': 34}, {'lng': 135.831496, 'lat': 35.116849, 'count': 4}, {'lng': 118.10388, 'lat': 24.526026, 'count': 6}, {'lng': 151.2107871, 'lat': -33.8523063, 'count': 52}, {'lng': 135.848385483027, 'lat': 34.68138031254, 'count': 41}, {'lng': 122.092095, 'lat': 40.225911, 'count': 79}, {'lng': 126.2825, 'lat': 41.168044, 'count': 44}, {'lng': 143.001373, 'lat': -38.610432, 'count': 6}, {'lng': 135.67375, 'lat': 35.0156666666667, 'count': 83}, {'lng': 135.735111111111, 'lat': 35.0314166666667, 'count': 56}, {'lng': 151.211273193359, 'lat': -33.8731368400047, 'count': 61}, {'lng': 114.845937, 'lat': 39.010201, 'count': 98}, {'lng': 142.427995, 'lat': 43.418149, 'count': 60}, {'lng': 103.714815, 'lat': 30.712283, 'count': 0}, {'lng': 140.9699651, 'lat': 43.1676311218584, 'count': 69}, {'lng': 128.12868580389, 'lat': 42.435379305378, 'count': 60}, {'lng': 151.266460478306, 'lat': -33.8732733633383, 'count': 44}, {'lng': 106.501752, 'lat': 30.180031, 'count': 10}, {'lng': 135.86696962507, 'lat': 34.3604331822226, 'count': 89}, {'lng': 139.733833, 'lat': 35.662029, 'count': 53}, {'lng': 139.7631443, 'lat': 35.6365639, 'count': 86}, {'lng': 147.699192181229, 'lat': -18.2870671744257, 'count': 59}, {'lng': 2.18985892402929, 'lat': 41.3863324603993, 'count': 83}, {'lng': 144.9619114021, 'lat': -37.8429355385701, 'count': 64}, {'lng': 151.1925959, 'lat': -33.873102, 'count': 81}, {'lng': -0.213193, 'lat': 51.434006, 'count': 90}, {'lng': 2.17158530000006, 'lat': 41.3817399, 'count': 40}, {'lng': 109.223096, 'lat': 34.370575, 'count': 928}, {'lng': 116.001343, 'lat': 40.359586, 'count': 338}, {'lng': 116.312665, 'lat': 39.924769, 'count': 174}, {'lng': 115.759374, 'lat': 39.664533, 'count': 594}, {'lng': 117.172205, 'lat': 40.689651, 'count': 190}, {'lng': 117.383484, 'lat': 40.137052, 'count': 93}, {'lng': 114.610406, 'lat': 39.095608, 'count': 20}, {'lng': 127.95858553643, 'lat': 41.528033146323, 'count': 8}, {'lng': 112.730209, 'lat': 28.51036, 'count': 65}, {'lng': 128.307566, 'lat': 42.860855, 'count': 71}, {'lng': 123.633842, 'lat': 39.883769, 'count': 6}, {'lng': 114.610408, 'lat': 39.095609, 'count': 56}, {'lng': 104.152603, 'lat': 30.738951, 'count': 10193}, {'lng': 109.659829, 'lat': 18.25797, 'count': 5937}, {'lng': 116.342645, 'lat': 39.50183, 'count': 3814}, {'lng': 120.449481, 'lat': 36.07508, 'count': 3809}, {'lng': 116.500803, 'lat': 39.873539, 'count': 3002}, {'lng': 118.803688, 'lat': 32.049877, 'count': 3440}, {'lng': 100.799558, 'lat': 27.668458, 'count': 2496}, {'lng': 104.080914, 'lat': 30.50059, 'count': 3509}, {'lng': 117.254089, 'lat': 40.266748, 'count': 3961}, {'lng': 109.654555, 'lat': 18.236153, 'count': 2678}, {'lng': 117.668338, 'lat': 39.01374, 'count': 2409}, {'lng': 116.34331, 'lat': 39.947983, 'count': 2462}, {'lng': 110.701465, 'lat': 29.432415, 'count': 1366}, {'lng': 104.040108, 'lat': 30.729181, 'count': 1454}, {'lng': 109.379826, 'lat': 18.239896, 'count': 1098}, {'lng': 110.455575, 'lat': 36.151234, 'count': 1058}, {'lng': 121.403563, 'lat': 31.230472, 'count': 1254}, {'lng': 113.770364, 'lat': 23.586481, 'count': 1104}, {'lng': 109.607088, 'lat': 27.953295, 'count': 424}, {'lng': 110.458711, 'lat': 36.136265, 'count': 930}, {'lng': 116.2937, 'lat': 39.816749, 'count': 538}, {'lng': 110.62123, 'lat': 29.368648, 'count': 798}, {'lng': 111.881551, 'lat': 36.902417, 'count': 908}, {'lng': 117.041792, 'lat': 36.644733, 'count': 902}, {'lng': 119.54357, 'lat': 39.827324, 'count': 1052}, {'lng': 118.113008, 'lat': 24.435089, 'count': 1006}, {'lng': 116.347505, 'lat': 39.95032, 'count': 758}, {'lng': 116.405132, 'lat': 40.012256, 'count': 514}, {'lng': 113.058971, 'lat': 28.24039, 'count': 382}, {'lng': 104.69184, 'lat': 31.92708, 'count': 862}, {'lng': 117.815028, 'lat': 39.162205, 'count': 448}, {'lng': 121.061605, 'lat': 31.116917, 'count': 244}, {'lng': 117.193805, 'lat': 39.160233, 'count': 70}, {'lng': 109.531847, 'lat': 18.228007, 'count': 218}, {'lng': 120.234402, 'lat': 30.149455, 'count': 616}, {'lng': 115.606468, 'lat': 39.644162, 'count': 284}, {'lng': 103.803879, 'lat': 30.395234, 'count': 652}, {'lng': 124.078062, 'lat': 40.403008, 'count': 130}, {'lng': 123.74814, 'lat': 41.873276, 'count': 344}, {'lng': 117.947214, 'lat': 24.564469, 'count': 82}, {'lng': 118.748954, 'lat': 32.040883, 'count': 128}, {'lng': 117.029659, 'lat': 36.679466, 'count': 50}, {'lng': 117.550909, 'lat': 40.203451, 'count': 266}, {'lng': 118.75312, 'lat': 32.099764, 'count': 334}, {'lng': 119.544946, 'lat': 29.89202, 'count': 202}, {'lng': 117.219223, 'lat': 35.518329, 'count': 778}, {'lng': 117.8387228365, 'lat': 39.0188011112, 'count': 80}, {'lng': 113.376424, 'lat': 40.068704, 'count': 240}, {'lng': 119.025164, 'lat': 25.827617, 'count': 176}, {'lng': 116.159617, 'lat': 39.812013, 'count': 212}, {'lng': 115.18275, 'lat': 39.149357, 'count': 366}, {'lng': 117.444724, 'lat': 38.933377, 'count': 56}, {'lng': 112.561202, 'lat': 23.165899, 'count': 744}, {'lng': 118.867154, 'lat': 39.122833, 'count': 118}, {'lng': 106.658248, 'lat': 23.029389, 'count': 208}, {'lng': 112.644994, 'lat': 37.549626, 'count': 540}, {'lng': 116.008255, 'lat': 40.556509, 'count': 4}, {'lng': 119.306168, 'lat': 39.632046, 'count': 76}, {'lng': 118.54869, 'lat': 26.152314, 'count': 176}, {'lng': 100.276078, 'lat': 26.766885, 'count': 44}, {'lng': 115.530775, 'lat': 39.674023, 'count': 38}, {'lng': 117.541012, 'lat': 23.742962, 'count': 492}, {'lng': 120.718666, 'lat': 40.629181, 'count': 68}, {'lng': 115.996969, 'lat': 23.581571, 'count': 38}, {'lng': 115.24968, 'lat': 39.293775, 'count': 22}, {'lng': 119.538171, 'lat': 29.930643, 'count': 160}, {'lng': 110.470633, 'lat': 29.131172, 'count': 80}, {'lng': 124.405801, 'lat': 40.126081, 'count': 136}, {'lng': 116.044362, 'lat': 40.344683, 'count': 24}, {'lng': 116.766332, 'lat': 23.352037, 'count': 52}, {'lng': 118.046452, 'lat': 29.819613, 'count': 152}, {'lng': 117.284641, 'lat': 40.660322, 'count': 338}, {'lng': 117.958959, 'lat': 41.022896, 'count': 90}, {'lng': 112.463855, 'lat': 23.072985, 'count': 50}, {'lng': 112.49848, 'lat': 27.910957, 'count': 118}, {'lng': 115.352505, 'lat': 39.355767, 'count': 92}, {'lng': 107.017951, 'lat': 24.309773, 'count': 36}, {'lng': 118.625539, 'lat': 29.868306, 'count': 96}, {'lng': 122.191552, 'lat': 42.828173, 'count': 14}, {'lng': 104.123459, 'lat': 35.832808, 'count': 50}, {'lng': 103.268238, 'lat': 30.569815, 'count': 10}, {'lng': 128.737748, 'lat': 44.090202, 'count': 58}, {'lng': 108.634832, 'lat': 39.817608, 'count': 78}, {'lng': 117.101026, 'lat': 39.144691, 'count': 10}, {'lng': 128.141333, 'lat': 42.611172, 'count': 62}, {'lng': 124.327172, 'lat': 45.226633, 'count': 95}, {'lng': 120.75361, 'lat': 40.575056, 'count': 35}, {'lng': 122.116037, 'lat': 40.241856, 'count': 57}, {'lng': 124.370673, 'lat': 40.124071, 'count': 50}, {'lng': 109.266029, 'lat': 34.386024, 'count': 10800}, {'lng': 116.403347, 'lat': 39.922148, 'count': 22433}, {'lng': 116.03293, 'lat': 40.369733, 'count': 11989}, {'lng': 110.482089, 'lat': 29.072408, 'count': 4264}, {'lng': 116.276887, 'lat': 39.999497, 'count': 6109}, {'lng': 117.747047, 'lat': 34.563186, 'count': 10337}, {'lng': 110.088712, 'lat': 34.532247, 'count': 4146}, {'lng': 117.995474, 'lat': 30.010385, 'count': 6913}, {'lng': 118.193977, 'lat': 30.097967, 'count': 3837}, {'lng': 109.770938, 'lat': 18.319925, 'count': 4260}, {'lng': 121.728112, 'lat': 31.059636, 'count': 4684}, {'lng': 118.003549, 'lat': 29.91024, 'count': 5674}, {'lng': 110.459244, 'lat': 29.336908, 'count': 2955}, {'lng': 109.218903, 'lat': 34.369881, 'count': 2975}, {'lng': 116.404487, 'lat': 40.000484, 'count': 3183}, {'lng': 121.50626, 'lat': 31.245369, 'count': 3233}, {'lng': 116.57035, 'lat': 40.437612, 'count': 3249}, {'lng': 112.190081, 'lat': 37.21041, 'count': 1464}, {'lng': 117.992764, 'lat': 27.631146, 'count': 2147}, {'lng': 88.139294, 'lat': 43.894016, 'count': 2777}, {'lng': 120.007837, 'lat': 31.83031, 'count': 1814}, {'lng': 119.027854, 'lat': 29.605088, 'count': 1938}, {'lng': 110.438282, 'lat': 25.153169, 'count': 1366}, {'lng': 100.270093, 'lat': 27.034011, 'count': 1188}, {'lng': 120.102895, 'lat': 31.436399, 'count': 1762}, {'lng': 121.54785, 'lat': 31.224219, 'count': 1768}, {'lng': 120.345446, 'lat': 29.162213, 'count': 27344}, {'lng': 114.689055, 'lat': 39.236145, 'count': 1942}, {'lng': 113.433752, 'lat': 35.426392, 'count': 1172}, {'lng': 113.993478, 'lat': 22.538498, 'count': 2103}, {'lng': 118.860335, 'lat': 32.063934, 'count': 988}, {'lng': 117.02264, 'lat': 36.667808, 'count': 936}, {'lng': 117.12107, 'lat': 36.247343, 'count': 642}, {'lng': 128.079743, 'lat': 42.025855, 'count': 476}, {'lng': 118.795398, 'lat': 32.026977, 'count': 538}, {'lng': 110.206451, 'lat': 18.582197, 'count': 806}, {'lng': 113.294206, 'lat': 22.883542, 'count': 1086}, {'lng': 122.012502, 'lat': 39.091863, 'count': 398}, {'lng': 113.596375, 'lat': 38.984397, 'count': 812}, {'lng': 114.29107, 'lat': 31.183857, 'count': 510}, {'lng': 109.677278, 'lat': 18.466556, 'count': 376}, {'lng': 109.673664, 'lat': 18.456698, 'count': 572}, {'lng': 106.73464, 'lat': 22.858947, 'count': 544}, {'lng': 117.940068, 'lat': 41.002781, 'count': 644}, {'lng': 117.286958, 'lat': 40.100119, 'count': 474}, {'lng': 110.305678, 'lat': 25.289462, 'count': 516}, {'lng': 113.745153, 'lat': 25.0304, 'count': 532}, {'lng': 113.990656, 'lat': 22.540551, 'count': 492}, {'lng': 100.251243, 'lat': 27.131616, 'count': 388}, {'lng': 117.861924, 'lat': 29.247904, 'count': 160}, {'lng': 115.391843, 'lat': 39.674643, 'count': 208}, {'lng': 117.198268, 'lat': 39.149537, 'count': 338}, {'lng': 120.32228, 'lat': 29.138262, 'count': 418}, {'lng': 120.324056, 'lat': 29.144327, 'count': 224}, {'lng': 107.207362, 'lat': 29.104603, 'count': 270}, {'lng': 120.317836, 'lat': 29.146622, 'count': 382}, {'lng': 111.681287, 'lat': 36.275181, 'count': 378}, {'lng': 110.682101, 'lat': 25.588829, 'count': 38}, {'lng': 120.309737, 'lat': 29.176594, 'count': 214}, {'lng': 119.323175, 'lat': 31.786851, 'count': 390}, {'lng': 115.392307, 'lat': 39.672927, 'count': 190}, {'lng': 115.973929, 'lat': 38.947949, 'count': 204}, {'lng': 118.442455, 'lat': 29.871875, 'count': 134}, {'lng': 120.107115, 'lat': 31.433007, 'count': 200}, {'lng': 115.983665, 'lat': 38.951428, 'count': 28}]\n"
     ]
    },
    {
     "name": "stdout",
     "output_type": "stream",
     "text": [
      "                recommend\n",
      "name                     \n",
      "Vlasoff Cay沙岛    0.000000\n",
      "武夷宫              0.000000\n",
      "横店梦幻谷            0.000000\n",
      "横店明清宫苑           0.000000\n",
      "梦巴马大型实景演出        0.000000\n",
      "...                   ...\n",
      "金鞭溪            110.000000\n",
      "二条城            125.000000\n",
      "清水寺            250.000000\n",
      "龙庆峡            437.500000\n",
      "金阁寺            520.833333\n",
      "\n",
      "[527 rows x 1 columns]\n"
     ]
    }
   ],
   "source": [
    "if __name__ == '__main__':\n",
    "    analysis_sale()\n",
    "    analysis_amount()\n",
    "    # analysis_province()\n",
    "    analysis_point_sale()\n",
    "    analysis_recommend()"
   ]
  },
  {
   "cell_type": "code",
   "execution_count": null,
   "metadata": {},
   "outputs": [],
   "source": []
  }
 ],
 "metadata": {
  "kernelspec": {
   "display_name": "Python 3.6.8 64-bit",
   "language": "python",
   "name": "python36864bit1509dad7ed2f4e16b89368ecdc9f1af8"
  },
  "language_info": {
   "codemirror_mode": {
    "name": "ipython",
    "version": 3
   },
   "file_extension": ".py",
   "mimetype": "text/x-python",
   "name": "python",
   "nbconvert_exporter": "python",
   "pygments_lexer": "ipython3",
   "version": "3.6.8"
  },
  "toc": {
   "base_numbering": 1,
   "nav_menu": {},
   "number_sections": true,
   "sideBar": true,
   "skip_h1_title": false,
   "title_cell": "Table of Contents",
   "title_sidebar": "Contents",
   "toc_cell": false,
   "toc_position": {},
   "toc_section_display": true,
   "toc_window_display": false
  }
 },
 "nbformat": 4,
 "nbformat_minor": 2
}
