{
 "cells": [
  {
   "cell_type": "markdown",
   "metadata": {},
   "source": [
    "# 利用multiprocessing实现多进程\n",
    "- multiprocessing是Python自带的用于管理进程的模块，通过合理地利用multiprocessing，我们可以充分榨干所使用机器的CPU运算性能\n"
   ]
  },
  {
   "cell_type": "markdown",
   "metadata": {
    "ExecuteTime": {
     "start_time": "2020-02-16T12:46:55.288Z"
    }
   },
   "source": [
    "**multiprocessing需要将执行运算的语句放置于含有if name == 'main'：的脚本文件中下**"
   ]
  },
  {
   "cell_type": "markdown",
   "metadata": {},
   "source": [
    "## Process\n",
    "- Process是multiprocessing中最基础的类，用于创建进程"
   ]
  },
  {
   "cell_type": "code",
   "execution_count": 1,
   "metadata": {
    "ExecuteTime": {
     "end_time": "2020-02-16T13:01:07.923633Z",
     "start_time": "2020-02-16T13:01:06.590199Z"
    }
   },
   "outputs": [],
   "source": [
    "import multiprocessing\n",
    "import datetime\n",
    "import numpy as np\n",
    "import os\n",
    "\n",
    "\n",
    "def job():\n",
    "    for j in range(100):\n",
    "        _ = np.sum(np.random.rand(10000000))\n",
    "\n",
    "\n",
    "process_list = []  # 首先初始化用于存放多个线程的列表process_list\n",
    "\n",
    "for i in range(multiprocessing.cpu_count() - 1): # 用循环的方式创建了CPU核心数-1个进程并添加到process_list中\n",
    "    process = multiprocessing.Process(target=job) # target: 需要执行的运算函数\n",
    "    process_list.append(process)\n",
    "        \n",
    "# 要想实现真正的并行，需要现行对多个进程执行.start()，接着再对这些进程对象执行.join()，才能使得各个进程之间相互独立\n",
    "        \n",
    "for process in process_list:\n",
    "    process.start()  # 在process_list创建完成之后，用循环的方式调用.start()方法将所有进程逐个激活\n",
    "\n",
    "for process in process_list:\n",
    "    process.join()  # .join()方法用于控制进程之间的并行"
   ]
  },
  {
   "cell_type": "markdown",
   "metadata": {},
   "source": [
    "## Pool\n",
    "- 除了上述的Process，在multiprocessing中还可以使用Pool来快捷地实现多进程"
   ]
  },
  {
   "cell_type": "code",
   "execution_count": null,
   "metadata": {
    "ExecuteTime": {
     "start_time": "2020-02-16T12:59:36.177Z"
    }
   },
   "outputs": [],
   "source": [
    "from multiprocessing import Pool # 使用Pool这个类\n",
    "import numpy as np\n",
    "from pprint import pprint\n",
    "\n",
    "def job(n):\n",
    "    return np.mean(np.random.rand(n)), np.std(np.random.rand(n))\n",
    "\n",
    "if __name__ == '__main__':\n",
    "# Pool()中的.map()方法则根据前面传入的并行数量5，以多进程并行的方式执行\n",
    "    with Pool(4) as p:\n",
    "        pprint(p.map(job, [i**10 for i in range(1, 6)]))  # 将函数job利用.map()作用到后面传入序列每一个位置上"
   ]
  },
  {
   "cell_type": "markdown",
   "metadata": {},
   "source": [
    "# 利用joblib实现多进程\n",
    "- joblib将多进程的实现方式大大简化，使得我们可以在IPython交互式环境下中灵活地使用它\n",
    "- scikit-learn中RandomForestClassifier等可以并行运算的算法都是通过joblib来实现的"
   ]
  },
  {
   "cell_type": "markdown",
   "metadata": {},
   "source": [
    "## math函数示例"
   ]
  },
  {
   "cell_type": "code",
   "execution_count": 1,
   "metadata": {
    "ExecuteTime": {
     "end_time": "2020-02-16T13:48:41.062960Z",
     "start_time": "2020-02-16T13:48:37.397996Z"
    }
   },
   "outputs": [
    {
     "data": {
      "text/plain": [
       "[0.0, 1.0, 2.0, 3.0, 4.0, 5.0, 6.0, 7.0, 8.0, 9.0]"
      ]
     },
     "execution_count": 1,
     "metadata": {},
     "output_type": "execute_result"
    }
   ],
   "source": [
    "from joblib import Parallel, delayed  # 使用Joblib中的Parallel和delayed函数配置函数的并行\n",
    "import numpy as np\n",
    "from math import sqrt\n",
    "\n",
    "Parallel(n_jobs=-1)(delayed(sqrt)(i ** 2) for i in range(10))"
   ]
  },
  {
   "cell_type": "markdown",
   "metadata": {},
   "source": [
    "## 并行打开网页"
   ]
  },
  {
   "cell_type": "code",
   "execution_count": null,
   "metadata": {
    "ExecuteTime": {
     "start_time": "2020-02-16T13:41:31.942Z"
    }
   },
   "outputs": [],
   "source": [
    "# 另一个关于网页的例子\n",
    "\n",
    "import urllib.request\n",
    "from multiprocessing.dummy import Pool as ThreadPool\n",
    "\n",
    "urls = [\n",
    "    'http://www.python.org',\n",
    "    'http://www.python.org/about/',\n",
    "    'http://www.onlamp.com/pub/a/python/2003/04/17/metaclasses.html',\n",
    "    'http://www.python.org/doc/',\n",
    "    'http://www.python.org/download/',\n",
    "    'http://www.python.org/getit/',\n",
    "    'http://www.python.org/community/',\n",
    "    'https://wiki.python.org/moin/',\n",
    "    'http://planet.python.org/',\n",
    "    'https://wiki.python.org/moin/LocalUserGroups',\n",
    "    'http://www.python.org/psf/',\n",
    "    'http://docs.python.org/devguide/',\n",
    "    'http://www.python.org/community/awards/'\n",
    "    # etc..\n",
    "    ]\n",
    "\n",
    "pool = ThreadPool(4)\n",
    "results = pool.map(urllib.request.urlopen, urls)\n",
    "#close the pool and wait for the work to finish\n",
    "pool.close()\n",
    "pool.join()\n",
    "\n",
    "print(results)"
   ]
  },
  {
   "cell_type": "markdown",
   "metadata": {},
   "source": [
    "## 单参数函数并行"
   ]
  },
  {
   "cell_type": "code",
   "execution_count": 5,
   "metadata": {
    "ExecuteTime": {
     "end_time": "2020-02-16T13:50:53.682206Z",
     "start_time": "2020-02-16T13:50:53.615089Z"
    }
   },
   "outputs": [
    {
     "data": {
      "text/plain": [
       "[0, 1, 4, 9, 16, 25, 36, 49, 64, 81]"
      ]
     },
     "execution_count": 5,
     "metadata": {},
     "output_type": "execute_result"
    }
   ],
   "source": [
    "# 自编函数示例（单参数）\n",
    "import math\n",
    "\n",
    "def my_fun(i):\n",
    "    '''\n",
    "    单参函数必须要可迭代\n",
    "    '''\n",
    "    return i**2\n",
    "\n",
    "Parallel(n_jobs=-1)(delayed(my_fun)(i) for i in range(10))\n"
   ]
  },
  {
   "cell_type": "markdown",
   "metadata": {},
   "source": [
    "## 双（多）参数函数并行"
   ]
  },
  {
   "cell_type": "code",
   "execution_count": 7,
   "metadata": {
    "ExecuteTime": {
     "end_time": "2020-02-16T13:52:21.759203Z",
     "start_time": "2020-02-16T13:52:21.630080Z"
    }
   },
   "outputs": [
    {
     "data": {
      "text/plain": [
       "[1,\n",
       " 0,\n",
       " 0,\n",
       " 0,\n",
       " 0,\n",
       " 0,\n",
       " 0,\n",
       " 0,\n",
       " 0,\n",
       " 0,\n",
       " 1,\n",
       " 1,\n",
       " 1,\n",
       " 1,\n",
       " 1,\n",
       " 1,\n",
       " 1,\n",
       " 1,\n",
       " 1,\n",
       " 1,\n",
       " 1,\n",
       " 2,\n",
       " 4,\n",
       " 8,\n",
       " 16,\n",
       " 32,\n",
       " 64,\n",
       " 128,\n",
       " 256,\n",
       " 512,\n",
       " 1,\n",
       " 3,\n",
       " 9,\n",
       " 27,\n",
       " 81,\n",
       " 243,\n",
       " 729,\n",
       " 2187,\n",
       " 6561,\n",
       " 19683,\n",
       " 1,\n",
       " 4,\n",
       " 16,\n",
       " 64,\n",
       " 256,\n",
       " 1024,\n",
       " 4096,\n",
       " 16384,\n",
       " 65536,\n",
       " 262144,\n",
       " 1,\n",
       " 5,\n",
       " 25,\n",
       " 125,\n",
       " 625,\n",
       " 3125,\n",
       " 15625,\n",
       " 78125,\n",
       " 390625,\n",
       " 1953125,\n",
       " 1,\n",
       " 6,\n",
       " 36,\n",
       " 216,\n",
       " 1296,\n",
       " 7776,\n",
       " 46656,\n",
       " 279936,\n",
       " 1679616,\n",
       " 10077696,\n",
       " 1,\n",
       " 7,\n",
       " 49,\n",
       " 343,\n",
       " 2401,\n",
       " 16807,\n",
       " 117649,\n",
       " 823543,\n",
       " 5764801,\n",
       " 40353607,\n",
       " 1,\n",
       " 8,\n",
       " 64,\n",
       " 512,\n",
       " 4096,\n",
       " 32768,\n",
       " 262144,\n",
       " 2097152,\n",
       " 16777216,\n",
       " 134217728,\n",
       " 1,\n",
       " 9,\n",
       " 81,\n",
       " 729,\n",
       " 6561,\n",
       " 59049,\n",
       " 531441,\n",
       " 4782969,\n",
       " 43046721,\n",
       " 387420489]"
      ]
     },
     "execution_count": 7,
     "metadata": {},
     "output_type": "execute_result"
    }
   ],
   "source": [
    "import math\n",
    "\n",
    "def my_fun_2p(i, j):\n",
    "    '''\n",
    "    双参函数必须要可迭代\n",
    "    '''\n",
    "    return i**j\n",
    "\n",
    "Parallel(n_jobs=4)(delayed(my_fun_2p)(i, j) for i in range(10) for j in range(10))"
   ]
  }
 ],
 "metadata": {
  "kernelspec": {
   "display_name": "Python 3.6.8 64-bit",
   "language": "python",
   "name": "python36864bit1509dad7ed2f4e16b89368ecdc9f1af8"
  },
  "language_info": {
   "codemirror_mode": {
    "name": "ipython",
    "version": 3
   },
   "file_extension": ".py",
   "mimetype": "text/x-python",
   "name": "python",
   "nbconvert_exporter": "python",
   "pygments_lexer": "ipython3",
   "version": "3.6.8"
  },
  "toc": {
   "base_numbering": 1,
   "nav_menu": {},
   "number_sections": true,
   "sideBar": true,
   "skip_h1_title": false,
   "title_cell": "Table of Contents",
   "title_sidebar": "Contents",
   "toc_cell": false,
   "toc_position": {},
   "toc_section_display": true,
   "toc_window_display": false
  }
 },
 "nbformat": 4,
 "nbformat_minor": 2
}
